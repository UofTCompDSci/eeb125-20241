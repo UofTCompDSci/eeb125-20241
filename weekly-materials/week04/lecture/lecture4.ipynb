{
 "cells": [
  {
   "cell_type": "markdown",
   "id": "456388e8",
   "metadata": {
    "slideshow": {
     "slide_type": "slide"
    }
   },
   "source": [
    "# Class 4: Life history and conservation status\n",
    "## EEB 125 "
   ]
  },
  {
   "cell_type": "markdown",
   "id": "f0ceff97",
   "metadata": {
    "slideshow": {
     "slide_type": "slide"
    }
   },
   "source": [
    "#### Class 4: Life history and conservation status\n",
    "\n",
    "## Goals for the day\n",
    "\n",
    "- Writing functions in Python\n",
    "- Today we will apply some of the programming concepts we've been studying to create summaries of a few different types of data\n",
    "\n",
    "\n"
   ]
  },
  {
   "cell_type": "markdown",
   "id": "770781e8",
   "metadata": {
    "slideshow": {
     "slide_type": "slide"
    }
   },
   "source": [
    "## Review: looping\n",
    " "
   ]
  },
  {
   "cell_type": "code",
   "execution_count": 6,
   "id": "3d12a877",
   "metadata": {
    "slideshow": {
     "slide_type": "fragment"
    }
   },
   "outputs": [
    {
     "name": "stdout",
     "output_type": "stream",
     "text": [
      "0\n",
      "1\n",
      "2\n",
      "3\n",
      "4\n",
      "5\n",
      "6\n",
      "7\n",
      "8\n",
      "9\n"
     ]
    }
   ],
   "source": [
    "ls = [0,1,2,3,4,5,6,7,8,9]\n",
    "#d  = {0: True, 1: False, 2: True, 3: False, 4: True, 5:True, 6:False, 7:False, 8:True,9:False}\n",
    "\n",
    "for num in ls:\n",
    "    print(num)"
   ]
  },
  {
   "cell_type": "code",
   "execution_count": 7,
   "id": "84334c49",
   "metadata": {
    "slideshow": {
     "slide_type": "fragment"
    }
   },
   "outputs": [
    {
     "name": "stdout",
     "output_type": "stream",
     "text": [
      "9\n"
     ]
    }
   ],
   "source": [
    "print(num)"
   ]
  },
  {
   "cell_type": "markdown",
   "id": "01ae6492",
   "metadata": {
    "slideshow": {
     "slide_type": "slide"
    }
   },
   "source": [
    "## Functions\n",
    "\n",
    "- A block of instructions that perform a specific task\n",
    "- Can combine a set of instructions that we might use a lot and reuse the same code\n",
    "  - Saves us from having to rewrite the same code over and over again"
   ]
  },
  {
   "cell_type": "markdown",
   "id": "8ed62390",
   "metadata": {
    "slideshow": {
     "slide_type": "slide"
    }
   },
   "source": [
    "## Functions\n",
    "\n",
    "- You have already encountered some functions in Python, e.g., `max()`, `open()`, etc\n",
    "- We will now learn how to write our own functions that do whatever we want them to do"
   ]
  },
  {
   "cell_type": "code",
   "execution_count": 1,
   "id": "e3060aed",
   "metadata": {
    "slideshow": {
     "slide_type": "fragment"
    }
   },
   "outputs": [],
   "source": [
    "# we can define a new function by typing 'def', followed by the name of our new function\n",
    "\n",
    "def greeting():\n",
    "    # we can then specify the tasks we want to perform\n",
    "    phrase = \"hi, my name is\"\n",
    "    print(phrase)"
   ]
  },
  {
   "cell_type": "code",
   "execution_count": 2,
   "id": "98642cce",
   "metadata": {
    "slideshow": {
     "slide_type": "fragment"
    }
   },
   "outputs": [
    {
     "name": "stdout",
     "output_type": "stream",
     "text": [
      "hi, my name is\n"
     ]
    }
   ],
   "source": [
    "# we can now run these same instructions anytime we want by _calling_ our function:\n",
    "greeting()"
   ]
  },
  {
   "cell_type": "markdown",
   "id": "f001f320",
   "metadata": {
    "slideshow": {
     "slide_type": "slide"
    }
   },
   "source": [
    "## Functions\n",
    "- Functions also give us the ability to specify a 'return' value\n",
    "- This causes the function to output a value every time it is used"
   ]
  },
  {
   "cell_type": "code",
   "execution_count": 3,
   "id": "1f3bae7d",
   "metadata": {
    "slideshow": {
     "slide_type": "fragment"
    }
   },
   "outputs": [],
   "source": [
    "def greeting():\n",
    "    phrase = \"hi, my name is\"\n",
    "    return phrase    "
   ]
  },
  {
   "cell_type": "code",
   "execution_count": 4,
   "id": "0b3a963e",
   "metadata": {
    "slideshow": {
     "slide_type": "fragment"
    }
   },
   "outputs": [
    {
     "data": {
      "text/plain": [
       "'hi, my name is'"
      ]
     },
     "execution_count": 4,
     "metadata": {},
     "output_type": "execute_result"
    }
   ],
   "source": [
    "# what will happen if we try to call this function?\n",
    "\n",
    "greeting()"
   ]
  },
  {
   "cell_type": "markdown",
   "id": "7a00132e",
   "metadata": {
    "slideshow": {
     "slide_type": "slide"
    }
   },
   "source": [
    "## Functions\n",
    "- We can assign the return value to a variable"
   ]
  },
  {
   "cell_type": "code",
   "execution_count": 5,
   "id": "16c02f0a",
   "metadata": {
    "slideshow": {
     "slide_type": "fragment"
    }
   },
   "outputs": [
    {
     "name": "stdout",
     "output_type": "stream",
     "text": [
      "hi, my name is\n"
     ]
    }
   ],
   "source": [
    "say_something = greeting()\n",
    "print(say_something)"
   ]
  },
  {
   "cell_type": "markdown",
   "id": "57dfa6ad",
   "metadata": {
    "slideshow": {
     "slide_type": "slide"
    }
   },
   "source": [
    "## Functions\n",
    "- We can also pass values to the function when we call it by specifying parameters between the parentheses\n",
    "- We must specify the parameters we want our function to take when we define it"
   ]
  },
  {
   "cell_type": "code",
   "execution_count": 6,
   "id": "0110c523",
   "metadata": {
    "slideshow": {
     "slide_type": "fragment"
    }
   },
   "outputs": [],
   "source": [
    "def greeting(my_name):\n",
    "    phrase = \"hi, my name is \" + my_name\n",
    "    return phrase"
   ]
  },
  {
   "cell_type": "code",
   "execution_count": 7,
   "id": "980d8e0d",
   "metadata": {
    "slideshow": {
     "slide_type": "fragment"
    }
   },
   "outputs": [
    {
     "name": "stdout",
     "output_type": "stream",
     "text": [
      "hi, my name is slim shady\n"
     ]
    }
   ],
   "source": [
    "say_something = greeting(\"slim shady\")\n",
    "print(say_something)"
   ]
  },
  {
   "cell_type": "code",
   "execution_count": 8,
   "id": "dc63eefa",
   "metadata": {
    "slideshow": {
     "slide_type": "fragment"
    }
   },
   "outputs": [],
   "source": [
    "# We can put arbitrarily complex instructions in a function\n",
    "\n",
    "def greeting(my_name, n_repeats):\n",
    "    phrase = \"\"\n",
    "    starts = [\"hi\", \"what\", \"who\"]\n",
    "    mult = int(n_repeats/3)+1\n",
    "    starts*=mult\n",
    "    for i in range(n_repeats):\n",
    "        phrase += starts[i].upper() + \" my name is \"\n",
    "        if i == n_repeats-1:\n",
    "            phrase += \"CHICKA CHICKA \" + my_name\n",
    "    return phrase"
   ]
  },
  {
   "cell_type": "code",
   "execution_count": 9,
   "id": "d4b6e006",
   "metadata": {
    "slideshow": {
     "slide_type": "fragment"
    }
   },
   "outputs": [
    {
     "name": "stdout",
     "output_type": "stream",
     "text": [
      "HI my name is WHAT my name is WHO my name is CHICKA CHICKA slim shady\n"
     ]
    }
   ],
   "source": [
    "hook = greeting(\"slim shady\",3)\n",
    "print(hook)"
   ]
  },
  {
   "cell_type": "markdown",
   "id": "a90fa7ba",
   "metadata": {
    "slideshow": {
     "slide_type": "slide"
    }
   },
   "source": [
    "## Exception handling\n",
    "\n",
    "- Sometimes, we might encounter errors in our code that we expect\n",
    "- We can tell the computer how to handle those situations using the keywords `try` and `except`\n",
    "\n",
    "``` \n",
    "try:\n",
    "   # some code that might create an error\n",
    "except:\n",
    "   # what to do if an error occurs\n",
    "   ```"
   ]
  },
  {
   "cell_type": "code",
   "execution_count": 32,
   "id": "e60d3a3c",
   "metadata": {
    "slideshow": {
     "slide_type": "fragment"
    }
   },
   "outputs": [
    {
     "name": "stdout",
     "output_type": "stream",
     "text": [
      "50.0\n"
     ]
    }
   ],
   "source": [
    "numerator = 100\n",
    "denominator = 2\n",
    "try:\n",
    "    quot = numerator / denominator\n",
    "    print(quot)\n",
    "except:\n",
    "    print(\"this is not valid\")"
   ]
  },
  {
   "cell_type": "markdown",
   "id": "f8b2a4b6",
   "metadata": {
    "slideshow": {
     "slide_type": "slide"
    }
   },
   "source": [
    "## Today's data story:\n",
    "### Are mammals that take longer go grow up at greater risk of extinction?"
   ]
  },
  {
   "cell_type": "markdown",
   "id": "dc895d3c",
   "metadata": {
    "slideshow": {
     "slide_type": "slide"
    }
   },
   "source": [
    "## How long do individuals take to grow up?\n",
    "\n",
    "- Different lineages reach maturity at different ages\n",
    "\n",
    "- **Does this variation contribute to differences in extinction risk?**\n",
    "\n",
    "![](images/growup.svg)"
   ]
  },
  {
   "cell_type": "markdown",
   "id": "814a9c28",
   "metadata": {
    "slideshow": {
     "slide_type": "slide"
    }
   },
   "source": [
    "## Exploratory Data Analysis\n",
    "\n",
    "\n",
    "\n",
    "- EDA is about **looking at data to see what it seems to say**.\n",
    "\n",
    "\n",
    "-  A basic problem about any body of data is to make it more easily and effectively handleable by minds.\n",
    "\n",
    "   + Anything that makes a simpler description possible makes the description more easily handleable.\n"
   ]
  },
  {
   "cell_type": "markdown",
   "id": "05fc9d43",
   "metadata": {
    "slideshow": {
     "slide_type": "slide"
    }
   },
   "source": [
    "## Exploratory Data Analysis\n",
    "\n",
    "\n",
    "- What do the raw data tell us about mammalian ecology?  \n",
    "\n",
    "- There are too many values to be interpretable by our minds\n",
    "\n",
    "- How can this data be described or summarized?\n",
    "\n",
    "- In general data can be described or summarized quantitatively or in a picture"
   ]
  },
  {
   "cell_type": "markdown",
   "id": "3cb1a887",
   "metadata": {
    "slideshow": {
     "slide_type": "slide"
    }
   },
   "source": [
    "## Mammal maturation\n",
    "\n",
    "![](images/mammals.svg)\n",
    "\n",
    "\n",
    " "
   ]
  },
  {
   "cell_type": "markdown",
   "id": "cae3492f",
   "metadata": {
    "slideshow": {
     "slide_type": "slide"
    }
   },
   "source": [
    "## Mammal maturation\n",
    "\n",
    "- We might want to start by exploring our data for general patterns\n",
    "  - This might improve our intuition for other questions to ask\n",
    "- Orders might be a good way to investigate patterns in mammals"
   ]
  },
  {
   "cell_type": "markdown",
   "id": "499e402f",
   "metadata": {
    "slideshow": {
     "slide_type": "slide"
    }
   },
   "source": [
    "## Read in some of our data\n",
    "\n",
    "- How long does each species usually take to grow to maturity?\n",
    "- Measured in days"
   ]
  },
  {
   "cell_type": "code",
   "execution_count": 10,
   "id": "e270f1c5",
   "metadata": {
    "slideshow": {
     "slide_type": "-"
    }
   },
   "outputs": [
    {
     "name": "stdout",
     "output_type": "stream",
     "text": [
      "order,species,maturity_age_d\n",
      "\n"
     ]
    }
   ],
   "source": [
    "file = open(\"maturity.csv\")\n",
    "lines = file.readlines()\n",
    "header = lines[0]\n",
    "data = lines[1:]\n",
    "print(header)"
   ]
  },
  {
   "cell_type": "markdown",
   "id": "21fb0824",
   "metadata": {
    "slideshow": {
     "slide_type": "slide"
    }
   },
   "source": [
    "## Understanding our data\n",
    "\n",
    "- How long does each species usually take to grow to maturity?\n",
    "- Measured in days"
   ]
  },
  {
   "cell_type": "markdown",
   "id": "b84cec7f",
   "metadata": {
    "slideshow": {
     "slide_type": "slide"
    }
   },
   "source": [
    "## Mammalian maturation times by order\n",
    "\n",
    "- Let's see how long species take to mature within each order, on average\n",
    "- We will need to calculate the statistical **mean** for this"
   ]
  },
  {
   "cell_type": "markdown",
   "id": "0b2a8b1d",
   "metadata": {
    "slideshow": {
     "slide_type": "slide"
    }
   },
   "source": [
    "## Statistical mean/average\n",
    "\n",
    "- Sum of all the values in a population divided by the total number of values\n",
    "- e.g., we might measure the height of three people (in cm) as: `203, 194, 191`\n",
    "- the mean will be:\n",
    "\n",
    "$$\\frac{203 + 194 + 191}{3}$$\n",
    "\n"
   ]
  },
  {
   "cell_type": "code",
   "execution_count": 9,
   "id": "16d0d7f4",
   "metadata": {
    "slideshow": {
     "slide_type": "slide"
    }
   },
   "outputs": [],
   "source": [
    "# let's calculate a function that does this\n",
    "def mean(pop):\n",
    "    tot = 0\n",
    "    for i in pop:\n",
    "        tot += i\n",
    "    mean = tot / len(pop)\n",
    "    return mean"
   ]
  },
  {
   "cell_type": "markdown",
   "id": "623a644c",
   "metadata": {
    "slideshow": {
     "slide_type": "slide"
    }
   },
   "source": [
    "### Organize maturation times according to order"
   ]
  },
  {
   "cell_type": "code",
   "execution_count": 11,
   "id": "6723a6a6",
   "metadata": {
    "slideshow": {
     "slide_type": "skip"
    }
   },
   "outputs": [],
   "source": [
    "# initialize dictionary that we will use to stock up lists containing the maturation times within each order\n",
    "\n",
    "order_mat = {}\n",
    "for line in data:\n",
    "    line_dat = line.strip().split(\",\")\n",
    "    order = line_dat[0]\n",
    "    order_mat[order] = []"
   ]
  },
  {
   "cell_type": "markdown",
   "id": "6251bc60",
   "metadata": {
    "slideshow": {
     "slide_type": "skip"
    }
   },
   "source": [
    "### Stock up our dictionary with maturation times"
   ]
  },
  {
   "cell_type": "code",
   "execution_count": 12,
   "id": "03bd2f3f",
   "metadata": {
    "slideshow": {
     "slide_type": "fragment"
    }
   },
   "outputs": [
    {
     "name": "stdout",
     "output_type": "stream",
     "text": [
      "order,species,maturity_age_d\n",
      "\n"
     ]
    }
   ],
   "source": [
    "print(header)"
   ]
  },
  {
   "cell_type": "code",
   "execution_count": 13,
   "id": "0683fc3e",
   "metadata": {
    "slideshow": {
     "slide_type": "fragment"
    }
   },
   "outputs": [],
   "source": [
    "for line in data:\n",
    "    line_dat = line.strip().split(\",\")\n",
    "    order = line_dat[0]\n",
    "    mat_time = line_dat[-1]\n",
    "    if mat_time != \"NA\":                  # Why do we need this?\n",
    "        mat_time = float(mat_time)\n",
    "        order_mat[order].append(mat_time)"
   ]
  },
  {
   "cell_type": "markdown",
   "id": "1fb839a3",
   "metadata": {
    "slideshow": {
     "slide_type": "slide"
    }
   },
   "source": [
    "### Calculate the mean for each order"
   ]
  },
  {
   "cell_type": "code",
   "execution_count": 18,
   "id": "d94efe6d",
   "metadata": {
    "slideshow": {
     "slide_type": "fragment"
    }
   },
   "outputs": [],
   "source": [
    "order_means = {}\n",
    "for order in order_mat:\n",
    "    mattimes = order_mat[order]\n",
    "    num_species = len(mattimes)\n",
    "    if num_species > 0:\n",
    "        ord_mean = mean(mattimes)\n",
    "        order_means[order] = ord_mean"
   ]
  },
  {
   "cell_type": "code",
   "execution_count": 19,
   "id": "01796548",
   "metadata": {
    "slideshow": {
     "slide_type": "fragment"
    }
   },
   "outputs": [
    {
     "name": "stdout",
     "output_type": "stream",
     "text": [
      "Artiodactyla 666.0668992248059\n",
      "Carnivora 884.1719178082193\n",
      "Primates 1479.9921818181822\n",
      "Didelphimorphia 244.4661538461539\n",
      "Cingulata 339.3966666666667\n",
      "Rodentia 191.927183544304\n",
      "Cetacea 3062.909411764706\n",
      "Erinaceomorpha 248.2575\n",
      "Diprotodontia 531.2420689655173\n",
      "Chiroptera 375.47318181818196\n",
      "Perissodactyla 1384.9414285714286\n",
      "Peramelemorphia 152.73833333333332\n",
      "Soricomorpha 262.9906896551724\n",
      "Afrosoricida 269.64142857142855\n",
      "Scandentia 122.77\n",
      "Hyracoidea 486.74\n",
      "Lagomorpha 231.64962962962966\n",
      "Pilosa 1321.02\n",
      "Macroscelidea 117.62666666666667\n",
      "Proboscidea 4496.035\n",
      "Dasyuromorphia 342.71324324324326\n",
      "Microbiotheria 556.85\n",
      "Sirenia 2394.806666666667\n",
      "Pholidota 755.1499999999999\n",
      "Monotremata 649.655\n",
      "Tubulidentata 755.15\n"
     ]
    }
   ],
   "source": [
    "for order in order_means:\n",
    "    print(order,order_means[order])"
   ]
  },
  {
   "cell_type": "markdown",
   "id": "be389a90",
   "metadata": {
    "slideshow": {
     "slide_type": "slide"
    }
   },
   "source": [
    "### Simplifying things\n",
    "\n",
    "- Some of the orders might have very few species\n",
    "- Let's remove these so we can interpret more easily"
   ]
  },
  {
   "cell_type": "code",
   "execution_count": 20,
   "id": "168c262f",
   "metadata": {
    "slideshow": {
     "slide_type": "fragment"
    }
   },
   "outputs": [],
   "source": [
    "order_means = {}\n",
    "for order in order_mat:\n",
    "    mattimes = order_mat[order]\n",
    "    if len(mattimes) < 10:\n",
    "        continue\n",
    "    pop_mean = mean(mattimes)\n",
    "    order_means[order] = pop_mean"
   ]
  },
  {
   "cell_type": "code",
   "execution_count": 21,
   "id": "46aa0c05",
   "metadata": {
    "slideshow": {
     "slide_type": "fragment"
    }
   },
   "outputs": [
    {
     "name": "stdout",
     "output_type": "stream",
     "text": [
      "Artiodactyla 666.0668992248059\n",
      "Carnivora 884.1719178082193\n",
      "Primates 1479.9921818181822\n",
      "Didelphimorphia 244.4661538461539\n",
      "Rodentia 191.927183544304\n",
      "Cetacea 3062.909411764706\n",
      "Diprotodontia 531.2420689655173\n",
      "Chiroptera 375.47318181818196\n",
      "Perissodactyla 1384.9414285714286\n",
      "Soricomorpha 262.9906896551724\n",
      "Lagomorpha 231.64962962962966\n",
      "Dasyuromorphia 342.71324324324326\n"
     ]
    }
   ],
   "source": [
    "for order in order_means:\n",
    "    print(order,order_means[order])"
   ]
  },
  {
   "cell_type": "markdown",
   "id": "ef4ad006",
   "metadata": {
    "slideshow": {
     "slide_type": "slide"
    }
   },
   "source": [
    "### Units\n",
    "\n",
    "- measuring maturation time in days can be a bit hard to interpret\n",
    "- we might like to convert to years"
   ]
  },
  {
   "cell_type": "code",
   "execution_count": 22,
   "id": "996de1c4",
   "metadata": {
    "slideshow": {
     "slide_type": "fragment"
    }
   },
   "outputs": [],
   "source": [
    "order_means = {}\n",
    "for order in order_mat:\n",
    "    times = order_mat[order]\n",
    "    if len(times) < 10: # omit any order with fewer than 10 species\n",
    "        continue\n",
    "    pop_mean = mean(times) / 365 # convert our units\n",
    "    order_means[order] = pop_mean"
   ]
  },
  {
   "cell_type": "code",
   "execution_count": 23,
   "id": "991a202f",
   "metadata": {
    "slideshow": {
     "slide_type": "-"
    }
   },
   "outputs": [
    {
     "name": "stdout",
     "output_type": "stream",
     "text": [
      "Artiodactyla 1.8248408197939887\n",
      "Carnivora 2.4223888159129294\n",
      "Primates 4.054773100871732\n",
      "Didelphimorphia 0.6697702845100106\n",
      "Rodentia 0.5258279001213808\n",
      "Cetacea 8.391532634971798\n",
      "Diprotodontia 1.4554577231931982\n",
      "Chiroptera 1.028693648816937\n",
      "Perissodactyla 3.7943600782778866\n",
      "Soricomorpha 0.7205224374114312\n",
      "Lagomorpha 0.634656519533232\n",
      "Dasyuromorphia 0.9389403924472418\n"
     ]
    }
   ],
   "source": [
    "for order in order_means:\n",
    "    print(order,order_means[order])"
   ]
  },
  {
   "cell_type": "markdown",
   "id": "87d3f1b3",
   "metadata": {
    "slideshow": {
     "slide_type": "slide"
    }
   },
   "source": [
    "## Today's data story:\n",
    "### Are mammals that take longer go grow up at greater risk of extinction?"
   ]
  },
  {
   "cell_type": "markdown",
   "id": "e30f21ba",
   "metadata": {
    "slideshow": {
     "slide_type": "slide"
    }
   },
   "source": [
    "## IUCN Red List\n",
    "\n",
    "- To assess extinction risk, we will use IUCN status\n",
    "- IUCN is a conservation organization that manages information on threats to wild animals\n",
    " - https://www.iucnredlist.org/"
   ]
  },
  {
   "cell_type": "markdown",
   "id": "5ca7203a",
   "metadata": {
    "slideshow": {
     "slide_type": "slide"
    }
   },
   "source": [
    "## IUCN Red List\n",
    "\n",
    "![](images/iucn.png)"
   ]
  },
  {
   "cell_type": "markdown",
   "id": "6625d6d9",
   "metadata": {
    "slideshow": {
     "slide_type": "slide"
    }
   },
   "source": [
    "## Read in our IUCN data"
   ]
  },
  {
   "cell_type": "code",
   "execution_count": 24,
   "id": "2780fa4d",
   "metadata": {
    "slideshow": {
     "slide_type": "fragment"
    }
   },
   "outputs": [],
   "source": [
    "# get our data read in and prepped\n",
    "\n",
    "iucn=open(\"iucn_status.csv\")\n",
    "iucn_lines = iucn.readlines()\n",
    "iucn_header = iucn_lines[0]\n",
    "iucn_data = iucn_lines[1:]"
   ]
  },
  {
   "cell_type": "markdown",
   "id": "7ccd4298",
   "metadata": {
    "slideshow": {
     "slide_type": "slide"
    }
   },
   "source": [
    "## IUCN Red List\n",
    "\n",
    "- We will need to combine information from both datasets to ask our question\n"
   ]
  },
  {
   "cell_type": "code",
   "execution_count": 25,
   "id": "733e1f1b",
   "metadata": {
    "slideshow": {
     "slide_type": "fragment"
    }
   },
   "outputs": [
    {
     "name": "stdout",
     "output_type": "stream",
     "text": [
      "order,species,iucn_status\n",
      "\n",
      "order,species,maturity_age_d\n",
      "\n"
     ]
    }
   ],
   "source": [
    "print(iucn_header)\n",
    "print(header)"
   ]
  },
  {
   "cell_type": "markdown",
   "id": "d94d7148",
   "metadata": {
    "slideshow": {
     "slide_type": "slide"
    }
   },
   "source": [
    "##  Our approach:\n",
    " \n",
    "- We will calculate the mean maturation time for all of the mammals within a given risk category\n",
    "- Need to merge the two datasets by linking information for all the species shared between datasets"
   ]
  },
  {
   "cell_type": "markdown",
   "id": "3523e2d0",
   "metadata": {
    "slideshow": {
     "slide_type": "slide"
    }
   },
   "source": [
    "## Setup both datasets\n",
    "\n",
    "- Map the IUCN threat level to each species using a dictionary"
   ]
  },
  {
   "cell_type": "code",
   "execution_count": 26,
   "id": "36b452ee",
   "metadata": {
    "slideshow": {
     "slide_type": "fragment"
    }
   },
   "outputs": [],
   "source": [
    "sp_iucn = {}\n",
    "for line in iucn_data:\n",
    "    line_dat = line.strip().split(\",\")\n",
    "    species = line_dat[1]\n",
    "    iucn_risk = line_dat[2]\n",
    "    sp_iucn[species] = iucn_risk"
   ]
  },
  {
   "cell_type": "markdown",
   "id": "432de81c",
   "metadata": {
    "slideshow": {
     "slide_type": "slide"
    }
   },
   "source": [
    "## Setup both datasets\n",
    "\n",
    "- Map maturation time to each species using a dictionary"
   ]
  },
  {
   "cell_type": "code",
   "execution_count": 27,
   "id": "12627ec2",
   "metadata": {
    "slideshow": {
     "slide_type": "fragment"
    }
   },
   "outputs": [],
   "source": [
    "sp_mat = {}\n",
    "for line in data:\n",
    "    line_dat = line.strip().split(\",\")\n",
    "    species = line_dat[1]\n",
    "    mat_time = line_dat[2]\n",
    "    if mat_time != \"NA\":\n",
    "        sp_mat[species] = float(mat_time) / 365 # convert to years"
   ]
  },
  {
   "cell_type": "markdown",
   "id": "a5c1e176",
   "metadata": {
    "slideshow": {
     "slide_type": "slide"
    }
   },
   "source": [
    "## Linking things up\n",
    "\n",
    "- We will want to calculate the mean maturation time for the species within each risk category\n",
    "- First, how can we find what unique risk categories exist in our dataset?"
   ]
  },
  {
   "cell_type": "code",
   "execution_count": 28,
   "id": "f493ba13",
   "metadata": {
    "slideshow": {
     "slide_type": "fragment"
    }
   },
   "outputs": [],
   "source": [
    "risk_cat = sp_iucn.values() "
   ]
  },
  {
   "cell_type": "code",
   "execution_count": 29,
   "id": "54cb17f0",
   "metadata": {
    "slideshow": {
     "slide_type": "fragment"
    }
   },
   "outputs": [
    {
     "name": "stdout",
     "output_type": "stream",
     "text": [
      "{'LC', 'DD', 'VU', 'CR', 'EW', 'EN', 'NT', 'EX'}\n"
     ]
    }
   ],
   "source": [
    "unique_risk_cat = set(risk_cat)\n",
    "print(unique_risk_cat)"
   ]
  },
  {
   "cell_type": "markdown",
   "id": "c79abd92",
   "metadata": {
    "slideshow": {
     "slide_type": "slide"
    }
   },
   "source": [
    "## Getting setup\n",
    "\n",
    "- create our container that links maturation times with IUCN risk level\n",
    "- we will want to store the maturation times associated with each level in a list"
   ]
  },
  {
   "cell_type": "code",
   "execution_count": 30,
   "id": "1baa518d",
   "metadata": {
    "slideshow": {
     "slide_type": "fragment"
    }
   },
   "outputs": [],
   "source": [
    "iucn_mat = {}\n",
    "for cat in unique_risk_cat:\n",
    "    iucn_mat[cat] = []"
   ]
  },
  {
   "cell_type": "markdown",
   "id": "1c3a8f2c",
   "metadata": {
    "slideshow": {
     "slide_type": "slide"
    }
   },
   "source": [
    "## Link our two dictionaries to a third\n",
    "\n",
    "- Both of our dictionaries, `sp_mat` and `sp_iucn` have species names as the keys\n",
    "- We can use the keys of one to look up the values from the other\n",
    "- We then need to add values to our third dictionary, `iucn_mat`"
   ]
  },
  {
   "cell_type": "markdown",
   "id": "403f799b",
   "metadata": {
    "slideshow": {
     "slide_type": "slide"
    }
   },
   "source": [
    "## Dictionary overload\n",
    "\n",
    "- `sp_mat`: keys = species name, values = maturation time\n",
    "- `sp_iucn`: keys = species name, values = iucn risk level\n",
    "- `iucn_mat`: keys = iucn risk level, values = empty list (to be populated with maturation times)"
   ]
  },
  {
   "cell_type": "markdown",
   "id": "fb43b662",
   "metadata": {
    "slideshow": {
     "slide_type": "slide"
    }
   },
   "source": [
    "## The approach (in English)\n",
    "\n",
    "- iterate through `sp_mat`\n",
    "  - keys are species, values are maturation time\n",
    "- look up the IUCN risk level stored in `sp_iucn` using the keys we are iterating over\n",
    "- populate the lists associated with each key in `iucn_mat`"
   ]
  },
  {
   "cell_type": "code",
   "execution_count": 32,
   "id": "72839ee0",
   "metadata": {
    "slideshow": {
     "slide_type": "fragment"
    }
   },
   "outputs": [
    {
     "ename": "KeyError",
     "evalue": "'Bos_frontalis'",
     "output_type": "error",
     "traceback": [
      "\u001b[1;31m---------------------------------------------------------------------------\u001b[0m",
      "\u001b[1;31mKeyError\u001b[0m                                  Traceback (most recent call last)",
      "Cell \u001b[1;32mIn[32], line 3\u001b[0m\n\u001b[0;32m      1\u001b[0m \u001b[38;5;28;01mfor\u001b[39;00m sp \u001b[38;5;129;01min\u001b[39;00m sp_mat:\n\u001b[0;32m      2\u001b[0m     mat \u001b[38;5;241m=\u001b[39m sp_mat[sp]\n\u001b[1;32m----> 3\u001b[0m     iucn_cat \u001b[38;5;241m=\u001b[39m \u001b[43msp_iucn\u001b[49m\u001b[43m[\u001b[49m\u001b[43msp\u001b[49m\u001b[43m]\u001b[49m           \u001b[38;5;66;03m## \u001b[39;00m\n\u001b[0;32m      4\u001b[0m     iucn_mat[iucn_cat]\u001b[38;5;241m.\u001b[39mappend(mat)\n",
      "\u001b[1;31mKeyError\u001b[0m: 'Bos_frontalis'"
     ]
    }
   ],
   "source": [
    "for sp in sp_mat:\n",
    "    mat = sp_mat[sp]\n",
    "    iucn_cat = sp_iucn[sp]           ## \n",
    "    iucn_mat[iucn_cat].append(mat)\n"
   ]
  },
  {
   "cell_type": "code",
   "execution_count": 28,
   "id": "1b7f9419",
   "metadata": {
    "slideshow": {
     "slide_type": "fragment"
    }
   },
   "outputs": [],
   "source": [
    "for sp in sp_mat:\n",
    "    mat = sp_mat[sp]\n",
    "    try:\n",
    "        iucn_cat = sp_iucn[sp]           ## \n",
    "        iucn_mat[iucn_cat].append(mat)\n",
    "    except:\n",
    "        continue"
   ]
  },
  {
   "cell_type": "markdown",
   "id": "37444591",
   "metadata": {
    "slideshow": {
     "slide_type": "slide"
    }
   },
   "source": [
    "## Calculate means\n",
    "\n",
    "- loop through iucn_mat and calculate the mean for each risk level"
   ]
  },
  {
   "cell_type": "code",
   "execution_count": 33,
   "id": "0d48bab5",
   "metadata": {
    "slideshow": {
     "slide_type": "fragment"
    }
   },
   "outputs": [],
   "source": [
    "iucn_means = {}\n",
    "\n",
    "for cat in iucn_mat:\n",
    "    mat_times = iucn_mat[cat]\n",
    "    if len(mat_times)>0:\n",
    "        cat_mean = mean(mat_times)\n",
    "        iucn_means[cat] = cat_mean\n"
   ]
  },
  {
   "cell_type": "code",
   "execution_count": 34,
   "id": "0090a555",
   "metadata": {
    "slideshow": {
     "slide_type": "fragment"
    }
   },
   "outputs": [
    {
     "name": "stdout",
     "output_type": "stream",
     "text": [
      "LC 1.3061166759046636\n",
      "DD 6.181191780821918\n",
      "VU 2.461642942227516\n",
      "CR 3.3271344178082196\n",
      "EN 3.4431253424657533\n",
      "NT 1.9234479036944785\n"
     ]
    }
   ],
   "source": [
    "for cat in iucn_means:\n",
    "    print(cat, iucn_means[cat])"
   ]
  },
  {
   "cell_type": "markdown",
   "id": "e9228b21",
   "metadata": {
    "slideshow": {
     "slide_type": "slide"
    }
   },
   "source": [
    "## What categories should we consider 'at risk'?\n",
    "\n",
    "![](images/iucn_list.png)"
   ]
  }
 ],
 "metadata": {
  "celltoolbar": "Slideshow",
  "kernelspec": {
   "display_name": "Python 3 (ipykernel)",
   "language": "python",
   "name": "python3"
  },
  "language_info": {
   "codemirror_mode": {
    "name": "ipython",
    "version": 3
   },
   "file_extension": ".py",
   "mimetype": "text/x-python",
   "name": "python",
   "nbconvert_exporter": "python",
   "pygments_lexer": "ipython3",
   "version": "3.11.1"
  }
 },
 "nbformat": 4,
 "nbformat_minor": 5
}
