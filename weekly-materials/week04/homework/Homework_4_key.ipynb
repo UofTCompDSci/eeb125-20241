{
 "cells": [
  {
   "cell_type": "markdown",
   "metadata": {},
   "source": [
    "# EEB125 Homework 4: Working with Booleans and Functions\n",
    "\n",
    "## Logistics\n",
    "\n",
    "**Due date**: The homework is due 17:00 (5:00pm) on Tuesday, February 6.\n",
    "\n",
    "You will submit your work on [MarkUs](https://markus-ds.teach.cs.toronto.edu).\n",
    "To submit your work:\n",
    "\n",
    "1. Download this file (`Homework_4.ipynb`) from JupyterHub. (See [our JupyterHub Guide](../../../../guides/jupyterhub_guide.ipynb) for detailed instructions.)\n",
    "2. Submit this file to MarkUs under the **hw4** assignment. (See [our MarkUs Guide](../../../../guides/markus_guide.ipynb) for detailed instructions.)\n",
    "All homeworks will take place in a Jupyter notebook (like this one). When you are done, you will download this notebook and submit it to MarkUs.\n",
    "We've incuded submission instructions at the end of this notebook.\n",
    "\n",
    "## Overview\n",
    "\n",
    "This week, you will be practicing a couple of programming techniques we examined in lecture to answer data science questions about sex-based differences in COVID infection and mortality across the United States. \n",
    "\n",
    "We will be using data from <https://www.genderscilab.org/gender-and-sex-in-covid19> for the week of 11/1/2021, which is available in `covid_sex.csv`. To inform your exploration, please read the article \"What’s Really Behind the Gender Gap in Covid-19 Deaths?\", printed in the New York Times, available in `nytimes_covid_sex.pdf` (go to File -> Open... to open this PDF). We will be exploring this dataset to interpret whether 1) we can observe sex-based differences in the risk of death among those infected with COVID and 2) whether we can identify any sociopolitical, as opposed to biological, explanations for any observed differences."
   ]
  },
  {
   "cell_type": "markdown",
   "metadata": {},
   "source": [
    "## Task 1: Read in the data file\n",
    "\n",
    "### Problem 1a. Prep our data\n",
    "\n",
    "Open the file `covid_sex.csv` in Python and read in the lines. Assign the header (the first line) to the variable `header` and the rest of the data to the variable `data`."
   ]
  },
  {
   "cell_type": "code",
   "execution_count": 2,
   "metadata": {
    "slideshow": {
     "slide_type": "slide"
    }
   },
   "outputs": [],
   "source": [
    "# Write your code here\n",
    "\n",
    "file = open(\"covid_sex.csv\")\n",
    "lines = file.readlines()\n",
    "header = lines[0]\n",
    "data = lines[1:]"
   ]
  },
  {
   "cell_type": "markdown",
   "metadata": {},
   "source": [
    "### Problem 1b. Interpret the data file\n",
    "\n",
    "Examine the header by printing it to the screen. We will be interested in the following data columns: `State`,`Male_cases`,`Female_cases`,`Male_deaths`, and `Female_deaths`. Please indicate which indices of the header each of these data columns corresponds to. *(1pt)* For example, `State` is at index zero. Please start your indexing at zero.\n",
    "\n",
    "HINT: You might find it easier to read and count the columns indicated in the header if you split it up according to commas and interpret the resulting list. "
   ]
  },
  {
   "cell_type": "code",
   "execution_count": 3,
   "metadata": {
    "scrolled": true
   },
   "outputs": [
    {
     "name": "stdout",
     "output_type": "stream",
     "text": [
      "['\\ufeffState', 'Date', 'Total_cases', 'Male_cases', 'Female_cases', 'Male_cases_pct', 'Female_cases_pct', 'Male_cases_rate', 'Female_cases_rate', 'Total_deaths', 'Male_deaths', 'Female_deaths', 'Male_deaths_pct', 'Female_deaths_pct', 'Male_deaths_rate', 'Female_deaths_rate', 'source']\n"
     ]
    }
   ],
   "source": [
    "# Write your code here\n",
    "\n",
    "print(header.strip().split(\",\"))"
   ]
  },
  {
   "cell_type": "markdown",
   "metadata": {},
   "source": [
    "Solution: Male_cases is at index 3, Female_cases is at index 4, Male_deaths is at index 10, and Female_deaths is at index 11."
   ]
  },
  {
   "cell_type": "markdown",
   "metadata": {},
   "source": [
    "### Problem 1c. Examine the data\n",
    "\n",
    "Loop over `data` and print each line to the terminal. You may notice that some of the lines include multiple commas beside one another, with no text in between. This is one way of representing missing data in a .csv file. We will need to find some way to deal with this during the subsequent problems."
   ]
  },
  {
   "cell_type": "code",
   "execution_count": 4,
   "metadata": {},
   "outputs": [
    {
     "name": "stdout",
     "output_type": "stream",
     "text": [
      "Alabama,30-Oct,831653,,,,,,,15573,,,,,,,https://alpublichealth.maps.arcgis.com/apps/opsdashboard/index.html#/6d2771faa9da4a2786a509d82c8cf0f7\n",
      "\n",
      "Alaska,30-Oct,132645,67287,64852,50.73,48.89,17450.90,18374.95,699,425,274,60.8,39.2,110.22,77.63,https://coronavirus-response-alaska-dhss.hub.arcgis.com/\n",
      "\n",
      "Arizona,30-Oct,1166060,561976,599451,48.19,51.41,16272.94,17160.29,21153,12392,8748,58.58,41.36,358.83,250.43,https://www.azdhs.gov/preparedness/epidemiology-disease-control/infectious-disease-epidemiology/index.php#novel-coronavirus-home\n",
      "\n",
      "Arkansas,30-Oct,512994,239568,268296,46.7,52.3,16314.78,17624.85,8370,,,,,,,https://www.healthy.arkansas.gov/programs-services/topics/novel-coronavirus\n",
      "\n",
      "California,30-Oct,4647587,2221547,2356327,47.8,50.7,11419.62,11964.09,71519,41696,29537,58.3,41.3,214.33,149.97,https://update.covid19.ca.gov/\n",
      "\n",
      "Colorado,30-Oct,740461,360012,370008,48.62,49.97,12946.21,13453.33,8186,4508,3666,55.07,44.78,162.11,133.28,https://covid19.colorado.gov/case-data\n",
      "\n",
      "Connecticut,30-Oct,402583,192749,208210,47.88,51.72,11032.32,11350.47,8764,4338,4416,49.5,50.39,248.29,240.74,https://portal.ct.gov/Coronavirus\n",
      "\n",
      "Delaware,30-Oct,143950,67113,76632,46.62,53.24,14603.43,15641.58,2091,1043,1048,49.88,50.12,226.95,213.91,https://myhealthycommunity.dhss.delaware.gov/locations/state\n",
      "\n",
      "Florida,30-Oct,,,,,,,,,,,,,,,https://experience.arcgis.com/experience/96dd742462124fa0b38ddedb9b25e429/\n",
      "\n",
      "Georgia,30-Oct,1263757,579945,673793,45.89,53.32,11570.60,12748.54,24786,13213,11561,53.31,46.64,263.62,218.74,https://dph.georgia.gov/covid-19-daily-status-report\n",
      "\n",
      "Hawaii,30-Oct,81049,42072,38899,51.91,47.99,5894.32,5492.22,884,533,351,60.29,39.71,74.67,49.56,https://health.hawaii.gov/coronavirusdisease2019/what-you-should-know/current-situation-in-hawaii/\n",
      "\n",
      "Idaho,30-Oct,291252,138195,151535,47.45,52.03,16343.53,17991.80,3538,2074,1455,58.62,41.12,245.28,172.75,https://public.tableau.com/profile/idaho.division.of.public.health#!/vizhome/DPHIdahoCOVID-19Dashboard_V2/Story1\n",
      "\n",
      "Illinois,30-Oct,1695524,799595,875387,47.16,51.63,12700.22,13414.70,25771,13977,11794,54.24,45.76,222,180.73,http://www.dph.illinois.gov/covid19/covid19-statistics\n",
      "\n",
      "Indiana,30-Oct,1018638,472648,539878,46.4,53,14449.35,16037.45,16134,8325,7744,51.6,48,254.51,230.05,https://coronavirus.in.gov/\n",
      "\n",
      "Iowa,30-Oct,522421,245538,271659,47,52,15795.49,17215.20,6965,3691,3274,53,47,237.47,207.45,https://idph.iowa.gov/Emerging-Health-Issues/Novel-Coronavirus\n",
      "\n",
      "Kansas,30-Oct,434646,207479,226477,47.74,52.11,14314.69,15518.89,6415,3526,2887,54.96,45,243.27,197.83,https://www.coronavirus.kdheks.gov/\n",
      "\n",
      "Kentucky,30-Oct,743156,347500,386961,46.76,52.07,15891.41,17171.65,9766,5035,4730,51.56,48.43,230.27,209.88,https://govstatus.egov.com/kycovid19\n",
      "\n",
      "Louisiana,30-Oct,758471,341312,417159,45,55,14970.03,17500.87,14547,7768,6779,53.4,46.6,340.71,284.39,http://ldh.la.gov/coronavirus/\n",
      "\n",
      "Maine,30-Oct,104259,50188,54071,48.14,51.86,7694.02,7945.61,1167,592,575,50.73,49.27,90.76,84.49,https://www.maine.gov/dhhs/mecdc/infectious-disease/epi/airborne/coronavirus.shtml\n",
      "\n",
      "Maryland,30-Oct,560634,267077,293557,47.64,52.36,9176.89,9490.67,10651,5535,5116,51.97,48.03,190.19,165.4,https://coronavirus.maryland.gov/\n",
      "\n",
      "Massachusetts,30-Oct,794382,,,,,,,18601,9272,9693,49.85,52.11,279.78,275.67,https://www.mass.gov/info-details/covid-19-cases-quarantine-and-monitoring\n",
      "\n",
      "Michigan,30-Oct,1128435,540419,581725,47.89,51.55,11030.94,11500.25,22182,12025,10155,54.21,45.78,245.45,200.76,https://www.michigan.gov/coronavirus/097537-406-98163_98173---00.html\n",
      "\n",
      "Minnesota,30-Oct,787550,379884,402123,48.24,51.06,13805.19,14487.73,8669,4603,4026,53.1,46.44,167.28,145.05,https://www.health.state.mn.us/diseases/coronavirus/situation.html#raceeth1\n",
      "\n",
      "Mississippi,30-Oct,504318,,,,,,,10075,,,,,,,https://msdh.ms.gov/msdhsite/_static/140420.html#caseTable\n",
      "\n",
      "Missouri,30-Oct,702327,322791,372939,45.96,53.1,10800.12,12025.29,12055,6410,5528,53.17,45.86,214.47,178.25,https://health.mo.gov/living/healthcondiseases/communicable/novel-coronavirus/results.php\n",
      "\n",
      "Montana,30-Oct,175847,83456,91502,47.46,52.04,15920.03,17681.14,2346,1314,1027,56.01,43.78,250.66,198.45,https://dphhs.mt.gov/publichealth/cdepi/diseases/coronavirusmt/demographics\n",
      "\n",
      "Nebraska,30-Oct,94933,,,,,,,1005,,,,,,,http://dhhs.ne.gov/Pages/Coronavirus.aspx\n",
      "\n",
      "Nevada,30-Oct,438216,210391,224248,48.01,51.17,14339.97,15404.99,7631,4658,2936,61.04,38.47,317.48,201.69,https://app.powerbigov.us/view?r=eyJrIjoiMjA2ZThiOWUtM2FlNS00MGY5LWFmYjUtNmQwNTQ3Nzg5N2I2IiwidCI6ImU0YTM0MGU2LWI4OWUtNGU2OC04ZWFhLTE1NDRkMjcwMzk4MCJ9\n",
      "\n",
      "New Hampshire,30-Oct,132441,63690,66779,48.09,50.42,9577.69,9840.14,1544,796,748,51.55,48.45,119.7,110.22,https://www.nh.gov/covid19/\n",
      "\n",
      "New Jersey,30-Oct,1042293,503238,537006,48.28,51.52,11606.23,11812.94,27863,15179,12684,54.48,45.52,350.07,279.02,https://maps.arcgis.com/apps/MapSeries/index.html?appid=c2efd1898e48452e83d7218329e953d7\n",
      "\n",
      "New Mexico,30-Oct,275209,129592,141774,47.09,51.52,12510.69,13418.15,5049,,,,,,,https://cv.nmhealth.org/\n",
      "\n",
      "New York,30-Oct,2537145,1215292,1291407,47.9,50.9,12766.27,12787.60,45567,25411,20145,55.77,44.21,266.93,199.48,https://covid19tracker.health.ny.gov/views/NYS-COVID19-Tracker/NYSDOHCOVID-19Tracker-Fatalities?%3Aembed=yes&%3Atoolbar=no&%3Atabs=n\n",
      "\n",
      "North Carolina,30-Oct,1477514,688327,774942,46.59,52.45,13920.33,14871.66,17847,9495,8352,53.2,46.8,192.02,160.28,https://www.ncdhhs.gov/divisions/public-health/covid19/covid-19-nc-case-count#by-race-ethnicity\n",
      "\n",
      "North Dakota,30-Oct,148394,71579,76813,48.24,51.76,18535.00,20986.13,1762,,,,,,,https://www.health.nd.gov/diseases-conditions/coronavirus/north-dakota-coronavirus-cases\n",
      "\n",
      "Ohio,30-Oct,1545327,710850,819023,46,53,12462.39,13793.12,24527,13057,11470,53.24,46.76,228.91,193.17,https://coronavirus.ohio.gov/wps/portal/gov/covid-19/home\n",
      "\n",
      "Oklahoma,30-Oct,641051,301573,339323,47.04,52.93,15532.38,17167.34,10710,5930,4779,55.37,44.62,305.42,241.78,https://coronavirus.health.ok.gov/\n",
      "\n",
      "Oregon,30-Oct,363673,173328,183724,47.66,50.52,8567.78,8923.31,4337,2364,1958,54.51,45.15,116.85,95.1,https://govstatus.egov.com/OR-OHA-COVID-19\n",
      "\n",
      "Pennsylvania,30-Oct,1564939,735257,823957,46.98,52.65,11739.34,12621.91,31454,16096,15281,51.17,48.58,256.99,234.08,https://www.health.pa.gov/topics/disease/coronavirus/Pages/Cases.aspx\n",
      "\n",
      "Rhode Island,30-Oct,157436,74168,83268,47.11,52.89,14448.35,15326.93,2870,1408,1462,49.06,50.94,274.29,269.11,https://ri-department-of-health-covid-19-data-rihealth.hub.arcgis.com/\n",
      "\n",
      "South Carolina,30-Oct,897152,403789,470357,44.8,52.5,16784.50,18443.93,13716,7338,6193,53.7,45,305.02,242.84,https://scdhec.gov/infectious-diseases/viruses/coronavirus-disease-2019-covid-19/testing-sc-data-covid-19\n",
      "\n",
      "South Dakota,30-Oct,154482,73797,80685,47.77,52.23,16935.20,18828.41,2235,1206,1029,53.96,46.04,276.76,240.12,https://doh.sd.gov/news/coronavirus.aspx\n",
      "\n",
      "Tennessee,30-Oct,1280265,593892,676986,46.39,52.88,18309.22,19868.05,16351,8871,7473,54.25,45.7,273.49,219.32,https://www.tn.gov/health/cedep/ncov.html\n",
      "\n",
      "Texas,30-Oct,3511739,2149184,1316902,61.2,37.5,15517.83,9382.71,69981,40729,29252,58.2,41.8,294.08,208.42,https://txdshs.maps.arcgis.com/apps/opsdashboard/index.html#/ed483ecd702b4298ab01e8b9cafc8b83\n",
      "\n",
      "Utah,30-Oct,549882,271907,277374,49.45,50.44,17739.61,18337.78,3208,1633,1575,50.9,49.1,106.53,104.14,https://coronavirus.utah.gov/case-counts/\n",
      "\n",
      "Vermont,30-Oct,40191,19945,20117,49.63,50.05,6476.22,6345.98,364,184,180,50.55,49.45,59.75,56.78,https://vcgi.maps.arcgis.com/apps/opsdashboard/index.html#/6128a0bc9ae14e98a686b635001ef7a7\n",
      "\n",
      "Virginia,30-Oct,924771,440629,477419,47.65,51.63,10646.88,11167.17,13907,7282,6615,52.36,47.57,175.95,154.73,https://public.tableau.com/views/VirginiaCOVID-19Dashboard/VirginiaCOVID-19Dashboard?:embed=yes&:display_count=yes&:showVizHome=no&:toolbar=no\n",
      "\n",
      "Washington,30-Oct,725435,350385,356189,48.3,49.1,9611.01,9762.15,8628,4745,3743,55,43.38,130.17,102.58,https://www.doh.wa.gov/Emergencies/Coronavirus\n",
      "\n",
      "West Virginia,30-Oct,272532,128200,141440,47.04,51.9,14178.34,15293.16,4426,,,,,,,https://dhhr.wv.gov/COVID-19/Pages/default.aspx\n",
      "\n",
      "Wisconsin,30-Oct,790282,424868,455363,53.76,57.62,14791.52,15669.66,8483,,,,,0,0,https://www.dhs.wisconsin.gov/covid-19/data.htm\n",
      "\n",
      "Wyoming,30-Oct,102926,39168,41155,38.05,39.99,13188.81,14447.60,1174,655,515,55.79,43.87,220.55,180.8,https://health.wyo.gov/publichealth/infectious-disease-epidemiology-unit/disease/novel-coronavirus/covid-19-map-and-statistics/\n",
      "\n"
     ]
    }
   ],
   "source": [
    "# Write your code here\n",
    "\n",
    "for line in data:\n",
    "    print(line)"
   ]
  },
  {
   "cell_type": "markdown",
   "metadata": {},
   "source": [
    "## Problem 2: Examining sex-wise differences in COVID death risk\n",
    "\n",
    "\n"
   ]
  },
  {
   "cell_type": "markdown",
   "metadata": {},
   "source": [
    "### Problem 2a.\n",
    "\n",
    "Create two empty lists and assign them, respectively, to the variables `risk_m` and `risk_f`."
   ]
  },
  {
   "cell_type": "code",
   "execution_count": 5,
   "metadata": {},
   "outputs": [],
   "source": [
    "# Write your code here\n",
    "\n",
    "risk_m = []\n",
    "risk_f = []"
   ]
  },
  {
   "cell_type": "markdown",
   "metadata": {},
   "source": [
    "### Problem 2b. Calculate risk of death given COVID infection for each sex\n",
    "\n",
    "Loop through the lines of our datafile. Create a metric for risk of death by COVID by dividing the number of deaths for each sex for each state by the number of cases for each state. In other words, use the following formulae:\n",
    "\n",
    "``` covid_risk_m = deaths_m / infections_m```\n",
    "\n",
    "for males, and \n",
    "\n",
    "``` covid_risk_f = deaths_f / infections_f```\n",
    "\n",
    "for females.\n",
    "\n",
    "Append the results for each sex to each of the lists created in the previous step. \n",
    "\n",
    "This step will require that we convert the values from strings to floating point numbers. However, some of the columns have missing values, which will be interpreted as Python as an empty string(\"\"). Use exception handling to skip over lines where the type conversion fails."
   ]
  },
  {
   "cell_type": "code",
   "execution_count": 6,
   "metadata": {},
   "outputs": [],
   "source": [
    "# Write your code here\n",
    "\n",
    "for line in data:\n",
    "    line_dat = line.strip().split(\",\")\n",
    "    state = line_dat[0]\n",
    "    try:\n",
    "        inf_m  = float(line_dat[3])\n",
    "        inf_f = float(line_dat[4])\n",
    "        death_m = float(line_dat[10])\n",
    "        death_f = float(line_dat[11])\n",
    "        covid_risk_m = death_m / inf_m\n",
    "        covid_risk_f = death_f / inf_f\n",
    "        risk_m.append(covid_risk_m)\n",
    "        risk_f.append(covid_risk_f)\n",
    "    except:\n",
    "        continue"
   ]
  },
  {
   "cell_type": "markdown",
   "metadata": {},
   "source": [
    "## Problem 3. Examining sex-specific differences in COVID risk"
   ]
  },
  {
   "cell_type": "markdown",
   "metadata": {},
   "source": [
    "### Problem 3a: Create a function to calculate the statistical mean from a list of floating point numbers\n",
    "\n",
    "In this assignment, we will want to calculate the average number of COVID deaths and infections across states for both males and females. Remember from lecture that a statistical mean of a list is calculated as the sum of all of the elements in a list divided by the length of the list (reference this week's lecture if you have forgotten). Please finish the function below so that it takes a list of values and outputs their mean."
   ]
  },
  {
   "cell_type": "code",
   "execution_count": 8,
   "metadata": {},
   "outputs": [],
   "source": [
    "def calc_mean(values):\n",
    "    # Your last line of code should be of the form return <value>,\n",
    "    # where <value> is the computed mean of your data.\n",
    "\n",
    "    return sum(values) / len(values)"
   ]
  },
  {
   "cell_type": "code",
   "execution_count": 9,
   "metadata": {
    "scrolled": true,
    "slideshow": {
     "slide_type": "slide"
    }
   },
   "outputs": [
    {
     "data": {
      "text/plain": [
       "0.01693750057836708"
      ]
     },
     "execution_count": 9,
     "metadata": {},
     "output_type": "execute_result"
    }
   ],
   "source": [
    "# This cell is provided to you to help check your work\n",
    "calc_mean(risk_m)"
   ]
  },
  {
   "cell_type": "markdown",
   "metadata": {},
   "source": [
    "### Problem 3b. Calculate mean differences across the sexes in risk of death given COVID infection\n",
    "\n",
    "Estimate mean risk of death from COVID for each sex using the function created in the previous step. Assign the results for each sex to the variables `mean_risk_m` and `mean_risk_f`"
   ]
  },
  {
   "cell_type": "code",
   "execution_count": 11,
   "metadata": {},
   "outputs": [],
   "source": [
    "# Write your code here\n",
    "\n",
    "mean_risk_m = calc_mean(risk_m)\n",
    "mean_risk_f = calc_mean(risk_f)"
   ]
  },
  {
   "cell_type": "code",
   "execution_count": 12,
   "metadata": {},
   "outputs": [
    {
     "name": "stdout",
     "output_type": "stream",
     "text": [
      "0.01693750057836708 0.01336029006238279\n"
     ]
    }
   ],
   "source": [
    "# This cell is provided to you to help check your work\n",
    "print(mean_risk_m,mean_risk_f)"
   ]
  },
  {
   "cell_type": "markdown",
   "metadata": {},
   "source": [
    "### Problem 3c. Interpret your results\n",
    "\n",
    "Which sex appears to be at greater risk of death, on average, if they are infected with COVID *(2pt)*? Do you think any difference might stem from biological, or behavioural differences, and why *(2pt)*? Feel free to speculate."
   ]
  },
  {
   "cell_type": "markdown",
   "metadata": {},
   "source": [
    "*Solution:* Given that the average risk for males `mean_risk_m` is higher than the average risk for females `mean_risk_f` this means that the males are at greater risk on average compared to females. In terms of behavioural differences men may be more exposed to covid due to working in occupations that have higher rates of covid exposure and deaths such as construction, transportation, and factories."
   ]
  },
  {
   "cell_type": "markdown",
   "metadata": {},
   "source": [
    "## Problem 4: Politics and epidemiological risk\n",
    "\n",
    "In this section, we will combine data on the political affilation of each state's governor with the COVID data to ask the question: **do Democrat-run or Republican-run states tend to have greater sexual disparity in risk of COVID death?**"
   ]
  },
  {
   "cell_type": "markdown",
   "metadata": {},
   "source": [
    "### Problem 4a. Read in the second dataset\n",
    "\n",
    "Open the file `state_governors.csv`. This contains information on the political party affiliation of each state's governor. Read in the lines and assign the header to the variable `gov_header` and the rest of the dataset to the variable `gov_data`."
   ]
  },
  {
   "cell_type": "code",
   "execution_count": 13,
   "metadata": {},
   "outputs": [],
   "source": [
    "# Write your code here\n",
    "\n",
    "gov_file = open(\"state_governors.csv\", \"r\")\n",
    "gov_lines = gov_file.readlines()\n",
    "gov_header = gov_lines[0]\n",
    "gov_data = gov_lines[1:]"
   ]
  },
  {
   "cell_type": "markdown",
   "metadata": {},
   "source": [
    "### Problem 4b. Examine the dataset\n",
    "\n",
    "Print `gov_header`. Examine the columns and the first few lines of the data. Explain what information you think each column contains. *(1pt)*"
   ]
  },
  {
   "cell_type": "code",
   "execution_count": 14,
   "metadata": {},
   "outputs": [
    {
     "name": "stdout",
     "output_type": "stream",
     "text": [
      "state_name,party\n",
      "\n",
      "['Alaska,republican\\n', 'Arizona,republican\\n', 'Arkansas,republican\\n']\n"
     ]
    }
   ],
   "source": [
    "## Sample print statement to inform a short answer.\n",
    "\n",
    "print(gov_header)\n",
    "print(gov_data[1:4])"
   ]
  },
  {
   "cell_type": "markdown",
   "metadata": {},
   "source": [
    "*Solution:* The information contained in each column represents what state and party a govenor belongs too respectively."
   ]
  },
  {
   "cell_type": "markdown",
   "metadata": {},
   "source": [
    "### Problem 4c. Read in the political party data\n",
    "\n",
    "Create an empty dictionary and assign it to the variable `state_govs`. Loop over the lines of `gov_data` and store the name of each state as a key in the dictionary, with the political party of its governor as the value."
   ]
  },
  {
   "cell_type": "code",
   "execution_count": 15,
   "metadata": {},
   "outputs": [],
   "source": [
    "# Write your code here\n",
    "\n",
    "state_govs = {}\n",
    "for line in gov_data:\n",
    "    line_dat = line.strip().split(\",\")\n",
    "    state = line_dat[0]\n",
    "    party = line_dat[1]\n",
    "    state_govs[state] = party"
   ]
  },
  {
   "cell_type": "markdown",
   "metadata": {},
   "source": [
    "### Problem 4d. Sexual disparity in risk of COVID death by political party\n",
    "\n",
    "Create two empty lists and assign them, respectively, to the variables `democrat_disp` and `repub_disp`. \n",
    "\n",
    "Then, loop over the original COVID data, similar to problem 2b, but this time computing the *disparity* between male and female risk of death and adding the value to either the democratic or republican list based on the state governor. Referencing the formula given in question 2b, please estimate the sex-based disparity in risk of death given COVID infection using the following formula:\n",
    "\n",
    "```risk_disp = covid_risk_m - covid_risk_f```\n",
    "\n",
    "For each row of COVID data, you will want to determine the state and look up the political affiliation of the governor of the state in the `state_govs` dictionary. Then append the risk disparity value to either `democrat_disp` or `republican_disp`, depending on whether the state in the current line has a democrat or republican governor. You will want to use an if statement to accomplish this.\n",
    "\n",
    "HINT: when comparing strings, use `.lower()` or `.upper()` to make sure the cases match. You may also wish to check for and remove any extraneous whitespace."
   ]
  },
  {
   "cell_type": "code",
   "execution_count": 16,
   "metadata": {},
   "outputs": [],
   "source": [
    "# Write your code here\n",
    "\n",
    "democrat_disp = []\n",
    "repub_disp = []\n",
    "for line in data:\n",
    "    line_dat = line.strip().split(\",\")\n",
    "    state = line_dat[0]\n",
    "    party =  state_govs[state]\n",
    "    try:\n",
    "        inf_m  = float(line_dat[3])\n",
    "        inf_f = float(line_dat[4])\n",
    "        death_m = float(line_dat[10])\n",
    "        death_f = float(line_dat[11])\n",
    "        state_risk_m = (death_m/inf_m)\n",
    "        state_risk_f = (death_f/inf_f)\n",
    "        risk_disp = state_risk_m - state_risk_f\n",
    "        if party.lower() == \"republican\":\n",
    "            repub_disp.append(risk_disp)\n",
    "        elif party.lower() == \"democrat\":\n",
    "            democrat_disp.append(risk_disp)\n",
    "    except:\n",
    "        continue"
   ]
  },
  {
   "cell_type": "markdown",
   "metadata": {},
   "source": [
    "### Problem 4e. Average sex-based disparity for states run by each political party\n",
    "\n",
    "Please use the `calc_mean` function you defined above to calculate the average disparity in COVID death risk across states controlled by each major political party in the US. Assign the means from `repub_disp` and `democrat_disp` to the variables `repub_mean_risk` and `democrat_mean_risk`, respectively."
   ]
  },
  {
   "cell_type": "code",
   "execution_count": 17,
   "metadata": {},
   "outputs": [],
   "source": [
    "# Write your code here\n",
    "\n",
    "repub_mean_risk = calc_mean(repub_disp)\n",
    "democrat_mean_risk = calc_mean(democrat_disp)"
   ]
  },
  {
   "cell_type": "code",
   "execution_count": 18,
   "metadata": {},
   "outputs": [
    {
     "name": "stdout",
     "output_type": "stream",
     "text": [
      "0.003419422241464342 0.0037199713357880535\n"
     ]
    }
   ],
   "source": [
    "# This cell is provided to you to help check your work\n",
    "print(repub_mean_risk,democrat_mean_risk)"
   ]
  },
  {
   "cell_type": "markdown",
   "metadata": {},
   "source": [
    "### Problem 4f. Interpret your results\n",
    "\n",
    "1) Please interpret the disparity metric from problem 4d. What does a value above zero indicate? What would a value below zero indicate? *(4 pts)*\n",
    "\n",
    "\n",
    "2) Do Democrat-run or Republican-run states display, on average, greater disparity between risk of COVID death for males vs for females *(2pts)*? \n",
    "\n",
    "3) Do you think the observed difference is significant or meaningful? Explain why or why not *(2pts)*. In future weeks, we will learn how to evaluate this latter question statistically, but for now, see if you can create your own argument. **Speculate on any possible reasons for the observed difference**. Does our analysis of COVID death rates by dominant political party provide any possible sociopolitical causes for disparity between the sexes? *(4pts)*\n",
    "\n"
   ]
  },
  {
   "cell_type": "markdown",
   "metadata": {},
   "source": [
    "*Solution*\n",
    "\n",
    "1) A value above zero means that males are more likely to die given infection with COVID. A value below zero indicates that females are more likely to die given COVID infection.\n",
    "\n",
    "2) Democrat-run states have a slightly higher disparity, on average, than Republican-run states. While males are more likely to die given COVID infection across all states, this difference is slightly greater in states with a Democratic governor.\n",
    "\n",
    "3) Please accept any well-reasoned answer. Use your own discretion in evaluating thoughtfulness and engagement with the question."
   ]
  }
 ],
 "metadata": {
  "kernelspec": {
   "display_name": "Python 3",
   "language": "python",
   "name": "python3"
  },
  "language_info": {
   "codemirror_mode": {
    "name": "ipython",
    "version": 3
   },
   "file_extension": ".py",
   "mimetype": "text/x-python",
   "name": "python",
   "nbconvert_exporter": "python",
   "pygments_lexer": "ipython3",
   "version": "3.10.12"
  },
  "markus": {
   "assessment_id": 209,
   "course_id": 14,
   "url": "https://markus-ds.teach.cs.toronto.edu"
  },
  "vscode": {
   "interpreter": {
    "hash": "8b8edaa195e148f815789564e9a10f57d8b792ac9e1a5daafce5fbae42bebd0e"
   }
  }
 },
 "nbformat": 4,
 "nbformat_minor": 2
}
