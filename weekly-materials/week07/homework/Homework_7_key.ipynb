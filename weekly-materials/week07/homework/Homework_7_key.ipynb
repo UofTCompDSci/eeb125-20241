{
 "cells": [
  {
   "cell_type": "markdown",
   "metadata": {},
   "source": [
    "## Homework 7\n",
    "\n",
    "## Data Wrangling – Understanding U.S. Covid Statistics\n",
    "\n",
    "## Logistics\n",
    "\n",
    "**Due date**: The homework is due 17:00 (5:00pm) on Tuesday, March 5.\n",
    "\n",
    "You will submit your work on [MarkUs](https://markus-ds.teach.cs.toronto.edu).\n",
    "To submit your work:\n",
    "\n",
    "1. Download this file (`Homework_7.ipynb`) from JupyterHub. (See [our JupyterHub Guide](../../../guides/jupyterhub_guide.ipynb) for detailed instructions.)\n",
    "2. Submit this file to MarkUs under the **hw7** assignment. (See [our MarkUs Guide](../../../guides/markus_guide.ipynb) for detailed instructions.)\n",
    "\n",
    "All homeworks will take place in a Jupyter notebook (like this one). When you are done, you will download this notebook and submit it to MarkUs.\n"
   ]
  },
  {
   "cell_type": "markdown",
   "metadata": {},
   "source": [
    "# Introduction\n",
    "\n",
    "The [GenderSci Lab](https://www.genderscilab.org) is \"dedicated to generating feminist concepts, methods and theories for scientific research on sex and gender.\"\n",
    "\n",
    "One of their research projects explores the impact of COVID-19 on women and men.\n",
    "In this lab, we are using a set of data that is based on the information in their [US Gender/Sex COVID-19 Data Tracker](https://genderscilab.org/gender-and-sex-in-covid19/#DataTable). (You may need to search for \"US Gender/Sex COVID-19 Data Tables\".)\n",
    "\n",
    "The table shows various pieces of information about US state COVID-19 cases and deaths counted by sex, including the total case count, male case count, and female case counts, as well as the death counts and percentages. Here's a snippet:\n",
    "\n",
    "![US Gender/Sex COVID-19 Data Tables](tableclip.png)\n",
    "\n",
    "We have added one more column of data to this, the state population. You'll find out more about this data below.\n",
    "\n",
    "## Question\n",
    "\n",
    "The question you're answering in this homework: \n",
    "\n",
    "> __Do states with large populations have a higher COVID-19 rate than states with low populations?__"
   ]
  },
  {
   "cell_type": "markdown",
   "metadata": {},
   "source": [
    "## Problem 1: Read in the data file\n",
    "\n",
    "The dataset we'll work with on this homework is a modified version of a dataset called `covid_raw.csv` you've seen earlier in the course.\n",
    "\n",
    "To begin, read in the dataset using `pandas`, storing the result as a `DataFrame` called `covid_raw_data`."
   ]
  },
  {
   "cell_type": "code",
   "execution_count": 1,
   "metadata": {},
   "outputs": [
    {
     "data": {
      "text/html": [
       "<div>\n",
       "<style scoped>\n",
       "    .dataframe tbody tr th:only-of-type {\n",
       "        vertical-align: middle;\n",
       "    }\n",
       "\n",
       "    .dataframe tbody tr th {\n",
       "        vertical-align: top;\n",
       "    }\n",
       "\n",
       "    .dataframe thead th {\n",
       "        text-align: right;\n",
       "    }\n",
       "</style>\n",
       "<table border=\"1\" class=\"dataframe\">\n",
       "  <thead>\n",
       "    <tr style=\"text-align: right;\">\n",
       "      <th></th>\n",
       "      <th>Unnamed: 0</th>\n",
       "      <th>State</th>\n",
       "      <th>Date</th>\n",
       "      <th>Total_cases</th>\n",
       "      <th>Male_cases</th>\n",
       "      <th>Female_cases</th>\n",
       "      <th>Male_cases_pct</th>\n",
       "      <th>Female_cases_pct</th>\n",
       "      <th>Male_cases_rate</th>\n",
       "      <th>Female_cases_rate</th>\n",
       "      <th>Total_deaths</th>\n",
       "      <th>Male_deaths</th>\n",
       "      <th>Female_deaths</th>\n",
       "      <th>Male_deaths_pct</th>\n",
       "      <th>Female_deaths_pct</th>\n",
       "      <th>Male_deaths_rate</th>\n",
       "      <th>Female_deaths_rate</th>\n",
       "      <th>pop</th>\n",
       "      <th>source</th>\n",
       "    </tr>\n",
       "  </thead>\n",
       "  <tbody>\n",
       "    <tr>\n",
       "      <th>0</th>\n",
       "      <td>1</td>\n",
       "      <td>Alaska</td>\n",
       "      <td>30-Oct</td>\n",
       "      <td>132645.0</td>\n",
       "      <td>67287.0</td>\n",
       "      <td>64852.0</td>\n",
       "      <td>50.73</td>\n",
       "      <td>48.89</td>\n",
       "      <td>17450.90</td>\n",
       "      <td>18374.95</td>\n",
       "      <td>699.0</td>\n",
       "      <td>425.0</td>\n",
       "      <td>274.0</td>\n",
       "      <td>60.80</td>\n",
       "      <td>39.20</td>\n",
       "      <td>110.22</td>\n",
       "      <td>77.63</td>\n",
       "      <td>731545</td>\n",
       "      <td>https://coronavirus-response-alaska-dhss.hub.a...</td>\n",
       "    </tr>\n",
       "    <tr>\n",
       "      <th>1</th>\n",
       "      <td>2</td>\n",
       "      <td>Arizona</td>\n",
       "      <td>30-Oct</td>\n",
       "      <td>1166060.0</td>\n",
       "      <td>561976.0</td>\n",
       "      <td>599451.0</td>\n",
       "      <td>48.19</td>\n",
       "      <td>51.41</td>\n",
       "      <td>16272.94</td>\n",
       "      <td>17160.29</td>\n",
       "      <td>21153.0</td>\n",
       "      <td>12392.0</td>\n",
       "      <td>8748.0</td>\n",
       "      <td>58.58</td>\n",
       "      <td>41.36</td>\n",
       "      <td>358.83</td>\n",
       "      <td>250.43</td>\n",
       "      <td>7278717</td>\n",
       "      <td>https://www.azdhs.gov/preparedness/epidemiolog...</td>\n",
       "    </tr>\n",
       "    <tr>\n",
       "      <th>2</th>\n",
       "      <td>4</td>\n",
       "      <td>California</td>\n",
       "      <td>30-Oct</td>\n",
       "      <td>4647587.0</td>\n",
       "      <td>2221547.0</td>\n",
       "      <td>2356327.0</td>\n",
       "      <td>47.80</td>\n",
       "      <td>50.70</td>\n",
       "      <td>11419.62</td>\n",
       "      <td>11964.09</td>\n",
       "      <td>71519.0</td>\n",
       "      <td>41696.0</td>\n",
       "      <td>29537.0</td>\n",
       "      <td>58.30</td>\n",
       "      <td>41.30</td>\n",
       "      <td>214.33</td>\n",
       "      <td>149.97</td>\n",
       "      <td>39512223</td>\n",
       "      <td>https://update.covid19.ca.gov/</td>\n",
       "    </tr>\n",
       "    <tr>\n",
       "      <th>3</th>\n",
       "      <td>5</td>\n",
       "      <td>Colorado</td>\n",
       "      <td>30-Oct</td>\n",
       "      <td>740461.0</td>\n",
       "      <td>360012.0</td>\n",
       "      <td>370008.0</td>\n",
       "      <td>48.62</td>\n",
       "      <td>49.97</td>\n",
       "      <td>12946.21</td>\n",
       "      <td>13453.33</td>\n",
       "      <td>8186.0</td>\n",
       "      <td>4508.0</td>\n",
       "      <td>3666.0</td>\n",
       "      <td>55.07</td>\n",
       "      <td>44.78</td>\n",
       "      <td>162.11</td>\n",
       "      <td>133.28</td>\n",
       "      <td>5758736</td>\n",
       "      <td>https://covid19.colorado.gov/case-data</td>\n",
       "    </tr>\n",
       "    <tr>\n",
       "      <th>4</th>\n",
       "      <td>6</td>\n",
       "      <td>Connecticut</td>\n",
       "      <td>30-Oct</td>\n",
       "      <td>402583.0</td>\n",
       "      <td>192749.0</td>\n",
       "      <td>208210.0</td>\n",
       "      <td>47.88</td>\n",
       "      <td>51.72</td>\n",
       "      <td>11032.32</td>\n",
       "      <td>11350.47</td>\n",
       "      <td>8764.0</td>\n",
       "      <td>4338.0</td>\n",
       "      <td>4416.0</td>\n",
       "      <td>49.50</td>\n",
       "      <td>50.39</td>\n",
       "      <td>248.29</td>\n",
       "      <td>240.74</td>\n",
       "      <td>3565287</td>\n",
       "      <td>https://portal.ct.gov/Coronavirus</td>\n",
       "    </tr>\n",
       "  </tbody>\n",
       "</table>\n",
       "</div>"
      ],
      "text/plain": [
       "   Unnamed: 0        State    Date  Total_cases  Male_cases  Female_cases  \\\n",
       "0           1       Alaska  30-Oct     132645.0     67287.0       64852.0   \n",
       "1           2      Arizona  30-Oct    1166060.0    561976.0      599451.0   \n",
       "2           4   California  30-Oct    4647587.0   2221547.0     2356327.0   \n",
       "3           5     Colorado  30-Oct     740461.0    360012.0      370008.0   \n",
       "4           6  Connecticut  30-Oct     402583.0    192749.0      208210.0   \n",
       "\n",
       "   Male_cases_pct  Female_cases_pct  Male_cases_rate  Female_cases_rate  \\\n",
       "0           50.73             48.89         17450.90           18374.95   \n",
       "1           48.19             51.41         16272.94           17160.29   \n",
       "2           47.80             50.70         11419.62           11964.09   \n",
       "3           48.62             49.97         12946.21           13453.33   \n",
       "4           47.88             51.72         11032.32           11350.47   \n",
       "\n",
       "   Total_deaths  Male_deaths  Female_deaths  Male_deaths_pct  \\\n",
       "0         699.0        425.0          274.0            60.80   \n",
       "1       21153.0      12392.0         8748.0            58.58   \n",
       "2       71519.0      41696.0        29537.0            58.30   \n",
       "3        8186.0       4508.0         3666.0            55.07   \n",
       "4        8764.0       4338.0         4416.0            49.50   \n",
       "\n",
       "   Female_deaths_pct  Male_deaths_rate  Female_deaths_rate       pop  \\\n",
       "0              39.20            110.22               77.63    731545   \n",
       "1              41.36            358.83              250.43   7278717   \n",
       "2              41.30            214.33              149.97  39512223   \n",
       "3              44.78            162.11              133.28   5758736   \n",
       "4              50.39            248.29              240.74   3565287   \n",
       "\n",
       "                                              source  \n",
       "0  https://coronavirus-response-alaska-dhss.hub.a...  \n",
       "1  https://www.azdhs.gov/preparedness/epidemiolog...  \n",
       "2                     https://update.covid19.ca.gov/  \n",
       "3             https://covid19.colorado.gov/case-data  \n",
       "4                  https://portal.ct.gov/Coronavirus  "
      ]
     },
     "execution_count": 1,
     "metadata": {},
     "output_type": "execute_result"
    }
   ],
   "source": [
    "# This import statement is provided to you; do not change it.\n",
    "import pandas as pd\n",
    "\n",
    "# Write your code here.\n",
    "covid_raw_data = pd.read_csv(\"covid_raw.csv\")\n",
    "covid_raw_data.head()"
   ]
  },
  {
   "cell_type": "markdown",
   "metadata": {},
   "source": [
    "## Problem 2: Cleaning the data\n",
    "\n",
    "You'll now perform three different data cleaning operations.\n",
    "At each step, we've specified a variable to store the result in, so that all of your work can be autograded.\n",
    "Note that as we saw in lecture, all of these steps create a new `DataFrame`, rather than modifying an existing `DataFrame`. (That makes it easier for you to check your work at each step.)\n",
    "\n",
    "1. Extract just the `'State'`, `'Total_cases'`, and `'pop'` columns from `covid_raw_data`, storing the resulting `DataFrame` in a variable called `covid_pop_data`.\n",
    "    The columns must appear in the order listed in this question.\n",
    "    You are encouraged, but not required, to create a new list variable to store the column names, just like we did in lecture.\n",
    "2. Take `covid_pop_data` and rename the `Total_cases` column to `'Total Cases'` and `'pop'` column to `'Population'`, storing the resulting `DataFrame` in a variable called `covid_renamed_data`.\n",
    "3. Finally, take `covid_renamed_data` and use the `DataFrame.convert_dtypes()` method to automatically convert each column into its most appropriate type, storing the resulting `DataFrame` in a variable called `covid_final_data`. You will use `covid_final_data` for the rest of this notebook."
   ]
  },
  {
   "cell_type": "code",
   "execution_count": 2,
   "metadata": {},
   "outputs": [
    {
     "data": {
      "text/html": [
       "<div>\n",
       "<style scoped>\n",
       "    .dataframe tbody tr th:only-of-type {\n",
       "        vertical-align: middle;\n",
       "    }\n",
       "\n",
       "    .dataframe tbody tr th {\n",
       "        vertical-align: top;\n",
       "    }\n",
       "\n",
       "    .dataframe thead th {\n",
       "        text-align: right;\n",
       "    }\n",
       "</style>\n",
       "<table border=\"1\" class=\"dataframe\">\n",
       "  <thead>\n",
       "    <tr style=\"text-align: right;\">\n",
       "      <th></th>\n",
       "      <th>State</th>\n",
       "      <th>Total Cases</th>\n",
       "      <th>Population</th>\n",
       "    </tr>\n",
       "  </thead>\n",
       "  <tbody>\n",
       "    <tr>\n",
       "      <th>0</th>\n",
       "      <td>Alaska</td>\n",
       "      <td>132645</td>\n",
       "      <td>731545</td>\n",
       "    </tr>\n",
       "    <tr>\n",
       "      <th>1</th>\n",
       "      <td>Arizona</td>\n",
       "      <td>1166060</td>\n",
       "      <td>7278717</td>\n",
       "    </tr>\n",
       "    <tr>\n",
       "      <th>2</th>\n",
       "      <td>California</td>\n",
       "      <td>4647587</td>\n",
       "      <td>39512223</td>\n",
       "    </tr>\n",
       "    <tr>\n",
       "      <th>3</th>\n",
       "      <td>Colorado</td>\n",
       "      <td>740461</td>\n",
       "      <td>5758736</td>\n",
       "    </tr>\n",
       "    <tr>\n",
       "      <th>4</th>\n",
       "      <td>Connecticut</td>\n",
       "      <td>402583</td>\n",
       "      <td>3565287</td>\n",
       "    </tr>\n",
       "  </tbody>\n",
       "</table>\n",
       "</div>"
      ],
      "text/plain": [
       "         State  Total Cases  Population\n",
       "0       Alaska       132645      731545\n",
       "1      Arizona      1166060     7278717\n",
       "2   California      4647587    39512223\n",
       "3     Colorado       740461     5758736\n",
       "4  Connecticut       402583     3565287"
      ]
     },
     "execution_count": 2,
     "metadata": {},
     "output_type": "execute_result"
    }
   ],
   "source": [
    "# Write your code here\n",
    "covid_pop_data = covid_raw_data[['State', 'Total_cases', 'pop']]\n",
    "covid_pop_data.head()\n",
    "\n",
    "covid_renamed_data = covid_pop_data.rename(columns={'Total_cases': 'Total Cases', 'pop': 'Population'})\n",
    "covid_renamed_data.head()\n",
    "\n",
    "covid_final_data = covid_renamed_data.convert_dtypes()\n",
    "covid_final_data.head()"
   ]
  },
  {
   "cell_type": "markdown",
   "metadata": {},
   "source": [
    "## Problem 3: Calculating on a `Series`\n",
    "\n",
    "### Problem 3a: Extracting a `Series`\n",
    "\n",
    "Extract the `'Total Cases'` column from `covid_final_data` as a `Series`, and store it in a variable called `total_cases`."
   ]
  },
  {
   "cell_type": "code",
   "execution_count": 3,
   "metadata": {},
   "outputs": [],
   "source": [
    "# Write your code here\n",
    "total_cases = covid_final_data['Total Cases']"
   ]
  },
  {
   "cell_type": "markdown",
   "metadata": {},
   "source": [
    "## Problem 3b: Calculating a summary statistic\n",
    "\n",
    "Use `total_cases` to calculate the *average* number of cases per state, and store the result in a variable called `average_cases_per_state`.\n",
    "\n",
    "**Note**: you shouldn't need to calculate the sum and count separately; there's a `Series` method that will calculate the average of a numerical `Series` for you in one step!"
   ]
  },
  {
   "cell_type": "code",
   "execution_count": 4,
   "metadata": {},
   "outputs": [
    {
     "data": {
      "text/plain": [
       "869570.0"
      ]
     },
     "execution_count": 4,
     "metadata": {},
     "output_type": "execute_result"
    }
   ],
   "source": [
    "# Write your code here\n",
    "average_cases_per_state = total_cases.mean()\n",
    "average_cases_per_state"
   ]
  },
  {
   "cell_type": "markdown",
   "metadata": {},
   "source": [
    "## Problem 3c: Interpret\n",
    "\n",
    "Why is the average number of cases per state not a particularly useful statistic when analysing COVID cases? (**1 pt**)"
   ]
  },
  {
   "cell_type": "markdown",
   "metadata": {},
   "source": [
    "\n",
    "**Sample solution**: it doesn't take into account the size of the state."
   ]
  },
  {
   "cell_type": "markdown",
   "metadata": {},
   "source": [
    "## Problem 4: Data Transformation\n",
    "\n",
    "### Problem 4a: Creating a new `Series`\n",
    "\n",
    "Create a new `Series` called `case_rates` that contains the percentage of COVID cases within each state relative to that state's population, rounded to two decimal places.\n",
    "\n",
    "> For example, Alaska has 132645 cases and a population of 731545, and so its \"case rate\" would be\n",
    ">\n",
    "> $$\n",
    "> \\frac{132645}{731545} \\times 100 = 18.13217232022637\n",
    "> $$\n",
    ">\n",
    "> rounded to two decimal places, or 18.13.\n",
    "\n",
    "To perform this data transformation, you'll need to extract the two relevant columns from `covid_data_final` and them combine them appropriately.\n",
    "As we did in lecture, take advantage of operations like `+` and `*` and `Series` methods like `.round()` to operate on and combine numerical `Series`, rather than using for loops.\n",
    "\n",
    "You *may*, but are not required to, create additional variables to store intermediate steps in this calculation."
   ]
  },
  {
   "cell_type": "code",
   "execution_count": 5,
   "metadata": {},
   "outputs": [
    {
     "data": {
      "text/plain": [
       "0     18.13\n",
       "1     16.02\n",
       "2     11.76\n",
       "3     12.86\n",
       "4     11.29\n",
       "5     14.78\n",
       "6       9.1\n",
       "7      11.9\n",
       "8      5.72\n",
       "9      16.3\n",
       "10    13.38\n",
       "11    15.13\n",
       "12    16.56\n",
       "13    14.92\n",
       "14    16.63\n",
       "15    16.32\n",
       "16     7.76\n",
       "17     9.27\n",
       "18     11.3\n",
       "19    13.96\n",
       "20    11.44\n",
       "21    16.45\n",
       "22    14.23\n",
       "23     9.74\n",
       "24    11.73\n",
       "25    13.04\n",
       "26    14.09\n",
       "27    13.22\n",
       "28     16.2\n",
       "29     8.62\n",
       "30    12.22\n",
       "31    14.86\n",
       "32    17.42\n",
       "33    17.46\n",
       "34    18.74\n",
       "35    12.11\n",
       "36    17.15\n",
       "37     6.44\n",
       "38    10.83\n",
       "39     9.53\n",
       "40    17.78\n",
       "dtype: Float64"
      ]
     },
     "execution_count": 5,
     "metadata": {},
     "output_type": "execute_result"
    }
   ],
   "source": [
    "# Write your code here\n",
    "total_cases = covid_final_data[\"Total Cases\"]\n",
    "populations = covid_final_data[\"Population\"]\n",
    "base_rates = total_cases / populations * 100\n",
    "\n",
    "case_rates = base_rates.round(2)\n",
    "case_rates"
   ]
  },
  {
   "cell_type": "markdown",
   "metadata": {},
   "source": [
    "### Problem 4b: Add the column to the dataset\n",
    "\n",
    "Once you're confident you've computed the `case_rates` `Series` correctly, add it to `covid_final_data` with the name `\"Case Rate (%)\"`.\n",
    "\n",
    "**Warning**: unlike all of the previous steps, this will modify `covid_final_data`, rather than creating a new `DataFrame`.\n",
    "If you do it incorrectly or fix a problem in Problem 4a and want to restart, you should *re-run all above cells* to get a fresh version of `covid_final_data`."
   ]
  },
  {
   "cell_type": "code",
   "execution_count": 6,
   "metadata": {},
   "outputs": [
    {
     "data": {
      "text/html": [
       "<div>\n",
       "<style scoped>\n",
       "    .dataframe tbody tr th:only-of-type {\n",
       "        vertical-align: middle;\n",
       "    }\n",
       "\n",
       "    .dataframe tbody tr th {\n",
       "        vertical-align: top;\n",
       "    }\n",
       "\n",
       "    .dataframe thead th {\n",
       "        text-align: right;\n",
       "    }\n",
       "</style>\n",
       "<table border=\"1\" class=\"dataframe\">\n",
       "  <thead>\n",
       "    <tr style=\"text-align: right;\">\n",
       "      <th></th>\n",
       "      <th>State</th>\n",
       "      <th>Total Cases</th>\n",
       "      <th>Population</th>\n",
       "      <th>Case Rate (%)</th>\n",
       "    </tr>\n",
       "  </thead>\n",
       "  <tbody>\n",
       "    <tr>\n",
       "      <th>0</th>\n",
       "      <td>Alaska</td>\n",
       "      <td>132645</td>\n",
       "      <td>731545</td>\n",
       "      <td>18.13</td>\n",
       "    </tr>\n",
       "    <tr>\n",
       "      <th>1</th>\n",
       "      <td>Arizona</td>\n",
       "      <td>1166060</td>\n",
       "      <td>7278717</td>\n",
       "      <td>16.02</td>\n",
       "    </tr>\n",
       "    <tr>\n",
       "      <th>2</th>\n",
       "      <td>California</td>\n",
       "      <td>4647587</td>\n",
       "      <td>39512223</td>\n",
       "      <td>11.76</td>\n",
       "    </tr>\n",
       "    <tr>\n",
       "      <th>3</th>\n",
       "      <td>Colorado</td>\n",
       "      <td>740461</td>\n",
       "      <td>5758736</td>\n",
       "      <td>12.86</td>\n",
       "    </tr>\n",
       "    <tr>\n",
       "      <th>4</th>\n",
       "      <td>Connecticut</td>\n",
       "      <td>402583</td>\n",
       "      <td>3565287</td>\n",
       "      <td>11.29</td>\n",
       "    </tr>\n",
       "  </tbody>\n",
       "</table>\n",
       "</div>"
      ],
      "text/plain": [
       "         State  Total Cases  Population  Case Rate (%)\n",
       "0       Alaska       132645      731545          18.13\n",
       "1      Arizona      1166060     7278717          16.02\n",
       "2   California      4647587    39512223          11.76\n",
       "3     Colorado       740461     5758736          12.86\n",
       "4  Connecticut       402583     3565287          11.29"
      ]
     },
     "execution_count": 6,
     "metadata": {},
     "output_type": "execute_result"
    }
   ],
   "source": [
    "# Write your code here\n",
    "covid_final_data[\"Case Rate (%)\"] = case_rates\n",
    "\n",
    "covid_final_data.head()"
   ]
  },
  {
   "cell_type": "markdown",
   "metadata": {},
   "source": [
    "## Problem 5: Large and Small State Analysis\n",
    "\n",
    "Now we can do some work to compare large and small states.\n",
    "For the purposes of this homework, we define a **large state** to be a state whose population is **greater than 10,000,000**, and a **small state** to be a state whose population is **less than 1,000,000**."
   ]
  },
  {
   "cell_type": "markdown",
   "metadata": {},
   "source": [
    "### Problem 5a: Filtering the data\n",
    "\n",
    "We'll now filter our dataset in two different ways to obtain just the large states and small states (separately).\n",
    "To do this:\n",
    "\n",
    "1. Create a boolean `Series` called `is_large` that contains one boolean entry per state, which is `True` if the state's population is greater than 10,000,000, and `False` otherwise.\n",
    "2. Use `is_large` to filter `covid_final_data` to obtain a new `DataFrame` called `covid_large_state_data` which contains only the rows for the large states.\n",
    "3. Repeat Step 1, but to create a `Series` called `is_small` that contains `True` when the state's population is less than 1,000,000, and `False` otherwise.\n",
    "4. Repeat Step 2, but to create a `DataFrame` called `covid_small_state_data` which contains only the rows for the small states."
   ]
  },
  {
   "cell_type": "code",
   "execution_count": 7,
   "metadata": {},
   "outputs": [
    {
     "data": {
      "text/html": [
       "<div>\n",
       "<style scoped>\n",
       "    .dataframe tbody tr th:only-of-type {\n",
       "        vertical-align: middle;\n",
       "    }\n",
       "\n",
       "    .dataframe tbody tr th {\n",
       "        vertical-align: top;\n",
       "    }\n",
       "\n",
       "    .dataframe thead th {\n",
       "        text-align: right;\n",
       "    }\n",
       "</style>\n",
       "<table border=\"1\" class=\"dataframe\">\n",
       "  <thead>\n",
       "    <tr style=\"text-align: right;\">\n",
       "      <th></th>\n",
       "      <th>State</th>\n",
       "      <th>Total Cases</th>\n",
       "      <th>Population</th>\n",
       "      <th>Case Rate (%)</th>\n",
       "    </tr>\n",
       "  </thead>\n",
       "  <tbody>\n",
       "    <tr>\n",
       "      <th>2</th>\n",
       "      <td>California</td>\n",
       "      <td>4647587</td>\n",
       "      <td>39512223</td>\n",
       "      <td>11.76</td>\n",
       "    </tr>\n",
       "    <tr>\n",
       "      <th>7</th>\n",
       "      <td>Georgia</td>\n",
       "      <td>1263757</td>\n",
       "      <td>10617423</td>\n",
       "      <td>11.9</td>\n",
       "    </tr>\n",
       "    <tr>\n",
       "      <th>10</th>\n",
       "      <td>Illinois</td>\n",
       "      <td>1695524</td>\n",
       "      <td>12671821</td>\n",
       "      <td>13.38</td>\n",
       "    </tr>\n",
       "    <tr>\n",
       "      <th>25</th>\n",
       "      <td>New York</td>\n",
       "      <td>2537145</td>\n",
       "      <td>19453561</td>\n",
       "      <td>13.04</td>\n",
       "    </tr>\n",
       "    <tr>\n",
       "      <th>26</th>\n",
       "      <td>North Carolina</td>\n",
       "      <td>1477514</td>\n",
       "      <td>10488084</td>\n",
       "      <td>14.09</td>\n",
       "    </tr>\n",
       "  </tbody>\n",
       "</table>\n",
       "</div>"
      ],
      "text/plain": [
       "             State  Total Cases  Population  Case Rate (%)\n",
       "2       California      4647587    39512223          11.76\n",
       "7          Georgia      1263757    10617423           11.9\n",
       "10        Illinois      1695524    12671821          13.38\n",
       "25        New York      2537145    19453561          13.04\n",
       "26  North Carolina      1477514    10488084          14.09"
      ]
     },
     "metadata": {},
     "output_type": "display_data"
    },
    {
     "data": {
      "text/html": [
       "<div>\n",
       "<style scoped>\n",
       "    .dataframe tbody tr th:only-of-type {\n",
       "        vertical-align: middle;\n",
       "    }\n",
       "\n",
       "    .dataframe tbody tr th {\n",
       "        vertical-align: top;\n",
       "    }\n",
       "\n",
       "    .dataframe thead th {\n",
       "        text-align: right;\n",
       "    }\n",
       "</style>\n",
       "<table border=\"1\" class=\"dataframe\">\n",
       "  <thead>\n",
       "    <tr style=\"text-align: right;\">\n",
       "      <th></th>\n",
       "      <th>State</th>\n",
       "      <th>Total Cases</th>\n",
       "      <th>Population</th>\n",
       "      <th>Case Rate (%)</th>\n",
       "    </tr>\n",
       "  </thead>\n",
       "  <tbody>\n",
       "    <tr>\n",
       "      <th>0</th>\n",
       "      <td>Alaska</td>\n",
       "      <td>132645</td>\n",
       "      <td>731545</td>\n",
       "      <td>18.13</td>\n",
       "    </tr>\n",
       "    <tr>\n",
       "      <th>5</th>\n",
       "      <td>Delaware</td>\n",
       "      <td>143950</td>\n",
       "      <td>973764</td>\n",
       "      <td>14.78</td>\n",
       "    </tr>\n",
       "    <tr>\n",
       "      <th>6</th>\n",
       "      <td>District of Columbia</td>\n",
       "      <td>64240</td>\n",
       "      <td>705749</td>\n",
       "      <td>9.1</td>\n",
       "    </tr>\n",
       "    <tr>\n",
       "      <th>33</th>\n",
       "      <td>South Dakota</td>\n",
       "      <td>154482</td>\n",
       "      <td>884659</td>\n",
       "      <td>17.46</td>\n",
       "    </tr>\n",
       "    <tr>\n",
       "      <th>37</th>\n",
       "      <td>Vermont</td>\n",
       "      <td>40191</td>\n",
       "      <td>623989</td>\n",
       "      <td>6.44</td>\n",
       "    </tr>\n",
       "  </tbody>\n",
       "</table>\n",
       "</div>"
      ],
      "text/plain": [
       "                   State  Total Cases  Population  Case Rate (%)\n",
       "0                 Alaska       132645      731545          18.13\n",
       "5               Delaware       143950      973764          14.78\n",
       "6   District of Columbia        64240      705749            9.1\n",
       "33          South Dakota       154482      884659          17.46\n",
       "37               Vermont        40191      623989           6.44"
      ]
     },
     "metadata": {},
     "output_type": "display_data"
    }
   ],
   "source": [
    "# We've provided these variables for you to use (so that you don't need to manually count the 0's!)\n",
    "large_threshold = 10000000\n",
    "small_threshold = 1000000\n",
    "\n",
    "# Write your code here\n",
    "is_large = covid_final_data['Population'] > large_threshold\n",
    "covid_large_state_data = covid_final_data[is_large]\n",
    "display(covid_large_state_data.head())\n",
    "\n",
    "is_small = covid_final_data['Population'] < small_threshold\n",
    "covid_small_state_data = covid_final_data[is_small]\n",
    "display(covid_small_state_data.head())"
   ]
  },
  {
   "cell_type": "markdown",
   "metadata": {},
   "source": [
    "### Problem 5b: Computing average rates\n",
    "\n",
    "Finally, compute the *average case rate* for the large states (store in a variable called `large_state_avg_rate`) and the *average case rate* for the small states (store in a variable called `small_state_avg_rate`).\n",
    "\n",
    "Do not perform any rounding."
   ]
  },
  {
   "cell_type": "code",
   "execution_count": 8,
   "metadata": {},
   "outputs": [
    {
     "name": "stdout",
     "output_type": "stream",
     "text": [
      "12.715\n",
      "13.948333333333332\n"
     ]
    }
   ],
   "source": [
    "# Write your code here\n",
    "large_state_avg_rate = covid_large_state_data[\"Case Rate (%)\"].mean()\n",
    "small_state_avg_rate = covid_small_state_data[\"Case Rate (%)\"].mean()\n",
    "\n",
    "print(large_state_avg_rate)\n",
    "print(small_state_avg_rate)"
   ]
  },
  {
   "cell_type": "markdown",
   "metadata": {},
   "source": [
    "## Problem 6: Analysis\n",
    "\n",
    "Recall the central research question introduced at the top of this notebook:\n",
    "\n",
    "> __Do states with large populations have a higher COVID-19 rate than states with low populations?__"
   ]
  },
  {
   "cell_type": "code",
   "execution_count": 9,
   "metadata": {},
   "outputs": [
    {
     "name": "stdout",
     "output_type": "stream",
     "text": [
      "Large state min: 11.76 / Large state max: 14.09\n",
      "Small state min: 6.44 / Small state max: 18.13\n"
     ]
    }
   ],
   "source": [
    "# Run the following cells\n",
    "print(\"Large state min: {} / Large state max: {}\".format(covid_large_state_data[\"Case Rate (%)\"].min(), covid_large_state_data[\"Case Rate (%)\"].max()))\n",
    "print(\"Small state min: {} / Small state max: {}\".format(covid_small_state_data[\"Case Rate (%)\"].min(), covid_small_state_data[\"Case Rate (%)\"].max()))"
   ]
  },
  {
   "cell_type": "markdown",
   "metadata": {},
   "source": [
    "Based on your work on this homework, write 1-2 paragraphs answering each of the following questions:\n",
    "\n",
    "1. Can you conclude whether states with large populations have a higher or lower COVID-19 rate than states with small populations? How confident are you in this conclusion? **(2 pt)**\n",
    "2. What other data would you want to collect to help answer the original research question? What other analyses would you want to perform? **(2 pt)**"
   ]
  },
  {
   "cell_type": "markdown",
   "metadata": {},
   "source": [
    "**Sample solutions**\n",
    "\n",
    "**1.** Large states on average have lower rates of COVID-19 (1 mark). However the range of the average rates for large states and small states overlap quite a bit. The minimum rate for small states is lower than the minimum for large states (1 mark).\n",
    "\n",
    "**2.** (Any reasonable answer is acceptable) The standard deviation to help understand the range of the rates. A statistical test of significance. Data from more states. More granular divisions of large and small states."
   ]
  }
 ],
 "metadata": {
  "kernelspec": {
   "display_name": "Python 3 (ipykernel)",
   "language": "python",
   "name": "python3"
  },
  "language_info": {
   "codemirror_mode": {
    "name": "ipython",
    "version": 3
   },
   "file_extension": ".py",
   "mimetype": "text/x-python",
   "name": "python",
   "nbconvert_exporter": "python",
   "pygments_lexer": "ipython3",
   "version": "3.10.12"
  },
  "markus": {
   "assessment_id": 212,
   "course_id": 10,
   "url": "https://markus-ds.teach.cs.toronto.edu"
  },
  "vscode": {
   "interpreter": {
    "hash": "8b8edaa195e148f815789564e9a10f57d8b792ac9e1a5daafce5fbae42bebd0e"
   }
  }
 },
 "nbformat": 4,
 "nbformat_minor": 4
}
