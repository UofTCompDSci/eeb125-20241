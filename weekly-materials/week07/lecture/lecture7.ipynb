{
 "cells": [
  {
   "cell_type": "markdown",
   "id": "1e10d9f4",
   "metadata": {
    "slideshow": {
     "slide_type": "slide"
    }
   },
   "source": [
    "# Week 7: The Pandas Library\n",
    "\n",
    "### Feb 28, 2024\n",
    "\n",
    "### Krishnapriya Vishnubhotla"
   ]
  },
  {
   "cell_type": "markdown",
   "id": "71fd05c5",
   "metadata": {
    "slideshow": {
     "slide_type": "slide"
    }
   },
   "source": [
    "## Python Libraries\n",
    "\n",
    "- A collection of data types and methods.\n",
    "  \n",
    "  \n",
    "- We have already used libraries in Python\n",
    "  - The `string` library defines string operations like `str.split()`, `str.replace()`.\n",
    "  - Part of The Python Standard Library\n",
    "      \n",
    "      \n",
    "- There are several external libraries that can be *imported* and used for specific tasks:\n",
    "    - plotting (`matplotlib`, `seaborn`)\n",
    "    - statistics (`scipy`)\n",
    "    - graphics, audio (`pygame`)\n",
    "    \n",
    "    \n",
    "- `Pandas`: for data science\n",
    "    - Reading and writing data files\n",
    "    - Data operations\n",
    "    - Visualizations"
   ]
  },
  {
   "cell_type": "markdown",
   "id": "d7a632b4",
   "metadata": {
    "slideshow": {
     "slide_type": "slide"
    }
   },
   "source": [
    "## Importing a Library\n",
    "\n",
    "- A statement to tell python to load the library so we can access the functions"
   ]
  },
  {
   "cell_type": "code",
   "execution_count": null,
   "id": "61e23e83",
   "metadata": {
    "slideshow": {
     "slide_type": "subslide"
    }
   },
   "outputs": [],
   "source": [
    "import pandas"
   ]
  },
  {
   "cell_type": "code",
   "execution_count": null,
   "id": "7c316442",
   "metadata": {
    "slideshow": {
     "slide_type": "subslide"
    }
   },
   "outputs": [],
   "source": [
    "# sample usage\n",
    "data = pandas.read_csv('PanTHERIA_WR05_Aug2008.csv')"
   ]
  },
  {
   "cell_type": "code",
   "execution_count": null,
   "id": "f265abdb",
   "metadata": {
    "slideshow": {
     "slide_type": "subslide"
    }
   },
   "outputs": [],
   "source": [
    "display(data)"
   ]
  },
  {
   "cell_type": "code",
   "execution_count": null,
   "id": "ec21a536",
   "metadata": {
    "slideshow": {
     "slide_type": "subslide"
    }
   },
   "outputs": [],
   "source": [
    "# give the library an easy nickname\n",
    "import pandas as pd"
   ]
  },
  {
   "cell_type": "code",
   "execution_count": null,
   "id": "bee66857",
   "metadata": {
    "slideshow": {
     "slide_type": "fragment"
    }
   },
   "outputs": [],
   "source": [
    "data = pd.read_csv('PanTHERIA_WR05_Aug2008.csv')\n",
    "display(data)"
   ]
  },
  {
   "cell_type": "markdown",
   "id": "44c98a36",
   "metadata": {
    "slideshow": {
     "slide_type": "slide"
    }
   },
   "source": [
    "## Part 1: What is a Dataframe?"
   ]
  },
  {
   "cell_type": "code",
   "execution_count": null,
   "id": "c837d0d7",
   "metadata": {
    "slideshow": {
     "slide_type": "subslide"
    }
   },
   "outputs": [],
   "source": [
    "print(type(data))"
   ]
  },
  {
   "cell_type": "code",
   "execution_count": null,
   "id": "7f85285a",
   "metadata": {
    "slideshow": {
     "slide_type": "subslide"
    }
   },
   "outputs": [],
   "source": [
    "help(data)"
   ]
  },
  {
   "cell_type": "code",
   "execution_count": null,
   "id": "ffa232b4",
   "metadata": {
    "slideshow": {
     "slide_type": "subslide"
    }
   },
   "outputs": [],
   "source": [
    "display(data)"
   ]
  },
  {
   "cell_type": "code",
   "execution_count": null,
   "id": "72d21b99",
   "metadata": {
    "slideshow": {
     "slide_type": "subslide"
    }
   },
   "outputs": [],
   "source": [
    "# The shape of the dataframe\n",
    "print(data.shape)\n",
    "num_rows = data.shape[0]\n",
    "num_cols = data.shape[1]\n",
    "print(\"There are {} rows and {} columns in the dataframe\".format(num_rows, num_cols))"
   ]
  },
  {
   "cell_type": "code",
   "execution_count": null,
   "id": "184961c3",
   "metadata": {
    "slideshow": {
     "slide_type": "slide"
    }
   },
   "outputs": [],
   "source": [
    "# display the first (or last) few rows\n",
    "data.head(10)"
   ]
  },
  {
   "cell_type": "code",
   "execution_count": null,
   "id": "df2ccb91",
   "metadata": {
    "slideshow": {
     "slide_type": "subslide"
    }
   },
   "outputs": [],
   "source": [
    "data.tail()"
   ]
  },
  {
   "cell_type": "markdown",
   "id": "fc120614",
   "metadata": {
    "slideshow": {
     "slide_type": "subslide"
    }
   },
   "source": [
    "**Note**: The difference between accessing *properties* (`data.shape`) vs *methods* (`data.head()`) of a dataframe.\n",
    "\n",
    "- You do not have parantheses for properties."
   ]
  },
  {
   "cell_type": "markdown",
   "id": "aff66c61",
   "metadata": {
    "slideshow": {
     "slide_type": "slide"
    }
   },
   "source": [
    "In our dataframe (and generally), each row contains represents a datapoint, and each column represents a certain attribute, or aspect, of a datapoint."
   ]
  },
  {
   "cell_type": "code",
   "execution_count": null,
   "id": "3e0c290b",
   "metadata": {
    "slideshow": {
     "slide_type": "subslide"
    }
   },
   "outputs": [],
   "source": [
    "# obtain the list of column names\n",
    "print(data.columns)"
   ]
  },
  {
   "cell_type": "code",
   "execution_count": null,
   "id": "793ca53f",
   "metadata": {
    "slideshow": {
     "slide_type": "fragment"
    }
   },
   "outputs": [],
   "source": [
    "# The above is not exactly a list, but we can convert it to a list.\n",
    "list_of_columns = list(data.columns)\n",
    "print(len(list_of_columns))\n",
    "print(list_of_columns[:5])"
   ]
  },
  {
   "cell_type": "markdown",
   "id": "de43ed4e",
   "metadata": {
    "slideshow": {
     "slide_type": "slide"
    }
   },
   "source": [
    "### Data types\n",
    "You might have noticed that the columns of our dataframe store different *types* of information."
   ]
  },
  {
   "cell_type": "code",
   "execution_count": null,
   "id": "51ab3e5a",
   "metadata": {
    "slideshow": {
     "slide_type": "subslide"
    }
   },
   "outputs": [],
   "source": [
    "data.head()"
   ]
  },
  {
   "cell_type": "markdown",
   "id": "cd5a926c",
   "metadata": {
    "slideshow": {
     "slide_type": "fragment"
    }
   },
   "source": [
    "- `MSW05_Order` is a text attribute (what regular python calls a `string` type).\n",
    "- `1-1_ActivityCycle` is a numerical attribute (type `int`) "
   ]
  },
  {
   "cell_type": "markdown",
   "id": "829faeb5",
   "metadata": {
    "slideshow": {
     "slide_type": "slide"
    }
   },
   "source": [
    "We can access the data types of the dataframe column using the `dataframe.dtypes` property."
   ]
  },
  {
   "cell_type": "code",
   "execution_count": null,
   "id": "3af23a48",
   "metadata": {
    "slideshow": {
     "slide_type": "subslide"
    }
   },
   "outputs": [],
   "source": [
    "data.dtypes # a property"
   ]
  },
  {
   "cell_type": "markdown",
   "id": "df7e052e",
   "metadata": {
    "slideshow": {
     "slide_type": "slide"
    }
   },
   "source": [
    "`pandas` uses its own custom data types which loosely map on to the base python types we've encountered before:\n",
    "- `float64` corresponds to the `float` type.\n",
    "- `int64` to `int`\n",
    "- text fields are by default assigned the generic `object` type by pandas, \n",
    "    - but we can change that!\n",
    "    \n",
    "The [Pandas documentation](https://pandas.pydata.org/pandas-docs/stable/user_guide/basics.html#basics-dtypes) comprehensively lists the different `dtypes` in Pandas...but this is not too important right now."
   ]
  },
  {
   "cell_type": "code",
   "execution_count": null,
   "id": "4ba09d67",
   "metadata": {
    "slideshow": {
     "slide_type": "subslide"
    }
   },
   "outputs": [],
   "source": [
    "# to summarize\n",
    "data.info() # a method!"
   ]
  },
  {
   "cell_type": "markdown",
   "id": "6bf9f465",
   "metadata": {
    "slideshow": {
     "slide_type": "slide"
    }
   },
   "source": [
    "## Part 2: Data Cleaning\n",
    "\n",
    "In any data science project, the raw data generally needs to be **pre-processed** -- reworked into a format that is cleaner and more understandable.\n",
    "- We've already seen an example of this: not considering datapoints with a -999 or NA value.\n",
    "\n",
    "Pre-processing can involve:\n",
    "- data selection (filter our data down to a subset of rows/columns)\n",
    "- data transformation (convert the raw values to a different scale/type)\n",
    "- other stuff (normalization, imputation, etc.)\n",
    "\n",
    "Let us start with some column operations."
   ]
  },
  {
   "cell_type": "markdown",
   "id": "1c4ac85e",
   "metadata": {
    "slideshow": {
     "slide_type": "slide"
    }
   },
   "source": [
    "### Renaming Columns\n",
    "\n",
    "The list of column names in our dataframe is quite messy and unintuitive. We can change the column names using the `Dataframe.rename()` method.\n",
    "\n",
    "This method requires us to supply an **argument** that maps the current column name(s) to the new, desired column name(s). \n",
    "\n",
    "What do you think the best data type is for specifying such a mapping?"
   ]
  },
  {
   "cell_type": "code",
   "execution_count": null,
   "id": "41261fc9",
   "metadata": {
    "slideshow": {
     "slide_type": "subslide"
    }
   },
   "outputs": [],
   "source": [
    "# A dictionary!\n",
    "\n",
    "old_to_new = {\n",
    "    'MSW05_Genus': 'Genus',\n",
    "    'MSW05_Species': 'Species',\n",
    "    '1-1_ActivityCycle': 'Activity Cycle',\n",
    "    '5-1_AdultBodyMass_g': 'Adult Body Mass (g)',\n",
    "    '2-1_AgeatEyeOpening_d': 'Age at Eye Opening (days)',\n",
    "    '17-1_MaxLongevity_m': 'Max Longevity (months)'\n",
    "}\n",
    "\n",
    "# help(pd.DataFrame.rename)\n"
   ]
  },
  {
   "cell_type": "code",
   "execution_count": null,
   "id": "dc7e9a83",
   "metadata": {
    "slideshow": {
     "slide_type": "subslide"
    }
   },
   "outputs": [],
   "source": [
    "data_renamed = data.rename(columns=old_to_new)"
   ]
  },
  {
   "cell_type": "code",
   "execution_count": null,
   "id": "ff1f5cf3",
   "metadata": {
    "slideshow": {
     "slide_type": "fragment"
    }
   },
   "outputs": [],
   "source": [
    "display(data_renamed)"
   ]
  },
  {
   "cell_type": "code",
   "execution_count": null,
   "id": "6a2330ec",
   "metadata": {
    "slideshow": {
     "slide_type": "subslide"
    }
   },
   "outputs": [],
   "source": [
    "data_renamed.columns"
   ]
  },
  {
   "cell_type": "markdown",
   "id": "1a116f10",
   "metadata": {
    "slideshow": {
     "slide_type": "slide"
    }
   },
   "source": [
    "### Converting column types\n",
    "\n",
    "We can ask Pandas to *automatically choose* the best column types for an existing `DataFrame`.\n",
    "This is done with the `DataFrame.convert_dtypes()` method."
   ]
  },
  {
   "cell_type": "code",
   "execution_count": null,
   "id": "678c889c",
   "metadata": {
    "slideshow": {
     "slide_type": "subslide"
    }
   },
   "outputs": [],
   "source": [
    "data_converted = data_renamed.convert_dtypes()"
   ]
  },
  {
   "cell_type": "code",
   "execution_count": null,
   "id": "7eefa408",
   "metadata": {
    "slideshow": {
     "slide_type": "subslide"
    }
   },
   "outputs": [],
   "source": [
    "data_converted.dtypes"
   ]
  },
  {
   "cell_type": "markdown",
   "id": "0828726a",
   "metadata": {
    "slideshow": {
     "slide_type": "slide"
    }
   },
   "source": [
    "### Replacing values\n",
    "We have seen that missing values are usually indicated by a special value in data files (eg, -999 or \"NA\").\n",
    "\n",
    "In Python (and other languages), a special `null` value is often used to indicate missing data. We will replace all -999 values in the PanTHERIA dataset with this `null` value, specified using the `pd.NA` variable. "
   ]
  },
  {
   "cell_type": "code",
   "execution_count": null,
   "id": "085111d9",
   "metadata": {
    "slideshow": {
     "slide_type": "subslide"
    }
   },
   "outputs": [],
   "source": [
    "print(pd.NA)"
   ]
  },
  {
   "cell_type": "code",
   "execution_count": null,
   "id": "f845ce5e",
   "metadata": {
    "slideshow": {
     "slide_type": "subslide"
    }
   },
   "outputs": [],
   "source": [
    "data_converted"
   ]
  },
  {
   "cell_type": "code",
   "execution_count": null,
   "id": "c7358bd9",
   "metadata": {
    "slideshow": {
     "slide_type": "subslide"
    }
   },
   "outputs": [],
   "source": [
    "data_converted_with_na = data_converted.replace(-999, pd.NA)"
   ]
  },
  {
   "cell_type": "code",
   "execution_count": null,
   "id": "12c510de",
   "metadata": {
    "slideshow": {
     "slide_type": "fragment"
    }
   },
   "outputs": [],
   "source": [
    "data_converted_with_na"
   ]
  },
  {
   "cell_type": "markdown",
   "id": "90fdc989",
   "metadata": {
    "slideshow": {
     "slide_type": "slide"
    }
   },
   "source": [
    "### Selecting Columns\n",
    "We often do not need ALL the information that is in a data file to answer a data science question of interest -- our answer probably depends on a subset of the columns (attributes) or rows (datapoints). \n",
    "\n",
    "We can extract a subset of columns by:\n",
    "- Specifying the **list** of columns that we want to keep\n",
    "- Selecting the subset of columns using the square-bracket `[list, of, columns]` notation\n",
    "\n",
    "(We will see how to select rows later)"
   ]
  },
  {
   "cell_type": "code",
   "execution_count": null,
   "id": "fea3bce4",
   "metadata": {
    "slideshow": {
     "slide_type": "subslide"
    }
   },
   "outputs": [],
   "source": [
    "columns_to_keep = ['Genus', 'Species', 'Adult Body Mass (g)', 'Max Longevity (months)']"
   ]
  },
  {
   "cell_type": "code",
   "execution_count": null,
   "id": "a1bc3938",
   "metadata": {
    "slideshow": {
     "slide_type": "fragment"
    }
   },
   "outputs": [],
   "source": [
    "data_filt_colums = data_converted_with_na[columns_to_keep]"
   ]
  },
  {
   "cell_type": "code",
   "execution_count": null,
   "id": "23161e37",
   "metadata": {
    "slideshow": {
     "slide_type": "subslide"
    }
   },
   "outputs": [],
   "source": [
    "data_filt_colums"
   ]
  },
  {
   "cell_type": "markdown",
   "id": "8d7edf72",
   "metadata": {
    "slideshow": {
     "slide_type": "slide"
    }
   },
   "source": [
    "## Part 3: Column-level Operations\n",
    "\n",
    "So far, we have performed operations on the dataframe as a whole:\n",
    "- Replacing -999 values in all columns and rows with `pd.NA`\n",
    "- Converting all the columns to the recommended `dtype`\n",
    "- Renaming multiple columns\n",
    "\n",
    "A powerful feature of Pandas is that it allows us to perform specific operations on individual columns. For example: \n",
    "- multiplying all the values in a column by 100\n",
    "- adding the values of two columns together\n",
    "- Converting a specific column to a dtype, or replacing values in a single column"
   ]
  },
  {
   "cell_type": "code",
   "execution_count": null,
   "id": "591c6245",
   "metadata": {
    "slideshow": {
     "slide_type": "slide"
    }
   },
   "outputs": [],
   "source": [
    "# Let us first retrive a single column of our dataframe\n",
    "data_filt_colums.columns"
   ]
  },
  {
   "cell_type": "code",
   "execution_count": null,
   "id": "417854e9",
   "metadata": {
    "slideshow": {
     "slide_type": "subslide"
    }
   },
   "outputs": [],
   "source": [
    "mass_info = data_filt_colums['Adult Body Mass (g)']"
   ]
  },
  {
   "cell_type": "code",
   "execution_count": null,
   "id": "9608eb38",
   "metadata": {
    "slideshow": {
     "slide_type": "subslide"
    }
   },
   "outputs": [],
   "source": [
    "display(mass_info)"
   ]
  },
  {
   "cell_type": "code",
   "execution_count": null,
   "id": "aa91c319",
   "metadata": {
    "slideshow": {
     "slide_type": "subslide"
    }
   },
   "outputs": [],
   "source": [
    "# NOTE: NOT THE SAME AS SELECTING COLUMN SUBSETS!\n",
    "type(data_filt_colums[['Adult Body Mass (g)']])"
   ]
  },
  {
   "cell_type": "code",
   "execution_count": null,
   "id": "b904f41d",
   "metadata": {
    "slideshow": {
     "slide_type": "subslide"
    }
   },
   "outputs": [],
   "source": [
    "# What is the data type of this variable?\n",
    "print(type(mass_info))"
   ]
  },
  {
   "cell_type": "markdown",
   "id": "2347f25d",
   "metadata": {
    "slideshow": {
     "slide_type": "slide"
    }
   },
   "source": [
    "### Series\n",
    "\n",
    "A Pandas `Series` represents the data contained in a single column. It is like a `list`, but allows us to apply powerful Pandas methods on it."
   ]
  },
  {
   "cell_type": "code",
   "execution_count": null,
   "id": "507ed100",
   "metadata": {
    "slideshow": {
     "slide_type": "subslide"
    }
   },
   "outputs": [],
   "source": [
    "mass_info.shape #property"
   ]
  },
  {
   "cell_type": "code",
   "execution_count": null,
   "id": "500991b0",
   "metadata": {
    "slideshow": {
     "slide_type": "fragment"
    }
   },
   "outputs": [],
   "source": [
    "mass_info.dtype #property"
   ]
  },
  {
   "cell_type": "code",
   "execution_count": null,
   "id": "54862343",
   "metadata": {
    "slideshow": {
     "slide_type": "fragment"
    }
   },
   "outputs": [],
   "source": [
    "mass_info.name #property"
   ]
  },
  {
   "cell_type": "code",
   "execution_count": null,
   "id": "83e4e819",
   "metadata": {
    "slideshow": {
     "slide_type": "subslide"
    }
   },
   "outputs": [],
   "source": [
    "mass_info.info() #method"
   ]
  },
  {
   "cell_type": "markdown",
   "id": "efa72d35",
   "metadata": {
    "slideshow": {
     "slide_type": "slide"
    }
   },
   "source": [
    "### Some information about the values in a column\n",
    "\n",
    "We can extract several interesting statistics about the values in a column:\n",
    "- `nunique()` will tell us the number of *unique* values\n",
    "- `value_counts()` will give us the number of times each unique value occurs"
   ]
  },
  {
   "cell_type": "code",
   "execution_count": null,
   "id": "1b5de0d5",
   "metadata": {
    "slideshow": {
     "slide_type": "subslide"
    }
   },
   "outputs": [],
   "source": [
    "genus_info = data_filt_colums['Genus']"
   ]
  },
  {
   "cell_type": "code",
   "execution_count": null,
   "id": "d2a086af",
   "metadata": {
    "slideshow": {
     "slide_type": "fragment"
    }
   },
   "outputs": [],
   "source": [
    "genus_info"
   ]
  },
  {
   "cell_type": "code",
   "execution_count": null,
   "id": "23be2896",
   "metadata": {
    "slideshow": {
     "slide_type": "subslide"
    }
   },
   "outputs": [],
   "source": [
    "# how many unique values?\n",
    "n_unique_genus = genus_info.nunique()\n",
    "print(n_unique_genus)"
   ]
  },
  {
   "cell_type": "code",
   "execution_count": null,
   "id": "1fb84fe2",
   "metadata": {
    "slideshow": {
     "slide_type": "subslide"
    }
   },
   "outputs": [],
   "source": [
    "# how many times does each genus appear?\n",
    "genus_value_counts = genus_info.value_counts()\n",
    "genus_value_counts"
   ]
  },
  {
   "cell_type": "code",
   "execution_count": null,
   "id": "8029f543",
   "metadata": {
    "slideshow": {
     "slide_type": "fragment"
    }
   },
   "outputs": [],
   "source": [
    "type(genus_value_counts)"
   ]
  },
  {
   "cell_type": "code",
   "execution_count": null,
   "id": "c27fb1d5",
   "metadata": {
    "slideshow": {
     "slide_type": "fragment"
    }
   },
   "outputs": [],
   "source": [
    "# almost like a dictionary!\n",
    "genus_value_counts['Sorex']"
   ]
  },
  {
   "cell_type": "code",
   "execution_count": null,
   "id": "ba8b47a1",
   "metadata": {
    "slideshow": {
     "slide_type": "subslide"
    }
   },
   "outputs": [],
   "source": [
    "genus_info.unique()"
   ]
  },
  {
   "cell_type": "code",
   "execution_count": null,
   "id": "fdb4dc91",
   "metadata": {
    "slideshow": {
     "slide_type": "fragment"
    }
   },
   "outputs": [],
   "source": [
    "# obtain a list of the unique genus values\n",
    "genus_list = list(genus_info.unique()) #genus_info.unique() is the method\n",
    "print(len(genus_list))\n",
    "print(genus_list[:5])"
   ]
  },
  {
   "cell_type": "markdown",
   "id": "cfb439a9",
   "metadata": {
    "slideshow": {
     "slide_type": "slide"
    }
   },
   "source": [
    "### Numerical Statistics\n",
    "\n",
    "Here are five simple *descriptive statistics* that we can use to describe a collection of numbers:\n",
    "- count (i.e., size; number of elements)\n",
    "- sum\n",
    "- mean (average)\n",
    "- min\n",
    "- max"
   ]
  },
  {
   "cell_type": "code",
   "execution_count": null,
   "id": "82ebbeaf",
   "metadata": {
    "slideshow": {
     "slide_type": "subslide"
    }
   },
   "outputs": [],
   "source": [
    "mass_info"
   ]
  },
  {
   "cell_type": "code",
   "execution_count": null,
   "id": "c8a7e065",
   "metadata": {
    "slideshow": {
     "slide_type": "subslide"
    }
   },
   "outputs": [],
   "source": [
    "mass_info.count()\n",
    "# Non <NA> values only!"
   ]
  },
  {
   "cell_type": "code",
   "execution_count": null,
   "id": "bc9a0e00",
   "metadata": {
    "slideshow": {
     "slide_type": "fragment"
    }
   },
   "outputs": [],
   "source": [
    "print(\"Sum: \", mass_info.sum())\n",
    "print(\"Mean: {}, Minimun: {}, Maximum: {}\".format(mass_info.mean(), mass_info.min(), mass_info.max()))"
   ]
  },
  {
   "cell_type": "code",
   "execution_count": null,
   "id": "4761624c",
   "metadata": {
    "slideshow": {
     "slide_type": "subslide"
    }
   },
   "outputs": [],
   "source": [
    "# all together\n",
    "mass_info.describe()"
   ]
  },
  {
   "cell_type": "markdown",
   "id": "c99d33bc",
   "metadata": {
    "slideshow": {
     "slide_type": "slide"
    }
   },
   "source": [
    "### Data transformation on Series\n",
    "\n",
    "Let us check out how we can apply a data transformation to all the values in a series, using a single command."
   ]
  },
  {
   "cell_type": "code",
   "execution_count": null,
   "id": "cb626aee",
   "metadata": {
    "slideshow": {
     "slide_type": "subslide"
    }
   },
   "outputs": [],
   "source": [
    "# convert the mass values from grams to kilograms (i.e, kilograms = grams/1000)\n",
    "mass_in_kg = mass_info/1000"
   ]
  },
  {
   "cell_type": "code",
   "execution_count": null,
   "id": "0be5942f",
   "metadata": {
    "slideshow": {
     "slide_type": "fragment"
    }
   },
   "outputs": [],
   "source": [
    "mass_in_kg"
   ]
  },
  {
   "cell_type": "code",
   "execution_count": null,
   "id": "0328fc50",
   "metadata": {
    "slideshow": {
     "slide_type": "fragment"
    }
   },
   "outputs": [],
   "source": [
    "type(mass_in_kg)"
   ]
  },
  {
   "cell_type": "code",
   "execution_count": null,
   "id": "5e455015",
   "metadata": {
    "slideshow": {
     "slide_type": "subslide"
    }
   },
   "outputs": [],
   "source": [
    "# apply some rounding...\n",
    "mass_in_kg_rounded = mass_in_kg.round(2)\n",
    "# no need to write for loops!"
   ]
  },
  {
   "cell_type": "code",
   "execution_count": null,
   "id": "8bc7244f",
   "metadata": {
    "slideshow": {
     "slide_type": "fragment"
    }
   },
   "outputs": [],
   "source": [
    "mass_in_kg_rounded"
   ]
  },
  {
   "cell_type": "markdown",
   "id": "0c0d8fdb",
   "metadata": {
    "slideshow": {
     "slide_type": "slide"
    }
   },
   "source": [
    "### Operations involving multiple columns\n",
    "\n",
    "Say we want to compute a value that uses information from two (or multiple) columns. \n",
    "\n",
    "We can do this by storing the values in each column in two `Series` variables, and specifying the operation."
   ]
  },
  {
   "cell_type": "code",
   "execution_count": null,
   "id": "98dbbef8",
   "metadata": {
    "slideshow": {
     "slide_type": "subslide"
    }
   },
   "outputs": [],
   "source": [
    "data_filt_colums"
   ]
  },
  {
   "cell_type": "code",
   "execution_count": null,
   "id": "8d6b6c64",
   "metadata": {
    "slideshow": {
     "slide_type": "subslide"
    }
   },
   "outputs": [],
   "source": [
    "longetivity_info = data_filt_colums['Max Longevity (months)']"
   ]
  },
  {
   "cell_type": "code",
   "execution_count": null,
   "id": "5e176031",
   "metadata": {
    "slideshow": {
     "slide_type": "subslide"
    }
   },
   "outputs": [],
   "source": [
    "mass_info.shape, longetivity_info.shape"
   ]
  },
  {
   "cell_type": "code",
   "execution_count": null,
   "id": "b6373259",
   "metadata": {
    "slideshow": {
     "slide_type": "subslide"
    }
   },
   "outputs": [],
   "source": [
    "long_mass_ratio = longetivity_info / mass_info"
   ]
  },
  {
   "cell_type": "code",
   "execution_count": null,
   "id": "399762eb",
   "metadata": {
    "slideshow": {
     "slide_type": "fragment"
    }
   },
   "outputs": [],
   "source": [
    "long_mass_ratio"
   ]
  },
  {
   "cell_type": "markdown",
   "id": "39ed149b",
   "metadata": {
    "slideshow": {
     "slide_type": "slide"
    }
   },
   "source": [
    "### Adding new columns!"
   ]
  },
  {
   "cell_type": "code",
   "execution_count": null,
   "id": "3b31c4ea",
   "metadata": {
    "slideshow": {
     "slide_type": "subslide"
    }
   },
   "outputs": [],
   "source": [
    "pd.set_option('mode.chained_assignment', None)\n",
    "# don't worry about this"
   ]
  },
  {
   "cell_type": "code",
   "execution_count": null,
   "id": "9cf05126",
   "metadata": {
    "slideshow": {
     "slide_type": "fragment"
    }
   },
   "outputs": [],
   "source": [
    "data_filt_colums['Longetivity-to-mass-ratio'] = long_mass_ratio\n",
    "# This modifies the dataframe!"
   ]
  },
  {
   "cell_type": "code",
   "execution_count": null,
   "id": "47f864b3",
   "metadata": {
    "slideshow": {
     "slide_type": "subslide"
    }
   },
   "outputs": [],
   "source": [
    "data_filt_colums\n",
    "# note how the NA values are handled."
   ]
  },
  {
   "cell_type": "markdown",
   "id": "12d94cdc",
   "metadata": {
    "slideshow": {
     "slide_type": "slide"
    }
   },
   "source": [
    "## Part 4: Row operations\n",
    "\n",
    "We have seen how to name, select, and access columns.\n",
    "\n",
    "Another type of data selection is too choose only a subset of the rows.\n",
    "\n",
    "There are three main ways of selecting rows:\n",
    "- By name (`DataFrame.loc`)\n",
    "- By position (`DataFrame.iloc`)\n",
    "- With a Boolean filter (`DataFrame[Bool-Series]`)"
   ]
  },
  {
   "cell_type": "code",
   "execution_count": null,
   "id": "1381aac4",
   "metadata": {
    "slideshow": {
     "slide_type": "subslide"
    }
   },
   "outputs": [],
   "source": [
    "# rows are also indexed by names -- these are the bold values at the start of each row.\n",
    "data_filt_colums.head()"
   ]
  },
  {
   "cell_type": "markdown",
   "id": "40c363dd",
   "metadata": {
    "slideshow": {
     "slide_type": "slide"
    }
   },
   "source": [
    "By default, Pandas indexes rows with a numerical ordering starting from 0.\n",
    "\n",
    "(We can also specify our own names, but we will not cover that right now.)"
   ]
  },
  {
   "cell_type": "code",
   "execution_count": null,
   "id": "a47129a3",
   "metadata": {
    "slideshow": {
     "slide_type": "subslide"
    }
   },
   "outputs": [],
   "source": [
    "# extract the row with name 0\n",
    "row_name_zero = data_filt_colums.loc[0]"
   ]
  },
  {
   "cell_type": "code",
   "execution_count": null,
   "id": "20049680",
   "metadata": {
    "slideshow": {
     "slide_type": "fragment"
    }
   },
   "outputs": [],
   "source": [
    "row_name_zero"
   ]
  },
  {
   "cell_type": "code",
   "execution_count": null,
   "id": "abe08ab3",
   "metadata": {
    "slideshow": {
     "slide_type": "slide"
    }
   },
   "outputs": [],
   "source": [
    "# what is the type?\n",
    "type(row_name_zero)\n",
    "\n",
    "# it is a series with the columns as names, and the attributes as values"
   ]
  },
  {
   "cell_type": "code",
   "execution_count": null,
   "id": "ea6577f3",
   "metadata": {
    "slideshow": {
     "slide_type": "subslide"
    }
   },
   "outputs": [],
   "source": [
    "row_name_zero['Genus']"
   ]
  },
  {
   "cell_type": "code",
   "execution_count": null,
   "id": "14bfbe83",
   "metadata": {
    "slideshow": {
     "slide_type": "slide"
    }
   },
   "outputs": [],
   "source": [
    "# we can specify a list of row names to extract a subset of the dataframe\n",
    "row_names_to_extract = [0, 2, 4, 6, 8]\n",
    "subset_of_data = data_filt_colums.loc[row_names_to_extract]\n",
    "display(subset_of_data)"
   ]
  },
  {
   "cell_type": "code",
   "execution_count": null,
   "id": "e9855177",
   "metadata": {
    "slideshow": {
     "slide_type": "slide"
    }
   },
   "outputs": [],
   "source": [
    "# If we want to specify the position, rather than name, we use iloc\n",
    "# get the first row\n",
    "data_filt_colums.iloc[0]\n"
   ]
  },
  {
   "cell_type": "code",
   "execution_count": null,
   "id": "ddd7e853",
   "metadata": {
    "slideshow": {
     "slide_type": "subslide"
    }
   },
   "outputs": [],
   "source": [
    "# get the first and tenth row\n",
    "data_filt_colums.iloc[[0, 9]]"
   ]
  },
  {
   "cell_type": "code",
   "execution_count": null,
   "id": "56abe04d",
   "metadata": {
    "slideshow": {
     "slide_type": "subslide"
    }
   },
   "outputs": [],
   "source": [
    "# this is useful when the row name and the row position do not always match\n",
    "display(subset_of_data.loc[4])\n",
    "display(subset_of_data.iloc[4])"
   ]
  },
  {
   "cell_type": "markdown",
   "id": "d7e4c922",
   "metadata": {
    "slideshow": {
     "slide_type": "slide"
    }
   },
   "source": [
    "## Boolean Filtering\n",
    "\n",
    "The most common scenario when filtering rows is when we want to select datapoints **based on some conditions**. \n",
    "\n",
    "These conditions are constraints that are placed on the values in one or more columns."
   ]
  },
  {
   "cell_type": "code",
   "execution_count": null,
   "id": "dca1f21c",
   "metadata": {
    "slideshow": {
     "slide_type": "subslide"
    }
   },
   "outputs": [],
   "source": [
    "# remind ourself of the data\n",
    "data_filt_colums"
   ]
  },
  {
   "cell_type": "markdown",
   "id": "2e4932cd",
   "metadata": {
    "slideshow": {
     "slide_type": "slide"
    }
   },
   "source": [
    "Say we want to impose the following condition: keep only those rows (species) with Body Mass > 100kg (100 * 1000 grams).\n",
    "\n",
    "We can do this in two steps:\n",
    "- Create a *boolean `Series`* that stores `True` for the rows we want to keep, and `False` for the other rows.\n",
    "- Use this `Series` to index `species_data_final` by using square bracket notation."
   ]
  },
  {
   "cell_type": "code",
   "execution_count": null,
   "id": "bd44728f",
   "metadata": {
    "slideshow": {
     "slide_type": "subslide"
    }
   },
   "outputs": [],
   "source": [
    "# Step 1\n",
    "is_large = data_filt_colums['Adult Body Mass (g)'] >= 100000\n",
    "display(is_large)"
   ]
  },
  {
   "cell_type": "code",
   "execution_count": null,
   "id": "bc909116",
   "metadata": {
    "slideshow": {
     "slide_type": "subslide"
    }
   },
   "outputs": [],
   "source": [
    "# Step 2\n",
    "data_filt_colums[is_large]"
   ]
  },
  {
   "cell_type": "markdown",
   "id": "403dfbd6",
   "metadata": {
    "slideshow": {
     "slide_type": "slide"
    }
   },
   "source": [
    "### Note: lots of square brackets!\n",
    "\n",
    "One of the tricky things about `DataFrame`s is that there are different ways of obtaining subsets of the dataset that all have very similar code syntax:\n",
    "\n",
    "```python\n",
    "data_filt_colums[...]\n",
    "```\n",
    "\n",
    "The key principle is that **the type of the value inside the square brackets determines what kind of \"subsetting\" operation is being performed**."
   ]
  },
  {
   "cell_type": "markdown",
   "id": "49ddcb27",
   "metadata": {
    "slideshow": {
     "slide_type": "slide"
    }
   },
   "source": [
    "| Type inside `[...]` | Example                    | Filtering On | Return type   | Which columns?  | Which rows? |\n",
    "|---------------------|----------------------------|---------------|--------|-----------|-------|\n",
    "| `str`               | `data_filt_colums[\"Adult Body Mass (g)\"]` | Columns | `Series` | The one specified | All rows |\n",
    "| `list` of `str`     | `data_filt_colums[[\"Genus\", \"Species\"]]` | Columns | `DataFrame` | The ones specified | All rows |\n",
    "| `Series` of `bool`  | `data_filt_colums[is_large]` | Rows | `DataFrame` | All columns | The ones specified |"
   ]
  },
  {
   "cell_type": "markdown",
   "id": "68697ead",
   "metadata": {
    "slideshow": {
     "slide_type": "slide"
    }
   },
   "source": [
    "### Logical operators: `&` and `|`\n",
    "\n",
    "Sometimes we want to filter on two conditions.\n",
    "To start, suppose we have these two boolean `Series`:"
   ]
  },
  {
   "cell_type": "code",
   "execution_count": null,
   "id": "c9e0347c",
   "metadata": {
    "slideshow": {
     "slide_type": "subslide"
    }
   },
   "outputs": [],
   "source": [
    "is_large = data_filt_colums[\"Adult Body Mass (g)\"] >= 100000\n",
    "is_long_lived = data_filt_colums[\"Max Longevity (months)\"] >= 240"
   ]
  },
  {
   "cell_type": "code",
   "execution_count": null,
   "id": "0af30d4d",
   "metadata": {
    "slideshow": {
     "slide_type": "subslide"
    }
   },
   "outputs": [],
   "source": [
    "is_large"
   ]
  },
  {
   "cell_type": "code",
   "execution_count": null,
   "id": "9346f8c3",
   "metadata": {
    "slideshow": {
     "slide_type": "fragment"
    }
   },
   "outputs": [],
   "source": [
    "is_long_lived"
   ]
  },
  {
   "cell_type": "markdown",
   "id": "1507ce21",
   "metadata": {
    "slideshow": {
     "slide_type": "slide"
    }
   },
   "source": [
    "There are two common ways to filter based on a combination of these two conditions.\n",
    "\n",
    "**Filter 1**: find rows where the species is large **and** is long-lived.\n",
    "To do this, we use the `&` operator to combine the two `Series`.\n",
    "\n",
    "**Filter 2**: find rows where the species is large **or** is long-lived.\n",
    "To do this, we use the `|` operator to combine the two `Series`."
   ]
  },
  {
   "cell_type": "code",
   "execution_count": null,
   "id": "183e6e95",
   "metadata": {
    "slideshow": {
     "slide_type": "subslide"
    }
   },
   "outputs": [],
   "source": [
    "filter1 = is_large & is_long_lived\n",
    "filter2 = is_large | is_long_lived"
   ]
  },
  {
   "cell_type": "code",
   "execution_count": null,
   "id": "2018d5e2",
   "metadata": {
    "slideshow": {
     "slide_type": "subslide"
    }
   },
   "outputs": [],
   "source": [
    "display(filter1)"
   ]
  },
  {
   "cell_type": "code",
   "execution_count": null,
   "id": "5d840f01",
   "metadata": {
    "slideshow": {
     "slide_type": "fragment"
    }
   },
   "outputs": [],
   "source": [
    "display(filter2)"
   ]
  },
  {
   "cell_type": "code",
   "execution_count": null,
   "id": "44399f8b",
   "metadata": {
    "slideshow": {
     "slide_type": "subslide"
    }
   },
   "outputs": [],
   "source": [
    "data_filt_colums[filter1]"
   ]
  },
  {
   "cell_type": "code",
   "execution_count": null,
   "id": "ff4ea67b",
   "metadata": {
    "slideshow": {
     "slide_type": "fragment"
    }
   },
   "outputs": [],
   "source": [
    "data_filt_colums[filter2]"
   ]
  },
  {
   "cell_type": "markdown",
   "id": "c7677bad",
   "metadata": {
    "slideshow": {
     "slide_type": "slide"
    }
   },
   "source": [
    "## Further Reading\n",
    "\n",
    "`pandas` is the most complex part of Python we've studied so far in this course, and so we expect you'll need to review and practice more as we dive deeper into this library.\n",
    "\n",
    "The official Pandas website has some great introductory materials, including:\n",
    "\n",
    "- [10 minutes to pandas](https://pandas.pydata.org/docs/user_guide/10min.html)\n",
    "- [*Getting Started* tutorials](https://pandas.pydata.org/docs/getting_started/intro_tutorials/index.html)\n"
   ]
  }
 ],
 "metadata": {
  "celltoolbar": "Slideshow",
  "kernelspec": {
   "display_name": "Python 3",
   "language": "python",
   "name": "python3"
  },
  "language_info": {
   "codemirror_mode": {
    "name": "ipython",
    "version": 3
   },
   "file_extension": ".py",
   "mimetype": "text/x-python",
   "name": "python",
   "nbconvert_exporter": "python",
   "pygments_lexer": "ipython3",
   "version": "3.10.9"
  }
 },
 "nbformat": 4,
 "nbformat_minor": 5
}
