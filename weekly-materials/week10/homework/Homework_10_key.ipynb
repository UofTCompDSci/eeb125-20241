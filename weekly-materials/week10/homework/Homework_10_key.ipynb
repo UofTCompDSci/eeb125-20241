{
 "cells": [
  {
   "cell_type": "markdown",
   "id": "d859b1b9",
   "metadata": {},
   "source": [
    "# Homework 10: Bootstrap\n",
    "\n",
    "## Logistics\n",
    "\n",
    "**Due date**: The homework is due 17:00 (5:00pm) on Tuesday, March 26.\n",
    "\n",
    "You will submit your work on [MarkUs](https://markus-ds.teach.cs.toronto.edu).\n",
    "To submit your work:\n",
    "\n",
    "1. Download this file (`Homework_10.ipynb`) from JupyterHub. (See [our JupyterHub Guide](../../../guides/jupyterhub_guide.ipynb) for detailed instructions.)\n",
    "2. Submit this file to MarkUs under the **hw10** assignment. (See [our MarkUs Guide](../../../guides/markus_guide.ipynb) for detailed instructions.)"
   ]
  },
  {
   "cell_type": "markdown",
   "id": "75945b5c",
   "metadata": {},
   "source": [
    "## Introduction\n",
    "\n",
    "For this week's homework, we will look at the median percentage of coral coverage over all of the quadrats sampled in the `LTER` data. We will analyze data coming from six sites within a coral reef French Polinesia, from 2005 to 2022. Throughout these sites, with a quadrat sampling design along transects, percentage cover of corals, macroalgae, microalgae and sand were estimated across different depths and temperatures.\n",
    "\n",
    "## Question\n",
    "\n",
    "_General Question: What is the distribution of the percentage of coral coverage in each of the quadrats? Can we provide an range that does a good job of estimating the median of the percentage of coral coverage?_\n"
   ]
  },
  {
   "cell_type": "markdown",
   "id": "40c57462",
   "metadata": {},
   "source": [
    "## Instructions and Learning Objectives\n",
    "\n",
    "You will be creating and submitting a data story answering a data science question. \n",
    "\n",
    "In this homework, you will:\n",
    "* Create a data story in a notebook exploring the question.\n",
    "* Work with the Moorea Coral reef Long-term ecological research dataset to investigate changes in biodiversity as temperature changes.\n",
    "* Visualize and analyze the distribution of the percentage of coral coverage\n",
    "* Create a 95% confidence interval for the median percentage of coral coverage."
   ]
  },
  {
   "cell_type": "markdown",
   "id": "c382dae7",
   "metadata": {},
   "source": [
    "## Setup\n",
    "\n",
    "First import `numpy`, `pandas`, and `matplotlib` by running the cell below."
   ]
  },
  {
   "cell_type": "code",
   "execution_count": 3,
   "id": "a4e2f853",
   "metadata": {},
   "outputs": [],
   "source": [
    "import numpy as np\n",
    "import pandas as pd\n",
    "import matplotlib.pyplot as plt"
   ]
  },
  {
   "cell_type": "markdown",
   "id": "f3cbeef3",
   "metadata": {},
   "source": [
    "Then fill in your student number to use as a random seed."
   ]
  },
  {
   "cell_type": "code",
   "execution_count": 1,
   "id": "bd202483",
   "metadata": {},
   "outputs": [],
   "source": [
    "# Please fill in this cell with your student number (as an int)\n",
    "\n",
    "student_number = 1000000\n",
    "\n",
    "assert type(student_number) == int, \"Did you fill in the student_number variable correctly?\""
   ]
  },
  {
   "cell_type": "markdown",
   "id": "604f7eb7",
   "metadata": {},
   "source": [
    "## Data section\n",
    "\n",
    "The this part of your notebook should read the raw data, extract a `DataFrame` containing the important columns, rename the columns, and filter out missing values.\n",
    "\n",
    "You might find it helpful to name intermediate values in your algorithms - e.g., `corals_data.head()`, `corals_clean.head()`. That way you can examine them to make sure they have the type you expect and that they look like what you expect. Very helpful when debugging!\n",
    "\n",
    "Create the following pandas `DataFrame`s:\n",
    "\n",
    "+ `corals_data`: the `DataFrame` created by reading in the `LTER_data.csv` file.\n",
    "\n",
    "+ `corals_clean`: the `DataFrame` with column names converted to 'snake case' format using `<columns>.str.lower()`, `<columns>.str.replace()`, and `<columns>.str.strip()`. [Snake cases](https://en.wikipedia.org/wiki/Snake_case) uses fully lowercase letters and underscores instead of spaces. It is the [recommended naming convention](https://peps.python.org/pep-0008/#function-and-variable-names) for Python.  For example, if we have the column name: \"Tomo is a Great prof  \", the snake case equivalent would be 'tomo_is_a_great_prof'. Furthermore, we will replace the following symbols to the corresponding symbols/text:symbols/text: \n",
    "    * \" \" with \"_\",\n",
    "    * \"%\" to \"percent\"\n",
    "    * \"metres\" to \"m\"\n",
    "    * \"celsius\" to \"c\"\n",
    "    * \"temperature\" to \"temp\"\n",
    "\n",
    "    Check that your column names are correct using `print(list(corals_clean.columns))`.\n",
    "    \n",
    "+ `corals_select_data`: the `DataFrame` with the only following columns selected:\n",
    "    + `site`\n",
    "    + `year`\n",
    "    + `corals_percent`\n",
    "\n",
    "    These columns will be relevant to this week's anlaysis."
   ]
  },
  {
   "cell_type": "code",
   "execution_count": 4,
   "id": "7500713d",
   "metadata": {},
   "outputs": [
    {
     "name": "stdout",
     "output_type": "stream",
     "text": [
      "['site', 'quadrat', 'year', 'depth_m', 'temp_c', 'sand_percent', 'macroalgae_percent', 'microalgae_percent', 'corals_percent']\n"
     ]
    },
    {
     "data": {
      "text/html": [
       "<div>\n",
       "<style scoped>\n",
       "    .dataframe tbody tr th:only-of-type {\n",
       "        vertical-align: middle;\n",
       "    }\n",
       "\n",
       "    .dataframe tbody tr th {\n",
       "        vertical-align: top;\n",
       "    }\n",
       "\n",
       "    .dataframe thead th {\n",
       "        text-align: right;\n",
       "    }\n",
       "</style>\n",
       "<table border=\"1\" class=\"dataframe\">\n",
       "  <thead>\n",
       "    <tr style=\"text-align: right;\">\n",
       "      <th></th>\n",
       "      <th>site</th>\n",
       "      <th>year</th>\n",
       "      <th>corals_percent</th>\n",
       "    </tr>\n",
       "  </thead>\n",
       "  <tbody>\n",
       "    <tr>\n",
       "      <th>0</th>\n",
       "      <td>LTER01</td>\n",
       "      <td>2005</td>\n",
       "      <td>77.5</td>\n",
       "    </tr>\n",
       "    <tr>\n",
       "      <th>1</th>\n",
       "      <td>LTER02</td>\n",
       "      <td>2005</td>\n",
       "      <td>97.4</td>\n",
       "    </tr>\n",
       "    <tr>\n",
       "      <th>2</th>\n",
       "      <td>LTER03</td>\n",
       "      <td>2005</td>\n",
       "      <td>33.2</td>\n",
       "    </tr>\n",
       "    <tr>\n",
       "      <th>3</th>\n",
       "      <td>LTER04</td>\n",
       "      <td>2005</td>\n",
       "      <td>21.5</td>\n",
       "    </tr>\n",
       "    <tr>\n",
       "      <th>4</th>\n",
       "      <td>LTER05</td>\n",
       "      <td>2005</td>\n",
       "      <td>95.8</td>\n",
       "    </tr>\n",
       "  </tbody>\n",
       "</table>\n",
       "</div>"
      ],
      "text/plain": [
       "     site  year  corals_percent\n",
       "0  LTER01  2005            77.5\n",
       "1  LTER02  2005            97.4\n",
       "2  LTER03  2005            33.2\n",
       "3  LTER04  2005            21.5\n",
       "4  LTER05  2005            95.8"
      ]
     },
     "execution_count": 4,
     "metadata": {},
     "output_type": "execute_result"
    }
   ],
   "source": [
    "# SOLUTION\n",
    "corals_data = pd.read_csv(\"LTER_data.csv\")\n",
    "\n",
    "corals_clean = corals_data.copy()\n",
    "\n",
    "\n",
    "co_columns = corals_clean.columns\n",
    "\n",
    "co_columns_clean = co_columns.str.lower().str.replace(\n",
    "    \" \", \"_\").str.replace(\n",
    "    \"%\", \"percent\").str.replace(\n",
    "    \"metres\", \"m\").str.replace(\n",
    "    \"celsius\", \"c\").str.replace(\n",
    "    \"temperature\", \"temp\").str.strip(\"_\")\n",
    "\n",
    "corals_clean.columns = co_columns_clean\n",
    "\n",
    "print(list(corals_clean.columns))\n",
    "\n",
    "corals_select_data = corals_clean[[\"site\",\n",
    "                                   \"year\",\n",
    "                                   \"corals_percent\"]]\n",
    "\n",
    "corals_select_data.head()"
   ]
  },
  {
   "cell_type": "markdown",
   "id": "57d5db3d",
   "metadata": {},
   "source": [
    "## Exploring the data"
   ]
  },
  {
   "cell_type": "markdown",
   "id": "791788c8",
   "metadata": {},
   "source": [
    "Create a histogram of the percentage of coral coverage. You do not need to store the result in a variable."
   ]
  },
  {
   "cell_type": "code",
   "execution_count": 5,
   "id": "b51cba2b",
   "metadata": {},
   "outputs": [
    {
     "data": {
      "image/png": "[encoded data removed]",
      "text/plain": [
       "<Figure size 640x480 with 1 Axes>"
      ]
     },
     "metadata": {},
     "output_type": "display_data"
    }
   ],
   "source": [
    "corals_select_data[\"corals_percent\"].plot.hist(color=\"coral\", edgecolor=\"white\");"
   ]
  },
  {
   "cell_type": "markdown",
   "id": "fdb9c5f0",
   "metadata": {},
   "source": [
    "Comment on the shape of the histogram and the distribution of the coral percentage. What is a better representation of the centre of the data, the mean or the median? Why? **(2 marks)**"
   ]
  },
  {
   "cell_type": "markdown",
   "id": "7d7f14eb",
   "metadata": {},
   "source": [
    "> **Sample answer**\n",
    "> \n",
    "> The percentage of the coral coverage is right-skewed, unimodal, and has a range of 0 to 100%. There is a peak between 0 and 10.\n",
    ">\n",
    "> Since percentage of the coral coverage is skewed, the median would be a better representation of the center of the data.\n",
    "> "
   ]
  },
  {
   "cell_type": "markdown",
   "id": "02ff7448",
   "metadata": {},
   "source": [
    "Compute the the median percentage of the coral coverage, and store the result in a variable called `median_coverage`. Then compute the mean percentage of coral coverage, and store the result in a variable called `mean_coverage`."
   ]
  },
  {
   "cell_type": "code",
   "execution_count": 6,
   "id": "db91b7f8",
   "metadata": {},
   "outputs": [
    {
     "name": "stdout",
     "output_type": "stream",
     "text": [
      "12.5\n",
      "20.459058524173027\n"
     ]
    }
   ],
   "source": [
    "median_coverage = corals_select_data[\"corals_percent\"].median()\n",
    "mean_coverage = corals_select_data[\"corals_percent\"].mean()\n",
    "\n",
    "print(median_coverage)\n",
    "print(mean_coverage)"
   ]
  },
  {
   "cell_type": "markdown",
   "id": "f2984b1f",
   "metadata": {},
   "source": [
    "## Method: Bootstrap Confidence Interval\n",
    "\n",
    "Here we will run a bootstrap to estimate resampling technique by:\n",
    "+ creating a resampling function that calculates the median of a resample\n",
    "+ running the resampling function multiple times and having multiple resample medians\n",
    "+ getting the 2.5% and 97.5% percentiles of all of our resample medians to get a 95% confidence interval.\n"
   ]
  },
  {
   "cell_type": "markdown",
   "id": "e35e6b00",
   "metadata": {},
   "source": [
    "Create a function called `one_bootstrap_med()` which will take one argument `data` (a `DataFrame`), resample the `corals_percent` column of `data`, and calculate and return the median of the new sample."
   ]
  },
  {
   "cell_type": "code",
   "execution_count": 7,
   "id": "0f184bd0",
   "metadata": {},
   "outputs": [],
   "source": [
    "## SOLUTION\n",
    "def one_bootstrap_med(data):\n",
    "    boot_med = data[\"corals_percent\"].sample(\n",
    "        frac=1, replace=True).median()\n",
    "    return boot_med"
   ]
  },
  {
   "cell_type": "markdown",
   "id": "ffff5eae",
   "metadata": {},
   "source": [
    "Now compute 10,000 bootstrap medians by writing a for loop. Use your student number as a seed prior to running the bootstrap. Save the medians as a list in a variable called `bootstrap_medians`."
   ]
  },
  {
   "cell_type": "code",
   "execution_count": 8,
   "id": "6d7c003f",
   "metadata": {},
   "outputs": [],
   "source": [
    "# The following line of code uses your student number to set a random seed.\n",
    "# This ensures that every time you run this cell, you'll get the same result.\n",
    "# Do not modify this line of code!\n",
    "np.random.seed(student_number)\n",
    "\n",
    "# SOLUTION\n",
    "\n",
    "bootstrap_medians = []  # empty list to collect medians\n",
    "\n",
    "for _ in range(10000):\n",
    "    bootstrap_medians.append(one_bootstrap_med(corals_select_data))"
   ]
  },
  {
   "cell_type": "markdown",
   "id": "7aed8361",
   "metadata": {},
   "source": [
    "Create a histogram of the 10,000 bootstrap median coral coverage percentages. You do not need to store the result in a variable."
   ]
  },
  {
   "cell_type": "code",
   "execution_count": 9,
   "id": "a08bba7f",
   "metadata": {},
   "outputs": [
    {
     "data": {
      "image/png": "[encoded data removed]",
      "text/plain": [
       "<Figure size 640x480 with 1 Axes>"
      ]
     },
     "metadata": {},
     "output_type": "display_data"
    }
   ],
   "source": [
    "## SOLUTION\n",
    "plt.hist(bootstrap_medians, color=\"coral\", edgecolor=\"black\");"
   ]
  },
  {
   "cell_type": "markdown",
   "id": "74eaf80f",
   "metadata": {},
   "source": [
    "Calculate the lower bound and upper bound of the 95% confidence intervals for the median percentage of coral coverage in a given quadrat. Save these values as `lower_bound` and `upper_bound`, respectively."
   ]
  },
  {
   "cell_type": "code",
   "execution_count": 10,
   "id": "da29538e",
   "metadata": {},
   "outputs": [],
   "source": [
    "## Solution Lower bound \n",
    "lower_bound = np.percentile(bootstrap_medians, 2.5)"
   ]
  },
  {
   "cell_type": "code",
   "execution_count": 11,
   "id": "1623ef7d",
   "metadata": {},
   "outputs": [],
   "source": [
    "## Solution Upper bound\n",
    "upper_bound = np.percentile(bootstrap_medians, 97.5)"
   ]
  },
  {
   "cell_type": "code",
   "execution_count": 12,
   "id": "94989807",
   "metadata": {},
   "outputs": [
    {
     "name": "stdout",
     "output_type": "stream",
     "text": [
      "12.0\n",
      "13.1\n"
     ]
    }
   ],
   "source": [
    "# Check the computed values\n",
    "print(lower_bound)\n",
    "print(upper_bound)"
   ]
  },
  {
   "cell_type": "markdown",
   "id": "3c8c63d0",
   "metadata": {},
   "source": [
    "## Conclusion\n",
    "\n",
    "Provide a 1-2 sentence explanation of what the 95% confidence interval represents. __(1 mark)__\n"
   ]
  },
  {
   "cell_type": "markdown",
   "id": "6e9426d2",
   "metadata": {},
   "source": [
    "> **Sample Solution**\n",
    "> \n",
    "> We are 95% confident that the median coral percentage of all quadrats is between 12% and 13.1%."
   ]
  }
 ],
 "metadata": {
  "kernelspec": {
   "display_name": "Python 3 (ipykernel)",
   "language": "python",
   "name": "python3"
  },
  "language_info": {
   "codemirror_mode": {
    "name": "ipython",
    "version": 3
   },
   "file_extension": ".py",
   "mimetype": "text/x-python",
   "name": "python",
   "nbconvert_exporter": "python",
   "pygments_lexer": "ipython3",
   "version": "3.10.12"
  },
  "markus": {
   "assessment_id": 215,
   "course_id": 10,
   "url": "https://markus-ds.teach.cs.toronto.edu"
  }
 },
 "nbformat": 4,
 "nbformat_minor": 5
}
