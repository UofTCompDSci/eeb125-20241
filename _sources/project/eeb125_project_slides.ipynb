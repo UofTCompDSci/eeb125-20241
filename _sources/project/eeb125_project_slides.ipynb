{
 "cells": [
  {
   "cell_type": "markdown",
   "id": "458fc119",
   "metadata": {
    "slideshow": {
     "slide_type": "slide"
    }
   },
   "source": [
    "# Title of your group project (the title should reflect the question that you are answering)\n",
    "\n",
    "## Team members:  A. Pandas, B. Python, C. Health, D. Datasci  \n",
    "\n",
    "### Tutorial: TUTXXXX\n",
    "\n",
    "### Group number: XX\n"
   ]
  },
  {
   "cell_type": "markdown",
   "id": "a85d5a53",
   "metadata": {
    "slideshow": {
     "slide_type": "slide"
    }
   },
   "source": [
    "## Introduction\n",
    "\n",
    "- briefly states the topic you chose and how will you approach this topic\n",
    "- provides background information needed to understand your poster\n",
    "- briefly presents the statistical approach used and maybe even one or two key figure/tables to summarize the relevant data"
   ]
  },
  {
   "cell_type": "markdown",
   "id": "ea18d936",
   "metadata": {
    "slideshow": {
     "slide_type": "slide"
    }
   },
   "source": [
    "## Methods\n",
    "\n",
    "- mentions specific variables in dataset used or any data wrangling performed\n",
    "- completely and accurately describes the methods used, in paragraph form with functions and symbols in bold\n",
    "- provides enough information to allow someone to replicate your work but excludes needless detail"
   ]
  },
  {
   "cell_type": "markdown",
   "id": "de283622",
   "metadata": {
    "slideshow": {
     "slide_type": "slide"
    }
   },
   "source": [
    "## Results\n",
    "\n",
    "- presents the main findings\n",
    "- includes figures, tables, graphs if they enhance clarity of presentation of information\n",
    "- refers to the relevant self‐explanatory figures, tables, graphs in the text (e.g., See Figure 1)\n",
    "- has captions above tables but below figures and graphs (so they are self-contained)\n",
    "- does not interpret the data or draw conclusions"
   ]
  },
  {
   "cell_type": "markdown",
   "id": "08a66fc7",
   "metadata": {
    "slideshow": {
     "slide_type": "slide"
    }
   },
   "source": [
    "## Conclusion\n",
    "\n",
    "- briefly restates the problem you are addressing and then states the main results (in complete sentences)\n",
    "- interprets the results and summarizes how the results address the problem\n",
    "- identifies any errors found\n",
    "- discusses any challenges faced, and strengths and limitations of the project\n",
    "- offers suggestions for improvement of the project (if any)"
   ]
  },
  {
   "cell_type": "markdown",
   "id": "6a4f47c6",
   "metadata": {},
   "source": [
    "## Some Useful Information on creating Markdown Cells and a Slideshow\n",
    "\n",
    "<mark> **Don't include this cell as part of your presentation** </mark>\n",
    "\n",
    "### Markdown cells\n",
    "\n",
    "More information about Markdown Cells in Jupyter notebooks can be found [here](https://jupyter-notebook.readthedocs.io/en/stable/examples/Notebook/Working%20With%20Markdown%20Cells.html).\n",
    "\n",
    "### RISE\n",
    "\n",
    "More information about RISE can be found [here](https://rise.readthedocs.io/en/stable/).  \n",
    "\n",
    "A few basics to create a *basic* slideshow:\n",
    "\n",
    "- To change a Jupyter notebook cell's Slide Type select Slideshow from the menu: View > Cell Toolbar > Slideshow\n",
    "\n",
    "![](rise1.png)\n",
    "\n",
    "- Choose Slide Type as Slide \n",
    "\n",
    "![](rise2.png)\n",
    "\n",
    "- Click on the RISE icon in the toolbar to run the slideshow.\n",
    "\n",
    "![](rise3.png)"
   ]
  }
 ],
 "metadata": {
  "celltoolbar": "Slideshow",
  "kernelspec": {
   "display_name": "Python 3",
   "language": "python",
   "name": "python3"
  },
  "language_info": {
   "codemirror_mode": {
    "name": "ipython",
    "version": 3
   },
   "file_extension": ".py",
   "mimetype": "text/x-python",
   "name": "python",
   "nbconvert_exporter": "python",
   "pygments_lexer": "ipython3",
   "version": "3.10.9"
  },
  "vscode": {
   "interpreter": {
    "hash": "8b8edaa195e148f815789564e9a10f57d8b792ac9e1a5daafce5fbae42bebd0e"
   }
  }
 },
 "nbformat": 4,
 "nbformat_minor": 5
}
