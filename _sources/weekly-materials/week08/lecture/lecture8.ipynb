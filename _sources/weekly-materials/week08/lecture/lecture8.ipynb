{
 "cells": [
  {
   "cell_type": "markdown",
   "id": "00092d58",
   "metadata": {
    "slideshow": {
     "slide_type": "slide"
    }
   },
   "source": [
    "## Week 8: Merging, Grouping, Plotting\n",
    "\n",
    "### March 06, 2024\n",
    "\n",
    "### Krishnapriya Vishnubhotla"
   ]
  },
  {
   "cell_type": "markdown",
   "id": "ee5efa6e",
   "metadata": {
    "slideshow": {
     "slide_type": "slide"
    }
   },
   "source": [
    "### Recap\n",
    "\n",
    "Last week, we learnt about the `pandas` library, and how to use it to:\n",
    "- Load CSV files\n",
    "    - DataFrame.shape\n",
    "    - DataFrame.head(), DataFrame.tail()\n",
    "- Clean the data\n",
    "    - Rename columns (with DataFrame.rename)\n",
    "    - Convert columns to the correct data types (DataFrame.convert_dtypes())\n",
    "    - Replace missing values (with pd.NA)\n",
    "    - Filter subsets (both columns and rows)\n",
    "        - Boolean Filtering"
   ]
  },
  {
   "cell_type": "markdown",
   "id": "7b44bb94",
   "metadata": {
    "slideshow": {
     "slide_type": "subslide"
    }
   },
   "source": [
    "- Transform the data\n",
    "    - Operations on a single numerical column (multiply, round on a Series object)\n",
    "    - Operations with multiple columns (add, multiply)\n",
    "- Summarize the data\n",
    "    - DataFrame.describe(), Series.describe()\n",
    "    - Series.sum(), Series.mean()\n",
    "    - Series.unique(), Series.nunique(), Series.value_counts()"
   ]
  },
  {
   "cell_type": "markdown",
   "id": "e35f1032",
   "metadata": {
    "slideshow": {
     "slide_type": "slide"
    }
   },
   "source": [
    "### Read our data file\n",
    "\n",
    "We will continue working with the `PanTHERIA` dataset from last lecture"
   ]
  },
  {
   "cell_type": "code",
   "execution_count": 1,
   "id": "1a87c656",
   "metadata": {
    "slideshow": {
     "slide_type": "subslide"
    }
   },
   "outputs": [],
   "source": [
    "# import the library\n",
    "import pandas as pd"
   ]
  },
  {
   "cell_type": "code",
   "execution_count": 2,
   "id": "c5d6abb3",
   "metadata": {
    "slideshow": {
     "slide_type": "fragment"
    }
   },
   "outputs": [
    {
     "data": {
      "text/html": [
       "<div>\n",
       "<style scoped>\n",
       "    .dataframe tbody tr th:only-of-type {\n",
       "        vertical-align: middle;\n",
       "    }\n",
       "\n",
       "    .dataframe tbody tr th {\n",
       "        vertical-align: top;\n",
       "    }\n",
       "\n",
       "    .dataframe thead th {\n",
       "        text-align: right;\n",
       "    }\n",
       "</style>\n",
       "<table border=\"1\" class=\"dataframe\">\n",
       "  <thead>\n",
       "    <tr style=\"text-align: right;\">\n",
       "      <th></th>\n",
       "      <th>MSW05_Order</th>\n",
       "      <th>MSW05_Family</th>\n",
       "      <th>MSW05_Genus</th>\n",
       "      <th>MSW05_Species</th>\n",
       "      <th>MSW05_Binomial</th>\n",
       "      <th>1-1_ActivityCycle</th>\n",
       "      <th>5-1_AdultBodyMass_g</th>\n",
       "      <th>8-1_AdultForearmLen_mm</th>\n",
       "      <th>13-1_AdultHeadBodyLen_mm</th>\n",
       "      <th>2-1_AgeatEyeOpening_d</th>\n",
       "      <th>...</th>\n",
       "      <th>26-6_GR_MinLong_dd</th>\n",
       "      <th>26-7_GR_MidRangeLong_dd</th>\n",
       "      <th>27-1_HuPopDen_Min_n/km2</th>\n",
       "      <th>27-2_HuPopDen_Mean_n/km2</th>\n",
       "      <th>27-3_HuPopDen_5p_n/km2</th>\n",
       "      <th>27-4_HuPopDen_Change</th>\n",
       "      <th>28-1_Precip_Mean_mm</th>\n",
       "      <th>28-2_Temp_Mean_01degC</th>\n",
       "      <th>30-1_AET_Mean_mm</th>\n",
       "      <th>30-2_PET_Mean_mm</th>\n",
       "    </tr>\n",
       "  </thead>\n",
       "  <tbody>\n",
       "    <tr>\n",
       "      <th>0</th>\n",
       "      <td>Artiodactyla</td>\n",
       "      <td>Camelidae</td>\n",
       "      <td>Camelus</td>\n",
       "      <td>dromedarius</td>\n",
       "      <td>Camelus dromedarius</td>\n",
       "      <td>3</td>\n",
       "      <td>492714.47</td>\n",
       "      <td>-999.0</td>\n",
       "      <td>-999.00</td>\n",
       "      <td>-999.00</td>\n",
       "      <td>...</td>\n",
       "      <td>-999.00</td>\n",
       "      <td>-999.00</td>\n",
       "      <td>-999</td>\n",
       "      <td>-999.00</td>\n",
       "      <td>-999.0</td>\n",
       "      <td>-999.00</td>\n",
       "      <td>-999.00</td>\n",
       "      <td>-999.00</td>\n",
       "      <td>-999.00</td>\n",
       "      <td>-999.00</td>\n",
       "    </tr>\n",
       "    <tr>\n",
       "      <th>1</th>\n",
       "      <td>Carnivora</td>\n",
       "      <td>Canidae</td>\n",
       "      <td>Canis</td>\n",
       "      <td>adustus</td>\n",
       "      <td>Canis adustus</td>\n",
       "      <td>1</td>\n",
       "      <td>10392.49</td>\n",
       "      <td>-999.0</td>\n",
       "      <td>745.32</td>\n",
       "      <td>-999.00</td>\n",
       "      <td>...</td>\n",
       "      <td>-17.53</td>\n",
       "      <td>13.00</td>\n",
       "      <td>0</td>\n",
       "      <td>35.20</td>\n",
       "      <td>1.0</td>\n",
       "      <td>0.14</td>\n",
       "      <td>90.75</td>\n",
       "      <td>236.51</td>\n",
       "      <td>922.90</td>\n",
       "      <td>1534.40</td>\n",
       "    </tr>\n",
       "    <tr>\n",
       "      <th>2</th>\n",
       "      <td>Carnivora</td>\n",
       "      <td>Canidae</td>\n",
       "      <td>Canis</td>\n",
       "      <td>aureus</td>\n",
       "      <td>Canis aureus</td>\n",
       "      <td>2</td>\n",
       "      <td>9658.70</td>\n",
       "      <td>-999.0</td>\n",
       "      <td>827.53</td>\n",
       "      <td>7.50</td>\n",
       "      <td>...</td>\n",
       "      <td>-17.05</td>\n",
       "      <td>45.74</td>\n",
       "      <td>0</td>\n",
       "      <td>79.29</td>\n",
       "      <td>0.0</td>\n",
       "      <td>0.10</td>\n",
       "      <td>44.61</td>\n",
       "      <td>217.23</td>\n",
       "      <td>438.02</td>\n",
       "      <td>1358.98</td>\n",
       "    </tr>\n",
       "    <tr>\n",
       "      <th>3</th>\n",
       "      <td>Carnivora</td>\n",
       "      <td>Canidae</td>\n",
       "      <td>Canis</td>\n",
       "      <td>latrans</td>\n",
       "      <td>Canis latrans</td>\n",
       "      <td>2</td>\n",
       "      <td>11989.10</td>\n",
       "      <td>-999.0</td>\n",
       "      <td>872.39</td>\n",
       "      <td>11.94</td>\n",
       "      <td>...</td>\n",
       "      <td>-168.12</td>\n",
       "      <td>-117.60</td>\n",
       "      <td>0</td>\n",
       "      <td>27.27</td>\n",
       "      <td>0.0</td>\n",
       "      <td>0.06</td>\n",
       "      <td>53.03</td>\n",
       "      <td>58.18</td>\n",
       "      <td>503.02</td>\n",
       "      <td>728.37</td>\n",
       "    </tr>\n",
       "    <tr>\n",
       "      <th>4</th>\n",
       "      <td>Carnivora</td>\n",
       "      <td>Canidae</td>\n",
       "      <td>Canis</td>\n",
       "      <td>lupus</td>\n",
       "      <td>Canis lupus</td>\n",
       "      <td>2</td>\n",
       "      <td>31756.51</td>\n",
       "      <td>-999.0</td>\n",
       "      <td>1055.00</td>\n",
       "      <td>14.01</td>\n",
       "      <td>...</td>\n",
       "      <td>-171.84</td>\n",
       "      <td>3.90</td>\n",
       "      <td>0</td>\n",
       "      <td>37.87</td>\n",
       "      <td>0.0</td>\n",
       "      <td>0.04</td>\n",
       "      <td>34.79</td>\n",
       "      <td>4.82</td>\n",
       "      <td>313.33</td>\n",
       "      <td>561.11</td>\n",
       "    </tr>\n",
       "    <tr>\n",
       "      <th>...</th>\n",
       "      <td>...</td>\n",
       "      <td>...</td>\n",
       "      <td>...</td>\n",
       "      <td>...</td>\n",
       "      <td>...</td>\n",
       "      <td>...</td>\n",
       "      <td>...</td>\n",
       "      <td>...</td>\n",
       "      <td>...</td>\n",
       "      <td>...</td>\n",
       "      <td>...</td>\n",
       "      <td>...</td>\n",
       "      <td>...</td>\n",
       "      <td>...</td>\n",
       "      <td>...</td>\n",
       "      <td>...</td>\n",
       "      <td>...</td>\n",
       "      <td>...</td>\n",
       "      <td>...</td>\n",
       "      <td>...</td>\n",
       "      <td>...</td>\n",
       "    </tr>\n",
       "    <tr>\n",
       "      <th>5411</th>\n",
       "      <td>Rodentia</td>\n",
       "      <td>Muridae</td>\n",
       "      <td>Zyzomys</td>\n",
       "      <td>argurus</td>\n",
       "      <td>Zyzomys argurus</td>\n",
       "      <td>-999</td>\n",
       "      <td>40.42</td>\n",
       "      <td>-999.0</td>\n",
       "      <td>107.83</td>\n",
       "      <td>-999.00</td>\n",
       "      <td>...</td>\n",
       "      <td>114.33</td>\n",
       "      <td>131.09</td>\n",
       "      <td>0</td>\n",
       "      <td>1.10</td>\n",
       "      <td>0.0</td>\n",
       "      <td>0.02</td>\n",
       "      <td>62.33</td>\n",
       "      <td>256.75</td>\n",
       "      <td>692.93</td>\n",
       "      <td>1704.98</td>\n",
       "    </tr>\n",
       "    <tr>\n",
       "      <th>5412</th>\n",
       "      <td>Rodentia</td>\n",
       "      <td>Muridae</td>\n",
       "      <td>Zyzomys</td>\n",
       "      <td>maini</td>\n",
       "      <td>Zyzomys maini</td>\n",
       "      <td>-999</td>\n",
       "      <td>93.99</td>\n",
       "      <td>-999.0</td>\n",
       "      <td>-999.00</td>\n",
       "      <td>-999.00</td>\n",
       "      <td>...</td>\n",
       "      <td>131.45</td>\n",
       "      <td>132.66</td>\n",
       "      <td>0</td>\n",
       "      <td>0.17</td>\n",
       "      <td>0.0</td>\n",
       "      <td>0.00</td>\n",
       "      <td>90.76</td>\n",
       "      <td>265.30</td>\n",
       "      <td>877.90</td>\n",
       "      <td>1755.73</td>\n",
       "    </tr>\n",
       "    <tr>\n",
       "      <th>5413</th>\n",
       "      <td>Rodentia</td>\n",
       "      <td>Muridae</td>\n",
       "      <td>Zyzomys</td>\n",
       "      <td>palatilis</td>\n",
       "      <td>Zyzomys palatilis</td>\n",
       "      <td>-999</td>\n",
       "      <td>123.00</td>\n",
       "      <td>-999.0</td>\n",
       "      <td>-999.00</td>\n",
       "      <td>-999.00</td>\n",
       "      <td>...</td>\n",
       "      <td>136.72</td>\n",
       "      <td>137.08</td>\n",
       "      <td>0</td>\n",
       "      <td>0.00</td>\n",
       "      <td>0.0</td>\n",
       "      <td>-999.00</td>\n",
       "      <td>49.00</td>\n",
       "      <td>247.16</td>\n",
       "      <td>637.90</td>\n",
       "      <td>1638.67</td>\n",
       "    </tr>\n",
       "    <tr>\n",
       "      <th>5414</th>\n",
       "      <td>Rodentia</td>\n",
       "      <td>Muridae</td>\n",
       "      <td>Zyzomys</td>\n",
       "      <td>pedunculatus</td>\n",
       "      <td>Zyzomys pedunculatus</td>\n",
       "      <td>-999</td>\n",
       "      <td>100.00</td>\n",
       "      <td>-999.0</td>\n",
       "      <td>126.79</td>\n",
       "      <td>-999.00</td>\n",
       "      <td>...</td>\n",
       "      <td>130.16</td>\n",
       "      <td>132.97</td>\n",
       "      <td>0</td>\n",
       "      <td>0.09</td>\n",
       "      <td>0.0</td>\n",
       "      <td>0.25</td>\n",
       "      <td>21.64</td>\n",
       "      <td>215.72</td>\n",
       "      <td>291.82</td>\n",
       "      <td>1405.85</td>\n",
       "    </tr>\n",
       "    <tr>\n",
       "      <th>5415</th>\n",
       "      <td>Rodentia</td>\n",
       "      <td>Muridae</td>\n",
       "      <td>Zyzomys</td>\n",
       "      <td>woodwardi</td>\n",
       "      <td>Zyzomys woodwardi</td>\n",
       "      <td>-999</td>\n",
       "      <td>95.02</td>\n",
       "      <td>-999.0</td>\n",
       "      <td>146.07</td>\n",
       "      <td>-999.00</td>\n",
       "      <td>...</td>\n",
       "      <td>123.42</td>\n",
       "      <td>125.55</td>\n",
       "      <td>0</td>\n",
       "      <td>0.00</td>\n",
       "      <td>0.0</td>\n",
       "      <td>-999.00</td>\n",
       "      <td>79.45</td>\n",
       "      <td>280.41</td>\n",
       "      <td>798.86</td>\n",
       "      <td>1765.19</td>\n",
       "    </tr>\n",
       "  </tbody>\n",
       "</table>\n",
       "<p>5416 rows × 55 columns</p>\n",
       "</div>"
      ],
      "text/plain": [
       "       MSW05_Order MSW05_Family MSW05_Genus MSW05_Species  \\\n",
       "0     Artiodactyla    Camelidae     Camelus   dromedarius   \n",
       "1        Carnivora      Canidae       Canis       adustus   \n",
       "2        Carnivora      Canidae       Canis        aureus   \n",
       "3        Carnivora      Canidae       Canis       latrans   \n",
       "4        Carnivora      Canidae       Canis         lupus   \n",
       "...            ...          ...         ...           ...   \n",
       "5411      Rodentia      Muridae     Zyzomys       argurus   \n",
       "5412      Rodentia      Muridae     Zyzomys         maini   \n",
       "5413      Rodentia      Muridae     Zyzomys     palatilis   \n",
       "5414      Rodentia      Muridae     Zyzomys  pedunculatus   \n",
       "5415      Rodentia      Muridae     Zyzomys     woodwardi   \n",
       "\n",
       "            MSW05_Binomial  1-1_ActivityCycle  5-1_AdultBodyMass_g  \\\n",
       "0      Camelus dromedarius                  3            492714.47   \n",
       "1            Canis adustus                  1             10392.49   \n",
       "2             Canis aureus                  2              9658.70   \n",
       "3            Canis latrans                  2             11989.10   \n",
       "4              Canis lupus                  2             31756.51   \n",
       "...                    ...                ...                  ...   \n",
       "5411       Zyzomys argurus               -999                40.42   \n",
       "5412         Zyzomys maini               -999                93.99   \n",
       "5413     Zyzomys palatilis               -999               123.00   \n",
       "5414  Zyzomys pedunculatus               -999               100.00   \n",
       "5415     Zyzomys woodwardi               -999                95.02   \n",
       "\n",
       "      8-1_AdultForearmLen_mm  13-1_AdultHeadBodyLen_mm  2-1_AgeatEyeOpening_d  \\\n",
       "0                     -999.0                   -999.00                -999.00   \n",
       "1                     -999.0                    745.32                -999.00   \n",
       "2                     -999.0                    827.53                   7.50   \n",
       "3                     -999.0                    872.39                  11.94   \n",
       "4                     -999.0                   1055.00                  14.01   \n",
       "...                      ...                       ...                    ...   \n",
       "5411                  -999.0                    107.83                -999.00   \n",
       "5412                  -999.0                   -999.00                -999.00   \n",
       "5413                  -999.0                   -999.00                -999.00   \n",
       "5414                  -999.0                    126.79                -999.00   \n",
       "5415                  -999.0                    146.07                -999.00   \n",
       "\n",
       "      ...  26-6_GR_MinLong_dd  26-7_GR_MidRangeLong_dd  \\\n",
       "0     ...             -999.00                  -999.00   \n",
       "1     ...              -17.53                    13.00   \n",
       "2     ...              -17.05                    45.74   \n",
       "3     ...             -168.12                  -117.60   \n",
       "4     ...             -171.84                     3.90   \n",
       "...   ...                 ...                      ...   \n",
       "5411  ...              114.33                   131.09   \n",
       "5412  ...              131.45                   132.66   \n",
       "5413  ...              136.72                   137.08   \n",
       "5414  ...              130.16                   132.97   \n",
       "5415  ...              123.42                   125.55   \n",
       "\n",
       "      27-1_HuPopDen_Min_n/km2  27-2_HuPopDen_Mean_n/km2  \\\n",
       "0                        -999                   -999.00   \n",
       "1                           0                     35.20   \n",
       "2                           0                     79.29   \n",
       "3                           0                     27.27   \n",
       "4                           0                     37.87   \n",
       "...                       ...                       ...   \n",
       "5411                        0                      1.10   \n",
       "5412                        0                      0.17   \n",
       "5413                        0                      0.00   \n",
       "5414                        0                      0.09   \n",
       "5415                        0                      0.00   \n",
       "\n",
       "      27-3_HuPopDen_5p_n/km2  27-4_HuPopDen_Change  28-1_Precip_Mean_mm  \\\n",
       "0                     -999.0               -999.00              -999.00   \n",
       "1                        1.0                  0.14                90.75   \n",
       "2                        0.0                  0.10                44.61   \n",
       "3                        0.0                  0.06                53.03   \n",
       "4                        0.0                  0.04                34.79   \n",
       "...                      ...                   ...                  ...   \n",
       "5411                     0.0                  0.02                62.33   \n",
       "5412                     0.0                  0.00                90.76   \n",
       "5413                     0.0               -999.00                49.00   \n",
       "5414                     0.0                  0.25                21.64   \n",
       "5415                     0.0               -999.00                79.45   \n",
       "\n",
       "      28-2_Temp_Mean_01degC  30-1_AET_Mean_mm  30-2_PET_Mean_mm  \n",
       "0                   -999.00           -999.00           -999.00  \n",
       "1                    236.51            922.90           1534.40  \n",
       "2                    217.23            438.02           1358.98  \n",
       "3                     58.18            503.02            728.37  \n",
       "4                      4.82            313.33            561.11  \n",
       "...                     ...               ...               ...  \n",
       "5411                 256.75            692.93           1704.98  \n",
       "5412                 265.30            877.90           1755.73  \n",
       "5413                 247.16            637.90           1638.67  \n",
       "5414                 215.72            291.82           1405.85  \n",
       "5415                 280.41            798.86           1765.19  \n",
       "\n",
       "[5416 rows x 55 columns]"
      ]
     },
     "metadata": {},
     "output_type": "display_data"
    }
   ],
   "source": [
    "species_raw_data = pd.read_csv('PanTHERIA_WR05_Aug2008.csv')\n",
    "display(species_raw_data)"
   ]
  },
  {
   "cell_type": "markdown",
   "id": "c7463660",
   "metadata": {
    "slideshow": {
     "slide_type": "slide"
    }
   },
   "source": [
    "### Basic data cleaning\n",
    "Let us replicate the data cleaning operations from last time:\n",
    "- Filter to important columns\n",
    "- Rename columns\n",
    "- Convert data types\n",
    "- Standardize missing values"
   ]
  },
  {
   "cell_type": "code",
   "execution_count": 3,
   "id": "d08bcc90",
   "metadata": {
    "slideshow": {
     "slide_type": "subslide"
    }
   },
   "outputs": [],
   "source": [
    "# Extract columns\n",
    "important_columns = [\n",
    "    \"MSW05_Order\",\n",
    "    \"MSW05_Binomial\",\n",
    "    \"5-1_AdultBodyMass_g\",\n",
    "    \"23-1_SexualMaturityAge_d\",\n",
    "    \"14-1_InterbirthInterval_d\",\n",
    "    \"17-1_MaxLongevity_m\",\n",
    "    \"15-1_LitterSize\"\n",
    "]\n",
    "\n",
    "species_subset_data = species_raw_data[important_columns]"
   ]
  },
  {
   "cell_type": "code",
   "execution_count": 4,
   "id": "db3ed603",
   "metadata": {
    "slideshow": {
     "slide_type": "fragment"
    }
   },
   "outputs": [
    {
     "data": {
      "text/html": [
       "<div>\n",
       "<style scoped>\n",
       "    .dataframe tbody tr th:only-of-type {\n",
       "        vertical-align: middle;\n",
       "    }\n",
       "\n",
       "    .dataframe tbody tr th {\n",
       "        vertical-align: top;\n",
       "    }\n",
       "\n",
       "    .dataframe thead th {\n",
       "        text-align: right;\n",
       "    }\n",
       "</style>\n",
       "<table border=\"1\" class=\"dataframe\">\n",
       "  <thead>\n",
       "    <tr style=\"text-align: right;\">\n",
       "      <th></th>\n",
       "      <th>MSW05_Order</th>\n",
       "      <th>MSW05_Binomial</th>\n",
       "      <th>5-1_AdultBodyMass_g</th>\n",
       "      <th>23-1_SexualMaturityAge_d</th>\n",
       "      <th>14-1_InterbirthInterval_d</th>\n",
       "      <th>17-1_MaxLongevity_m</th>\n",
       "      <th>15-1_LitterSize</th>\n",
       "    </tr>\n",
       "  </thead>\n",
       "  <tbody>\n",
       "    <tr>\n",
       "      <th>0</th>\n",
       "      <td>Artiodactyla</td>\n",
       "      <td>Camelus dromedarius</td>\n",
       "      <td>492714.47</td>\n",
       "      <td>1947.94</td>\n",
       "      <td>614.41</td>\n",
       "      <td>480.0</td>\n",
       "      <td>0.98</td>\n",
       "    </tr>\n",
       "    <tr>\n",
       "      <th>1</th>\n",
       "      <td>Carnivora</td>\n",
       "      <td>Canis adustus</td>\n",
       "      <td>10392.49</td>\n",
       "      <td>249.88</td>\n",
       "      <td>-999.00</td>\n",
       "      <td>137.0</td>\n",
       "      <td>4.50</td>\n",
       "    </tr>\n",
       "    <tr>\n",
       "      <th>2</th>\n",
       "      <td>Carnivora</td>\n",
       "      <td>Canis aureus</td>\n",
       "      <td>9658.70</td>\n",
       "      <td>371.23</td>\n",
       "      <td>365.00</td>\n",
       "      <td>192.0</td>\n",
       "      <td>3.74</td>\n",
       "    </tr>\n",
       "    <tr>\n",
       "      <th>3</th>\n",
       "      <td>Carnivora</td>\n",
       "      <td>Canis latrans</td>\n",
       "      <td>11989.10</td>\n",
       "      <td>372.90</td>\n",
       "      <td>365.00</td>\n",
       "      <td>262.0</td>\n",
       "      <td>5.72</td>\n",
       "    </tr>\n",
       "    <tr>\n",
       "      <th>4</th>\n",
       "      <td>Carnivora</td>\n",
       "      <td>Canis lupus</td>\n",
       "      <td>31756.51</td>\n",
       "      <td>679.37</td>\n",
       "      <td>365.00</td>\n",
       "      <td>354.0</td>\n",
       "      <td>4.98</td>\n",
       "    </tr>\n",
       "  </tbody>\n",
       "</table>\n",
       "</div>"
      ],
      "text/plain": [
       "    MSW05_Order       MSW05_Binomial  5-1_AdultBodyMass_g  \\\n",
       "0  Artiodactyla  Camelus dromedarius            492714.47   \n",
       "1     Carnivora        Canis adustus             10392.49   \n",
       "2     Carnivora         Canis aureus              9658.70   \n",
       "3     Carnivora        Canis latrans             11989.10   \n",
       "4     Carnivora          Canis lupus             31756.51   \n",
       "\n",
       "   23-1_SexualMaturityAge_d  14-1_InterbirthInterval_d  17-1_MaxLongevity_m  \\\n",
       "0                   1947.94                     614.41                480.0   \n",
       "1                    249.88                    -999.00                137.0   \n",
       "2                    371.23                     365.00                192.0   \n",
       "3                    372.90                     365.00                262.0   \n",
       "4                    679.37                     365.00                354.0   \n",
       "\n",
       "   15-1_LitterSize  \n",
       "0             0.98  \n",
       "1             4.50  \n",
       "2             3.74  \n",
       "3             5.72  \n",
       "4             4.98  "
      ]
     },
     "execution_count": 4,
     "metadata": {},
     "output_type": "execute_result"
    }
   ],
   "source": [
    "species_subset_data.head()"
   ]
  },
  {
   "cell_type": "code",
   "execution_count": 5,
   "id": "2681f16b",
   "metadata": {
    "slideshow": {
     "slide_type": "subslide"
    }
   },
   "outputs": [],
   "source": [
    "# Rename columns\n",
    "old_to_new = {\n",
    "    \"MSW05_Order\": \"Order\",\n",
    "    \"MSW05_Binomial\": \"Binomial\",\n",
    "    \"5-1_AdultBodyMass_g\": \"Mass (g)\",\n",
    "    \"23-1_SexualMaturityAge_d\": \"Maturity (days)\",\n",
    "    \"14-1_InterbirthInterval_d\": \"Interbirth (days)\",\n",
    "    \"17-1_MaxLongevity_m\": \"Longevity (months)\",\n",
    "    \"15-1_LitterSize\": \"Litter Size\"\n",
    "}\n",
    "species_renamed_data = species_subset_data.rename(columns=old_to_new)"
   ]
  },
  {
   "cell_type": "code",
   "execution_count": 6,
   "id": "10f96dc3",
   "metadata": {
    "slideshow": {
     "slide_type": "fragment"
    }
   },
   "outputs": [
    {
     "data": {
      "text/html": [
       "<div>\n",
       "<style scoped>\n",
       "    .dataframe tbody tr th:only-of-type {\n",
       "        vertical-align: middle;\n",
       "    }\n",
       "\n",
       "    .dataframe tbody tr th {\n",
       "        vertical-align: top;\n",
       "    }\n",
       "\n",
       "    .dataframe thead th {\n",
       "        text-align: right;\n",
       "    }\n",
       "</style>\n",
       "<table border=\"1\" class=\"dataframe\">\n",
       "  <thead>\n",
       "    <tr style=\"text-align: right;\">\n",
       "      <th></th>\n",
       "      <th>Order</th>\n",
       "      <th>Binomial</th>\n",
       "      <th>Mass (g)</th>\n",
       "      <th>Maturity (days)</th>\n",
       "      <th>Interbirth (days)</th>\n",
       "      <th>Longevity (months)</th>\n",
       "      <th>Litter Size</th>\n",
       "    </tr>\n",
       "  </thead>\n",
       "  <tbody>\n",
       "    <tr>\n",
       "      <th>0</th>\n",
       "      <td>Artiodactyla</td>\n",
       "      <td>Camelus dromedarius</td>\n",
       "      <td>492714.47</td>\n",
       "      <td>1947.94</td>\n",
       "      <td>614.41</td>\n",
       "      <td>480.0</td>\n",
       "      <td>0.98</td>\n",
       "    </tr>\n",
       "    <tr>\n",
       "      <th>1</th>\n",
       "      <td>Carnivora</td>\n",
       "      <td>Canis adustus</td>\n",
       "      <td>10392.49</td>\n",
       "      <td>249.88</td>\n",
       "      <td>-999.00</td>\n",
       "      <td>137.0</td>\n",
       "      <td>4.50</td>\n",
       "    </tr>\n",
       "    <tr>\n",
       "      <th>2</th>\n",
       "      <td>Carnivora</td>\n",
       "      <td>Canis aureus</td>\n",
       "      <td>9658.70</td>\n",
       "      <td>371.23</td>\n",
       "      <td>365.00</td>\n",
       "      <td>192.0</td>\n",
       "      <td>3.74</td>\n",
       "    </tr>\n",
       "    <tr>\n",
       "      <th>3</th>\n",
       "      <td>Carnivora</td>\n",
       "      <td>Canis latrans</td>\n",
       "      <td>11989.10</td>\n",
       "      <td>372.90</td>\n",
       "      <td>365.00</td>\n",
       "      <td>262.0</td>\n",
       "      <td>5.72</td>\n",
       "    </tr>\n",
       "    <tr>\n",
       "      <th>4</th>\n",
       "      <td>Carnivora</td>\n",
       "      <td>Canis lupus</td>\n",
       "      <td>31756.51</td>\n",
       "      <td>679.37</td>\n",
       "      <td>365.00</td>\n",
       "      <td>354.0</td>\n",
       "      <td>4.98</td>\n",
       "    </tr>\n",
       "  </tbody>\n",
       "</table>\n",
       "</div>"
      ],
      "text/plain": [
       "          Order             Binomial   Mass (g)  Maturity (days)  \\\n",
       "0  Artiodactyla  Camelus dromedarius  492714.47          1947.94   \n",
       "1     Carnivora        Canis adustus   10392.49           249.88   \n",
       "2     Carnivora         Canis aureus    9658.70           371.23   \n",
       "3     Carnivora        Canis latrans   11989.10           372.90   \n",
       "4     Carnivora          Canis lupus   31756.51           679.37   \n",
       "\n",
       "   Interbirth (days)  Longevity (months)  Litter Size  \n",
       "0             614.41               480.0         0.98  \n",
       "1            -999.00               137.0         4.50  \n",
       "2             365.00               192.0         3.74  \n",
       "3             365.00               262.0         5.72  \n",
       "4             365.00               354.0         4.98  "
      ]
     },
     "execution_count": 6,
     "metadata": {},
     "output_type": "execute_result"
    }
   ],
   "source": [
    "species_renamed_data.head()"
   ]
  },
  {
   "cell_type": "code",
   "execution_count": 7,
   "id": "47ae4a32",
   "metadata": {
    "slideshow": {
     "slide_type": "subslide"
    }
   },
   "outputs": [
    {
     "name": "stdout",
     "output_type": "stream",
     "text": [
      "<class 'pandas.core.frame.DataFrame'>\n",
      "RangeIndex: 5416 entries, 0 to 5415\n",
      "Data columns (total 7 columns):\n",
      " #   Column              Non-Null Count  Dtype  \n",
      "---  ------              --------------  -----  \n",
      " 0   Order               5416 non-null   string \n",
      " 1   Binomial            5416 non-null   string \n",
      " 2   Mass (g)            5416 non-null   Float64\n",
      " 3   Maturity (days)     5416 non-null   Float64\n",
      " 4   Interbirth (days)   5416 non-null   Float64\n",
      " 5   Longevity (months)  5416 non-null   Float64\n",
      " 6   Litter Size         5416 non-null   Float64\n",
      "dtypes: Float64(5), string(2)\n",
      "memory usage: 322.8 KB\n"
     ]
    }
   ],
   "source": [
    "# Convert column types\n",
    "species_converted_data = species_renamed_data.convert_dtypes()\n",
    "species_converted_data.info()"
   ]
  },
  {
   "cell_type": "code",
   "execution_count": 8,
   "id": "b9be2802",
   "metadata": {
    "slideshow": {
     "slide_type": "subslide"
    }
   },
   "outputs": [
    {
     "name": "stdout",
     "output_type": "stream",
     "text": [
      "<class 'pandas.core.frame.DataFrame'>\n",
      "RangeIndex: 5416 entries, 0 to 5415\n",
      "Data columns (total 7 columns):\n",
      " #   Column              Non-Null Count  Dtype  \n",
      "---  ------              --------------  -----  \n",
      " 0   Order               5416 non-null   string \n",
      " 1   Binomial            5416 non-null   string \n",
      " 2   Mass (g)            3542 non-null   Float64\n",
      " 3   Maturity (days)     1051 non-null   Float64\n",
      " 4   Interbirth (days)   695 non-null    Float64\n",
      " 5   Longevity (months)  1013 non-null   Float64\n",
      " 6   Litter Size         2501 non-null   Float64\n",
      "dtypes: Float64(5), string(2)\n",
      "memory usage: 322.8 KB\n"
     ]
    }
   ],
   "source": [
    "# Replace -999 values\n",
    "species_data = species_converted_data.replace(-999, pd.NA)\n",
    "species_data.info()"
   ]
  },
  {
   "cell_type": "code",
   "execution_count": 9,
   "id": "4e2f316e",
   "metadata": {
    "slideshow": {
     "slide_type": "slide"
    }
   },
   "outputs": [
    {
     "data": {
      "text/html": [
       "<div>\n",
       "<style scoped>\n",
       "    .dataframe tbody tr th:only-of-type {\n",
       "        vertical-align: middle;\n",
       "    }\n",
       "\n",
       "    .dataframe tbody tr th {\n",
       "        vertical-align: top;\n",
       "    }\n",
       "\n",
       "    .dataframe thead th {\n",
       "        text-align: right;\n",
       "    }\n",
       "</style>\n",
       "<table border=\"1\" class=\"dataframe\">\n",
       "  <thead>\n",
       "    <tr style=\"text-align: right;\">\n",
       "      <th></th>\n",
       "      <th>Order</th>\n",
       "      <th>Binomial</th>\n",
       "      <th>Mass (g)</th>\n",
       "      <th>Maturity (days)</th>\n",
       "      <th>Interbirth (days)</th>\n",
       "      <th>Longevity (months)</th>\n",
       "      <th>Litter Size</th>\n",
       "    </tr>\n",
       "  </thead>\n",
       "  <tbody>\n",
       "    <tr>\n",
       "      <th>576</th>\n",
       "      <td>Dermoptera</td>\n",
       "      <td>Galeopterus variegates</td>\n",
       "      <td>1112.2</td>\n",
       "      <td>&lt;NA&gt;</td>\n",
       "      <td>&lt;NA&gt;</td>\n",
       "      <td>3.45</td>\n",
       "      <td>1.0</td>\n",
       "    </tr>\n",
       "    <tr>\n",
       "      <th>508</th>\n",
       "      <td>Rodentia</td>\n",
       "      <td>Eligmodontia typus</td>\n",
       "      <td>17.37</td>\n",
       "      <td>55.55</td>\n",
       "      <td>&lt;NA&gt;</td>\n",
       "      <td>9.6</td>\n",
       "      <td>6.24</td>\n",
       "    </tr>\n",
       "    <tr>\n",
       "      <th>2441</th>\n",
       "      <td>Rodentia</td>\n",
       "      <td>Microtus pennsylvanicus</td>\n",
       "      <td>42.53</td>\n",
       "      <td>31.74</td>\n",
       "      <td>21.19</td>\n",
       "      <td>11.0</td>\n",
       "      <td>5.16</td>\n",
       "    </tr>\n",
       "    <tr>\n",
       "      <th>1939</th>\n",
       "      <td>Didelphimorphia</td>\n",
       "      <td>Monodelphis dimidiata</td>\n",
       "      <td>44.56</td>\n",
       "      <td>&lt;NA&gt;</td>\n",
       "      <td>334.58</td>\n",
       "      <td>12.0</td>\n",
       "      <td>12.0</td>\n",
       "    </tr>\n",
       "    <tr>\n",
       "      <th>2753</th>\n",
       "      <td>Rodentia</td>\n",
       "      <td>Myopus schisticolor</td>\n",
       "      <td>29.99</td>\n",
       "      <td>25.37</td>\n",
       "      <td>25.0</td>\n",
       "      <td>12.0</td>\n",
       "      <td>5.25</td>\n",
       "    </tr>\n",
       "    <tr>\n",
       "      <th>...</th>\n",
       "      <td>...</td>\n",
       "      <td>...</td>\n",
       "      <td>...</td>\n",
       "      <td>...</td>\n",
       "      <td>...</td>\n",
       "      <td>...</td>\n",
       "      <td>...</td>\n",
       "    </tr>\n",
       "    <tr>\n",
       "      <th>5411</th>\n",
       "      <td>Rodentia</td>\n",
       "      <td>Zyzomys argurus</td>\n",
       "      <td>40.42</td>\n",
       "      <td>155.06</td>\n",
       "      <td>219.0</td>\n",
       "      <td>&lt;NA&gt;</td>\n",
       "      <td>2.76</td>\n",
       "    </tr>\n",
       "    <tr>\n",
       "      <th>5412</th>\n",
       "      <td>Rodentia</td>\n",
       "      <td>Zyzomys maini</td>\n",
       "      <td>93.99</td>\n",
       "      <td>&lt;NA&gt;</td>\n",
       "      <td>&lt;NA&gt;</td>\n",
       "      <td>&lt;NA&gt;</td>\n",
       "      <td>&lt;NA&gt;</td>\n",
       "    </tr>\n",
       "    <tr>\n",
       "      <th>5413</th>\n",
       "      <td>Rodentia</td>\n",
       "      <td>Zyzomys palatilis</td>\n",
       "      <td>123.0</td>\n",
       "      <td>&lt;NA&gt;</td>\n",
       "      <td>&lt;NA&gt;</td>\n",
       "      <td>&lt;NA&gt;</td>\n",
       "      <td>&lt;NA&gt;</td>\n",
       "    </tr>\n",
       "    <tr>\n",
       "      <th>5414</th>\n",
       "      <td>Rodentia</td>\n",
       "      <td>Zyzomys pedunculatus</td>\n",
       "      <td>100.0</td>\n",
       "      <td>&lt;NA&gt;</td>\n",
       "      <td>&lt;NA&gt;</td>\n",
       "      <td>&lt;NA&gt;</td>\n",
       "      <td>&lt;NA&gt;</td>\n",
       "    </tr>\n",
       "    <tr>\n",
       "      <th>5415</th>\n",
       "      <td>Rodentia</td>\n",
       "      <td>Zyzomys woodwardi</td>\n",
       "      <td>95.02</td>\n",
       "      <td>155.06</td>\n",
       "      <td>231.16</td>\n",
       "      <td>&lt;NA&gt;</td>\n",
       "      <td>2.23</td>\n",
       "    </tr>\n",
       "  </tbody>\n",
       "</table>\n",
       "<p>5416 rows × 7 columns</p>\n",
       "</div>"
      ],
      "text/plain": [
       "                Order                 Binomial  Mass (g)  Maturity (days)  \\\n",
       "576        Dermoptera   Galeopterus variegates    1112.2             <NA>   \n",
       "508          Rodentia       Eligmodontia typus     17.37            55.55   \n",
       "2441         Rodentia  Microtus pennsylvanicus     42.53            31.74   \n",
       "1939  Didelphimorphia    Monodelphis dimidiata     44.56             <NA>   \n",
       "2753         Rodentia      Myopus schisticolor     29.99            25.37   \n",
       "...               ...                      ...       ...              ...   \n",
       "5411         Rodentia          Zyzomys argurus     40.42           155.06   \n",
       "5412         Rodentia            Zyzomys maini     93.99             <NA>   \n",
       "5413         Rodentia        Zyzomys palatilis     123.0             <NA>   \n",
       "5414         Rodentia     Zyzomys pedunculatus     100.0             <NA>   \n",
       "5415         Rodentia        Zyzomys woodwardi     95.02           155.06   \n",
       "\n",
       "      Interbirth (days)  Longevity (months)  Litter Size  \n",
       "576                <NA>                3.45          1.0  \n",
       "508                <NA>                 9.6         6.24  \n",
       "2441              21.19                11.0         5.16  \n",
       "1939             334.58                12.0         12.0  \n",
       "2753               25.0                12.0         5.25  \n",
       "...                 ...                 ...          ...  \n",
       "5411              219.0                <NA>         2.76  \n",
       "5412               <NA>                <NA>         <NA>  \n",
       "5413               <NA>                <NA>         <NA>  \n",
       "5414               <NA>                <NA>         <NA>  \n",
       "5415             231.16                <NA>         2.23  \n",
       "\n",
       "[5416 rows x 7 columns]"
      ]
     },
     "execution_count": 9,
     "metadata": {},
     "output_type": "execute_result"
    }
   ],
   "source": [
    "# a neat new function\n",
    "species_data.sort_values(by='Longevity (months)')"
   ]
  },
  {
   "cell_type": "code",
   "execution_count": 10,
   "id": "c98b295e",
   "metadata": {
    "slideshow": {
     "slide_type": "subslide"
    }
   },
   "outputs": [
    {
     "data": {
      "text/html": [
       "<div>\n",
       "<style scoped>\n",
       "    .dataframe tbody tr th:only-of-type {\n",
       "        vertical-align: middle;\n",
       "    }\n",
       "\n",
       "    .dataframe tbody tr th {\n",
       "        vertical-align: top;\n",
       "    }\n",
       "\n",
       "    .dataframe thead th {\n",
       "        text-align: right;\n",
       "    }\n",
       "</style>\n",
       "<table border=\"1\" class=\"dataframe\">\n",
       "  <thead>\n",
       "    <tr style=\"text-align: right;\">\n",
       "      <th></th>\n",
       "      <th>Order</th>\n",
       "      <th>Binomial</th>\n",
       "      <th>Mass (g)</th>\n",
       "      <th>Maturity (days)</th>\n",
       "      <th>Interbirth (days)</th>\n",
       "      <th>Longevity (months)</th>\n",
       "      <th>Litter Size</th>\n",
       "    </tr>\n",
       "  </thead>\n",
       "  <tbody>\n",
       "    <tr>\n",
       "      <th>1689</th>\n",
       "      <td>Primates</td>\n",
       "      <td>Homo sapiens</td>\n",
       "      <td>58540.63</td>\n",
       "      <td>5582.93</td>\n",
       "      <td>958.12</td>\n",
       "      <td>1470.0</td>\n",
       "      <td>1.0</td>\n",
       "    </tr>\n",
       "    <tr>\n",
       "      <th>137</th>\n",
       "      <td>Cetacea</td>\n",
       "      <td>Balaenoptera physalus</td>\n",
       "      <td>47506008.23</td>\n",
       "      <td>2666.41</td>\n",
       "      <td>730.0</td>\n",
       "      <td>1392.0</td>\n",
       "      <td>1.01</td>\n",
       "    </tr>\n",
       "    <tr>\n",
       "      <th>136</th>\n",
       "      <td>Cetacea</td>\n",
       "      <td>Balaenoptera musculus</td>\n",
       "      <td>154321304.5</td>\n",
       "      <td>1959.8</td>\n",
       "      <td>821.25</td>\n",
       "      <td>1320.0</td>\n",
       "      <td>1.0</td>\n",
       "    </tr>\n",
       "    <tr>\n",
       "      <th>3207</th>\n",
       "      <td>Cetacea</td>\n",
       "      <td>Orcinus orca</td>\n",
       "      <td>5628758.66</td>\n",
       "      <td>4989.76</td>\n",
       "      <td>1825.0</td>\n",
       "      <td>1200.0</td>\n",
       "      <td>1.0</td>\n",
       "    </tr>\n",
       "    <tr>\n",
       "      <th>1951</th>\n",
       "      <td>Cetacea</td>\n",
       "      <td>Megaptera novaeangliae</td>\n",
       "      <td>30000000.01</td>\n",
       "      <td>1310.35</td>\n",
       "      <td>730.0</td>\n",
       "      <td>1140.0</td>\n",
       "      <td>1.0</td>\n",
       "    </tr>\n",
       "    <tr>\n",
       "      <th>...</th>\n",
       "      <td>...</td>\n",
       "      <td>...</td>\n",
       "      <td>...</td>\n",
       "      <td>...</td>\n",
       "      <td>...</td>\n",
       "      <td>...</td>\n",
       "      <td>...</td>\n",
       "    </tr>\n",
       "    <tr>\n",
       "      <th>5411</th>\n",
       "      <td>Rodentia</td>\n",
       "      <td>Zyzomys argurus</td>\n",
       "      <td>40.42</td>\n",
       "      <td>155.06</td>\n",
       "      <td>219.0</td>\n",
       "      <td>&lt;NA&gt;</td>\n",
       "      <td>2.76</td>\n",
       "    </tr>\n",
       "    <tr>\n",
       "      <th>5412</th>\n",
       "      <td>Rodentia</td>\n",
       "      <td>Zyzomys maini</td>\n",
       "      <td>93.99</td>\n",
       "      <td>&lt;NA&gt;</td>\n",
       "      <td>&lt;NA&gt;</td>\n",
       "      <td>&lt;NA&gt;</td>\n",
       "      <td>&lt;NA&gt;</td>\n",
       "    </tr>\n",
       "    <tr>\n",
       "      <th>5413</th>\n",
       "      <td>Rodentia</td>\n",
       "      <td>Zyzomys palatilis</td>\n",
       "      <td>123.0</td>\n",
       "      <td>&lt;NA&gt;</td>\n",
       "      <td>&lt;NA&gt;</td>\n",
       "      <td>&lt;NA&gt;</td>\n",
       "      <td>&lt;NA&gt;</td>\n",
       "    </tr>\n",
       "    <tr>\n",
       "      <th>5414</th>\n",
       "      <td>Rodentia</td>\n",
       "      <td>Zyzomys pedunculatus</td>\n",
       "      <td>100.0</td>\n",
       "      <td>&lt;NA&gt;</td>\n",
       "      <td>&lt;NA&gt;</td>\n",
       "      <td>&lt;NA&gt;</td>\n",
       "      <td>&lt;NA&gt;</td>\n",
       "    </tr>\n",
       "    <tr>\n",
       "      <th>5415</th>\n",
       "      <td>Rodentia</td>\n",
       "      <td>Zyzomys woodwardi</td>\n",
       "      <td>95.02</td>\n",
       "      <td>155.06</td>\n",
       "      <td>231.16</td>\n",
       "      <td>&lt;NA&gt;</td>\n",
       "      <td>2.23</td>\n",
       "    </tr>\n",
       "  </tbody>\n",
       "</table>\n",
       "<p>5416 rows × 7 columns</p>\n",
       "</div>"
      ],
      "text/plain": [
       "         Order                Binomial     Mass (g)  Maturity (days)  \\\n",
       "1689  Primates            Homo sapiens     58540.63          5582.93   \n",
       "137    Cetacea   Balaenoptera physalus  47506008.23          2666.41   \n",
       "136    Cetacea   Balaenoptera musculus  154321304.5           1959.8   \n",
       "3207   Cetacea            Orcinus orca   5628758.66          4989.76   \n",
       "1951   Cetacea  Megaptera novaeangliae  30000000.01          1310.35   \n",
       "...        ...                     ...          ...              ...   \n",
       "5411  Rodentia         Zyzomys argurus        40.42           155.06   \n",
       "5412  Rodentia           Zyzomys maini        93.99             <NA>   \n",
       "5413  Rodentia       Zyzomys palatilis        123.0             <NA>   \n",
       "5414  Rodentia    Zyzomys pedunculatus        100.0             <NA>   \n",
       "5415  Rodentia       Zyzomys woodwardi        95.02           155.06   \n",
       "\n",
       "      Interbirth (days)  Longevity (months)  Litter Size  \n",
       "1689             958.12              1470.0          1.0  \n",
       "137               730.0              1392.0         1.01  \n",
       "136              821.25              1320.0          1.0  \n",
       "3207             1825.0              1200.0          1.0  \n",
       "1951              730.0              1140.0          1.0  \n",
       "...                 ...                 ...          ...  \n",
       "5411              219.0                <NA>         2.76  \n",
       "5412               <NA>                <NA>         <NA>  \n",
       "5413               <NA>                <NA>         <NA>  \n",
       "5414               <NA>                <NA>         <NA>  \n",
       "5415             231.16                <NA>         2.23  \n",
       "\n",
       "[5416 rows x 7 columns]"
      ]
     },
     "execution_count": 10,
     "metadata": {},
     "output_type": "execute_result"
    }
   ],
   "source": [
    "species_data.sort_values(by='Longevity (months)', ascending=False)"
   ]
  },
  {
   "cell_type": "code",
   "execution_count": 11,
   "id": "5ca7ab9a",
   "metadata": {
    "slideshow": {
     "slide_type": "subslide"
    }
   },
   "outputs": [
    {
     "data": {
      "text/plain": [
       "5152    16.89\n",
       "1530     12.0\n",
       "1939     12.0\n",
       "1755     11.6\n",
       "541      11.3\n",
       "        ...  \n",
       "5409     <NA>\n",
       "5410     <NA>\n",
       "5412     <NA>\n",
       "5413     <NA>\n",
       "5414     <NA>\n",
       "Name: Litter Size, Length: 5416, dtype: Float64"
      ]
     },
     "execution_count": 11,
     "metadata": {},
     "output_type": "execute_result"
    }
   ],
   "source": [
    "# also applies to Series\n",
    "species_data['Litter Size'].sort_values(ascending=False)"
   ]
  },
  {
   "cell_type": "code",
   "execution_count": 12,
   "id": "97a4f902",
   "metadata": {},
   "outputs": [
    {
     "data": {
      "text/html": [
       "<div>\n",
       "<style scoped>\n",
       "    .dataframe tbody tr th:only-of-type {\n",
       "        vertical-align: middle;\n",
       "    }\n",
       "\n",
       "    .dataframe tbody tr th {\n",
       "        vertical-align: top;\n",
       "    }\n",
       "\n",
       "    .dataframe thead th {\n",
       "        text-align: right;\n",
       "    }\n",
       "</style>\n",
       "<table border=\"1\" class=\"dataframe\">\n",
       "  <thead>\n",
       "    <tr style=\"text-align: right;\">\n",
       "      <th></th>\n",
       "      <th>Order</th>\n",
       "      <th>Binomial</th>\n",
       "      <th>Mass (g)</th>\n",
       "      <th>Maturity (days)</th>\n",
       "      <th>Interbirth (days)</th>\n",
       "      <th>Longevity (months)</th>\n",
       "      <th>Litter Size</th>\n",
       "    </tr>\n",
       "  </thead>\n",
       "  <tbody>\n",
       "    <tr>\n",
       "      <th>0</th>\n",
       "      <td>Artiodactyla</td>\n",
       "      <td>Camelus dromedarius</td>\n",
       "      <td>492714.47</td>\n",
       "      <td>1947.94</td>\n",
       "      <td>614.41</td>\n",
       "      <td>480.0</td>\n",
       "      <td>0.98</td>\n",
       "    </tr>\n",
       "    <tr>\n",
       "      <th>1</th>\n",
       "      <td>Carnivora</td>\n",
       "      <td>Canis adustus</td>\n",
       "      <td>10392.49</td>\n",
       "      <td>249.88</td>\n",
       "      <td>&lt;NA&gt;</td>\n",
       "      <td>137.0</td>\n",
       "      <td>4.5</td>\n",
       "    </tr>\n",
       "    <tr>\n",
       "      <th>2</th>\n",
       "      <td>Carnivora</td>\n",
       "      <td>Canis aureus</td>\n",
       "      <td>9658.7</td>\n",
       "      <td>371.23</td>\n",
       "      <td>365.0</td>\n",
       "      <td>192.0</td>\n",
       "      <td>3.74</td>\n",
       "    </tr>\n",
       "    <tr>\n",
       "      <th>3</th>\n",
       "      <td>Carnivora</td>\n",
       "      <td>Canis latrans</td>\n",
       "      <td>11989.1</td>\n",
       "      <td>372.9</td>\n",
       "      <td>365.0</td>\n",
       "      <td>262.0</td>\n",
       "      <td>5.72</td>\n",
       "    </tr>\n",
       "    <tr>\n",
       "      <th>4</th>\n",
       "      <td>Carnivora</td>\n",
       "      <td>Canis lupus</td>\n",
       "      <td>31756.51</td>\n",
       "      <td>679.37</td>\n",
       "      <td>365.0</td>\n",
       "      <td>354.0</td>\n",
       "      <td>4.98</td>\n",
       "    </tr>\n",
       "    <tr>\n",
       "      <th>...</th>\n",
       "      <td>...</td>\n",
       "      <td>...</td>\n",
       "      <td>...</td>\n",
       "      <td>...</td>\n",
       "      <td>...</td>\n",
       "      <td>...</td>\n",
       "      <td>...</td>\n",
       "    </tr>\n",
       "    <tr>\n",
       "      <th>5411</th>\n",
       "      <td>Rodentia</td>\n",
       "      <td>Zyzomys argurus</td>\n",
       "      <td>40.42</td>\n",
       "      <td>155.06</td>\n",
       "      <td>219.0</td>\n",
       "      <td>&lt;NA&gt;</td>\n",
       "      <td>2.76</td>\n",
       "    </tr>\n",
       "    <tr>\n",
       "      <th>5412</th>\n",
       "      <td>Rodentia</td>\n",
       "      <td>Zyzomys maini</td>\n",
       "      <td>93.99</td>\n",
       "      <td>&lt;NA&gt;</td>\n",
       "      <td>&lt;NA&gt;</td>\n",
       "      <td>&lt;NA&gt;</td>\n",
       "      <td>&lt;NA&gt;</td>\n",
       "    </tr>\n",
       "    <tr>\n",
       "      <th>5413</th>\n",
       "      <td>Rodentia</td>\n",
       "      <td>Zyzomys palatilis</td>\n",
       "      <td>123.0</td>\n",
       "      <td>&lt;NA&gt;</td>\n",
       "      <td>&lt;NA&gt;</td>\n",
       "      <td>&lt;NA&gt;</td>\n",
       "      <td>&lt;NA&gt;</td>\n",
       "    </tr>\n",
       "    <tr>\n",
       "      <th>5414</th>\n",
       "      <td>Rodentia</td>\n",
       "      <td>Zyzomys pedunculatus</td>\n",
       "      <td>100.0</td>\n",
       "      <td>&lt;NA&gt;</td>\n",
       "      <td>&lt;NA&gt;</td>\n",
       "      <td>&lt;NA&gt;</td>\n",
       "      <td>&lt;NA&gt;</td>\n",
       "    </tr>\n",
       "    <tr>\n",
       "      <th>5415</th>\n",
       "      <td>Rodentia</td>\n",
       "      <td>Zyzomys woodwardi</td>\n",
       "      <td>95.02</td>\n",
       "      <td>155.06</td>\n",
       "      <td>231.16</td>\n",
       "      <td>&lt;NA&gt;</td>\n",
       "      <td>2.23</td>\n",
       "    </tr>\n",
       "  </tbody>\n",
       "</table>\n",
       "<p>5416 rows × 7 columns</p>\n",
       "</div>"
      ],
      "text/plain": [
       "             Order              Binomial   Mass (g)  Maturity (days)  \\\n",
       "0     Artiodactyla   Camelus dromedarius  492714.47          1947.94   \n",
       "1        Carnivora         Canis adustus   10392.49           249.88   \n",
       "2        Carnivora          Canis aureus     9658.7           371.23   \n",
       "3        Carnivora         Canis latrans    11989.1            372.9   \n",
       "4        Carnivora           Canis lupus   31756.51           679.37   \n",
       "...            ...                   ...        ...              ...   \n",
       "5411      Rodentia       Zyzomys argurus      40.42           155.06   \n",
       "5412      Rodentia         Zyzomys maini      93.99             <NA>   \n",
       "5413      Rodentia     Zyzomys palatilis      123.0             <NA>   \n",
       "5414      Rodentia  Zyzomys pedunculatus      100.0             <NA>   \n",
       "5415      Rodentia     Zyzomys woodwardi      95.02           155.06   \n",
       "\n",
       "      Interbirth (days)  Longevity (months)  Litter Size  \n",
       "0                614.41               480.0         0.98  \n",
       "1                  <NA>               137.0          4.5  \n",
       "2                 365.0               192.0         3.74  \n",
       "3                 365.0               262.0         5.72  \n",
       "4                 365.0               354.0         4.98  \n",
       "...                 ...                 ...          ...  \n",
       "5411              219.0                <NA>         2.76  \n",
       "5412               <NA>                <NA>         <NA>  \n",
       "5413               <NA>                <NA>         <NA>  \n",
       "5414               <NA>                <NA>         <NA>  \n",
       "5415             231.16                <NA>         2.23  \n",
       "\n",
       "[5416 rows x 7 columns]"
      ]
     },
     "execution_count": 12,
     "metadata": {},
     "output_type": "execute_result"
    }
   ],
   "source": [
    "species_data"
   ]
  },
  {
   "cell_type": "code",
   "execution_count": 13,
   "id": "e5ed2d6c",
   "metadata": {
    "slideshow": {
     "slide_type": "slide"
    }
   },
   "outputs": [
    {
     "data": {
      "text/plain": [
       "0       False\n",
       "1       False\n",
       "2       False\n",
       "3       False\n",
       "4       False\n",
       "        ...  \n",
       "5411    False\n",
       "5412     True\n",
       "5413     True\n",
       "5414     True\n",
       "5415    False\n",
       "Name: Litter Size, Length: 5416, dtype: bool"
      ]
     },
     "execution_count": 13,
     "metadata": {},
     "output_type": "execute_result"
    }
   ],
   "source": [
    "# how can we remove NA?\n",
    "is_na = species_data['Litter Size'].isna() \n",
    "# NOTE:  species_data['Litter Size'] == pd.NA will not work (try it out!)\n",
    "# NOTE:  species_data['Litter Size'] == <NA> will not work (try it out!)\n",
    "is_na"
   ]
  },
  {
   "cell_type": "code",
   "execution_count": 14,
   "id": "d2cbd345",
   "metadata": {
    "slideshow": {
     "slide_type": "fragment"
    }
   },
   "outputs": [
    {
     "data": {
      "text/html": [
       "<div>\n",
       "<style scoped>\n",
       "    .dataframe tbody tr th:only-of-type {\n",
       "        vertical-align: middle;\n",
       "    }\n",
       "\n",
       "    .dataframe tbody tr th {\n",
       "        vertical-align: top;\n",
       "    }\n",
       "\n",
       "    .dataframe thead th {\n",
       "        text-align: right;\n",
       "    }\n",
       "</style>\n",
       "<table border=\"1\" class=\"dataframe\">\n",
       "  <thead>\n",
       "    <tr style=\"text-align: right;\">\n",
       "      <th></th>\n",
       "      <th>Order</th>\n",
       "      <th>Binomial</th>\n",
       "      <th>Mass (g)</th>\n",
       "      <th>Maturity (days)</th>\n",
       "      <th>Interbirth (days)</th>\n",
       "      <th>Longevity (months)</th>\n",
       "      <th>Litter Size</th>\n",
       "    </tr>\n",
       "  </thead>\n",
       "  <tbody>\n",
       "    <tr>\n",
       "      <th>9</th>\n",
       "      <td>Primates</td>\n",
       "      <td>Callicebus discolor</td>\n",
       "      <td>&lt;NA&gt;</td>\n",
       "      <td>&lt;NA&gt;</td>\n",
       "      <td>&lt;NA&gt;</td>\n",
       "      <td>&lt;NA&gt;</td>\n",
       "      <td>&lt;NA&gt;</td>\n",
       "    </tr>\n",
       "    <tr>\n",
       "      <th>13</th>\n",
       "      <td>Primates</td>\n",
       "      <td>Callicebus lucifer</td>\n",
       "      <td>&lt;NA&gt;</td>\n",
       "      <td>&lt;NA&gt;</td>\n",
       "      <td>&lt;NA&gt;</td>\n",
       "      <td>&lt;NA&gt;</td>\n",
       "      <td>&lt;NA&gt;</td>\n",
       "    </tr>\n",
       "    <tr>\n",
       "      <th>14</th>\n",
       "      <td>Primates</td>\n",
       "      <td>Callicebus lugens</td>\n",
       "      <td>&lt;NA&gt;</td>\n",
       "      <td>&lt;NA&gt;</td>\n",
       "      <td>&lt;NA&gt;</td>\n",
       "      <td>&lt;NA&gt;</td>\n",
       "      <td>&lt;NA&gt;</td>\n",
       "    </tr>\n",
       "    <tr>\n",
       "      <th>15</th>\n",
       "      <td>Primates</td>\n",
       "      <td>Callicebus medemi</td>\n",
       "      <td>&lt;NA&gt;</td>\n",
       "      <td>&lt;NA&gt;</td>\n",
       "      <td>&lt;NA&gt;</td>\n",
       "      <td>&lt;NA&gt;</td>\n",
       "      <td>&lt;NA&gt;</td>\n",
       "    </tr>\n",
       "    <tr>\n",
       "      <th>16</th>\n",
       "      <td>Primates</td>\n",
       "      <td>Callicebus melanochir</td>\n",
       "      <td>&lt;NA&gt;</td>\n",
       "      <td>&lt;NA&gt;</td>\n",
       "      <td>&lt;NA&gt;</td>\n",
       "      <td>&lt;NA&gt;</td>\n",
       "      <td>&lt;NA&gt;</td>\n",
       "    </tr>\n",
       "    <tr>\n",
       "      <th>...</th>\n",
       "      <td>...</td>\n",
       "      <td>...</td>\n",
       "      <td>...</td>\n",
       "      <td>...</td>\n",
       "      <td>...</td>\n",
       "      <td>...</td>\n",
       "      <td>...</td>\n",
       "    </tr>\n",
       "    <tr>\n",
       "      <th>5409</th>\n",
       "      <td>Rodentia</td>\n",
       "      <td>Zygodontomys brunneus</td>\n",
       "      <td>75.59</td>\n",
       "      <td>&lt;NA&gt;</td>\n",
       "      <td>&lt;NA&gt;</td>\n",
       "      <td>&lt;NA&gt;</td>\n",
       "      <td>&lt;NA&gt;</td>\n",
       "    </tr>\n",
       "    <tr>\n",
       "      <th>5410</th>\n",
       "      <td>Rodentia</td>\n",
       "      <td>Zygogeomys trichopus</td>\n",
       "      <td>473.54</td>\n",
       "      <td>&lt;NA&gt;</td>\n",
       "      <td>&lt;NA&gt;</td>\n",
       "      <td>&lt;NA&gt;</td>\n",
       "      <td>&lt;NA&gt;</td>\n",
       "    </tr>\n",
       "    <tr>\n",
       "      <th>5412</th>\n",
       "      <td>Rodentia</td>\n",
       "      <td>Zyzomys maini</td>\n",
       "      <td>93.99</td>\n",
       "      <td>&lt;NA&gt;</td>\n",
       "      <td>&lt;NA&gt;</td>\n",
       "      <td>&lt;NA&gt;</td>\n",
       "      <td>&lt;NA&gt;</td>\n",
       "    </tr>\n",
       "    <tr>\n",
       "      <th>5413</th>\n",
       "      <td>Rodentia</td>\n",
       "      <td>Zyzomys palatilis</td>\n",
       "      <td>123.0</td>\n",
       "      <td>&lt;NA&gt;</td>\n",
       "      <td>&lt;NA&gt;</td>\n",
       "      <td>&lt;NA&gt;</td>\n",
       "      <td>&lt;NA&gt;</td>\n",
       "    </tr>\n",
       "    <tr>\n",
       "      <th>5414</th>\n",
       "      <td>Rodentia</td>\n",
       "      <td>Zyzomys pedunculatus</td>\n",
       "      <td>100.0</td>\n",
       "      <td>&lt;NA&gt;</td>\n",
       "      <td>&lt;NA&gt;</td>\n",
       "      <td>&lt;NA&gt;</td>\n",
       "      <td>&lt;NA&gt;</td>\n",
       "    </tr>\n",
       "  </tbody>\n",
       "</table>\n",
       "<p>2915 rows × 7 columns</p>\n",
       "</div>"
      ],
      "text/plain": [
       "         Order               Binomial  Mass (g)  Maturity (days)  \\\n",
       "9     Primates    Callicebus discolor      <NA>             <NA>   \n",
       "13    Primates     Callicebus lucifer      <NA>             <NA>   \n",
       "14    Primates      Callicebus lugens      <NA>             <NA>   \n",
       "15    Primates      Callicebus medemi      <NA>             <NA>   \n",
       "16    Primates  Callicebus melanochir      <NA>             <NA>   \n",
       "...        ...                    ...       ...              ...   \n",
       "5409  Rodentia  Zygodontomys brunneus     75.59             <NA>   \n",
       "5410  Rodentia   Zygogeomys trichopus    473.54             <NA>   \n",
       "5412  Rodentia          Zyzomys maini     93.99             <NA>   \n",
       "5413  Rodentia      Zyzomys palatilis     123.0             <NA>   \n",
       "5414  Rodentia   Zyzomys pedunculatus     100.0             <NA>   \n",
       "\n",
       "      Interbirth (days)  Longevity (months)  Litter Size  \n",
       "9                  <NA>                <NA>         <NA>  \n",
       "13                 <NA>                <NA>         <NA>  \n",
       "14                 <NA>                <NA>         <NA>  \n",
       "15                 <NA>                <NA>         <NA>  \n",
       "16                 <NA>                <NA>         <NA>  \n",
       "...                 ...                 ...          ...  \n",
       "5409               <NA>                <NA>         <NA>  \n",
       "5410               <NA>                <NA>         <NA>  \n",
       "5412               <NA>                <NA>         <NA>  \n",
       "5413               <NA>                <NA>         <NA>  \n",
       "5414               <NA>                <NA>         <NA>  \n",
       "\n",
       "[2915 rows x 7 columns]"
      ]
     },
     "execution_count": 14,
     "metadata": {},
     "output_type": "execute_result"
    }
   ],
   "source": [
    "# boolean filtering\n",
    "species_data[is_na]"
   ]
  },
  {
   "cell_type": "code",
   "execution_count": 15,
   "id": "fc4ec882",
   "metadata": {
    "slideshow": {
     "slide_type": "subslide"
    }
   },
   "outputs": [
    {
     "data": {
      "text/plain": [
       "0        True\n",
       "1        True\n",
       "2        True\n",
       "3        True\n",
       "4        True\n",
       "        ...  \n",
       "5411     True\n",
       "5412    False\n",
       "5413    False\n",
       "5414    False\n",
       "5415     True\n",
       "Name: Litter Size, Length: 5416, dtype: bool"
      ]
     },
     "metadata": {},
     "output_type": "display_data"
    }
   ],
   "source": [
    "# we want the rows where Litter Size is NOT null\n",
    "# flip the sign!\n",
    "display(~is_na)\n",
    "\n",
    "# NOTE:  species_data['Litter Size'] != pd.NA will not work (try it out!)\n",
    "# NOTE:  species_data['Litter Size'] != <NA> will not work (try it out!)"
   ]
  },
  {
   "cell_type": "code",
   "execution_count": 16,
   "id": "53bcac26",
   "metadata": {
    "slideshow": {
     "slide_type": "subslide"
    }
   },
   "outputs": [
    {
     "data": {
      "text/html": [
       "<div>\n",
       "<style scoped>\n",
       "    .dataframe tbody tr th:only-of-type {\n",
       "        vertical-align: middle;\n",
       "    }\n",
       "\n",
       "    .dataframe tbody tr th {\n",
       "        vertical-align: top;\n",
       "    }\n",
       "\n",
       "    .dataframe thead th {\n",
       "        text-align: right;\n",
       "    }\n",
       "</style>\n",
       "<table border=\"1\" class=\"dataframe\">\n",
       "  <thead>\n",
       "    <tr style=\"text-align: right;\">\n",
       "      <th></th>\n",
       "      <th>Order</th>\n",
       "      <th>Binomial</th>\n",
       "      <th>Mass (g)</th>\n",
       "      <th>Maturity (days)</th>\n",
       "      <th>Interbirth (days)</th>\n",
       "      <th>Longevity (months)</th>\n",
       "      <th>Litter Size</th>\n",
       "    </tr>\n",
       "  </thead>\n",
       "  <tbody>\n",
       "    <tr>\n",
       "      <th>2213</th>\n",
       "      <td>Proboscidea</td>\n",
       "      <td>Loxodonta africana</td>\n",
       "      <td>3824539.93</td>\n",
       "      <td>4977.64</td>\n",
       "      <td>1825.0</td>\n",
       "      <td>960.0</td>\n",
       "      <td>0.84</td>\n",
       "    </tr>\n",
       "    <tr>\n",
       "      <th>547</th>\n",
       "      <td>Diprotodontia</td>\n",
       "      <td>Lagostrophus fasciatus</td>\n",
       "      <td>1933.48</td>\n",
       "      <td>391.96</td>\n",
       "      <td>365.0</td>\n",
       "      <td>48.0</td>\n",
       "      <td>0.9</td>\n",
       "    </tr>\n",
       "    <tr>\n",
       "      <th>2296</th>\n",
       "      <td>Diprotodontia</td>\n",
       "      <td>Macropus parma</td>\n",
       "      <td>4156.62</td>\n",
       "      <td>600.21</td>\n",
       "      <td>213.0</td>\n",
       "      <td>120.0</td>\n",
       "      <td>0.9</td>\n",
       "    </tr>\n",
       "    <tr>\n",
       "      <th>5241</th>\n",
       "      <td>Cingulata</td>\n",
       "      <td>Tolypeutes tricinctus</td>\n",
       "      <td>1465.72</td>\n",
       "      <td>&lt;NA&gt;</td>\n",
       "      <td>&lt;NA&gt;</td>\n",
       "      <td>&lt;NA&gt;</td>\n",
       "      <td>0.93</td>\n",
       "    </tr>\n",
       "    <tr>\n",
       "      <th>2880</th>\n",
       "      <td>Afrosoricida</td>\n",
       "      <td>Neamblysomus julianae</td>\n",
       "      <td>21.99</td>\n",
       "      <td>&lt;NA&gt;</td>\n",
       "      <td>&lt;NA&gt;</td>\n",
       "      <td>&lt;NA&gt;</td>\n",
       "      <td>0.96</td>\n",
       "    </tr>\n",
       "    <tr>\n",
       "      <th>...</th>\n",
       "      <td>...</td>\n",
       "      <td>...</td>\n",
       "      <td>...</td>\n",
       "      <td>...</td>\n",
       "      <td>...</td>\n",
       "      <td>...</td>\n",
       "      <td>...</td>\n",
       "    </tr>\n",
       "    <tr>\n",
       "      <th>541</th>\n",
       "      <td>Rodentia</td>\n",
       "      <td>Heterocephalus glaber</td>\n",
       "      <td>39.36</td>\n",
       "      <td>&lt;NA&gt;</td>\n",
       "      <td>81.1</td>\n",
       "      <td>120.0</td>\n",
       "      <td>11.3</td>\n",
       "    </tr>\n",
       "    <tr>\n",
       "      <th>1755</th>\n",
       "      <td>Didelphimorphia</td>\n",
       "      <td>Marmosa mexicana</td>\n",
       "      <td>49.06</td>\n",
       "      <td>&lt;NA&gt;</td>\n",
       "      <td>&lt;NA&gt;</td>\n",
       "      <td>84.0</td>\n",
       "      <td>11.6</td>\n",
       "    </tr>\n",
       "    <tr>\n",
       "      <th>1939</th>\n",
       "      <td>Didelphimorphia</td>\n",
       "      <td>Monodelphis dimidiata</td>\n",
       "      <td>44.56</td>\n",
       "      <td>&lt;NA&gt;</td>\n",
       "      <td>334.58</td>\n",
       "      <td>12.0</td>\n",
       "      <td>12.0</td>\n",
       "    </tr>\n",
       "    <tr>\n",
       "      <th>1530</th>\n",
       "      <td>Didelphimorphia</td>\n",
       "      <td>Gracilinanus agilis</td>\n",
       "      <td>22.03</td>\n",
       "      <td>&lt;NA&gt;</td>\n",
       "      <td>&lt;NA&gt;</td>\n",
       "      <td>&lt;NA&gt;</td>\n",
       "      <td>12.0</td>\n",
       "    </tr>\n",
       "    <tr>\n",
       "      <th>5152</th>\n",
       "      <td>Afrosoricida</td>\n",
       "      <td>Tenrec ecaudatus</td>\n",
       "      <td>887.59</td>\n",
       "      <td>206.92</td>\n",
       "      <td>&lt;NA&gt;</td>\n",
       "      <td>75.6</td>\n",
       "      <td>16.89</td>\n",
       "    </tr>\n",
       "  </tbody>\n",
       "</table>\n",
       "<p>2501 rows × 7 columns</p>\n",
       "</div>"
      ],
      "text/plain": [
       "                Order                Binomial    Mass (g)  Maturity (days)  \\\n",
       "2213      Proboscidea      Loxodonta africana  3824539.93          4977.64   \n",
       "547     Diprotodontia  Lagostrophus fasciatus     1933.48           391.96   \n",
       "2296    Diprotodontia          Macropus parma     4156.62           600.21   \n",
       "5241        Cingulata   Tolypeutes tricinctus     1465.72             <NA>   \n",
       "2880     Afrosoricida   Neamblysomus julianae       21.99             <NA>   \n",
       "...               ...                     ...         ...              ...   \n",
       "541          Rodentia   Heterocephalus glaber       39.36             <NA>   \n",
       "1755  Didelphimorphia        Marmosa mexicana       49.06             <NA>   \n",
       "1939  Didelphimorphia   Monodelphis dimidiata       44.56             <NA>   \n",
       "1530  Didelphimorphia     Gracilinanus agilis       22.03             <NA>   \n",
       "5152     Afrosoricida        Tenrec ecaudatus      887.59           206.92   \n",
       "\n",
       "      Interbirth (days)  Longevity (months)  Litter Size  \n",
       "2213             1825.0               960.0         0.84  \n",
       "547               365.0                48.0          0.9  \n",
       "2296              213.0               120.0          0.9  \n",
       "5241               <NA>                <NA>         0.93  \n",
       "2880               <NA>                <NA>         0.96  \n",
       "...                 ...                 ...          ...  \n",
       "541                81.1               120.0         11.3  \n",
       "1755               <NA>                84.0         11.6  \n",
       "1939             334.58                12.0         12.0  \n",
       "1530               <NA>                <NA>         12.0  \n",
       "5152               <NA>                75.6        16.89  \n",
       "\n",
       "[2501 rows x 7 columns]"
      ]
     },
     "execution_count": 16,
     "metadata": {},
     "output_type": "execute_result"
    }
   ],
   "source": [
    "# boolean filtering!\n",
    "species_data[~is_na].sort_values(by='Litter Size')\n",
    "# species_data.dropna()"
   ]
  },
  {
   "cell_type": "code",
   "execution_count": 17,
   "id": "222d1361",
   "metadata": {
    "slideshow": {
     "slide_type": "subslide"
    }
   },
   "outputs": [
    {
     "data": {
      "text/plain": [
       "2213     0.84\n",
       "547       0.9\n",
       "2296      0.9\n",
       "5241     0.93\n",
       "2880     0.96\n",
       "        ...  \n",
       "541      11.3\n",
       "1755     11.6\n",
       "1939     12.0\n",
       "1530     12.0\n",
       "5152    16.89\n",
       "Name: Litter Size, Length: 2501, dtype: Float64"
      ]
     },
     "execution_count": 17,
     "metadata": {},
     "output_type": "execute_result"
    }
   ],
   "source": [
    "species_data[~is_na]['Litter Size'].sort_values()\n",
    "# notice how dataframe operations can be chained"
   ]
  },
  {
   "cell_type": "markdown",
   "id": "e608574e",
   "metadata": {
    "slideshow": {
     "slide_type": "slide"
    }
   },
   "source": [
    "### Data Science Question of the Day\n",
    "\n",
    "Are mammals that take longer go grow up (i.e, higher maturity age) at greater risk of extinction (IUCN status)?"
   ]
  },
  {
   "cell_type": "markdown",
   "id": "5a8d4571",
   "metadata": {
    "slideshow": {
     "slide_type": "subslide"
    }
   },
   "source": [
    "We have maturity age information for mammals in the `species_data['Maturity (days)]` column.\n",
    "\n",
    "Information about the Extinction level code is in a different data file! \n",
    "\n",
    "Let us read in `IUCN_status.csv` into a new DataFrame variable."
   ]
  },
  {
   "cell_type": "code",
   "execution_count": 18,
   "id": "f38f496e",
   "metadata": {
    "slideshow": {
     "slide_type": "slide"
    }
   },
   "outputs": [
    {
     "data": {
      "text/html": [
       "<div>\n",
       "<style scoped>\n",
       "    .dataframe tbody tr th:only-of-type {\n",
       "        vertical-align: middle;\n",
       "    }\n",
       "\n",
       "    .dataframe tbody tr th {\n",
       "        vertical-align: top;\n",
       "    }\n",
       "\n",
       "    .dataframe thead th {\n",
       "        text-align: right;\n",
       "    }\n",
       "</style>\n",
       "<table border=\"1\" class=\"dataframe\">\n",
       "  <thead>\n",
       "    <tr style=\"text-align: right;\">\n",
       "      <th></th>\n",
       "      <th>order</th>\n",
       "      <th>species</th>\n",
       "      <th>iucn_status</th>\n",
       "    </tr>\n",
       "  </thead>\n",
       "  <tbody>\n",
       "    <tr>\n",
       "      <th>0</th>\n",
       "      <td>Rodentia</td>\n",
       "      <td>Abditomys_latidens</td>\n",
       "      <td>DD</td>\n",
       "    </tr>\n",
       "    <tr>\n",
       "      <th>1</th>\n",
       "      <td>Rodentia</td>\n",
       "      <td>Abeomelomys_sevia</td>\n",
       "      <td>LC</td>\n",
       "    </tr>\n",
       "    <tr>\n",
       "      <th>2</th>\n",
       "      <td>Rodentia</td>\n",
       "      <td>Abrawayaomys_ruschii</td>\n",
       "      <td>LC</td>\n",
       "    </tr>\n",
       "    <tr>\n",
       "      <th>3</th>\n",
       "      <td>Rodentia</td>\n",
       "      <td>Abrocoma_bennettii</td>\n",
       "      <td>LC</td>\n",
       "    </tr>\n",
       "    <tr>\n",
       "      <th>4</th>\n",
       "      <td>Rodentia</td>\n",
       "      <td>Abrocoma_boliviensis</td>\n",
       "      <td>CR</td>\n",
       "    </tr>\n",
       "  </tbody>\n",
       "</table>\n",
       "</div>"
      ],
      "text/plain": [
       "      order               species iucn_status\n",
       "0  Rodentia    Abditomys_latidens          DD\n",
       "1  Rodentia     Abeomelomys_sevia          LC\n",
       "2  Rodentia  Abrawayaomys_ruschii          LC\n",
       "3  Rodentia    Abrocoma_bennettii          LC\n",
       "4  Rodentia  Abrocoma_boliviensis          CR"
      ]
     },
     "execution_count": 18,
     "metadata": {},
     "output_type": "execute_result"
    }
   ],
   "source": [
    "iucn_raw_data = pd.read_csv(\"iucn_status.csv\")\n",
    "iucn_data = iucn_raw_data.convert_dtypes()\n",
    "iucn_data.head()"
   ]
  },
  {
   "cell_type": "markdown",
   "id": "3b1e804d",
   "metadata": {
    "slideshow": {
     "slide_type": "slide"
    }
   },
   "source": [
    "### Merging Dataframes\n",
    "\n",
    "We often will want to combine information from two (or more) data files to answer a data science question.\n",
    "\n",
    "**Merging** is a `pandas` operation that *combines* the columns of two (or more) dataframes into a single mega-dataframe. \n",
    "\n",
    "How does `pandas` know which rows in each dataframe to merge together?\n",
    "- We will tell `pandas` to merge two dataframes by **matching on a specific column** that is present in both datasets. This column can be thought of as a lookup key to merge the information from both dataframes"
   ]
  },
  {
   "cell_type": "code",
   "execution_count": 19,
   "id": "2d885daf",
   "metadata": {
    "slideshow": {
     "slide_type": "subslide"
    }
   },
   "outputs": [
    {
     "data": {
      "text/html": [
       "<div>\n",
       "<style scoped>\n",
       "    .dataframe tbody tr th:only-of-type {\n",
       "        vertical-align: middle;\n",
       "    }\n",
       "\n",
       "    .dataframe tbody tr th {\n",
       "        vertical-align: top;\n",
       "    }\n",
       "\n",
       "    .dataframe thead th {\n",
       "        text-align: right;\n",
       "    }\n",
       "</style>\n",
       "<table border=\"1\" class=\"dataframe\">\n",
       "  <thead>\n",
       "    <tr style=\"text-align: right;\">\n",
       "      <th></th>\n",
       "      <th>Order</th>\n",
       "      <th>Binomial</th>\n",
       "      <th>Mass (g)</th>\n",
       "      <th>Maturity (days)</th>\n",
       "      <th>Interbirth (days)</th>\n",
       "      <th>Longevity (months)</th>\n",
       "      <th>Litter Size</th>\n",
       "    </tr>\n",
       "  </thead>\n",
       "  <tbody>\n",
       "    <tr>\n",
       "      <th>0</th>\n",
       "      <td>Artiodactyla</td>\n",
       "      <td>Camelus dromedarius</td>\n",
       "      <td>492714.47</td>\n",
       "      <td>1947.94</td>\n",
       "      <td>614.41</td>\n",
       "      <td>480.0</td>\n",
       "      <td>0.98</td>\n",
       "    </tr>\n",
       "    <tr>\n",
       "      <th>1</th>\n",
       "      <td>Carnivora</td>\n",
       "      <td>Canis adustus</td>\n",
       "      <td>10392.49</td>\n",
       "      <td>249.88</td>\n",
       "      <td>&lt;NA&gt;</td>\n",
       "      <td>137.0</td>\n",
       "      <td>4.5</td>\n",
       "    </tr>\n",
       "    <tr>\n",
       "      <th>2</th>\n",
       "      <td>Carnivora</td>\n",
       "      <td>Canis aureus</td>\n",
       "      <td>9658.7</td>\n",
       "      <td>371.23</td>\n",
       "      <td>365.0</td>\n",
       "      <td>192.0</td>\n",
       "      <td>3.74</td>\n",
       "    </tr>\n",
       "    <tr>\n",
       "      <th>3</th>\n",
       "      <td>Carnivora</td>\n",
       "      <td>Canis latrans</td>\n",
       "      <td>11989.1</td>\n",
       "      <td>372.9</td>\n",
       "      <td>365.0</td>\n",
       "      <td>262.0</td>\n",
       "      <td>5.72</td>\n",
       "    </tr>\n",
       "    <tr>\n",
       "      <th>4</th>\n",
       "      <td>Carnivora</td>\n",
       "      <td>Canis lupus</td>\n",
       "      <td>31756.51</td>\n",
       "      <td>679.37</td>\n",
       "      <td>365.0</td>\n",
       "      <td>354.0</td>\n",
       "      <td>4.98</td>\n",
       "    </tr>\n",
       "  </tbody>\n",
       "</table>\n",
       "</div>"
      ],
      "text/plain": [
       "          Order             Binomial   Mass (g)  Maturity (days)  \\\n",
       "0  Artiodactyla  Camelus dromedarius  492714.47          1947.94   \n",
       "1     Carnivora        Canis adustus   10392.49           249.88   \n",
       "2     Carnivora         Canis aureus     9658.7           371.23   \n",
       "3     Carnivora        Canis latrans    11989.1            372.9   \n",
       "4     Carnivora          Canis lupus   31756.51           679.37   \n",
       "\n",
       "   Interbirth (days)  Longevity (months)  Litter Size  \n",
       "0             614.41               480.0         0.98  \n",
       "1               <NA>               137.0          4.5  \n",
       "2              365.0               192.0         3.74  \n",
       "3              365.0               262.0         5.72  \n",
       "4              365.0               354.0         4.98  "
      ]
     },
     "execution_count": 19,
     "metadata": {},
     "output_type": "execute_result"
    }
   ],
   "source": [
    "species_data.head()"
   ]
  },
  {
   "cell_type": "code",
   "execution_count": 20,
   "id": "db6ad3c3",
   "metadata": {
    "slideshow": {
     "slide_type": "fragment"
    }
   },
   "outputs": [
    {
     "data": {
      "text/html": [
       "<div>\n",
       "<style scoped>\n",
       "    .dataframe tbody tr th:only-of-type {\n",
       "        vertical-align: middle;\n",
       "    }\n",
       "\n",
       "    .dataframe tbody tr th {\n",
       "        vertical-align: top;\n",
       "    }\n",
       "\n",
       "    .dataframe thead th {\n",
       "        text-align: right;\n",
       "    }\n",
       "</style>\n",
       "<table border=\"1\" class=\"dataframe\">\n",
       "  <thead>\n",
       "    <tr style=\"text-align: right;\">\n",
       "      <th></th>\n",
       "      <th>order</th>\n",
       "      <th>species</th>\n",
       "      <th>iucn_status</th>\n",
       "    </tr>\n",
       "  </thead>\n",
       "  <tbody>\n",
       "    <tr>\n",
       "      <th>0</th>\n",
       "      <td>Rodentia</td>\n",
       "      <td>Abditomys_latidens</td>\n",
       "      <td>DD</td>\n",
       "    </tr>\n",
       "    <tr>\n",
       "      <th>1</th>\n",
       "      <td>Rodentia</td>\n",
       "      <td>Abeomelomys_sevia</td>\n",
       "      <td>LC</td>\n",
       "    </tr>\n",
       "    <tr>\n",
       "      <th>2</th>\n",
       "      <td>Rodentia</td>\n",
       "      <td>Abrawayaomys_ruschii</td>\n",
       "      <td>LC</td>\n",
       "    </tr>\n",
       "    <tr>\n",
       "      <th>3</th>\n",
       "      <td>Rodentia</td>\n",
       "      <td>Abrocoma_bennettii</td>\n",
       "      <td>LC</td>\n",
       "    </tr>\n",
       "    <tr>\n",
       "      <th>4</th>\n",
       "      <td>Rodentia</td>\n",
       "      <td>Abrocoma_boliviensis</td>\n",
       "      <td>CR</td>\n",
       "    </tr>\n",
       "  </tbody>\n",
       "</table>\n",
       "</div>"
      ],
      "text/plain": [
       "      order               species iucn_status\n",
       "0  Rodentia    Abditomys_latidens          DD\n",
       "1  Rodentia     Abeomelomys_sevia          LC\n",
       "2  Rodentia  Abrawayaomys_ruschii          LC\n",
       "3  Rodentia    Abrocoma_bennettii          LC\n",
       "4  Rodentia  Abrocoma_boliviensis          CR"
      ]
     },
     "execution_count": 20,
     "metadata": {},
     "output_type": "execute_result"
    }
   ],
   "source": [
    "iucn_data.head()"
   ]
  },
  {
   "cell_type": "markdown",
   "id": "5172a6b9",
   "metadata": {
    "slideshow": {
     "slide_type": "slide"
    }
   },
   "source": [
    "### Data Transformations on String Columns\n",
    "\n",
    "We know we want to match the `iucn_data` and `species_data` dataframes on the column containing the name of the species.\n",
    "\n",
    "BUT, the format of the species name in both these dataframes in slightly different....\n",
    "\n",
    "- Camelus dromedarius (`species_data['Binomial`]) <==> Camelus_dromedarius (`iucn_data['species]`)\n",
    "\n",
    "\n",
    "`pandas` looks for an exact match of the column values. \n",
    "\n",
    "Let us transform `iucn_data['species']` to have the same format as `species_data['Binomial']`.\n",
    "- We want to *replace* the \"_\" in `iucn_data['species']` with a space."
   ]
  },
  {
   "cell_type": "code",
   "execution_count": 21,
   "id": "7ad79cfb",
   "metadata": {
    "slideshow": {
     "slide_type": "subslide"
    }
   },
   "outputs": [
    {
     "data": {
      "text/plain": [
       "'Camelus dromedarius'"
      ]
     },
     "execution_count": 21,
     "metadata": {},
     "output_type": "execute_result"
    }
   ],
   "source": [
    "# recall from pre-midterm python\n",
    "iucn_species_str = \"Camelus_dromedarius\"\n",
    "iucn_species_str.replace(\"_\", \" \")"
   ]
  },
  {
   "cell_type": "markdown",
   "id": "904b7790",
   "metadata": {
    "slideshow": {
     "slide_type": "subslide"
    }
   },
   "source": [
    "We can apply the same operation to all the values in the column (Series) in a single step (no `for` loops!)\n",
    "- recall we performed these transformations on numerical columns last lecture"
   ]
  },
  {
   "cell_type": "code",
   "execution_count": 22,
   "id": "717457b2",
   "metadata": {
    "slideshow": {
     "slide_type": "subslide"
    }
   },
   "outputs": [
    {
     "data": {
      "text/plain": [
       "0       1947.94\n",
       "1        249.88\n",
       "2        371.23\n",
       "3         372.9\n",
       "4        679.37\n",
       "         ...   \n",
       "5411     155.06\n",
       "5412       <NA>\n",
       "5413       <NA>\n",
       "5414       <NA>\n",
       "5415     155.06\n",
       "Name: Maturity (days), Length: 5416, dtype: Float64"
      ]
     },
     "execution_count": 22,
     "metadata": {},
     "output_type": "execute_result"
    }
   ],
   "source": [
    "# numerical\n",
    "species_data['Maturity (days)']"
   ]
  },
  {
   "cell_type": "code",
   "execution_count": 23,
   "id": "f3ed6701",
   "metadata": {
    "slideshow": {
     "slide_type": "fragment"
    }
   },
   "outputs": [
    {
     "data": {
      "text/plain": [
       "0       5.336822\n",
       "1       0.684603\n",
       "2       1.017068\n",
       "3       1.021644\n",
       "4       1.861288\n",
       "          ...   \n",
       "5411    0.424822\n",
       "5412        <NA>\n",
       "5413        <NA>\n",
       "5414        <NA>\n",
       "5415    0.424822\n",
       "Name: Maturity (days), Length: 5416, dtype: Float64"
      ]
     },
     "metadata": {},
     "output_type": "display_data"
    }
   ],
   "source": [
    "maturity_in_years = species_data['Maturity (days)'] / 365\n",
    "display(maturity_in_years)"
   ]
  },
  {
   "cell_type": "markdown",
   "id": "a09a127c",
   "metadata": {
    "slideshow": {
     "slide_type": "subslide"
    }
   },
   "source": [
    "With `string` columns, we need to use a slightly different format."
   ]
  },
  {
   "cell_type": "code",
   "execution_count": 24,
   "id": "dfd660e2",
   "metadata": {
    "slideshow": {
     "slide_type": "subslide"
    }
   },
   "outputs": [
    {
     "data": {
      "text/plain": [
       "0         Abditomys_latidens\n",
       "1          Abeomelomys_sevia\n",
       "2       Abrawayaomys_ruschii\n",
       "3         Abrocoma_bennettii\n",
       "4       Abrocoma_boliviensis\n",
       "                ...         \n",
       "5826         Zyzomys_argurus\n",
       "5827           Zyzomys_maini\n",
       "5828       Zyzomys_palatalis\n",
       "5829    Zyzomys_pedunculatus\n",
       "5830       Zyzomys_woodwardi\n",
       "Name: species, Length: 5831, dtype: string"
      ]
     },
     "execution_count": 24,
     "metadata": {},
     "output_type": "execute_result"
    }
   ],
   "source": [
    "iucn_data['species']"
   ]
  },
  {
   "cell_type": "code",
   "execution_count": 25,
   "id": "1d75d809",
   "metadata": {
    "slideshow": {
     "slide_type": "fragment"
    }
   },
   "outputs": [
    {
     "data": {
      "text/plain": [
       "0         ABDITOMYS_LATIDENS\n",
       "1          ABEOMELOMYS_SEVIA\n",
       "2       ABRAWAYAOMYS_RUSCHII\n",
       "3         ABROCOMA_BENNETTII\n",
       "4       ABROCOMA_BOLIVIENSIS\n",
       "                ...         \n",
       "5826         ZYZOMYS_ARGURUS\n",
       "5827           ZYZOMYS_MAINI\n",
       "5828       ZYZOMYS_PALATALIS\n",
       "5829    ZYZOMYS_PEDUNCULATUS\n",
       "5830       ZYZOMYS_WOODWARDI\n",
       "Name: species, Length: 5831, dtype: string"
      ]
     },
     "execution_count": 25,
     "metadata": {},
     "output_type": "execute_result"
    }
   ],
   "source": [
    "iucn_data['species'].str.upper()\n",
    "# NOTE the additional \".str\" before the transformation operation"
   ]
  },
  {
   "cell_type": "code",
   "execution_count": 26,
   "id": "338ab9dc",
   "metadata": {
    "slideshow": {
     "slide_type": "subslide"
    }
   },
   "outputs": [
    {
     "data": {
      "text/plain": [
       "0         Abditomys latidens\n",
       "1          Abeomelomys sevia\n",
       "2       Abrawayaomys ruschii\n",
       "3         Abrocoma bennettii\n",
       "4       Abrocoma boliviensis\n",
       "                ...         \n",
       "5826         Zyzomys argurus\n",
       "5827           Zyzomys maini\n",
       "5828       Zyzomys palatalis\n",
       "5829    Zyzomys pedunculatus\n",
       "5830       Zyzomys woodwardi\n",
       "Name: species, Length: 5831, dtype: string"
      ]
     },
     "execution_count": 26,
     "metadata": {},
     "output_type": "execute_result"
    }
   ],
   "source": [
    "# now let us try the replace operation\n",
    "iucn_data['species'].str.replace(\"_\", \" \")"
   ]
  },
  {
   "cell_type": "code",
   "execution_count": 27,
   "id": "1db5e922",
   "metadata": {
    "slideshow": {
     "slide_type": "subslide"
    }
   },
   "outputs": [],
   "source": [
    "# tada! add this as a new column\n",
    "iucn_data['species_formatted'] = iucn_data['species'].str.replace(\"_\", \" \")"
   ]
  },
  {
   "cell_type": "code",
   "execution_count": 28,
   "id": "bb1c369d",
   "metadata": {
    "slideshow": {
     "slide_type": "fragment"
    }
   },
   "outputs": [
    {
     "data": {
      "text/html": [
       "<div>\n",
       "<style scoped>\n",
       "    .dataframe tbody tr th:only-of-type {\n",
       "        vertical-align: middle;\n",
       "    }\n",
       "\n",
       "    .dataframe tbody tr th {\n",
       "        vertical-align: top;\n",
       "    }\n",
       "\n",
       "    .dataframe thead th {\n",
       "        text-align: right;\n",
       "    }\n",
       "</style>\n",
       "<table border=\"1\" class=\"dataframe\">\n",
       "  <thead>\n",
       "    <tr style=\"text-align: right;\">\n",
       "      <th></th>\n",
       "      <th>order</th>\n",
       "      <th>species</th>\n",
       "      <th>iucn_status</th>\n",
       "      <th>species_formatted</th>\n",
       "    </tr>\n",
       "  </thead>\n",
       "  <tbody>\n",
       "    <tr>\n",
       "      <th>0</th>\n",
       "      <td>Rodentia</td>\n",
       "      <td>Abditomys_latidens</td>\n",
       "      <td>DD</td>\n",
       "      <td>Abditomys latidens</td>\n",
       "    </tr>\n",
       "    <tr>\n",
       "      <th>1</th>\n",
       "      <td>Rodentia</td>\n",
       "      <td>Abeomelomys_sevia</td>\n",
       "      <td>LC</td>\n",
       "      <td>Abeomelomys sevia</td>\n",
       "    </tr>\n",
       "    <tr>\n",
       "      <th>2</th>\n",
       "      <td>Rodentia</td>\n",
       "      <td>Abrawayaomys_ruschii</td>\n",
       "      <td>LC</td>\n",
       "      <td>Abrawayaomys ruschii</td>\n",
       "    </tr>\n",
       "    <tr>\n",
       "      <th>3</th>\n",
       "      <td>Rodentia</td>\n",
       "      <td>Abrocoma_bennettii</td>\n",
       "      <td>LC</td>\n",
       "      <td>Abrocoma bennettii</td>\n",
       "    </tr>\n",
       "    <tr>\n",
       "      <th>4</th>\n",
       "      <td>Rodentia</td>\n",
       "      <td>Abrocoma_boliviensis</td>\n",
       "      <td>CR</td>\n",
       "      <td>Abrocoma boliviensis</td>\n",
       "    </tr>\n",
       "    <tr>\n",
       "      <th>...</th>\n",
       "      <td>...</td>\n",
       "      <td>...</td>\n",
       "      <td>...</td>\n",
       "      <td>...</td>\n",
       "    </tr>\n",
       "    <tr>\n",
       "      <th>5826</th>\n",
       "      <td>Rodentia</td>\n",
       "      <td>Zyzomys_argurus</td>\n",
       "      <td>LC</td>\n",
       "      <td>Zyzomys argurus</td>\n",
       "    </tr>\n",
       "    <tr>\n",
       "      <th>5827</th>\n",
       "      <td>Rodentia</td>\n",
       "      <td>Zyzomys_maini</td>\n",
       "      <td>VU</td>\n",
       "      <td>Zyzomys maini</td>\n",
       "    </tr>\n",
       "    <tr>\n",
       "      <th>5828</th>\n",
       "      <td>Rodentia</td>\n",
       "      <td>Zyzomys_palatalis</td>\n",
       "      <td>CR</td>\n",
       "      <td>Zyzomys palatalis</td>\n",
       "    </tr>\n",
       "    <tr>\n",
       "      <th>5829</th>\n",
       "      <td>Rodentia</td>\n",
       "      <td>Zyzomys_pedunculatus</td>\n",
       "      <td>CR</td>\n",
       "      <td>Zyzomys pedunculatus</td>\n",
       "    </tr>\n",
       "    <tr>\n",
       "      <th>5830</th>\n",
       "      <td>Rodentia</td>\n",
       "      <td>Zyzomys_woodwardi</td>\n",
       "      <td>LC</td>\n",
       "      <td>Zyzomys woodwardi</td>\n",
       "    </tr>\n",
       "  </tbody>\n",
       "</table>\n",
       "<p>5831 rows × 4 columns</p>\n",
       "</div>"
      ],
      "text/plain": [
       "         order               species iucn_status     species_formatted\n",
       "0     Rodentia    Abditomys_latidens          DD    Abditomys latidens\n",
       "1     Rodentia     Abeomelomys_sevia          LC     Abeomelomys sevia\n",
       "2     Rodentia  Abrawayaomys_ruschii          LC  Abrawayaomys ruschii\n",
       "3     Rodentia    Abrocoma_bennettii          LC    Abrocoma bennettii\n",
       "4     Rodentia  Abrocoma_boliviensis          CR  Abrocoma boliviensis\n",
       "...        ...                   ...         ...                   ...\n",
       "5826  Rodentia       Zyzomys_argurus          LC       Zyzomys argurus\n",
       "5827  Rodentia         Zyzomys_maini          VU         Zyzomys maini\n",
       "5828  Rodentia     Zyzomys_palatalis          CR     Zyzomys palatalis\n",
       "5829  Rodentia  Zyzomys_pedunculatus          CR  Zyzomys pedunculatus\n",
       "5830  Rodentia     Zyzomys_woodwardi          LC     Zyzomys woodwardi\n",
       "\n",
       "[5831 rows x 4 columns]"
      ]
     },
     "metadata": {},
     "output_type": "display_data"
    }
   ],
   "source": [
    "display(iucn_data)"
   ]
  },
  {
   "cell_type": "markdown",
   "id": "9bd17011",
   "metadata": {
    "slideshow": {
     "slide_type": "slide"
    }
   },
   "source": [
    "### The Merge Operation\n",
    "\n",
    "We can now ask `pandas` to combine the two dataframes by matching on:\n",
    "- the `Binomial` column in `species_data`\n",
    "- and the `species_formatted` column in `iucn_data`"
   ]
  },
  {
   "cell_type": "code",
   "execution_count": 29,
   "id": "b2210475",
   "metadata": {
    "slideshow": {
     "slide_type": "subslide"
    }
   },
   "outputs": [
    {
     "data": {
      "text/plain": [
       "0      Abditomys latidens\n",
       "1       Abeomelomys sevia\n",
       "2    Abrawayaomys ruschii\n",
       "3      Abrocoma bennettii\n",
       "4    Abrocoma boliviensis\n",
       "Name: species_formatted, dtype: string"
      ]
     },
     "metadata": {},
     "output_type": "display_data"
    },
    {
     "data": {
      "text/plain": [
       "0    Camelus dromedarius\n",
       "1          Canis adustus\n",
       "2           Canis aureus\n",
       "3          Canis latrans\n",
       "4            Canis lupus\n",
       "Name: Binomial, dtype: string"
      ]
     },
     "metadata": {},
     "output_type": "display_data"
    }
   ],
   "source": [
    "display(iucn_data['species_formatted'].head())\n",
    "display(species_data['Binomial'].head())"
   ]
  },
  {
   "cell_type": "markdown",
   "id": "8dcb65e2",
   "metadata": {
    "slideshow": {
     "slide_type": "slide"
    }
   },
   "source": [
    "Formally, we merge two `DataFrames` using a `pandas` function called `merge`.\n",
    "We'll use `merge` with four arguments:\n",
    "\n",
    "- `left`: the first `DataFrame` to merge\n",
    "- `right`: the second `DataFrame` to merge\n",
    "- `left_on`: the name of the column in the `left` `DataFrame` to match with\n",
    "- `right_on`: the name of the column in the `right` `DataFrame` to match with"
   ]
  },
  {
   "cell_type": "code",
   "execution_count": 30,
   "id": "244eae58",
   "metadata": {
    "slideshow": {
     "slide_type": "subslide"
    }
   },
   "outputs": [],
   "source": [
    "combined_data = pd.merge(\n",
    "    left=species_data,\n",
    "    right=iucn_data,\n",
    "    left_on=\"Binomial\",\n",
    "    right_on=\"species_formatted\"\n",
    ")"
   ]
  },
  {
   "cell_type": "code",
   "execution_count": 31,
   "id": "75b849c9",
   "metadata": {
    "slideshow": {
     "slide_type": "subslide"
    }
   },
   "outputs": [
    {
     "data": {
      "text/html": [
       "<div>\n",
       "<style scoped>\n",
       "    .dataframe tbody tr th:only-of-type {\n",
       "        vertical-align: middle;\n",
       "    }\n",
       "\n",
       "    .dataframe tbody tr th {\n",
       "        vertical-align: top;\n",
       "    }\n",
       "\n",
       "    .dataframe thead th {\n",
       "        text-align: right;\n",
       "    }\n",
       "</style>\n",
       "<table border=\"1\" class=\"dataframe\">\n",
       "  <thead>\n",
       "    <tr style=\"text-align: right;\">\n",
       "      <th></th>\n",
       "      <th>Order</th>\n",
       "      <th>Binomial</th>\n",
       "      <th>Mass (g)</th>\n",
       "      <th>Maturity (days)</th>\n",
       "      <th>Interbirth (days)</th>\n",
       "      <th>Longevity (months)</th>\n",
       "      <th>Litter Size</th>\n",
       "      <th>order</th>\n",
       "      <th>species</th>\n",
       "      <th>iucn_status</th>\n",
       "      <th>species_formatted</th>\n",
       "    </tr>\n",
       "  </thead>\n",
       "  <tbody>\n",
       "    <tr>\n",
       "      <th>0</th>\n",
       "      <td>Artiodactyla</td>\n",
       "      <td>Camelus dromedarius</td>\n",
       "      <td>492714.47</td>\n",
       "      <td>1947.94</td>\n",
       "      <td>614.41</td>\n",
       "      <td>480.0</td>\n",
       "      <td>0.98</td>\n",
       "      <td>Cetartiodactyla</td>\n",
       "      <td>Camelus_dromedarius</td>\n",
       "      <td>DD</td>\n",
       "      <td>Camelus dromedarius</td>\n",
       "    </tr>\n",
       "    <tr>\n",
       "      <th>1</th>\n",
       "      <td>Carnivora</td>\n",
       "      <td>Canis adustus</td>\n",
       "      <td>10392.49</td>\n",
       "      <td>249.88</td>\n",
       "      <td>&lt;NA&gt;</td>\n",
       "      <td>137.0</td>\n",
       "      <td>4.5</td>\n",
       "      <td>Carnivora</td>\n",
       "      <td>Canis_adustus</td>\n",
       "      <td>LC</td>\n",
       "      <td>Canis adustus</td>\n",
       "    </tr>\n",
       "    <tr>\n",
       "      <th>2</th>\n",
       "      <td>Carnivora</td>\n",
       "      <td>Canis aureus</td>\n",
       "      <td>9658.7</td>\n",
       "      <td>371.23</td>\n",
       "      <td>365.0</td>\n",
       "      <td>192.0</td>\n",
       "      <td>3.74</td>\n",
       "      <td>Carnivora</td>\n",
       "      <td>Canis_aureus</td>\n",
       "      <td>LC</td>\n",
       "      <td>Canis aureus</td>\n",
       "    </tr>\n",
       "    <tr>\n",
       "      <th>3</th>\n",
       "      <td>Carnivora</td>\n",
       "      <td>Canis latrans</td>\n",
       "      <td>11989.1</td>\n",
       "      <td>372.9</td>\n",
       "      <td>365.0</td>\n",
       "      <td>262.0</td>\n",
       "      <td>5.72</td>\n",
       "      <td>Carnivora</td>\n",
       "      <td>Canis_latrans</td>\n",
       "      <td>LC</td>\n",
       "      <td>Canis latrans</td>\n",
       "    </tr>\n",
       "    <tr>\n",
       "      <th>4</th>\n",
       "      <td>Carnivora</td>\n",
       "      <td>Canis lupus</td>\n",
       "      <td>31756.51</td>\n",
       "      <td>679.37</td>\n",
       "      <td>365.0</td>\n",
       "      <td>354.0</td>\n",
       "      <td>4.98</td>\n",
       "      <td>Carnivora</td>\n",
       "      <td>Canis_lupus</td>\n",
       "      <td>LC</td>\n",
       "      <td>Canis lupus</td>\n",
       "    </tr>\n",
       "    <tr>\n",
       "      <th>...</th>\n",
       "      <td>...</td>\n",
       "      <td>...</td>\n",
       "      <td>...</td>\n",
       "      <td>...</td>\n",
       "      <td>...</td>\n",
       "      <td>...</td>\n",
       "      <td>...</td>\n",
       "      <td>...</td>\n",
       "      <td>...</td>\n",
       "      <td>...</td>\n",
       "      <td>...</td>\n",
       "    </tr>\n",
       "    <tr>\n",
       "      <th>4941</th>\n",
       "      <td>Rodentia</td>\n",
       "      <td>Zygogeomys trichopus</td>\n",
       "      <td>473.54</td>\n",
       "      <td>&lt;NA&gt;</td>\n",
       "      <td>&lt;NA&gt;</td>\n",
       "      <td>&lt;NA&gt;</td>\n",
       "      <td>&lt;NA&gt;</td>\n",
       "      <td>Rodentia</td>\n",
       "      <td>Zygogeomys_trichopus</td>\n",
       "      <td>EN</td>\n",
       "      <td>Zygogeomys trichopus</td>\n",
       "    </tr>\n",
       "    <tr>\n",
       "      <th>4942</th>\n",
       "      <td>Rodentia</td>\n",
       "      <td>Zyzomys argurus</td>\n",
       "      <td>40.42</td>\n",
       "      <td>155.06</td>\n",
       "      <td>219.0</td>\n",
       "      <td>&lt;NA&gt;</td>\n",
       "      <td>2.76</td>\n",
       "      <td>Rodentia</td>\n",
       "      <td>Zyzomys_argurus</td>\n",
       "      <td>LC</td>\n",
       "      <td>Zyzomys argurus</td>\n",
       "    </tr>\n",
       "    <tr>\n",
       "      <th>4943</th>\n",
       "      <td>Rodentia</td>\n",
       "      <td>Zyzomys maini</td>\n",
       "      <td>93.99</td>\n",
       "      <td>&lt;NA&gt;</td>\n",
       "      <td>&lt;NA&gt;</td>\n",
       "      <td>&lt;NA&gt;</td>\n",
       "      <td>&lt;NA&gt;</td>\n",
       "      <td>Rodentia</td>\n",
       "      <td>Zyzomys_maini</td>\n",
       "      <td>VU</td>\n",
       "      <td>Zyzomys maini</td>\n",
       "    </tr>\n",
       "    <tr>\n",
       "      <th>4944</th>\n",
       "      <td>Rodentia</td>\n",
       "      <td>Zyzomys pedunculatus</td>\n",
       "      <td>100.0</td>\n",
       "      <td>&lt;NA&gt;</td>\n",
       "      <td>&lt;NA&gt;</td>\n",
       "      <td>&lt;NA&gt;</td>\n",
       "      <td>&lt;NA&gt;</td>\n",
       "      <td>Rodentia</td>\n",
       "      <td>Zyzomys_pedunculatus</td>\n",
       "      <td>CR</td>\n",
       "      <td>Zyzomys pedunculatus</td>\n",
       "    </tr>\n",
       "    <tr>\n",
       "      <th>4945</th>\n",
       "      <td>Rodentia</td>\n",
       "      <td>Zyzomys woodwardi</td>\n",
       "      <td>95.02</td>\n",
       "      <td>155.06</td>\n",
       "      <td>231.16</td>\n",
       "      <td>&lt;NA&gt;</td>\n",
       "      <td>2.23</td>\n",
       "      <td>Rodentia</td>\n",
       "      <td>Zyzomys_woodwardi</td>\n",
       "      <td>LC</td>\n",
       "      <td>Zyzomys woodwardi</td>\n",
       "    </tr>\n",
       "  </tbody>\n",
       "</table>\n",
       "<p>4946 rows × 11 columns</p>\n",
       "</div>"
      ],
      "text/plain": [
       "             Order              Binomial   Mass (g)  Maturity (days)  \\\n",
       "0     Artiodactyla   Camelus dromedarius  492714.47          1947.94   \n",
       "1        Carnivora         Canis adustus   10392.49           249.88   \n",
       "2        Carnivora          Canis aureus     9658.7           371.23   \n",
       "3        Carnivora         Canis latrans    11989.1            372.9   \n",
       "4        Carnivora           Canis lupus   31756.51           679.37   \n",
       "...            ...                   ...        ...              ...   \n",
       "4941      Rodentia  Zygogeomys trichopus     473.54             <NA>   \n",
       "4942      Rodentia       Zyzomys argurus      40.42           155.06   \n",
       "4943      Rodentia         Zyzomys maini      93.99             <NA>   \n",
       "4944      Rodentia  Zyzomys pedunculatus      100.0             <NA>   \n",
       "4945      Rodentia     Zyzomys woodwardi      95.02           155.06   \n",
       "\n",
       "      Interbirth (days)  Longevity (months)  Litter Size            order  \\\n",
       "0                614.41               480.0         0.98  Cetartiodactyla   \n",
       "1                  <NA>               137.0          4.5        Carnivora   \n",
       "2                 365.0               192.0         3.74        Carnivora   \n",
       "3                 365.0               262.0         5.72        Carnivora   \n",
       "4                 365.0               354.0         4.98        Carnivora   \n",
       "...                 ...                 ...          ...              ...   \n",
       "4941               <NA>                <NA>         <NA>         Rodentia   \n",
       "4942              219.0                <NA>         2.76         Rodentia   \n",
       "4943               <NA>                <NA>         <NA>         Rodentia   \n",
       "4944               <NA>                <NA>         <NA>         Rodentia   \n",
       "4945             231.16                <NA>         2.23         Rodentia   \n",
       "\n",
       "                   species iucn_status     species_formatted  \n",
       "0      Camelus_dromedarius          DD   Camelus dromedarius  \n",
       "1            Canis_adustus          LC         Canis adustus  \n",
       "2             Canis_aureus          LC          Canis aureus  \n",
       "3            Canis_latrans          LC         Canis latrans  \n",
       "4              Canis_lupus          LC           Canis lupus  \n",
       "...                    ...         ...                   ...  \n",
       "4941  Zygogeomys_trichopus          EN  Zygogeomys trichopus  \n",
       "4942       Zyzomys_argurus          LC       Zyzomys argurus  \n",
       "4943         Zyzomys_maini          VU         Zyzomys maini  \n",
       "4944  Zyzomys_pedunculatus          CR  Zyzomys pedunculatus  \n",
       "4945     Zyzomys_woodwardi          LC     Zyzomys woodwardi  \n",
       "\n",
       "[4946 rows x 11 columns]"
      ]
     },
     "metadata": {},
     "output_type": "display_data"
    }
   ],
   "source": [
    "display(combined_data)"
   ]
  },
  {
   "cell_type": "code",
   "execution_count": 32,
   "id": "ff47e77c",
   "metadata": {},
   "outputs": [
    {
     "name": "stdout",
     "output_type": "stream",
     "text": [
      "7 4 11\n",
      "5416 5831 4946\n"
     ]
    }
   ],
   "source": [
    "print(len(species_data.columns), len(iucn_data.columns), len(combined_data.columns))\n",
    "print(len(species_data), len(iucn_data), len(combined_data))\n",
    "# only the species present in both dataframes are in the combined dataframe"
   ]
  },
  {
   "cell_type": "markdown",
   "id": "95474de0",
   "metadata": {
    "slideshow": {
     "slide_type": "slide"
    }
   },
   "source": [
    "### Further cleaning\n",
    "\n",
    "We have information about `order` in both dataframes: `species_data['Order']` and `iucn_data['order']`.\n",
    "\n",
    "Do they always match?"
   ]
  },
  {
   "cell_type": "code",
   "execution_count": 33,
   "id": "8e7977d4",
   "metadata": {
    "slideshow": {
     "slide_type": "subslide"
    }
   },
   "outputs": [
    {
     "data": {
      "text/html": [
       "<div>\n",
       "<style scoped>\n",
       "    .dataframe tbody tr th:only-of-type {\n",
       "        vertical-align: middle;\n",
       "    }\n",
       "\n",
       "    .dataframe tbody tr th {\n",
       "        vertical-align: top;\n",
       "    }\n",
       "\n",
       "    .dataframe thead th {\n",
       "        text-align: right;\n",
       "    }\n",
       "</style>\n",
       "<table border=\"1\" class=\"dataframe\">\n",
       "  <thead>\n",
       "    <tr style=\"text-align: right;\">\n",
       "      <th></th>\n",
       "      <th>Order</th>\n",
       "      <th>Binomial</th>\n",
       "      <th>Mass (g)</th>\n",
       "      <th>Maturity (days)</th>\n",
       "      <th>Interbirth (days)</th>\n",
       "      <th>Longevity (months)</th>\n",
       "      <th>Litter Size</th>\n",
       "      <th>order</th>\n",
       "      <th>species</th>\n",
       "      <th>iucn_status</th>\n",
       "      <th>species_formatted</th>\n",
       "    </tr>\n",
       "  </thead>\n",
       "  <tbody>\n",
       "    <tr>\n",
       "      <th>0</th>\n",
       "      <td>Artiodactyla</td>\n",
       "      <td>Camelus dromedarius</td>\n",
       "      <td>492714.47</td>\n",
       "      <td>1947.94</td>\n",
       "      <td>614.41</td>\n",
       "      <td>480.0</td>\n",
       "      <td>0.98</td>\n",
       "      <td>Cetartiodactyla</td>\n",
       "      <td>Camelus_dromedarius</td>\n",
       "      <td>DD</td>\n",
       "      <td>Camelus dromedarius</td>\n",
       "    </tr>\n",
       "    <tr>\n",
       "      <th>1</th>\n",
       "      <td>Carnivora</td>\n",
       "      <td>Canis adustus</td>\n",
       "      <td>10392.49</td>\n",
       "      <td>249.88</td>\n",
       "      <td>&lt;NA&gt;</td>\n",
       "      <td>137.0</td>\n",
       "      <td>4.5</td>\n",
       "      <td>Carnivora</td>\n",
       "      <td>Canis_adustus</td>\n",
       "      <td>LC</td>\n",
       "      <td>Canis adustus</td>\n",
       "    </tr>\n",
       "    <tr>\n",
       "      <th>2</th>\n",
       "      <td>Carnivora</td>\n",
       "      <td>Canis aureus</td>\n",
       "      <td>9658.7</td>\n",
       "      <td>371.23</td>\n",
       "      <td>365.0</td>\n",
       "      <td>192.0</td>\n",
       "      <td>3.74</td>\n",
       "      <td>Carnivora</td>\n",
       "      <td>Canis_aureus</td>\n",
       "      <td>LC</td>\n",
       "      <td>Canis aureus</td>\n",
       "    </tr>\n",
       "    <tr>\n",
       "      <th>3</th>\n",
       "      <td>Carnivora</td>\n",
       "      <td>Canis latrans</td>\n",
       "      <td>11989.1</td>\n",
       "      <td>372.9</td>\n",
       "      <td>365.0</td>\n",
       "      <td>262.0</td>\n",
       "      <td>5.72</td>\n",
       "      <td>Carnivora</td>\n",
       "      <td>Canis_latrans</td>\n",
       "      <td>LC</td>\n",
       "      <td>Canis latrans</td>\n",
       "    </tr>\n",
       "    <tr>\n",
       "      <th>4</th>\n",
       "      <td>Carnivora</td>\n",
       "      <td>Canis lupus</td>\n",
       "      <td>31756.51</td>\n",
       "      <td>679.37</td>\n",
       "      <td>365.0</td>\n",
       "      <td>354.0</td>\n",
       "      <td>4.98</td>\n",
       "      <td>Carnivora</td>\n",
       "      <td>Canis_lupus</td>\n",
       "      <td>LC</td>\n",
       "      <td>Canis lupus</td>\n",
       "    </tr>\n",
       "  </tbody>\n",
       "</table>\n",
       "</div>"
      ],
      "text/plain": [
       "          Order             Binomial   Mass (g)  Maturity (days)  \\\n",
       "0  Artiodactyla  Camelus dromedarius  492714.47          1947.94   \n",
       "1     Carnivora        Canis adustus   10392.49           249.88   \n",
       "2     Carnivora         Canis aureus     9658.7           371.23   \n",
       "3     Carnivora        Canis latrans    11989.1            372.9   \n",
       "4     Carnivora          Canis lupus   31756.51           679.37   \n",
       "\n",
       "   Interbirth (days)  Longevity (months)  Litter Size            order  \\\n",
       "0             614.41               480.0         0.98  Cetartiodactyla   \n",
       "1               <NA>               137.0          4.5        Carnivora   \n",
       "2              365.0               192.0         3.74        Carnivora   \n",
       "3              365.0               262.0         5.72        Carnivora   \n",
       "4              365.0               354.0         4.98        Carnivora   \n",
       "\n",
       "               species iucn_status    species_formatted  \n",
       "0  Camelus_dromedarius          DD  Camelus dromedarius  \n",
       "1        Canis_adustus          LC        Canis adustus  \n",
       "2         Canis_aureus          LC         Canis aureus  \n",
       "3        Canis_latrans          LC        Canis latrans  \n",
       "4          Canis_lupus          LC          Canis lupus  "
      ]
     },
     "execution_count": 33,
     "metadata": {},
     "output_type": "execute_result"
    }
   ],
   "source": [
    "combined_data.head()"
   ]
  },
  {
   "cell_type": "code",
   "execution_count": 34,
   "id": "957cddba",
   "metadata": {
    "slideshow": {
     "slide_type": "subslide"
    }
   },
   "outputs": [],
   "source": [
    "# let us check if they match\n",
    "is_order_match = combined_data['Order'] == combined_data['order']"
   ]
  },
  {
   "cell_type": "code",
   "execution_count": 35,
   "id": "253a5eed",
   "metadata": {
    "slideshow": {
     "slide_type": "fragment"
    }
   },
   "outputs": [
    {
     "data": {
      "text/plain": [
       "0       False\n",
       "1        True\n",
       "2        True\n",
       "3        True\n",
       "4        True\n",
       "        ...  \n",
       "4941     True\n",
       "4942     True\n",
       "4943     True\n",
       "4944     True\n",
       "4945     True\n",
       "Length: 4946, dtype: boolean"
      ]
     },
     "execution_count": 35,
     "metadata": {},
     "output_type": "execute_result"
    }
   ],
   "source": [
    "is_order_match"
   ]
  },
  {
   "cell_type": "code",
   "execution_count": 36,
   "id": "25e30a8b",
   "metadata": {
    "slideshow": {
     "slide_type": "subslide"
    }
   },
   "outputs": [
    {
     "data": {
      "text/plain": [
       "True     4208\n",
       "False     738\n",
       "dtype: Int64"
      ]
     },
     "execution_count": 36,
     "metadata": {},
     "output_type": "execute_result"
    }
   ],
   "source": [
    "is_order_match.value_counts()"
   ]
  },
  {
   "cell_type": "code",
   "execution_count": 37,
   "id": "10ab297e",
   "metadata": {
    "slideshow": {
     "slide_type": "slide"
    }
   },
   "outputs": [
    {
     "data": {
      "text/html": [
       "<div>\n",
       "<style scoped>\n",
       "    .dataframe tbody tr th:only-of-type {\n",
       "        vertical-align: middle;\n",
       "    }\n",
       "\n",
       "    .dataframe tbody tr th {\n",
       "        vertical-align: top;\n",
       "    }\n",
       "\n",
       "    .dataframe thead th {\n",
       "        text-align: right;\n",
       "    }\n",
       "</style>\n",
       "<table border=\"1\" class=\"dataframe\">\n",
       "  <thead>\n",
       "    <tr style=\"text-align: right;\">\n",
       "      <th></th>\n",
       "      <th>Order</th>\n",
       "      <th>Binomial</th>\n",
       "      <th>Mass (g)</th>\n",
       "      <th>Maturity (days)</th>\n",
       "      <th>Interbirth (days)</th>\n",
       "      <th>Longevity (months)</th>\n",
       "      <th>Litter Size</th>\n",
       "      <th>order</th>\n",
       "      <th>species</th>\n",
       "      <th>iucn_status</th>\n",
       "      <th>species_formatted</th>\n",
       "    </tr>\n",
       "  </thead>\n",
       "  <tbody>\n",
       "    <tr>\n",
       "      <th>1</th>\n",
       "      <td>Carnivora</td>\n",
       "      <td>Canis adustus</td>\n",
       "      <td>10392.49</td>\n",
       "      <td>249.88</td>\n",
       "      <td>&lt;NA&gt;</td>\n",
       "      <td>137.0</td>\n",
       "      <td>4.5</td>\n",
       "      <td>Carnivora</td>\n",
       "      <td>Canis_adustus</td>\n",
       "      <td>LC</td>\n",
       "      <td>Canis adustus</td>\n",
       "    </tr>\n",
       "    <tr>\n",
       "      <th>2</th>\n",
       "      <td>Carnivora</td>\n",
       "      <td>Canis aureus</td>\n",
       "      <td>9658.7</td>\n",
       "      <td>371.23</td>\n",
       "      <td>365.0</td>\n",
       "      <td>192.0</td>\n",
       "      <td>3.74</td>\n",
       "      <td>Carnivora</td>\n",
       "      <td>Canis_aureus</td>\n",
       "      <td>LC</td>\n",
       "      <td>Canis aureus</td>\n",
       "    </tr>\n",
       "    <tr>\n",
       "      <th>3</th>\n",
       "      <td>Carnivora</td>\n",
       "      <td>Canis latrans</td>\n",
       "      <td>11989.1</td>\n",
       "      <td>372.9</td>\n",
       "      <td>365.0</td>\n",
       "      <td>262.0</td>\n",
       "      <td>5.72</td>\n",
       "      <td>Carnivora</td>\n",
       "      <td>Canis_latrans</td>\n",
       "      <td>LC</td>\n",
       "      <td>Canis latrans</td>\n",
       "    </tr>\n",
       "    <tr>\n",
       "      <th>4</th>\n",
       "      <td>Carnivora</td>\n",
       "      <td>Canis lupus</td>\n",
       "      <td>31756.51</td>\n",
       "      <td>679.37</td>\n",
       "      <td>365.0</td>\n",
       "      <td>354.0</td>\n",
       "      <td>4.98</td>\n",
       "      <td>Carnivora</td>\n",
       "      <td>Canis_lupus</td>\n",
       "      <td>LC</td>\n",
       "      <td>Canis lupus</td>\n",
       "    </tr>\n",
       "    <tr>\n",
       "      <th>6</th>\n",
       "      <td>Primates</td>\n",
       "      <td>Callicebus cupreus</td>\n",
       "      <td>1117.02</td>\n",
       "      <td>&lt;NA&gt;</td>\n",
       "      <td>395.41</td>\n",
       "      <td>&lt;NA&gt;</td>\n",
       "      <td>1.01</td>\n",
       "      <td>Primates</td>\n",
       "      <td>Callicebus_cupreus</td>\n",
       "      <td>LC</td>\n",
       "      <td>Callicebus cupreus</td>\n",
       "    </tr>\n",
       "    <tr>\n",
       "      <th>...</th>\n",
       "      <td>...</td>\n",
       "      <td>...</td>\n",
       "      <td>...</td>\n",
       "      <td>...</td>\n",
       "      <td>...</td>\n",
       "      <td>...</td>\n",
       "      <td>...</td>\n",
       "      <td>...</td>\n",
       "      <td>...</td>\n",
       "      <td>...</td>\n",
       "      <td>...</td>\n",
       "    </tr>\n",
       "    <tr>\n",
       "      <th>4941</th>\n",
       "      <td>Rodentia</td>\n",
       "      <td>Zygogeomys trichopus</td>\n",
       "      <td>473.54</td>\n",
       "      <td>&lt;NA&gt;</td>\n",
       "      <td>&lt;NA&gt;</td>\n",
       "      <td>&lt;NA&gt;</td>\n",
       "      <td>&lt;NA&gt;</td>\n",
       "      <td>Rodentia</td>\n",
       "      <td>Zygogeomys_trichopus</td>\n",
       "      <td>EN</td>\n",
       "      <td>Zygogeomys trichopus</td>\n",
       "    </tr>\n",
       "    <tr>\n",
       "      <th>4942</th>\n",
       "      <td>Rodentia</td>\n",
       "      <td>Zyzomys argurus</td>\n",
       "      <td>40.42</td>\n",
       "      <td>155.06</td>\n",
       "      <td>219.0</td>\n",
       "      <td>&lt;NA&gt;</td>\n",
       "      <td>2.76</td>\n",
       "      <td>Rodentia</td>\n",
       "      <td>Zyzomys_argurus</td>\n",
       "      <td>LC</td>\n",
       "      <td>Zyzomys argurus</td>\n",
       "    </tr>\n",
       "    <tr>\n",
       "      <th>4943</th>\n",
       "      <td>Rodentia</td>\n",
       "      <td>Zyzomys maini</td>\n",
       "      <td>93.99</td>\n",
       "      <td>&lt;NA&gt;</td>\n",
       "      <td>&lt;NA&gt;</td>\n",
       "      <td>&lt;NA&gt;</td>\n",
       "      <td>&lt;NA&gt;</td>\n",
       "      <td>Rodentia</td>\n",
       "      <td>Zyzomys_maini</td>\n",
       "      <td>VU</td>\n",
       "      <td>Zyzomys maini</td>\n",
       "    </tr>\n",
       "    <tr>\n",
       "      <th>4944</th>\n",
       "      <td>Rodentia</td>\n",
       "      <td>Zyzomys pedunculatus</td>\n",
       "      <td>100.0</td>\n",
       "      <td>&lt;NA&gt;</td>\n",
       "      <td>&lt;NA&gt;</td>\n",
       "      <td>&lt;NA&gt;</td>\n",
       "      <td>&lt;NA&gt;</td>\n",
       "      <td>Rodentia</td>\n",
       "      <td>Zyzomys_pedunculatus</td>\n",
       "      <td>CR</td>\n",
       "      <td>Zyzomys pedunculatus</td>\n",
       "    </tr>\n",
       "    <tr>\n",
       "      <th>4945</th>\n",
       "      <td>Rodentia</td>\n",
       "      <td>Zyzomys woodwardi</td>\n",
       "      <td>95.02</td>\n",
       "      <td>155.06</td>\n",
       "      <td>231.16</td>\n",
       "      <td>&lt;NA&gt;</td>\n",
       "      <td>2.23</td>\n",
       "      <td>Rodentia</td>\n",
       "      <td>Zyzomys_woodwardi</td>\n",
       "      <td>LC</td>\n",
       "      <td>Zyzomys woodwardi</td>\n",
       "    </tr>\n",
       "  </tbody>\n",
       "</table>\n",
       "<p>4208 rows × 11 columns</p>\n",
       "</div>"
      ],
      "text/plain": [
       "          Order              Binomial  Mass (g)  Maturity (days)  \\\n",
       "1     Carnivora         Canis adustus  10392.49           249.88   \n",
       "2     Carnivora          Canis aureus    9658.7           371.23   \n",
       "3     Carnivora         Canis latrans   11989.1            372.9   \n",
       "4     Carnivora           Canis lupus  31756.51           679.37   \n",
       "6      Primates    Callicebus cupreus   1117.02             <NA>   \n",
       "...         ...                   ...       ...              ...   \n",
       "4941   Rodentia  Zygogeomys trichopus    473.54             <NA>   \n",
       "4942   Rodentia       Zyzomys argurus     40.42           155.06   \n",
       "4943   Rodentia         Zyzomys maini     93.99             <NA>   \n",
       "4944   Rodentia  Zyzomys pedunculatus     100.0             <NA>   \n",
       "4945   Rodentia     Zyzomys woodwardi     95.02           155.06   \n",
       "\n",
       "      Interbirth (days)  Longevity (months)  Litter Size      order  \\\n",
       "1                  <NA>               137.0          4.5  Carnivora   \n",
       "2                 365.0               192.0         3.74  Carnivora   \n",
       "3                 365.0               262.0         5.72  Carnivora   \n",
       "4                 365.0               354.0         4.98  Carnivora   \n",
       "6                395.41                <NA>         1.01   Primates   \n",
       "...                 ...                 ...          ...        ...   \n",
       "4941               <NA>                <NA>         <NA>   Rodentia   \n",
       "4942              219.0                <NA>         2.76   Rodentia   \n",
       "4943               <NA>                <NA>         <NA>   Rodentia   \n",
       "4944               <NA>                <NA>         <NA>   Rodentia   \n",
       "4945             231.16                <NA>         2.23   Rodentia   \n",
       "\n",
       "                   species iucn_status     species_formatted  \n",
       "1            Canis_adustus          LC         Canis adustus  \n",
       "2             Canis_aureus          LC          Canis aureus  \n",
       "3            Canis_latrans          LC         Canis latrans  \n",
       "4              Canis_lupus          LC           Canis lupus  \n",
       "6       Callicebus_cupreus          LC    Callicebus cupreus  \n",
       "...                    ...         ...                   ...  \n",
       "4941  Zygogeomys_trichopus          EN  Zygogeomys trichopus  \n",
       "4942       Zyzomys_argurus          LC       Zyzomys argurus  \n",
       "4943         Zyzomys_maini          VU         Zyzomys maini  \n",
       "4944  Zyzomys_pedunculatus          CR  Zyzomys pedunculatus  \n",
       "4945     Zyzomys_woodwardi          LC     Zyzomys woodwardi  \n",
       "\n",
       "[4208 rows x 11 columns]"
      ]
     },
     "execution_count": 37,
     "metadata": {},
     "output_type": "execute_result"
    }
   ],
   "source": [
    "# let us filter out these rows!\n",
    "# remember: Boolean filtering\n",
    "combined_data[is_order_match]"
   ]
  },
  {
   "cell_type": "code",
   "execution_count": 38,
   "id": "b549c131",
   "metadata": {
    "slideshow": {
     "slide_type": "subslide"
    }
   },
   "outputs": [
    {
     "data": {
      "text/html": [
       "<div>\n",
       "<style scoped>\n",
       "    .dataframe tbody tr th:only-of-type {\n",
       "        vertical-align: middle;\n",
       "    }\n",
       "\n",
       "    .dataframe tbody tr th {\n",
       "        vertical-align: top;\n",
       "    }\n",
       "\n",
       "    .dataframe thead th {\n",
       "        text-align: right;\n",
       "    }\n",
       "</style>\n",
       "<table border=\"1\" class=\"dataframe\">\n",
       "  <thead>\n",
       "    <tr style=\"text-align: right;\">\n",
       "      <th></th>\n",
       "      <th>Order</th>\n",
       "      <th>Binomial</th>\n",
       "      <th>Mass (g)</th>\n",
       "      <th>Maturity (days)</th>\n",
       "      <th>Interbirth (days)</th>\n",
       "      <th>Longevity (months)</th>\n",
       "      <th>Litter Size</th>\n",
       "      <th>order</th>\n",
       "      <th>species</th>\n",
       "      <th>iucn_status</th>\n",
       "      <th>species_formatted</th>\n",
       "    </tr>\n",
       "  </thead>\n",
       "  <tbody>\n",
       "    <tr>\n",
       "      <th>0</th>\n",
       "      <td>Artiodactyla</td>\n",
       "      <td>Camelus dromedarius</td>\n",
       "      <td>492714.47</td>\n",
       "      <td>1947.94</td>\n",
       "      <td>614.41</td>\n",
       "      <td>480.0</td>\n",
       "      <td>0.98</td>\n",
       "      <td>Cetartiodactyla</td>\n",
       "      <td>Camelus_dromedarius</td>\n",
       "      <td>DD</td>\n",
       "      <td>Camelus dromedarius</td>\n",
       "    </tr>\n",
       "    <tr>\n",
       "      <th>5</th>\n",
       "      <td>Artiodactyla</td>\n",
       "      <td>Bos javanicus</td>\n",
       "      <td>635974.34</td>\n",
       "      <td>797.31</td>\n",
       "      <td>&lt;NA&gt;</td>\n",
       "      <td>318.96</td>\n",
       "      <td>1.22</td>\n",
       "      <td>Cetartiodactyla</td>\n",
       "      <td>Bos_javanicus</td>\n",
       "      <td>EN</td>\n",
       "      <td>Bos javanicus</td>\n",
       "    </tr>\n",
       "    <tr>\n",
       "      <th>21</th>\n",
       "      <td>Artiodactyla</td>\n",
       "      <td>Bos sauveli</td>\n",
       "      <td>791321.76</td>\n",
       "      <td>755.15</td>\n",
       "      <td>&lt;NA&gt;</td>\n",
       "      <td>&lt;NA&gt;</td>\n",
       "      <td>&lt;NA&gt;</td>\n",
       "      <td>Cetartiodactyla</td>\n",
       "      <td>Bos_sauveli</td>\n",
       "      <td>CR</td>\n",
       "      <td>Bos sauveli</td>\n",
       "    </tr>\n",
       "    <tr>\n",
       "      <th>22</th>\n",
       "      <td>Artiodactyla</td>\n",
       "      <td>Boselaphus tragocamelus</td>\n",
       "      <td>182253.04</td>\n",
       "      <td>&lt;NA&gt;</td>\n",
       "      <td>400.5</td>\n",
       "      <td>260.4</td>\n",
       "      <td>1.39</td>\n",
       "      <td>Cetartiodactyla</td>\n",
       "      <td>Boselaphus_tragocamelus</td>\n",
       "      <td>LC</td>\n",
       "      <td>Boselaphus tragocamelus</td>\n",
       "    </tr>\n",
       "    <tr>\n",
       "      <th>28</th>\n",
       "      <td>Cetacea</td>\n",
       "      <td>Caperea marginata</td>\n",
       "      <td>31999999.98</td>\n",
       "      <td>&lt;NA&gt;</td>\n",
       "      <td>&lt;NA&gt;</td>\n",
       "      <td>&lt;NA&gt;</td>\n",
       "      <td>0.98</td>\n",
       "      <td>Cetartiodactyla</td>\n",
       "      <td>Caperea_marginata</td>\n",
       "      <td>DD</td>\n",
       "      <td>Caperea marginata</td>\n",
       "    </tr>\n",
       "    <tr>\n",
       "      <th>...</th>\n",
       "      <td>...</td>\n",
       "      <td>...</td>\n",
       "      <td>...</td>\n",
       "      <td>...</td>\n",
       "      <td>...</td>\n",
       "      <td>...</td>\n",
       "      <td>...</td>\n",
       "      <td>...</td>\n",
       "      <td>...</td>\n",
       "      <td>...</td>\n",
       "      <td>...</td>\n",
       "    </tr>\n",
       "    <tr>\n",
       "      <th>4863</th>\n",
       "      <td>Soricomorpha</td>\n",
       "      <td>Uropsilus investigator</td>\n",
       "      <td>&lt;NA&gt;</td>\n",
       "      <td>&lt;NA&gt;</td>\n",
       "      <td>&lt;NA&gt;</td>\n",
       "      <td>&lt;NA&gt;</td>\n",
       "      <td>&lt;NA&gt;</td>\n",
       "      <td>Eulipotyphla</td>\n",
       "      <td>Uropsilus_investigator</td>\n",
       "      <td>DD</td>\n",
       "      <td>Uropsilus investigator</td>\n",
       "    </tr>\n",
       "    <tr>\n",
       "      <th>4864</th>\n",
       "      <td>Soricomorpha</td>\n",
       "      <td>Uropsilus soricipes</td>\n",
       "      <td>16.0</td>\n",
       "      <td>&lt;NA&gt;</td>\n",
       "      <td>&lt;NA&gt;</td>\n",
       "      <td>&lt;NA&gt;</td>\n",
       "      <td>&lt;NA&gt;</td>\n",
       "      <td>Eulipotyphla</td>\n",
       "      <td>Uropsilus_soricipes</td>\n",
       "      <td>LC</td>\n",
       "      <td>Uropsilus soricipes</td>\n",
       "    </tr>\n",
       "    <tr>\n",
       "      <th>4865</th>\n",
       "      <td>Soricomorpha</td>\n",
       "      <td>Urotrichus talpoides</td>\n",
       "      <td>18.2</td>\n",
       "      <td>371.23</td>\n",
       "      <td>&lt;NA&gt;</td>\n",
       "      <td>42.0</td>\n",
       "      <td>3.49</td>\n",
       "      <td>Eulipotyphla</td>\n",
       "      <td>Urotrichus_talpoides</td>\n",
       "      <td>LC</td>\n",
       "      <td>Urotrichus talpoides</td>\n",
       "    </tr>\n",
       "    <tr>\n",
       "      <th>4892</th>\n",
       "      <td>Artiodactyla</td>\n",
       "      <td>Vicugna vicugna</td>\n",
       "      <td>47499.61</td>\n",
       "      <td>941.19</td>\n",
       "      <td>547.5</td>\n",
       "      <td>297.6</td>\n",
       "      <td>1.0</td>\n",
       "      <td>Cetartiodactyla</td>\n",
       "      <td>Vicugna_vicugna</td>\n",
       "      <td>LC</td>\n",
       "      <td>Vicugna vicugna</td>\n",
       "    </tr>\n",
       "    <tr>\n",
       "      <th>4938</th>\n",
       "      <td>Cetacea</td>\n",
       "      <td>Ziphius cavirostris</td>\n",
       "      <td>4774999.99</td>\n",
       "      <td>&lt;NA&gt;</td>\n",
       "      <td>&lt;NA&gt;</td>\n",
       "      <td>432.0</td>\n",
       "      <td>1.0</td>\n",
       "      <td>Cetartiodactyla</td>\n",
       "      <td>Ziphius_cavirostris</td>\n",
       "      <td>LC</td>\n",
       "      <td>Ziphius cavirostris</td>\n",
       "    </tr>\n",
       "  </tbody>\n",
       "</table>\n",
       "<p>738 rows × 11 columns</p>\n",
       "</div>"
      ],
      "text/plain": [
       "             Order                 Binomial     Mass (g)  Maturity (days)  \\\n",
       "0     Artiodactyla      Camelus dromedarius    492714.47          1947.94   \n",
       "5     Artiodactyla            Bos javanicus    635974.34           797.31   \n",
       "21    Artiodactyla              Bos sauveli    791321.76           755.15   \n",
       "22    Artiodactyla  Boselaphus tragocamelus    182253.04             <NA>   \n",
       "28         Cetacea        Caperea marginata  31999999.98             <NA>   \n",
       "...            ...                      ...          ...              ...   \n",
       "4863  Soricomorpha   Uropsilus investigator         <NA>             <NA>   \n",
       "4864  Soricomorpha      Uropsilus soricipes         16.0             <NA>   \n",
       "4865  Soricomorpha     Urotrichus talpoides         18.2           371.23   \n",
       "4892  Artiodactyla          Vicugna vicugna     47499.61           941.19   \n",
       "4938       Cetacea      Ziphius cavirostris   4774999.99             <NA>   \n",
       "\n",
       "      Interbirth (days)  Longevity (months)  Litter Size            order  \\\n",
       "0                614.41               480.0         0.98  Cetartiodactyla   \n",
       "5                  <NA>              318.96         1.22  Cetartiodactyla   \n",
       "21                 <NA>                <NA>         <NA>  Cetartiodactyla   \n",
       "22                400.5               260.4         1.39  Cetartiodactyla   \n",
       "28                 <NA>                <NA>         0.98  Cetartiodactyla   \n",
       "...                 ...                 ...          ...              ...   \n",
       "4863               <NA>                <NA>         <NA>     Eulipotyphla   \n",
       "4864               <NA>                <NA>         <NA>     Eulipotyphla   \n",
       "4865               <NA>                42.0         3.49     Eulipotyphla   \n",
       "4892              547.5               297.6          1.0  Cetartiodactyla   \n",
       "4938               <NA>               432.0          1.0  Cetartiodactyla   \n",
       "\n",
       "                      species iucn_status        species_formatted  \n",
       "0         Camelus_dromedarius          DD      Camelus dromedarius  \n",
       "5               Bos_javanicus          EN            Bos javanicus  \n",
       "21                Bos_sauveli          CR              Bos sauveli  \n",
       "22    Boselaphus_tragocamelus          LC  Boselaphus tragocamelus  \n",
       "28          Caperea_marginata          DD        Caperea marginata  \n",
       "...                       ...         ...                      ...  \n",
       "4863   Uropsilus_investigator          DD   Uropsilus investigator  \n",
       "4864      Uropsilus_soricipes          LC      Uropsilus soricipes  \n",
       "4865     Urotrichus_talpoides          LC     Urotrichus talpoides  \n",
       "4892          Vicugna_vicugna          LC          Vicugna vicugna  \n",
       "4938      Ziphius_cavirostris          LC      Ziphius cavirostris  \n",
       "\n",
       "[738 rows x 11 columns]"
      ]
     },
     "execution_count": 38,
     "metadata": {},
     "output_type": "execute_result"
    }
   ],
   "source": [
    "# check: where do they NOT match?\n",
    "combined_data[~is_order_match]"
   ]
  },
  {
   "cell_type": "code",
   "execution_count": 39,
   "id": "17997315",
   "metadata": {
    "slideshow": {
     "slide_type": "subslide"
    }
   },
   "outputs": [
    {
     "data": {
      "text/html": [
       "<div>\n",
       "<style scoped>\n",
       "    .dataframe tbody tr th:only-of-type {\n",
       "        vertical-align: middle;\n",
       "    }\n",
       "\n",
       "    .dataframe tbody tr th {\n",
       "        vertical-align: top;\n",
       "    }\n",
       "\n",
       "    .dataframe thead th {\n",
       "        text-align: right;\n",
       "    }\n",
       "</style>\n",
       "<table border=\"1\" class=\"dataframe\">\n",
       "  <thead>\n",
       "    <tr style=\"text-align: right;\">\n",
       "      <th></th>\n",
       "      <th>Order</th>\n",
       "      <th>Binomial</th>\n",
       "      <th>Mass (g)</th>\n",
       "      <th>Maturity (days)</th>\n",
       "      <th>Interbirth (days)</th>\n",
       "      <th>Longevity (months)</th>\n",
       "      <th>Litter Size</th>\n",
       "      <th>order</th>\n",
       "      <th>species</th>\n",
       "      <th>iucn_status</th>\n",
       "      <th>species_formatted</th>\n",
       "    </tr>\n",
       "  </thead>\n",
       "  <tbody>\n",
       "    <tr>\n",
       "      <th>0</th>\n",
       "      <td>Artiodactyla</td>\n",
       "      <td>Camelus dromedarius</td>\n",
       "      <td>492714.47</td>\n",
       "      <td>1947.94</td>\n",
       "      <td>614.41</td>\n",
       "      <td>480.0</td>\n",
       "      <td>0.98</td>\n",
       "      <td>Cetartiodactyla</td>\n",
       "      <td>Camelus_dromedarius</td>\n",
       "      <td>DD</td>\n",
       "      <td>Camelus dromedarius</td>\n",
       "    </tr>\n",
       "    <tr>\n",
       "      <th>5</th>\n",
       "      <td>Artiodactyla</td>\n",
       "      <td>Bos javanicus</td>\n",
       "      <td>635974.34</td>\n",
       "      <td>797.31</td>\n",
       "      <td>&lt;NA&gt;</td>\n",
       "      <td>318.96</td>\n",
       "      <td>1.22</td>\n",
       "      <td>Cetartiodactyla</td>\n",
       "      <td>Bos_javanicus</td>\n",
       "      <td>EN</td>\n",
       "      <td>Bos javanicus</td>\n",
       "    </tr>\n",
       "    <tr>\n",
       "      <th>21</th>\n",
       "      <td>Artiodactyla</td>\n",
       "      <td>Bos sauveli</td>\n",
       "      <td>791321.76</td>\n",
       "      <td>755.15</td>\n",
       "      <td>&lt;NA&gt;</td>\n",
       "      <td>&lt;NA&gt;</td>\n",
       "      <td>&lt;NA&gt;</td>\n",
       "      <td>Cetartiodactyla</td>\n",
       "      <td>Bos_sauveli</td>\n",
       "      <td>CR</td>\n",
       "      <td>Bos sauveli</td>\n",
       "    </tr>\n",
       "    <tr>\n",
       "      <th>22</th>\n",
       "      <td>Artiodactyla</td>\n",
       "      <td>Boselaphus tragocamelus</td>\n",
       "      <td>182253.04</td>\n",
       "      <td>&lt;NA&gt;</td>\n",
       "      <td>400.5</td>\n",
       "      <td>260.4</td>\n",
       "      <td>1.39</td>\n",
       "      <td>Cetartiodactyla</td>\n",
       "      <td>Boselaphus_tragocamelus</td>\n",
       "      <td>LC</td>\n",
       "      <td>Boselaphus tragocamelus</td>\n",
       "    </tr>\n",
       "    <tr>\n",
       "      <th>28</th>\n",
       "      <td>Cetacea</td>\n",
       "      <td>Caperea marginata</td>\n",
       "      <td>31999999.98</td>\n",
       "      <td>&lt;NA&gt;</td>\n",
       "      <td>&lt;NA&gt;</td>\n",
       "      <td>&lt;NA&gt;</td>\n",
       "      <td>0.98</td>\n",
       "      <td>Cetartiodactyla</td>\n",
       "      <td>Caperea_marginata</td>\n",
       "      <td>DD</td>\n",
       "      <td>Caperea marginata</td>\n",
       "    </tr>\n",
       "    <tr>\n",
       "      <th>...</th>\n",
       "      <td>...</td>\n",
       "      <td>...</td>\n",
       "      <td>...</td>\n",
       "      <td>...</td>\n",
       "      <td>...</td>\n",
       "      <td>...</td>\n",
       "      <td>...</td>\n",
       "      <td>...</td>\n",
       "      <td>...</td>\n",
       "      <td>...</td>\n",
       "      <td>...</td>\n",
       "    </tr>\n",
       "    <tr>\n",
       "      <th>4863</th>\n",
       "      <td>Soricomorpha</td>\n",
       "      <td>Uropsilus investigator</td>\n",
       "      <td>&lt;NA&gt;</td>\n",
       "      <td>&lt;NA&gt;</td>\n",
       "      <td>&lt;NA&gt;</td>\n",
       "      <td>&lt;NA&gt;</td>\n",
       "      <td>&lt;NA&gt;</td>\n",
       "      <td>Eulipotyphla</td>\n",
       "      <td>Uropsilus_investigator</td>\n",
       "      <td>DD</td>\n",
       "      <td>Uropsilus investigator</td>\n",
       "    </tr>\n",
       "    <tr>\n",
       "      <th>4864</th>\n",
       "      <td>Soricomorpha</td>\n",
       "      <td>Uropsilus soricipes</td>\n",
       "      <td>16.0</td>\n",
       "      <td>&lt;NA&gt;</td>\n",
       "      <td>&lt;NA&gt;</td>\n",
       "      <td>&lt;NA&gt;</td>\n",
       "      <td>&lt;NA&gt;</td>\n",
       "      <td>Eulipotyphla</td>\n",
       "      <td>Uropsilus_soricipes</td>\n",
       "      <td>LC</td>\n",
       "      <td>Uropsilus soricipes</td>\n",
       "    </tr>\n",
       "    <tr>\n",
       "      <th>4865</th>\n",
       "      <td>Soricomorpha</td>\n",
       "      <td>Urotrichus talpoides</td>\n",
       "      <td>18.2</td>\n",
       "      <td>371.23</td>\n",
       "      <td>&lt;NA&gt;</td>\n",
       "      <td>42.0</td>\n",
       "      <td>3.49</td>\n",
       "      <td>Eulipotyphla</td>\n",
       "      <td>Urotrichus_talpoides</td>\n",
       "      <td>LC</td>\n",
       "      <td>Urotrichus talpoides</td>\n",
       "    </tr>\n",
       "    <tr>\n",
       "      <th>4892</th>\n",
       "      <td>Artiodactyla</td>\n",
       "      <td>Vicugna vicugna</td>\n",
       "      <td>47499.61</td>\n",
       "      <td>941.19</td>\n",
       "      <td>547.5</td>\n",
       "      <td>297.6</td>\n",
       "      <td>1.0</td>\n",
       "      <td>Cetartiodactyla</td>\n",
       "      <td>Vicugna_vicugna</td>\n",
       "      <td>LC</td>\n",
       "      <td>Vicugna vicugna</td>\n",
       "    </tr>\n",
       "    <tr>\n",
       "      <th>4938</th>\n",
       "      <td>Cetacea</td>\n",
       "      <td>Ziphius cavirostris</td>\n",
       "      <td>4774999.99</td>\n",
       "      <td>&lt;NA&gt;</td>\n",
       "      <td>&lt;NA&gt;</td>\n",
       "      <td>432.0</td>\n",
       "      <td>1.0</td>\n",
       "      <td>Cetartiodactyla</td>\n",
       "      <td>Ziphius_cavirostris</td>\n",
       "      <td>LC</td>\n",
       "      <td>Ziphius cavirostris</td>\n",
       "    </tr>\n",
       "  </tbody>\n",
       "</table>\n",
       "<p>738 rows × 11 columns</p>\n",
       "</div>"
      ],
      "text/plain": [
       "             Order                 Binomial     Mass (g)  Maturity (days)  \\\n",
       "0     Artiodactyla      Camelus dromedarius    492714.47          1947.94   \n",
       "5     Artiodactyla            Bos javanicus    635974.34           797.31   \n",
       "21    Artiodactyla              Bos sauveli    791321.76           755.15   \n",
       "22    Artiodactyla  Boselaphus tragocamelus    182253.04             <NA>   \n",
       "28         Cetacea        Caperea marginata  31999999.98             <NA>   \n",
       "...            ...                      ...          ...              ...   \n",
       "4863  Soricomorpha   Uropsilus investigator         <NA>             <NA>   \n",
       "4864  Soricomorpha      Uropsilus soricipes         16.0             <NA>   \n",
       "4865  Soricomorpha     Urotrichus talpoides         18.2           371.23   \n",
       "4892  Artiodactyla          Vicugna vicugna     47499.61           941.19   \n",
       "4938       Cetacea      Ziphius cavirostris   4774999.99             <NA>   \n",
       "\n",
       "      Interbirth (days)  Longevity (months)  Litter Size            order  \\\n",
       "0                614.41               480.0         0.98  Cetartiodactyla   \n",
       "5                  <NA>              318.96         1.22  Cetartiodactyla   \n",
       "21                 <NA>                <NA>         <NA>  Cetartiodactyla   \n",
       "22                400.5               260.4         1.39  Cetartiodactyla   \n",
       "28                 <NA>                <NA>         0.98  Cetartiodactyla   \n",
       "...                 ...                 ...          ...              ...   \n",
       "4863               <NA>                <NA>         <NA>     Eulipotyphla   \n",
       "4864               <NA>                <NA>         <NA>     Eulipotyphla   \n",
       "4865               <NA>                42.0         3.49     Eulipotyphla   \n",
       "4892              547.5               297.6          1.0  Cetartiodactyla   \n",
       "4938               <NA>               432.0          1.0  Cetartiodactyla   \n",
       "\n",
       "                      species iucn_status        species_formatted  \n",
       "0         Camelus_dromedarius          DD      Camelus dromedarius  \n",
       "5               Bos_javanicus          EN            Bos javanicus  \n",
       "21                Bos_sauveli          CR              Bos sauveli  \n",
       "22    Boselaphus_tragocamelus          LC  Boselaphus tragocamelus  \n",
       "28          Caperea_marginata          DD        Caperea marginata  \n",
       "...                       ...         ...                      ...  \n",
       "4863   Uropsilus_investigator          DD   Uropsilus investigator  \n",
       "4864      Uropsilus_soricipes          LC      Uropsilus soricipes  \n",
       "4865     Urotrichus_talpoides          LC     Urotrichus talpoides  \n",
       "4892          Vicugna_vicugna          LC          Vicugna vicugna  \n",
       "4938      Ziphius_cavirostris          LC      Ziphius cavirostris  \n",
       "\n",
       "[738 rows x 11 columns]"
      ]
     },
     "execution_count": 39,
     "metadata": {},
     "output_type": "execute_result"
    }
   ],
   "source": [
    "# Alternate method\n",
    "is_order_mismatch = combined_data['Order'] != combined_data['order']\n",
    "combined_data[is_order_mismatch]"
   ]
  },
  {
   "cell_type": "code",
   "execution_count": 40,
   "id": "7ce8d8a9",
   "metadata": {
    "slideshow": {
     "slide_type": "subslide"
    }
   },
   "outputs": [],
   "source": [
    "combined_data_clean = combined_data[is_order_match]"
   ]
  },
  {
   "cell_type": "code",
   "execution_count": 41,
   "id": "a256fdcf",
   "metadata": {
    "slideshow": {
     "slide_type": "fragment"
    }
   },
   "outputs": [
    {
     "data": {
      "text/html": [
       "<div>\n",
       "<style scoped>\n",
       "    .dataframe tbody tr th:only-of-type {\n",
       "        vertical-align: middle;\n",
       "    }\n",
       "\n",
       "    .dataframe tbody tr th {\n",
       "        vertical-align: top;\n",
       "    }\n",
       "\n",
       "    .dataframe thead th {\n",
       "        text-align: right;\n",
       "    }\n",
       "</style>\n",
       "<table border=\"1\" class=\"dataframe\">\n",
       "  <thead>\n",
       "    <tr style=\"text-align: right;\">\n",
       "      <th></th>\n",
       "      <th>Order</th>\n",
       "      <th>Binomial</th>\n",
       "      <th>Mass (g)</th>\n",
       "      <th>Maturity (days)</th>\n",
       "      <th>Interbirth (days)</th>\n",
       "      <th>Longevity (months)</th>\n",
       "      <th>Litter Size</th>\n",
       "      <th>order</th>\n",
       "      <th>species</th>\n",
       "      <th>iucn_status</th>\n",
       "      <th>species_formatted</th>\n",
       "    </tr>\n",
       "  </thead>\n",
       "  <tbody>\n",
       "    <tr>\n",
       "      <th>1</th>\n",
       "      <td>Carnivora</td>\n",
       "      <td>Canis adustus</td>\n",
       "      <td>10392.49</td>\n",
       "      <td>249.88</td>\n",
       "      <td>&lt;NA&gt;</td>\n",
       "      <td>137.0</td>\n",
       "      <td>4.5</td>\n",
       "      <td>Carnivora</td>\n",
       "      <td>Canis_adustus</td>\n",
       "      <td>LC</td>\n",
       "      <td>Canis adustus</td>\n",
       "    </tr>\n",
       "    <tr>\n",
       "      <th>2</th>\n",
       "      <td>Carnivora</td>\n",
       "      <td>Canis aureus</td>\n",
       "      <td>9658.7</td>\n",
       "      <td>371.23</td>\n",
       "      <td>365.0</td>\n",
       "      <td>192.0</td>\n",
       "      <td>3.74</td>\n",
       "      <td>Carnivora</td>\n",
       "      <td>Canis_aureus</td>\n",
       "      <td>LC</td>\n",
       "      <td>Canis aureus</td>\n",
       "    </tr>\n",
       "    <tr>\n",
       "      <th>3</th>\n",
       "      <td>Carnivora</td>\n",
       "      <td>Canis latrans</td>\n",
       "      <td>11989.1</td>\n",
       "      <td>372.9</td>\n",
       "      <td>365.0</td>\n",
       "      <td>262.0</td>\n",
       "      <td>5.72</td>\n",
       "      <td>Carnivora</td>\n",
       "      <td>Canis_latrans</td>\n",
       "      <td>LC</td>\n",
       "      <td>Canis latrans</td>\n",
       "    </tr>\n",
       "    <tr>\n",
       "      <th>4</th>\n",
       "      <td>Carnivora</td>\n",
       "      <td>Canis lupus</td>\n",
       "      <td>31756.51</td>\n",
       "      <td>679.37</td>\n",
       "      <td>365.0</td>\n",
       "      <td>354.0</td>\n",
       "      <td>4.98</td>\n",
       "      <td>Carnivora</td>\n",
       "      <td>Canis_lupus</td>\n",
       "      <td>LC</td>\n",
       "      <td>Canis lupus</td>\n",
       "    </tr>\n",
       "    <tr>\n",
       "      <th>6</th>\n",
       "      <td>Primates</td>\n",
       "      <td>Callicebus cupreus</td>\n",
       "      <td>1117.02</td>\n",
       "      <td>&lt;NA&gt;</td>\n",
       "      <td>395.41</td>\n",
       "      <td>&lt;NA&gt;</td>\n",
       "      <td>1.01</td>\n",
       "      <td>Primates</td>\n",
       "      <td>Callicebus_cupreus</td>\n",
       "      <td>LC</td>\n",
       "      <td>Callicebus cupreus</td>\n",
       "    </tr>\n",
       "    <tr>\n",
       "      <th>...</th>\n",
       "      <td>...</td>\n",
       "      <td>...</td>\n",
       "      <td>...</td>\n",
       "      <td>...</td>\n",
       "      <td>...</td>\n",
       "      <td>...</td>\n",
       "      <td>...</td>\n",
       "      <td>...</td>\n",
       "      <td>...</td>\n",
       "      <td>...</td>\n",
       "      <td>...</td>\n",
       "    </tr>\n",
       "    <tr>\n",
       "      <th>4941</th>\n",
       "      <td>Rodentia</td>\n",
       "      <td>Zygogeomys trichopus</td>\n",
       "      <td>473.54</td>\n",
       "      <td>&lt;NA&gt;</td>\n",
       "      <td>&lt;NA&gt;</td>\n",
       "      <td>&lt;NA&gt;</td>\n",
       "      <td>&lt;NA&gt;</td>\n",
       "      <td>Rodentia</td>\n",
       "      <td>Zygogeomys_trichopus</td>\n",
       "      <td>EN</td>\n",
       "      <td>Zygogeomys trichopus</td>\n",
       "    </tr>\n",
       "    <tr>\n",
       "      <th>4942</th>\n",
       "      <td>Rodentia</td>\n",
       "      <td>Zyzomys argurus</td>\n",
       "      <td>40.42</td>\n",
       "      <td>155.06</td>\n",
       "      <td>219.0</td>\n",
       "      <td>&lt;NA&gt;</td>\n",
       "      <td>2.76</td>\n",
       "      <td>Rodentia</td>\n",
       "      <td>Zyzomys_argurus</td>\n",
       "      <td>LC</td>\n",
       "      <td>Zyzomys argurus</td>\n",
       "    </tr>\n",
       "    <tr>\n",
       "      <th>4943</th>\n",
       "      <td>Rodentia</td>\n",
       "      <td>Zyzomys maini</td>\n",
       "      <td>93.99</td>\n",
       "      <td>&lt;NA&gt;</td>\n",
       "      <td>&lt;NA&gt;</td>\n",
       "      <td>&lt;NA&gt;</td>\n",
       "      <td>&lt;NA&gt;</td>\n",
       "      <td>Rodentia</td>\n",
       "      <td>Zyzomys_maini</td>\n",
       "      <td>VU</td>\n",
       "      <td>Zyzomys maini</td>\n",
       "    </tr>\n",
       "    <tr>\n",
       "      <th>4944</th>\n",
       "      <td>Rodentia</td>\n",
       "      <td>Zyzomys pedunculatus</td>\n",
       "      <td>100.0</td>\n",
       "      <td>&lt;NA&gt;</td>\n",
       "      <td>&lt;NA&gt;</td>\n",
       "      <td>&lt;NA&gt;</td>\n",
       "      <td>&lt;NA&gt;</td>\n",
       "      <td>Rodentia</td>\n",
       "      <td>Zyzomys_pedunculatus</td>\n",
       "      <td>CR</td>\n",
       "      <td>Zyzomys pedunculatus</td>\n",
       "    </tr>\n",
       "    <tr>\n",
       "      <th>4945</th>\n",
       "      <td>Rodentia</td>\n",
       "      <td>Zyzomys woodwardi</td>\n",
       "      <td>95.02</td>\n",
       "      <td>155.06</td>\n",
       "      <td>231.16</td>\n",
       "      <td>&lt;NA&gt;</td>\n",
       "      <td>2.23</td>\n",
       "      <td>Rodentia</td>\n",
       "      <td>Zyzomys_woodwardi</td>\n",
       "      <td>LC</td>\n",
       "      <td>Zyzomys woodwardi</td>\n",
       "    </tr>\n",
       "  </tbody>\n",
       "</table>\n",
       "<p>4208 rows × 11 columns</p>\n",
       "</div>"
      ],
      "text/plain": [
       "          Order              Binomial  Mass (g)  Maturity (days)  \\\n",
       "1     Carnivora         Canis adustus  10392.49           249.88   \n",
       "2     Carnivora          Canis aureus    9658.7           371.23   \n",
       "3     Carnivora         Canis latrans   11989.1            372.9   \n",
       "4     Carnivora           Canis lupus  31756.51           679.37   \n",
       "6      Primates    Callicebus cupreus   1117.02             <NA>   \n",
       "...         ...                   ...       ...              ...   \n",
       "4941   Rodentia  Zygogeomys trichopus    473.54             <NA>   \n",
       "4942   Rodentia       Zyzomys argurus     40.42           155.06   \n",
       "4943   Rodentia         Zyzomys maini     93.99             <NA>   \n",
       "4944   Rodentia  Zyzomys pedunculatus     100.0             <NA>   \n",
       "4945   Rodentia     Zyzomys woodwardi     95.02           155.06   \n",
       "\n",
       "      Interbirth (days)  Longevity (months)  Litter Size      order  \\\n",
       "1                  <NA>               137.0          4.5  Carnivora   \n",
       "2                 365.0               192.0         3.74  Carnivora   \n",
       "3                 365.0               262.0         5.72  Carnivora   \n",
       "4                 365.0               354.0         4.98  Carnivora   \n",
       "6                395.41                <NA>         1.01   Primates   \n",
       "...                 ...                 ...          ...        ...   \n",
       "4941               <NA>                <NA>         <NA>   Rodentia   \n",
       "4942              219.0                <NA>         2.76   Rodentia   \n",
       "4943               <NA>                <NA>         <NA>   Rodentia   \n",
       "4944               <NA>                <NA>         <NA>   Rodentia   \n",
       "4945             231.16                <NA>         2.23   Rodentia   \n",
       "\n",
       "                   species iucn_status     species_formatted  \n",
       "1            Canis_adustus          LC         Canis adustus  \n",
       "2             Canis_aureus          LC          Canis aureus  \n",
       "3            Canis_latrans          LC         Canis latrans  \n",
       "4              Canis_lupus          LC           Canis lupus  \n",
       "6       Callicebus_cupreus          LC    Callicebus cupreus  \n",
       "...                    ...         ...                   ...  \n",
       "4941  Zygogeomys_trichopus          EN  Zygogeomys trichopus  \n",
       "4942       Zyzomys_argurus          LC       Zyzomys argurus  \n",
       "4943         Zyzomys_maini          VU         Zyzomys maini  \n",
       "4944  Zyzomys_pedunculatus          CR  Zyzomys pedunculatus  \n",
       "4945     Zyzomys_woodwardi          LC     Zyzomys woodwardi  \n",
       "\n",
       "[4208 rows x 11 columns]"
      ]
     },
     "metadata": {},
     "output_type": "display_data"
    }
   ],
   "source": [
    "display(combined_data_clean)\n",
    "# optional: remove unnecessary columns\n",
    "# keep_columns = [...]\n",
    "# combined_data_clean = combined_data_clean[keep_columns]"
   ]
  },
  {
   "cell_type": "markdown",
   "id": "b10a87b3",
   "metadata": {
    "slideshow": {
     "slide_type": "slide"
    }
   },
   "source": [
    "### Recall our data science question\n",
    "\n",
    "What is the relationship between maturity and extinction status?\n",
    "\n",
    "Let us find out the **average maturity age for each extinction level** in the IUCN levels."
   ]
  },
  {
   "cell_type": "code",
   "execution_count": 42,
   "id": "67f4911b",
   "metadata": {
    "slideshow": {
     "slide_type": "subslide"
    }
   },
   "outputs": [
    {
     "data": {
      "text/plain": [
       "LC    2509\n",
       "DD     504\n",
       "VU     392\n",
       "EN     331\n",
       "NT     276\n",
       "CR     142\n",
       "EX      54\n",
       "Name: iucn_status, dtype: Int64"
      ]
     },
     "execution_count": 42,
     "metadata": {},
     "output_type": "execute_result"
    }
   ],
   "source": [
    "combined_data_clean['iucn_status'].value_counts()"
   ]
  },
  {
   "cell_type": "code",
   "execution_count": 43,
   "id": "e3b92b7d",
   "metadata": {
    "slideshow": {
     "slide_type": "subslide"
    }
   },
   "outputs": [
    {
     "data": {
      "text/plain": [
       "count         797.0\n",
       "mean     573.053902\n",
       "std      694.912852\n",
       "min           13.57\n",
       "25%           126.3\n",
       "50%          350.76\n",
       "75%          739.52\n",
       "max         5582.93\n",
       "Name: Maturity (days), dtype: Float64"
      ]
     },
     "execution_count": 43,
     "metadata": {},
     "output_type": "execute_result"
    }
   ],
   "source": [
    "combined_data_clean['Maturity (days)'].describe()"
   ]
  },
  {
   "cell_type": "markdown",
   "id": "12084353",
   "metadata": {
    "slideshow": {
     "slide_type": "slide"
    }
   },
   "source": [
    "### Grouping\n",
    "\n",
    "`pandas` has a `DataFrame.groupby()` function that allows us to compute aggregate measures for *grouped* subsets of the data in one (or two) line(s) of code.\n",
    "\n",
    "The data can be *grouped* based on the values in a column. The *measures* can be any statistic about the other columns of the data:\n",
    "- For each `order` (*group*), how many *unique* `species` exist?\n",
    "- For each `order` (*group*), what is the *average* `Mass`?\n",
    "\n",
    "Our question:\n",
    "- For each `iucn_status` (*group*), what is the *average* `Maturity (days)`?"
   ]
  },
  {
   "cell_type": "code",
   "execution_count": 44,
   "id": "f9be8e6a",
   "metadata": {
    "slideshow": {
     "slide_type": "slide"
    }
   },
   "outputs": [
    {
     "name": "stdout",
     "output_type": "stream",
     "text": [
      "['LC', 'VU', 'EN', 'DD', 'CR', 'NT', 'EX']\n"
     ]
    }
   ],
   "source": [
    "# The long road #1\n",
    "iucn_levels = list(combined_data_clean['iucn_status'].unique())\n",
    "print(iucn_levels)"
   ]
  },
  {
   "cell_type": "code",
   "execution_count": 45,
   "id": "36abaea3",
   "metadata": {
    "slideshow": {
     "slide_type": "fragment"
    }
   },
   "outputs": [
    {
     "name": "stdout",
     "output_type": "stream",
     "text": [
      "421.85624999999993\n",
      "959.0201408450705\n"
     ]
    }
   ],
   "source": [
    "# The long road #1\n",
    "\n",
    "is_lc = combined_data_clean['iucn_status']=='LC' # boolean filter\n",
    "lc_species = combined_data_clean[is_lc] # extract subset of the dataframe\n",
    "lc_avg = lc_species['Maturity (days)'].mean() #compute mean of the maturity column values\n",
    "print(lc_avg)\n",
    "\n",
    "is_vu = combined_data_clean['iucn_status']=='VU'\n",
    "vu_species = combined_data_clean[is_vu]\n",
    "vu_avg = vu_species['Maturity (days)'].mean()\n",
    "print(vu_avg)\n",
    "\n",
    "\n",
    "# .... and so on for each IUCN level .....\n",
    "# NOT efficient! Not enough automation!"
   ]
  },
  {
   "cell_type": "code",
   "execution_count": 46,
   "id": "2ebf391e",
   "metadata": {
    "slideshow": {
     "slide_type": "slide"
    }
   },
   "outputs": [
    {
     "name": "stdout",
     "output_type": "stream",
     "text": [
      "{'LC': 421.85624999999993, 'VU': 959.0201408450705, 'EN': 1229.000476190476, 'DD': 250.77, 'CR': 1300.1192000000003, 'NT': 626.7277999999999, 'EX': <NA>}\n"
     ]
    }
   ],
   "source": [
    "# The long read #2\n",
    "avg_values = {}\n",
    "for level in iucn_levels:\n",
    "    is_level = combined_data_clean['iucn_status'] == level\n",
    "    level_species = combined_data_clean[is_level]\n",
    "    level_avg = level_species['Maturity (days)'].mean()\n",
    "    avg_values[level] = level_avg\n",
    "\n",
    "print(avg_values)\n",
    "\n",
    "## better....but there is something even more better!"
   ]
  },
  {
   "cell_type": "code",
   "execution_count": 47,
   "id": "a3803445",
   "metadata": {
    "slideshow": {
     "slide_type": "slide"
    }
   },
   "outputs": [],
   "source": [
    "# groupby and average\n",
    "\n",
    "grouped_data = combined_data_clean.groupby('iucn_status')\n",
    "group_avg = grouped_data['Maturity (days)'].mean()"
   ]
  },
  {
   "cell_type": "code",
   "execution_count": 48,
   "id": "e67a4745",
   "metadata": {
    "slideshow": {
     "slide_type": "fragment"
    }
   },
   "outputs": [
    {
     "data": {
      "text/plain": [
       "iucn_status\n",
       "CR      1300.1192\n",
       "DD         250.77\n",
       "EN    1229.000476\n",
       "EX           <NA>\n",
       "LC      421.85625\n",
       "NT       626.7278\n",
       "VU     959.020141\n",
       "Name: Maturity (days), dtype: Float64"
      ]
     },
     "execution_count": 48,
     "metadata": {},
     "output_type": "execute_result"
    }
   ],
   "source": [
    "group_avg\n",
    "# what is the type?"
   ]
  },
  {
   "cell_type": "code",
   "execution_count": 49,
   "id": "6a2f3bbf",
   "metadata": {
    "slideshow": {
     "slide_type": "subslide"
    }
   },
   "outputs": [
    {
     "data": {
      "text/plain": [
       "250.77"
      ]
     },
     "execution_count": 49,
     "metadata": {},
     "output_type": "execute_result"
    }
   ],
   "source": [
    "group_avg['DD']"
   ]
  },
  {
   "cell_type": "code",
   "execution_count": 50,
   "id": "4c863410",
   "metadata": {
    "slideshow": {
     "slide_type": "fragment"
    }
   },
   "outputs": [
    {
     "data": {
      "text/plain": [
       "iucn_status\n",
       "DD      250.77\n",
       "LC     421.856\n",
       "NT     626.728\n",
       "VU      959.02\n",
       "EN      1229.0\n",
       "CR    1300.119\n",
       "EX        <NA>\n",
       "Name: Maturity (days), dtype: Float64"
      ]
     },
     "execution_count": 50,
     "metadata": {},
     "output_type": "execute_result"
    }
   ],
   "source": [
    "# sort!\n",
    "group_avg.round(3).sort_values()\n",
    "\n",
    "# to answer the question, we need to *interpret* these values: do the more endangered species have \n",
    "# higher or lower average maturity?\n",
    "# A job for you! (humans)"
   ]
  },
  {
   "cell_type": "code",
   "execution_count": 51,
   "id": "0cd1e937",
   "metadata": {
    "slideshow": {
     "slide_type": "subslide"
    }
   },
   "outputs": [
    {
     "data": {
      "text/plain": [
       "iucn_status\n",
       "CR      1300.1192\n",
       "DD         250.77\n",
       "EN    1229.000476\n",
       "EX           <NA>\n",
       "LC      421.85625\n",
       "NT       626.7278\n",
       "VU     959.020141\n",
       "Name: Maturity (days), dtype: Float64"
      ]
     },
     "execution_count": 51,
     "metadata": {},
     "output_type": "execute_result"
    }
   ],
   "source": [
    "# can be chained\n",
    "combined_data_clean.groupby('iucn_status')['Maturity (days)'].mean()"
   ]
  },
  {
   "cell_type": "markdown",
   "id": "4d2e1f44",
   "metadata": {
    "slideshow": {
     "slide_type": "slide"
    }
   },
   "source": [
    "### What are the data subsets for each group?\n",
    "\n",
    "Recall the two steps we performed for groupby-aggregate:\n",
    "1. `grouped_df = DataFrame.groupby(column1)`\n",
    "2. `grouped_df[column2].agg_measure()`\n",
    "\n",
    "Let us examine the output of step 1 in a bit more detail"
   ]
  },
  {
   "cell_type": "code",
   "execution_count": 52,
   "id": "28924b6d",
   "metadata": {
    "slideshow": {
     "slide_type": "subslide"
    }
   },
   "outputs": [],
   "source": [
    "grouped_data = combined_data_clean.groupby('iucn_status')"
   ]
  },
  {
   "cell_type": "code",
   "execution_count": 53,
   "id": "737811d6",
   "metadata": {
    "slideshow": {
     "slide_type": "fragment"
    }
   },
   "outputs": [
    {
     "data": {
      "text/plain": [
       "<pandas.core.groupby.generic.DataFrameGroupBy object at 0x7f57cf870c70>"
      ]
     },
     "metadata": {},
     "output_type": "display_data"
    }
   ],
   "source": [
    "display(grouped_data)"
   ]
  },
  {
   "cell_type": "markdown",
   "id": "fd5a3011",
   "metadata": {
    "slideshow": {
     "slide_type": "fragment"
    }
   },
   "source": [
    "This is an internal `pandas` representation that is not very accessible to us.\n",
    "\n",
    "We can think of it as a dictionary that maps each group to the subset of the dataframe belonging to that group.\n",
    "\n",
    "We can obtain the data subset for a particular group using the `DataFrameGroupBy.get_group()` method."
   ]
  },
  {
   "cell_type": "code",
   "execution_count": 54,
   "id": "7c63abf6",
   "metadata": {
    "slideshow": {
     "slide_type": "subslide"
    }
   },
   "outputs": [
    {
     "data": {
      "text/html": [
       "<div>\n",
       "<style scoped>\n",
       "    .dataframe tbody tr th:only-of-type {\n",
       "        vertical-align: middle;\n",
       "    }\n",
       "\n",
       "    .dataframe tbody tr th {\n",
       "        vertical-align: top;\n",
       "    }\n",
       "\n",
       "    .dataframe thead th {\n",
       "        text-align: right;\n",
       "    }\n",
       "</style>\n",
       "<table border=\"1\" class=\"dataframe\">\n",
       "  <thead>\n",
       "    <tr style=\"text-align: right;\">\n",
       "      <th></th>\n",
       "      <th>Order</th>\n",
       "      <th>Binomial</th>\n",
       "      <th>Mass (g)</th>\n",
       "      <th>Maturity (days)</th>\n",
       "      <th>Interbirth (days)</th>\n",
       "      <th>Longevity (months)</th>\n",
       "      <th>Litter Size</th>\n",
       "      <th>order</th>\n",
       "      <th>species</th>\n",
       "      <th>iucn_status</th>\n",
       "      <th>species_formatted</th>\n",
       "    </tr>\n",
       "  </thead>\n",
       "  <tbody>\n",
       "    <tr>\n",
       "      <th>37</th>\n",
       "      <td>Primates</td>\n",
       "      <td>Ateles fusciceps</td>\n",
       "      <td>9067.94</td>\n",
       "      <td>1799.68</td>\n",
       "      <td>851.66</td>\n",
       "      <td>288.0</td>\n",
       "      <td>1.01</td>\n",
       "      <td>Primates</td>\n",
       "      <td>Ateles_fusciceps</td>\n",
       "      <td>CR</td>\n",
       "      <td>Ateles fusciceps</td>\n",
       "    </tr>\n",
       "    <tr>\n",
       "      <th>39</th>\n",
       "      <td>Primates</td>\n",
       "      <td>Ateles hybridus</td>\n",
       "      <td>&lt;NA&gt;</td>\n",
       "      <td>&lt;NA&gt;</td>\n",
       "      <td>&lt;NA&gt;</td>\n",
       "      <td>&lt;NA&gt;</td>\n",
       "      <td>&lt;NA&gt;</td>\n",
       "      <td>Primates</td>\n",
       "      <td>Ateles_hybridus</td>\n",
       "      <td>CR</td>\n",
       "      <td>Ateles hybridus</td>\n",
       "    </tr>\n",
       "    <tr>\n",
       "      <th>44</th>\n",
       "      <td>Primates</td>\n",
       "      <td>Callicebus oenanthe</td>\n",
       "      <td>992.4</td>\n",
       "      <td>&lt;NA&gt;</td>\n",
       "      <td>&lt;NA&gt;</td>\n",
       "      <td>&lt;NA&gt;</td>\n",
       "      <td>1.02</td>\n",
       "      <td>Primates</td>\n",
       "      <td>Callicebus_oenanthe</td>\n",
       "      <td>CR</td>\n",
       "      <td>Callicebus oenanthe</td>\n",
       "    </tr>\n",
       "    <tr>\n",
       "      <th>151</th>\n",
       "      <td>Primates</td>\n",
       "      <td>Cercopithecus dryas</td>\n",
       "      <td>2784.06</td>\n",
       "      <td>&lt;NA&gt;</td>\n",
       "      <td>&lt;NA&gt;</td>\n",
       "      <td>&lt;NA&gt;</td>\n",
       "      <td>1.02</td>\n",
       "      <td>Primates</td>\n",
       "      <td>Cercopithecus_dryas</td>\n",
       "      <td>CR</td>\n",
       "      <td>Cercopithecus dryas</td>\n",
       "    </tr>\n",
       "    <tr>\n",
       "      <th>344</th>\n",
       "      <td>Rodentia</td>\n",
       "      <td>Biswamoyopterus biswasi</td>\n",
       "      <td>&lt;NA&gt;</td>\n",
       "      <td>&lt;NA&gt;</td>\n",
       "      <td>&lt;NA&gt;</td>\n",
       "      <td>&lt;NA&gt;</td>\n",
       "      <td>&lt;NA&gt;</td>\n",
       "      <td>Rodentia</td>\n",
       "      <td>Biswamoyopterus_biswasi</td>\n",
       "      <td>CR</td>\n",
       "      <td>Biswamoyopterus biswasi</td>\n",
       "    </tr>\n",
       "    <tr>\n",
       "      <th>...</th>\n",
       "      <td>...</td>\n",
       "      <td>...</td>\n",
       "      <td>...</td>\n",
       "      <td>...</td>\n",
       "      <td>...</td>\n",
       "      <td>...</td>\n",
       "      <td>...</td>\n",
       "      <td>...</td>\n",
       "      <td>...</td>\n",
       "      <td>...</td>\n",
       "      <td>...</td>\n",
       "    </tr>\n",
       "    <tr>\n",
       "      <th>4878</th>\n",
       "      <td>Primates</td>\n",
       "      <td>Varecia rubra</td>\n",
       "      <td>3872.6</td>\n",
       "      <td>&lt;NA&gt;</td>\n",
       "      <td>&lt;NA&gt;</td>\n",
       "      <td>&lt;NA&gt;</td>\n",
       "      <td>&lt;NA&gt;</td>\n",
       "      <td>Primates</td>\n",
       "      <td>Varecia_rubra</td>\n",
       "      <td>CR</td>\n",
       "      <td>Varecia rubra</td>\n",
       "    </tr>\n",
       "    <tr>\n",
       "      <th>4879</th>\n",
       "      <td>Primates</td>\n",
       "      <td>Varecia variegata</td>\n",
       "      <td>3849.99</td>\n",
       "      <td>701.52</td>\n",
       "      <td>365.0</td>\n",
       "      <td>384.0</td>\n",
       "      <td>2.16</td>\n",
       "      <td>Primates</td>\n",
       "      <td>Varecia_variegata</td>\n",
       "      <td>CR</td>\n",
       "      <td>Varecia variegata</td>\n",
       "    </tr>\n",
       "    <tr>\n",
       "      <th>4893</th>\n",
       "      <td>Carnivora</td>\n",
       "      <td>Viverra civettina</td>\n",
       "      <td>12061.27</td>\n",
       "      <td>&lt;NA&gt;</td>\n",
       "      <td>&lt;NA&gt;</td>\n",
       "      <td>&lt;NA&gt;</td>\n",
       "      <td>&lt;NA&gt;</td>\n",
       "      <td>Carnivora</td>\n",
       "      <td>Viverra_civettina</td>\n",
       "      <td>CR</td>\n",
       "      <td>Viverra civettina</td>\n",
       "    </tr>\n",
       "    <tr>\n",
       "      <th>4927</th>\n",
       "      <td>Monotremata</td>\n",
       "      <td>Zaglossus attenboroughi</td>\n",
       "      <td>&lt;NA&gt;</td>\n",
       "      <td>&lt;NA&gt;</td>\n",
       "      <td>&lt;NA&gt;</td>\n",
       "      <td>&lt;NA&gt;</td>\n",
       "      <td>&lt;NA&gt;</td>\n",
       "      <td>Monotremata</td>\n",
       "      <td>Zaglossus_attenboroughi</td>\n",
       "      <td>CR</td>\n",
       "      <td>Zaglossus attenboroughi</td>\n",
       "    </tr>\n",
       "    <tr>\n",
       "      <th>4944</th>\n",
       "      <td>Rodentia</td>\n",
       "      <td>Zyzomys pedunculatus</td>\n",
       "      <td>100.0</td>\n",
       "      <td>&lt;NA&gt;</td>\n",
       "      <td>&lt;NA&gt;</td>\n",
       "      <td>&lt;NA&gt;</td>\n",
       "      <td>&lt;NA&gt;</td>\n",
       "      <td>Rodentia</td>\n",
       "      <td>Zyzomys_pedunculatus</td>\n",
       "      <td>CR</td>\n",
       "      <td>Zyzomys pedunculatus</td>\n",
       "    </tr>\n",
       "  </tbody>\n",
       "</table>\n",
       "<p>142 rows × 11 columns</p>\n",
       "</div>"
      ],
      "text/plain": [
       "            Order                 Binomial  Mass (g)  Maturity (days)  \\\n",
       "37       Primates         Ateles fusciceps   9067.94          1799.68   \n",
       "39       Primates          Ateles hybridus      <NA>             <NA>   \n",
       "44       Primates      Callicebus oenanthe     992.4             <NA>   \n",
       "151      Primates      Cercopithecus dryas   2784.06             <NA>   \n",
       "344      Rodentia  Biswamoyopterus biswasi      <NA>             <NA>   \n",
       "...           ...                      ...       ...              ...   \n",
       "4878     Primates            Varecia rubra    3872.6             <NA>   \n",
       "4879     Primates        Varecia variegata   3849.99           701.52   \n",
       "4893    Carnivora        Viverra civettina  12061.27             <NA>   \n",
       "4927  Monotremata  Zaglossus attenboroughi      <NA>             <NA>   \n",
       "4944     Rodentia     Zyzomys pedunculatus     100.0             <NA>   \n",
       "\n",
       "      Interbirth (days)  Longevity (months)  Litter Size        order  \\\n",
       "37               851.66               288.0         1.01     Primates   \n",
       "39                 <NA>                <NA>         <NA>     Primates   \n",
       "44                 <NA>                <NA>         1.02     Primates   \n",
       "151                <NA>                <NA>         1.02     Primates   \n",
       "344                <NA>                <NA>         <NA>     Rodentia   \n",
       "...                 ...                 ...          ...          ...   \n",
       "4878               <NA>                <NA>         <NA>     Primates   \n",
       "4879              365.0               384.0         2.16     Primates   \n",
       "4893               <NA>                <NA>         <NA>    Carnivora   \n",
       "4927               <NA>                <NA>         <NA>  Monotremata   \n",
       "4944               <NA>                <NA>         <NA>     Rodentia   \n",
       "\n",
       "                      species iucn_status        species_formatted  \n",
       "37           Ateles_fusciceps          CR         Ateles fusciceps  \n",
       "39            Ateles_hybridus          CR          Ateles hybridus  \n",
       "44        Callicebus_oenanthe          CR      Callicebus oenanthe  \n",
       "151       Cercopithecus_dryas          CR      Cercopithecus dryas  \n",
       "344   Biswamoyopterus_biswasi          CR  Biswamoyopterus biswasi  \n",
       "...                       ...         ...                      ...  \n",
       "4878            Varecia_rubra          CR            Varecia rubra  \n",
       "4879        Varecia_variegata          CR        Varecia variegata  \n",
       "4893        Viverra_civettina          CR        Viverra civettina  \n",
       "4927  Zaglossus_attenboroughi          CR  Zaglossus attenboroughi  \n",
       "4944     Zyzomys_pedunculatus          CR     Zyzomys pedunculatus  \n",
       "\n",
       "[142 rows x 11 columns]"
      ]
     },
     "execution_count": 54,
     "metadata": {},
     "output_type": "execute_result"
    }
   ],
   "source": [
    "grouped_data.get_group('CR')\n",
    "# what is the type?"
   ]
  },
  {
   "cell_type": "markdown",
   "id": "31e8152a",
   "metadata": {
    "slideshow": {
     "slide_type": "slide"
    }
   },
   "source": [
    "### One more example\n",
    "\n",
    "Say we want to find out the *number of unique species* (measure) within each *order* (group) in our dataframe.\n",
    "\n",
    "- we want to `groupby('order')`\n",
    "- and for each group, find the `['Binomial'].nunique`"
   ]
  },
  {
   "cell_type": "code",
   "execution_count": 55,
   "id": "42bdbb47",
   "metadata": {
    "slideshow": {
     "slide_type": "subslide"
    }
   },
   "outputs": [
    {
     "data": {
      "text/html": [
       "<div>\n",
       "<style scoped>\n",
       "    .dataframe tbody tr th:only-of-type {\n",
       "        vertical-align: middle;\n",
       "    }\n",
       "\n",
       "    .dataframe tbody tr th {\n",
       "        vertical-align: top;\n",
       "    }\n",
       "\n",
       "    .dataframe thead th {\n",
       "        text-align: right;\n",
       "    }\n",
       "</style>\n",
       "<table border=\"1\" class=\"dataframe\">\n",
       "  <thead>\n",
       "    <tr style=\"text-align: right;\">\n",
       "      <th></th>\n",
       "      <th>Order</th>\n",
       "      <th>Binomial</th>\n",
       "      <th>Mass (g)</th>\n",
       "      <th>Maturity (days)</th>\n",
       "      <th>Interbirth (days)</th>\n",
       "      <th>Longevity (months)</th>\n",
       "      <th>Litter Size</th>\n",
       "      <th>order</th>\n",
       "      <th>species</th>\n",
       "      <th>iucn_status</th>\n",
       "      <th>species_formatted</th>\n",
       "    </tr>\n",
       "  </thead>\n",
       "  <tbody>\n",
       "    <tr>\n",
       "      <th>1</th>\n",
       "      <td>Carnivora</td>\n",
       "      <td>Canis adustus</td>\n",
       "      <td>10392.49</td>\n",
       "      <td>249.88</td>\n",
       "      <td>&lt;NA&gt;</td>\n",
       "      <td>137.0</td>\n",
       "      <td>4.5</td>\n",
       "      <td>Carnivora</td>\n",
       "      <td>Canis_adustus</td>\n",
       "      <td>LC</td>\n",
       "      <td>Canis adustus</td>\n",
       "    </tr>\n",
       "    <tr>\n",
       "      <th>2</th>\n",
       "      <td>Carnivora</td>\n",
       "      <td>Canis aureus</td>\n",
       "      <td>9658.7</td>\n",
       "      <td>371.23</td>\n",
       "      <td>365.0</td>\n",
       "      <td>192.0</td>\n",
       "      <td>3.74</td>\n",
       "      <td>Carnivora</td>\n",
       "      <td>Canis_aureus</td>\n",
       "      <td>LC</td>\n",
       "      <td>Canis aureus</td>\n",
       "    </tr>\n",
       "    <tr>\n",
       "      <th>3</th>\n",
       "      <td>Carnivora</td>\n",
       "      <td>Canis latrans</td>\n",
       "      <td>11989.1</td>\n",
       "      <td>372.9</td>\n",
       "      <td>365.0</td>\n",
       "      <td>262.0</td>\n",
       "      <td>5.72</td>\n",
       "      <td>Carnivora</td>\n",
       "      <td>Canis_latrans</td>\n",
       "      <td>LC</td>\n",
       "      <td>Canis latrans</td>\n",
       "    </tr>\n",
       "    <tr>\n",
       "      <th>4</th>\n",
       "      <td>Carnivora</td>\n",
       "      <td>Canis lupus</td>\n",
       "      <td>31756.51</td>\n",
       "      <td>679.37</td>\n",
       "      <td>365.0</td>\n",
       "      <td>354.0</td>\n",
       "      <td>4.98</td>\n",
       "      <td>Carnivora</td>\n",
       "      <td>Canis_lupus</td>\n",
       "      <td>LC</td>\n",
       "      <td>Canis lupus</td>\n",
       "    </tr>\n",
       "    <tr>\n",
       "      <th>6</th>\n",
       "      <td>Primates</td>\n",
       "      <td>Callicebus cupreus</td>\n",
       "      <td>1117.02</td>\n",
       "      <td>&lt;NA&gt;</td>\n",
       "      <td>395.41</td>\n",
       "      <td>&lt;NA&gt;</td>\n",
       "      <td>1.01</td>\n",
       "      <td>Primates</td>\n",
       "      <td>Callicebus_cupreus</td>\n",
       "      <td>LC</td>\n",
       "      <td>Callicebus cupreus</td>\n",
       "    </tr>\n",
       "  </tbody>\n",
       "</table>\n",
       "</div>"
      ],
      "text/plain": [
       "       Order            Binomial  Mass (g)  Maturity (days)  \\\n",
       "1  Carnivora       Canis adustus  10392.49           249.88   \n",
       "2  Carnivora        Canis aureus    9658.7           371.23   \n",
       "3  Carnivora       Canis latrans   11989.1            372.9   \n",
       "4  Carnivora         Canis lupus  31756.51           679.37   \n",
       "6   Primates  Callicebus cupreus   1117.02             <NA>   \n",
       "\n",
       "   Interbirth (days)  Longevity (months)  Litter Size      order  \\\n",
       "1               <NA>               137.0          4.5  Carnivora   \n",
       "2              365.0               192.0         3.74  Carnivora   \n",
       "3              365.0               262.0         5.72  Carnivora   \n",
       "4              365.0               354.0         4.98  Carnivora   \n",
       "6             395.41                <NA>         1.01   Primates   \n",
       "\n",
       "              species iucn_status   species_formatted  \n",
       "1       Canis_adustus          LC       Canis adustus  \n",
       "2        Canis_aureus          LC        Canis aureus  \n",
       "3       Canis_latrans          LC       Canis latrans  \n",
       "4         Canis_lupus          LC         Canis lupus  \n",
       "6  Callicebus_cupreus          LC  Callicebus cupreus  "
      ]
     },
     "execution_count": 55,
     "metadata": {},
     "output_type": "execute_result"
    }
   ],
   "source": [
    "combined_data_clean.head()"
   ]
  },
  {
   "cell_type": "code",
   "execution_count": 56,
   "id": "78b6dd61",
   "metadata": {
    "slideshow": {
     "slide_type": "subslide"
    }
   },
   "outputs": [
    {
     "data": {
      "text/plain": [
       "25"
      ]
     },
     "execution_count": 56,
     "metadata": {},
     "output_type": "execute_result"
    }
   ],
   "source": [
    "# how many unique orders are there?\n",
    "combined_data_clean['order'].nunique()"
   ]
  },
  {
   "cell_type": "code",
   "execution_count": 57,
   "id": "5a0218e4",
   "metadata": {
    "slideshow": {
     "slide_type": "subslide"
    }
   },
   "outputs": [
    {
     "data": {
      "text/plain": [
       "Rodentia            2039\n",
       "Chiroptera          1048\n",
       "Primates             321\n",
       "Carnivora            262\n",
       "Diprotodontia        140\n",
       "Lagomorpha            85\n",
       "Didelphimorphia       71\n",
       "Dasyuromorphia        63\n",
       "Afrosoricida          50\n",
       "Peramelemorphia       21\n",
       "Cingulata             20\n",
       "Scandentia            20\n",
       "Perissodactyla        14\n",
       "Macroscelidea         14\n",
       "Pilosa                10\n",
       "Paucituberculata       6\n",
       "Sirenia                5\n",
       "Pholidota              4\n",
       "Hyracoidea             4\n",
       "Monotremata            4\n",
       "Notoryctemorphia       2\n",
       "Proboscidea            2\n",
       "Microbiotheria         1\n",
       "Dermoptera             1\n",
       "Tubulidentata          1\n",
       "Name: order, dtype: Int64"
      ]
     },
     "execution_count": 57,
     "metadata": {},
     "output_type": "execute_result"
    }
   ],
   "source": [
    "# method 1: because each species is in a new row, we can simply use value_counts\n",
    "combined_data_clean['order'].value_counts()"
   ]
  },
  {
   "cell_type": "code",
   "execution_count": 60,
   "id": "c3499bc3",
   "metadata": {
    "slideshow": {
     "slide_type": "subslide"
    }
   },
   "outputs": [
    {
     "data": {
      "text/plain": [
       "order\n",
       "Rodentia            2039\n",
       "Chiroptera          1048\n",
       "Primates             321\n",
       "Carnivora            262\n",
       "Diprotodontia        140\n",
       "Lagomorpha            85\n",
       "Didelphimorphia       71\n",
       "Dasyuromorphia        63\n",
       "Afrosoricida          50\n",
       "Peramelemorphia       21\n",
       "Scandentia            20\n",
       "Cingulata             20\n",
       "Macroscelidea         14\n",
       "Perissodactyla        14\n",
       "Pilosa                10\n",
       "Paucituberculata       6\n",
       "Sirenia                5\n",
       "Monotremata            4\n",
       "Pholidota              4\n",
       "Hyracoidea             4\n",
       "Notoryctemorphia       2\n",
       "Proboscidea            2\n",
       "Microbiotheria         1\n",
       "Dermoptera             1\n",
       "Tubulidentata          1\n",
       "Name: Binomial, dtype: int64"
      ]
     },
     "execution_count": 60,
     "metadata": {},
     "output_type": "execute_result"
    }
   ],
   "source": [
    "# method 2: use groupby\n",
    "combined_data_clean.groupby('order')['Binomial'].nunique().sort_values(ascending=False)"
   ]
  },
  {
   "cell_type": "code",
   "execution_count": null,
   "id": "4c57b6fa",
   "metadata": {
    "slideshow": {
     "slide_type": "subslide"
    }
   },
   "outputs": [],
   "source": [
    "# DIY: a more complex example\n",
    "# combined_data_clean.groupby('order')['iucn_status'].value_counts()\n",
    "# combined_data_clean.groupby('order')['iucn_status'].value_counts()['Afrosoricida']\n",
    "# combined_data_clean.groupby('order')['iucn_status'].value_counts()['Afrosoricida']['EN']"
   ]
  },
  {
   "cell_type": "markdown",
   "id": "5d2dbe79",
   "metadata": {
    "slideshow": {
     "slide_type": "slide"
    }
   },
   "source": [
    "### Data Visualization\n",
    "\n",
    "Finally, `pandas` offers some basic funtions to **plot** our data.\n",
    "\n",
    "Visual representations can sometimes make certain relationships more apparent*, and can help us in choosing the right statistical tools to analyze our data.\n",
    "\n",
    "*apparent != correct. Statistics is important."
   ]
  },
  {
   "cell_type": "markdown",
   "id": "7794444e",
   "metadata": {
    "slideshow": {
     "slide_type": "slide"
    }
   },
   "source": [
    "### Plotting a Series\n",
    "Let us plot the average Maturity values for each iucn level using the `group_avg` Series."
   ]
  },
  {
   "cell_type": "code",
   "execution_count": 61,
   "id": "e135ce57",
   "metadata": {
    "slideshow": {
     "slide_type": "slide"
    }
   },
   "outputs": [
    {
     "data": {
      "text/plain": [
       "iucn_status\n",
       "CR      1300.1192\n",
       "DD         250.77\n",
       "EN    1229.000476\n",
       "EX           <NA>\n",
       "LC      421.85625\n",
       "NT       626.7278\n",
       "VU     959.020141\n",
       "Name: Maturity (days), dtype: Float64"
      ]
     },
     "execution_count": 61,
     "metadata": {},
     "output_type": "execute_result"
    }
   ],
   "source": [
    "# recall\n",
    "group_avg"
   ]
  },
  {
   "cell_type": "code",
   "execution_count": 62,
   "id": "4258ef22",
   "metadata": {
    "slideshow": {
     "slide_type": "subslide"
    }
   },
   "outputs": [
    {
     "data": {
      "text/plain": [
       "<Axes: xlabel='iucn_status'>"
      ]
     },
     "execution_count": 62,
     "metadata": {},
     "output_type": "execute_result"
    },
    {
     "data": {
      "image/png": "[encoded data removed]",
      "text/plain": [
       "<Figure size 640x480 with 1 Axes>"
      ]
     },
     "metadata": {},
     "output_type": "display_data"
    }
   ],
   "source": [
    "# what kind of plot? A bar plot.\n",
    "group_avg.plot.bar()"
   ]
  },
  {
   "cell_type": "code",
   "execution_count": 63,
   "id": "68295902",
   "metadata": {
    "slideshow": {
     "slide_type": "subslide"
    }
   },
   "outputs": [
    {
     "data": {
      "text/plain": [
       "<Axes: xlabel='iucn_status'>"
      ]
     },
     "execution_count": 63,
     "metadata": {},
     "output_type": "execute_result"
    },
    {
     "data": {
      "image/png": "[encoded data removed]",
      "text/plain": [
       "<Figure size 640x480 with 1 Axes>"
      ]
     },
     "metadata": {},
     "output_type": "display_data"
    }
   ],
   "source": [
    "# hmmm..let us sort it\n",
    "# group_avg.sort_values().plot.bar()\n",
    "group_avg.sort_values(ascending=False).plot.bar()"
   ]
  },
  {
   "cell_type": "markdown",
   "id": "2a7651b4",
   "metadata": {
    "slideshow": {
     "slide_type": "slide"
    }
   },
   "source": [
    "Each plotting method accepts optional arguments to configure the appearance of the plot.\n",
    "For example:\n",
    "\n",
    "- `title`: the title of the plot\n",
    "- `xlabel`: the label for the x-axis\n",
    "- `ylabel`: the label for the y-axis"
   ]
  },
  {
   "cell_type": "code",
   "execution_count": 64,
   "id": "c459ee74",
   "metadata": {
    "slideshow": {
     "slide_type": "subslide"
    }
   },
   "outputs": [
    {
     "data": {
      "text/plain": [
       "<Axes: title={'center': 'Mean Age to Maturity by IUCN Status'}, xlabel='IUCN Status', ylabel='Mean Age to Maturity (days)'>"
      ]
     },
     "execution_count": 64,
     "metadata": {},
     "output_type": "execute_result"
    },
    {
     "data": {
      "image/png": "[encoded data removed]",
      "text/plain": [
       "<Figure size 640x480 with 1 Axes>"
      ]
     },
     "metadata": {},
     "output_type": "display_data"
    }
   ],
   "source": [
    "sorted_group_avg = group_avg.sort_values(ascending=False)\n",
    "sorted_group_avg.plot.bar(\n",
    "    title=\"Mean Age to Maturity by IUCN Status\",\n",
    "    xlabel=\"IUCN Status\",\n",
    "    ylabel=\"Mean Age to Maturity (days)\"\n",
    ")"
   ]
  },
  {
   "cell_type": "markdown",
   "id": "e35cca72",
   "metadata": {
    "slideshow": {
     "slide_type": "slide"
    }
   },
   "source": [
    "By default, `Series.plot.bar` uses the `Series` *index* to label the bars.\n",
    "We can customize these labels by using the `Series.rename(index=...)`."
   ]
  },
  {
   "cell_type": "code",
   "execution_count": 65,
   "id": "841ec0c8",
   "metadata": {
    "slideshow": {
     "slide_type": "slide"
    }
   },
   "outputs": [],
   "source": [
    "old_to_new = {\n",
    "    \"DD\": \"Data Deficient\",\n",
    "    \"EN\": \"Endangered\",\n",
    "    \"CR\": \"Critically Endangered\",\n",
    "    \"VU\": \"Vulnerable\",\n",
    "    \"NT\": \"Near Threatened\",\n",
    "    \"LC\": \"Least Concern\",\n",
    "    \"EW\": \"Extinct in the Wild\",\n",
    "    \"EX\": \"Extinct\"\n",
    "}\n",
    "\n",
    "group_maturities_renamed = sorted_group_avg.rename(index=old_to_new)\n"
   ]
  },
  {
   "cell_type": "code",
   "execution_count": 66,
   "id": "69d6cc17",
   "metadata": {
    "slideshow": {
     "slide_type": "subslide"
    }
   },
   "outputs": [
    {
     "data": {
      "text/plain": [
       "iucn_status\n",
       "Critically Endangered      1300.1192\n",
       "Endangered               1229.000476\n",
       "Vulnerable                959.020141\n",
       "Near Threatened             626.7278\n",
       "Least Concern              421.85625\n",
       "Data Deficient                250.77\n",
       "Extinct                         <NA>\n",
       "Name: Maturity (days), dtype: Float64"
      ]
     },
     "execution_count": 66,
     "metadata": {},
     "output_type": "execute_result"
    }
   ],
   "source": [
    "group_maturities_renamed"
   ]
  },
  {
   "cell_type": "code",
   "execution_count": 67,
   "id": "84c511db",
   "metadata": {
    "slideshow": {
     "slide_type": "subslide"
    }
   },
   "outputs": [
    {
     "data": {
      "text/plain": [
       "<Axes: title={'center': 'Mean Age to Maturity by IUCN Status'}, xlabel='IUCN Status', ylabel='Mean Age to Maturity (days)'>"
      ]
     },
     "execution_count": 67,
     "metadata": {},
     "output_type": "execute_result"
    },
    {
     "data": {
      "image/png": "[encoded data removed]",
      "text/plain": [
       "<Figure size 640x480 with 1 Axes>"
      ]
     },
     "metadata": {},
     "output_type": "display_data"
    }
   ],
   "source": [
    "group_maturities_renamed.plot.bar(\n",
    "    title=\"Mean Age to Maturity by IUCN Status\",\n",
    "    xlabel=\"IUCN Status\",\n",
    "    ylabel=\"Mean Age to Maturity (days)\"\n",
    ")"
   ]
  },
  {
   "cell_type": "markdown",
   "id": "7daba72f",
   "metadata": {
    "slideshow": {
     "slide_type": "slide"
    }
   },
   "source": [
    "We can use the plotting functions with `DataFrame` objects as well! \n",
    "We need to specify the columns for the x and y axis.\n",
    "For example:\n",
    "- What is the relationship between maturity and litter size?"
   ]
  },
  {
   "cell_type": "code",
   "execution_count": 68,
   "id": "f98d952d",
   "metadata": {
    "slideshow": {
     "slide_type": "subslide"
    }
   },
   "outputs": [
    {
     "data": {
      "text/plain": [
       "<Axes: title={'center': 'Litter Size vs. Mean Age to Maturity Among Mammals'}, xlabel='Litter Size', ylabel='Maturity (days)'>"
      ]
     },
     "execution_count": 68,
     "metadata": {},
     "output_type": "execute_result"
    },
    {
     "data": {
      "image/png": "[encoded data removed]",
      "text/plain": [
       "<Figure size 640x480 with 1 Axes>"
      ]
     },
     "metadata": {},
     "output_type": "display_data"
    }
   ],
   "source": [
    "combined_data_clean.plot.scatter(x='Litter Size', y='Maturity (days)', \n",
    "                                 title=\"Litter Size vs. Mean Age to Maturity Among Mammals\")\n",
    "# each point on the plot is a species (datapoint)"
   ]
  },
  {
   "cell_type": "markdown",
   "id": "3d389f7c",
   "metadata": {
    "slideshow": {
     "slide_type": "slide"
    }
   },
   "source": [
    "The distribution of a numerical list of values can be visualized as a *boxplot*."
   ]
  },
  {
   "cell_type": "code",
   "execution_count": 69,
   "id": "9e400bc9",
   "metadata": {
    "slideshow": {
     "slide_type": "subslide"
    }
   },
   "outputs": [
    {
     "data": {
      "text/plain": [
       "<Axes: title={'center': 'Litter Size Among Mammals'}>"
      ]
     },
     "execution_count": 69,
     "metadata": {},
     "output_type": "execute_result"
    },
    {
     "data": {
      "image/png": "[encoded data removed]",
      "text/plain": [
       "<Figure size 640x480 with 1 Axes>"
      ]
     },
     "metadata": {},
     "output_type": "display_data"
    }
   ],
   "source": [
    "combined_data_clean.plot.box(\n",
    "    column=\"Litter Size\",\n",
    "    title=\"Litter Size Among Mammals\"\n",
    ")"
   ]
  }
 ],
 "metadata": {
  "celltoolbar": "Slideshow",
  "kernelspec": {
   "display_name": "Python 3",
   "language": "python",
   "name": "python3"
  },
  "language_info": {
   "codemirror_mode": {
    "name": "ipython",
    "version": 3
   },
   "file_extension": ".py",
   "mimetype": "text/x-python",
   "name": "python",
   "nbconvert_exporter": "python",
   "pygments_lexer": "ipython3",
   "version": "3.10.9"
  }
 },
 "nbformat": 4,
 "nbformat_minor": 5
}
