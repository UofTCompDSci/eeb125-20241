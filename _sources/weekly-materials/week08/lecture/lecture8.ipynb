{
 "cells": [
  {
   "cell_type": "markdown",
   "id": "00092d58",
   "metadata": {
    "slideshow": {
     "slide_type": "slide"
    }
   },
   "source": [
    "## Week 8: Merging, Grouping, Plotting\n",
    "\n",
    "### March 06, 2024\n",
    "\n",
    "### Krishnapriya Vishnubhotla"
   ]
  },
  {
   "cell_type": "markdown",
   "id": "ee5efa6e",
   "metadata": {
    "slideshow": {
     "slide_type": "slide"
    }
   },
   "source": [
    "## Recap\n",
    "\n",
    "Last week, we learnt about the `pandas` library, and how to use it to:\n",
    "- Load CSV files\n",
    "    - DataFrame.shape\n",
    "    - DataFrame.head(), DataFrame.tail()\n",
    "- Clean the data\n",
    "    - Rename columns (with DataFrame.rename)\n",
    "    - Convert columns to the correct data types (DataFrame.convert_dtypes())\n",
    "    - Replace missing values (with pd.NA)\n",
    "    - Filter subsets (both columns and rows)\n",
    "        - Boolean Filtering"
   ]
  },
  {
   "cell_type": "markdown",
   "id": "7b44bb94",
   "metadata": {
    "slideshow": {
     "slide_type": "subslide"
    }
   },
   "source": [
    "- Transform the data\n",
    "    - Operations on a single numerical column (multiply, round on a Series object)\n",
    "    - Operations with multiple columns (add, multiply)\n",
    "- Summarize the data\n",
    "    - DataFrame.describe(), Series.describe()\n",
    "    - Series.sum(), Series.mean()\n",
    "    - Series.unique(), Series.nunique(), Series.value_counts()"
   ]
  },
  {
   "cell_type": "markdown",
   "id": "e35f1032",
   "metadata": {
    "slideshow": {
     "slide_type": "slide"
    }
   },
   "source": [
    "## Read our data file\n",
    "\n",
    "We will continue working with the `PanTHERIA` dataset from last lecture"
   ]
  },
  {
   "cell_type": "code",
   "execution_count": null,
   "id": "1a87c656",
   "metadata": {
    "slideshow": {
     "slide_type": "subslide"
    }
   },
   "outputs": [],
   "source": [
    "# import the library\n",
    "import pandas as pd"
   ]
  },
  {
   "cell_type": "code",
   "execution_count": null,
   "id": "c5d6abb3",
   "metadata": {
    "slideshow": {
     "slide_type": "fragment"
    }
   },
   "outputs": [],
   "source": [
    "species_raw_data = pd.read_csv('PanTHERIA_WR05_Aug2008.csv')\n",
    "display(species_raw_data)"
   ]
  },
  {
   "cell_type": "markdown",
   "id": "c7463660",
   "metadata": {
    "slideshow": {
     "slide_type": "slide"
    }
   },
   "source": [
    "## Basic data cleaning\n",
    "Let us replicate the data cleaning operations from last time:\n",
    "- Filter to important columns\n",
    "- Rename columns\n",
    "- Convert data types\n",
    "- Standardize missing values"
   ]
  },
  {
   "cell_type": "code",
   "execution_count": null,
   "id": "d08bcc90",
   "metadata": {
    "slideshow": {
     "slide_type": "subslide"
    }
   },
   "outputs": [],
   "source": [
    "# Extract columns\n",
    "important_columns = [\n",
    "    \"MSW05_Order\",\n",
    "    \"MSW05_Binomial\",\n",
    "    \"5-1_AdultBodyMass_g\",\n",
    "    \"23-1_SexualMaturityAge_d\",\n",
    "    \"14-1_InterbirthInterval_d\",\n",
    "    \"17-1_MaxLongevity_m\",\n",
    "    \"15-1_LitterSize\"\n",
    "]\n",
    "\n",
    "species_subset_data = species_raw_data[important_columns]"
   ]
  },
  {
   "cell_type": "code",
   "execution_count": null,
   "id": "db3ed603",
   "metadata": {
    "slideshow": {
     "slide_type": "fragment"
    }
   },
   "outputs": [],
   "source": [
    "species_subset_data.head()"
   ]
  },
  {
   "cell_type": "code",
   "execution_count": null,
   "id": "2681f16b",
   "metadata": {
    "slideshow": {
     "slide_type": "subslide"
    }
   },
   "outputs": [],
   "source": [
    "# Rename columns\n",
    "old_to_new = {\n",
    "    \"MSW05_Order\": \"Order\",\n",
    "    \"MSW05_Binomial\": \"Binomial\",\n",
    "    \"5-1_AdultBodyMass_g\": \"Mass (g)\",\n",
    "    \"23-1_SexualMaturityAge_d\": \"Maturity (days)\",\n",
    "    \"14-1_InterbirthInterval_d\": \"Interbirth (days)\",\n",
    "    \"17-1_MaxLongevity_m\": \"Longevity (months)\",\n",
    "    \"15-1_LitterSize\": \"Litter Size\"\n",
    "}\n",
    "species_renamed_data = species_subset_data.rename(columns=old_to_new)"
   ]
  },
  {
   "cell_type": "code",
   "execution_count": null,
   "id": "10f96dc3",
   "metadata": {
    "slideshow": {
     "slide_type": "fragment"
    }
   },
   "outputs": [],
   "source": [
    "species_renamed_data.head()"
   ]
  },
  {
   "cell_type": "code",
   "execution_count": null,
   "id": "47ae4a32",
   "metadata": {
    "slideshow": {
     "slide_type": "subslide"
    }
   },
   "outputs": [],
   "source": [
    "# Convert column types\n",
    "species_converted_data = species_renamed_data.convert_dtypes()\n",
    "species_converted_data.info()"
   ]
  },
  {
   "cell_type": "code",
   "execution_count": null,
   "id": "b9be2802",
   "metadata": {
    "slideshow": {
     "slide_type": "subslide"
    }
   },
   "outputs": [],
   "source": [
    "# Replace -999 values\n",
    "species_data = species_converted_data.replace(-999, pd.NA)\n",
    "species_data"
   ]
  },
  {
   "cell_type": "code",
   "execution_count": null,
   "id": "4e2f316e",
   "metadata": {
    "slideshow": {
     "slide_type": "slide"
    }
   },
   "outputs": [],
   "source": [
    "# a neat new function\n",
    "species_data.sort_values(by='Longevity (months)')"
   ]
  },
  {
   "cell_type": "code",
   "execution_count": null,
   "id": "c98b295e",
   "metadata": {
    "slideshow": {
     "slide_type": "subslide"
    }
   },
   "outputs": [],
   "source": [
    "species_data.sort_values(by='Longevity (months)', ascending=False)"
   ]
  },
  {
   "cell_type": "code",
   "execution_count": null,
   "id": "5ca7ab9a",
   "metadata": {
    "slideshow": {
     "slide_type": "subslide"
    }
   },
   "outputs": [],
   "source": [
    "# also applies to Series\n",
    "species_data['Litter Size'].sort_values()"
   ]
  },
  {
   "cell_type": "code",
   "execution_count": null,
   "id": "e5ed2d6c",
   "metadata": {
    "slideshow": {
     "slide_type": "slide"
    }
   },
   "outputs": [],
   "source": [
    "# how can we remove NA?\n",
    "is_na = species_data['Litter Size'].isna() \n",
    "# NOTE:  species_data['Litter Size'] == pd.NA will not work (try it out!)\n",
    "# NOTE:  species_data['Litter Size'] == <NA> will not work (try it out!)\n",
    "is_na"
   ]
  },
  {
   "cell_type": "code",
   "execution_count": null,
   "id": "d2cbd345",
   "metadata": {
    "slideshow": {
     "slide_type": "fragment"
    }
   },
   "outputs": [],
   "source": [
    "# boolean filtering\n",
    "species_data[is_na]"
   ]
  },
  {
   "cell_type": "code",
   "execution_count": null,
   "id": "fc4ec882",
   "metadata": {
    "slideshow": {
     "slide_type": "subslide"
    }
   },
   "outputs": [],
   "source": [
    "# we want the rows where Litter Size is NOT null\n",
    "# flip the sign!\n",
    "~is_na\n",
    "\n",
    "# NOTE:  species_data['Litter Size'] != pd.NA will not work (try it out!)\n",
    "# NOTE:  species_data['Litter Size'] != <NA> will not work (try it out!)"
   ]
  },
  {
   "cell_type": "code",
   "execution_count": null,
   "id": "53bcac26",
   "metadata": {
    "slideshow": {
     "slide_type": "subslide"
    }
   },
   "outputs": [],
   "source": [
    "# boolean filtering!\n",
    "species_data[~is_na]"
   ]
  },
  {
   "cell_type": "code",
   "execution_count": null,
   "id": "222d1361",
   "metadata": {
    "slideshow": {
     "slide_type": "subslide"
    }
   },
   "outputs": [],
   "source": [
    "species_data[~is_na]['Litter Size'].sort_values()\n",
    "# notice how dataframe operations can be chained"
   ]
  },
  {
   "cell_type": "markdown",
   "id": "e608574e",
   "metadata": {
    "slideshow": {
     "slide_type": "slide"
    }
   },
   "source": [
    "## Data Science Question of the Day\n",
    "\n",
    "Are mammals that take longer go grow up (i.e, higher maturity age) at greater risk of extinction (IUCN status)?"
   ]
  },
  {
   "cell_type": "markdown",
   "id": "5a8d4571",
   "metadata": {
    "slideshow": {
     "slide_type": "subslide"
    }
   },
   "source": [
    "We have maturity age information for mammals in the `species_data['Maturity (days)]` column.\n",
    "\n",
    "Information about the Extinction level code is in a different data file! \n",
    "\n",
    "Let us read in `IUCN_status.csv` into a new DataFrame variable."
   ]
  },
  {
   "cell_type": "code",
   "execution_count": null,
   "id": "f38f496e",
   "metadata": {
    "slideshow": {
     "slide_type": "slide"
    }
   },
   "outputs": [],
   "source": [
    "iucn_raw_data = pd.read_csv(\"iucn_status.csv\")\n",
    "iucn_data = iucn_raw_data.convert_dtypes()\n",
    "iucn_data.head()"
   ]
  },
  {
   "cell_type": "markdown",
   "id": "3b1e804d",
   "metadata": {
    "slideshow": {
     "slide_type": "slide"
    }
   },
   "source": [
    "## Merging Dataframes\n",
    "\n",
    "We often will want to combine information from two (or more) data files to answer a data science question.\n",
    "\n",
    "**Merging** is a `pandas` operation that *combines* the columns of two (or more) dataframes into a single mega-dataframe. \n",
    "\n",
    "How does `pandas` know which rows in each dataframe to merge together?\n",
    "- We will tell `pandas` to merge two dataframes by **matching on a specific column** that is present in both datasets. This column can be thought of as a lookup key to merge the information from both dataframes"
   ]
  },
  {
   "cell_type": "code",
   "execution_count": null,
   "id": "2d885daf",
   "metadata": {
    "slideshow": {
     "slide_type": "subslide"
    }
   },
   "outputs": [],
   "source": [
    "species_data.head()"
   ]
  },
  {
   "cell_type": "code",
   "execution_count": null,
   "id": "db6ad3c3",
   "metadata": {
    "slideshow": {
     "slide_type": "fragment"
    }
   },
   "outputs": [],
   "source": [
    "iucn_data.head()"
   ]
  },
  {
   "cell_type": "markdown",
   "id": "5172a6b9",
   "metadata": {
    "slideshow": {
     "slide_type": "slide"
    }
   },
   "source": [
    "## Data Transformations on String Columns\n",
    "\n",
    "We know we want to match the `iucn_data` and `species_data` dataframes on the column containing the name of the species.\n",
    "\n",
    "BUT, the format of the species name in both these dataframes in slightly different....\n",
    "\n",
    "- Camelus dromedarius (`species_data['Binomial`]) <==> Camelus_dromedarius (`iucn_data['species]`)\n",
    "\n",
    "\n",
    "`pandas` looks for an exact match of the column values. \n",
    "\n",
    "Let us transform `iucn_data['species']` to have the same format as `species_data['Binomial']`.\n",
    "- We want to *replace* the \"_\" in `iucn_data['species']` with a space."
   ]
  },
  {
   "cell_type": "code",
   "execution_count": null,
   "id": "7ad79cfb",
   "metadata": {
    "slideshow": {
     "slide_type": "subslide"
    }
   },
   "outputs": [],
   "source": [
    "# recall from pre-midterm python\n",
    "iucn_species_str = \"Camelus_dromedarius\"\n",
    "iucn_species_str.replace(\"_\", \" \")"
   ]
  },
  {
   "cell_type": "markdown",
   "id": "904b7790",
   "metadata": {
    "slideshow": {
     "slide_type": "subslide"
    }
   },
   "source": [
    "We can apply the same operation to all the values in the column (Series) in a single step (no `for` loops!)\n",
    "- recall we performed these transformations on numerical columns last lecture"
   ]
  },
  {
   "cell_type": "code",
   "execution_count": null,
   "id": "717457b2",
   "metadata": {
    "slideshow": {
     "slide_type": "subslide"
    }
   },
   "outputs": [],
   "source": [
    "# numerical\n",
    "species_data['Maturity (days)']"
   ]
  },
  {
   "cell_type": "code",
   "execution_count": null,
   "id": "f3ed6701",
   "metadata": {
    "slideshow": {
     "slide_type": "fragment"
    }
   },
   "outputs": [],
   "source": [
    "maturity_in_years = species_data['Maturity (days)'] / 365\n",
    "display(maturity_in_years)"
   ]
  },
  {
   "cell_type": "markdown",
   "id": "a09a127c",
   "metadata": {
    "slideshow": {
     "slide_type": "subslide"
    }
   },
   "source": [
    "With `string` columns, we need to use a slightly different format."
   ]
  },
  {
   "cell_type": "code",
   "execution_count": null,
   "id": "dfd660e2",
   "metadata": {
    "slideshow": {
     "slide_type": "subslide"
    }
   },
   "outputs": [],
   "source": [
    "iucn_data['species']"
   ]
  },
  {
   "cell_type": "code",
   "execution_count": null,
   "id": "1d75d809",
   "metadata": {
    "slideshow": {
     "slide_type": "fragment"
    }
   },
   "outputs": [],
   "source": [
    "iucn_data['species'].str.upper()\n",
    "# NOTE the additional \".str\" before the transformation operation"
   ]
  },
  {
   "cell_type": "code",
   "execution_count": null,
   "id": "338ab9dc",
   "metadata": {
    "slideshow": {
     "slide_type": "subslide"
    }
   },
   "outputs": [],
   "source": [
    "# now let us try the replace operation\n",
    "iucn_data['species'].str.replace(\"_\", \" \")"
   ]
  },
  {
   "cell_type": "code",
   "execution_count": null,
   "id": "1db5e922",
   "metadata": {
    "slideshow": {
     "slide_type": "subslide"
    }
   },
   "outputs": [],
   "source": [
    "# tada! add this as a new column\n",
    "iucn_data['species_formatted'] = iucn_data['species'].str.replace(\"_\", \" \")"
   ]
  },
  {
   "cell_type": "code",
   "execution_count": null,
   "id": "bb1c369d",
   "metadata": {
    "slideshow": {
     "slide_type": "fragment"
    }
   },
   "outputs": [],
   "source": [
    "display(iucn_data)"
   ]
  },
  {
   "cell_type": "markdown",
   "id": "9bd17011",
   "metadata": {
    "slideshow": {
     "slide_type": "slide"
    }
   },
   "source": [
    "## The Merge Operation\n",
    "\n",
    "We can now ask `pandas` to combine the two dataframes by matching on:\n",
    "- the `Binomial` column in `species_data`\n",
    "- and the `species_formatted` column in `iucn_data`"
   ]
  },
  {
   "cell_type": "code",
   "execution_count": null,
   "id": "b2210475",
   "metadata": {
    "slideshow": {
     "slide_type": "subslide"
    }
   },
   "outputs": [],
   "source": [
    "display(iucn_data['species_formatted'].head())\n",
    "display(species_data['Binomial'].head())"
   ]
  },
  {
   "cell_type": "markdown",
   "id": "8dcb65e2",
   "metadata": {
    "slideshow": {
     "slide_type": "slide"
    }
   },
   "source": [
    "Formally, we merge two `DataFrames` using a `pandas` function called `merge`.\n",
    "We'll use `merge` with four arguments:\n",
    "\n",
    "- `left`: the first `DataFrame` to merge\n",
    "- `right`: the second `DataFrame` to merge\n",
    "- `left_on`: the name of the column in the `left` `DataFrame` to match with\n",
    "- `right_on`: the name of the column in the `right` `DataFrame` to match with"
   ]
  },
  {
   "cell_type": "code",
   "execution_count": null,
   "id": "244eae58",
   "metadata": {
    "slideshow": {
     "slide_type": "subslide"
    }
   },
   "outputs": [],
   "source": [
    "combined_data = pd.merge(\n",
    "    left=species_data,\n",
    "    right=iucn_data,\n",
    "    left_on=\"Binomial\",\n",
    "    right_on=\"species_formatted\"\n",
    ")"
   ]
  },
  {
   "cell_type": "code",
   "execution_count": null,
   "id": "75b849c9",
   "metadata": {
    "slideshow": {
     "slide_type": "subslide"
    }
   },
   "outputs": [],
   "source": [
    "display(combined_data)"
   ]
  },
  {
   "cell_type": "code",
   "execution_count": null,
   "id": "ff47e77c",
   "metadata": {},
   "outputs": [],
   "source": [
    "print(len(species_data.columns), len(iucn_data.columns), len(combined_data.columns))\n",
    "print(len(species_data), len(iucn_data), len(combined_data))\n",
    "# only the species present in both dataframes are in the combined dataframe"
   ]
  },
  {
   "cell_type": "markdown",
   "id": "95474de0",
   "metadata": {
    "slideshow": {
     "slide_type": "slide"
    }
   },
   "source": [
    "## Further cleaning\n",
    "\n",
    "We have information about `order` in both dataframes: `species_data['Order']` and `iucn_data['order']`.\n",
    "\n",
    "Do they always match?"
   ]
  },
  {
   "cell_type": "code",
   "execution_count": null,
   "id": "8e7977d4",
   "metadata": {
    "slideshow": {
     "slide_type": "subslide"
    }
   },
   "outputs": [],
   "source": [
    "combined_data.head()"
   ]
  },
  {
   "cell_type": "code",
   "execution_count": null,
   "id": "957cddba",
   "metadata": {
    "slideshow": {
     "slide_type": "subslide"
    }
   },
   "outputs": [],
   "source": [
    "# let us check if they match\n",
    "is_order_match = combined_data['Order'] == combined_data['order']"
   ]
  },
  {
   "cell_type": "code",
   "execution_count": null,
   "id": "253a5eed",
   "metadata": {
    "slideshow": {
     "slide_type": "fragment"
    }
   },
   "outputs": [],
   "source": [
    "is_order_match"
   ]
  },
  {
   "cell_type": "code",
   "execution_count": null,
   "id": "25e30a8b",
   "metadata": {
    "slideshow": {
     "slide_type": "subslide"
    }
   },
   "outputs": [],
   "source": [
    "is_order_match.value_counts()"
   ]
  },
  {
   "cell_type": "code",
   "execution_count": null,
   "id": "10ab297e",
   "metadata": {
    "slideshow": {
     "slide_type": "slide"
    }
   },
   "outputs": [],
   "source": [
    "# let us filter out these rows!\n",
    "# remember: Boolean filtering\n",
    "combined_data[is_order_match]"
   ]
  },
  {
   "cell_type": "code",
   "execution_count": null,
   "id": "b549c131",
   "metadata": {
    "slideshow": {
     "slide_type": "subslide"
    }
   },
   "outputs": [],
   "source": [
    "# check: where do they NOT match?\n",
    "combined_data[~is_order_match]"
   ]
  },
  {
   "cell_type": "code",
   "execution_count": null,
   "id": "17997315",
   "metadata": {
    "slideshow": {
     "slide_type": "subslide"
    }
   },
   "outputs": [],
   "source": [
    "# Alternate method\n",
    "is_order_mismatch = combined_data['Order'] != combined_data['order']\n",
    "combined_data[is_order_mismatch]"
   ]
  },
  {
   "cell_type": "code",
   "execution_count": null,
   "id": "7ce8d8a9",
   "metadata": {
    "slideshow": {
     "slide_type": "subslide"
    }
   },
   "outputs": [],
   "source": [
    "combined_data_clean = combined_data[is_order_match]"
   ]
  },
  {
   "cell_type": "code",
   "execution_count": null,
   "id": "a256fdcf",
   "metadata": {
    "slideshow": {
     "slide_type": "fragment"
    }
   },
   "outputs": [],
   "source": [
    "display(combined_data_clean)\n",
    "# optional: remove unnecessary columns\n",
    "# keep_columns = [...]\n",
    "# combined_data_clean = combined_data_clean[keep_columns]"
   ]
  },
  {
   "cell_type": "markdown",
   "id": "b10a87b3",
   "metadata": {
    "slideshow": {
     "slide_type": "slide"
    }
   },
   "source": [
    "## Recall our data science question\n",
    "\n",
    "What is the relationship between maturity and extinction status?\n",
    "\n",
    "Let us find out the **average maturity age for each extinction level** in the IUCN levels."
   ]
  },
  {
   "cell_type": "code",
   "execution_count": null,
   "id": "67f4911b",
   "metadata": {
    "slideshow": {
     "slide_type": "subslide"
    }
   },
   "outputs": [],
   "source": [
    "combined_data_clean['iucn_status'].value_counts()"
   ]
  },
  {
   "cell_type": "code",
   "execution_count": null,
   "id": "e3b92b7d",
   "metadata": {
    "slideshow": {
     "slide_type": "subslide"
    }
   },
   "outputs": [],
   "source": [
    "combined_data_clean['Maturity (days)'].describe()"
   ]
  },
  {
   "cell_type": "markdown",
   "id": "12084353",
   "metadata": {
    "slideshow": {
     "slide_type": "slide"
    }
   },
   "source": [
    "## Grouping\n",
    "\n",
    "`pandas` has a `DataFrame.groupby()` function that allows us to compute aggregate measures for *grouped* subsets of the data in one (or two) line(s) of code.\n",
    "\n",
    "The data can be *grouped* based on the values in a column. The *measures* can be any statistic about the other columns of the data:\n",
    "- For each `order` (*group*), how many *unique* `species` exist?\n",
    "- For each `species` (*group*), what is the *average* `Mass`?\n",
    "\n",
    "Our question:\n",
    "- For each `iucn_status` (*group*), what is the *average* `Maturity (days)`?"
   ]
  },
  {
   "cell_type": "code",
   "execution_count": null,
   "id": "f9be8e6a",
   "metadata": {
    "slideshow": {
     "slide_type": "slide"
    }
   },
   "outputs": [],
   "source": [
    "# The long road #1\n",
    "iucn_levels = list(combined_data_clean['iucn_status'].unique())\n",
    "print(iucn_levels)"
   ]
  },
  {
   "cell_type": "code",
   "execution_count": null,
   "id": "36abaea3",
   "metadata": {
    "slideshow": {
     "slide_type": "fragment"
    }
   },
   "outputs": [],
   "source": [
    "# The long road #1\n",
    "\n",
    "is_lc = combined_data_clean['iucn_status']=='LC' # boolean filter\n",
    "lc_species = combined_data_clean[is_lc] # extract subset of the dataframe\n",
    "lc_avg = lc_species['Maturity (days)'].mean() #compute mean of the maturity column values\n",
    "print(lc_avg)\n",
    "\n",
    "is_vu = combined_data_clean['iucn_status']=='VU'\n",
    "vu_species = combined_data_clean[is_vu]\n",
    "vu_avg = vu_species['Maturity (days)'].mean()\n",
    "print(vu_avg)\n",
    "\n",
    "\n",
    "# .... and so on for each IUCN level .....\n",
    "# NOT efficient! Not enough automation!"
   ]
  },
  {
   "cell_type": "code",
   "execution_count": null,
   "id": "2ebf391e",
   "metadata": {
    "slideshow": {
     "slide_type": "slide"
    }
   },
   "outputs": [],
   "source": [
    "# The long read #2\n",
    "avg_values = {}\n",
    "for level in iucn_levels:\n",
    "    is_level = combined_data_clean['iucn_status'] == level\n",
    "    level_species = combined_data_clean[is_level]\n",
    "    level_avg = level_species['Maturity (days)'].mean()\n",
    "    avg_values[level] = level_avg\n",
    "\n",
    "print(avg_values)\n",
    "\n",
    "## better....but there is something even more better!"
   ]
  },
  {
   "cell_type": "code",
   "execution_count": null,
   "id": "a3803445",
   "metadata": {
    "slideshow": {
     "slide_type": "slide"
    }
   },
   "outputs": [],
   "source": [
    "# groupby and average\n",
    "\n",
    "grouped_data = combined_data_clean.groupby('iucn_status')\n",
    "group_avg = grouped_data['Maturity (days)'].mean()"
   ]
  },
  {
   "cell_type": "code",
   "execution_count": null,
   "id": "e67a4745",
   "metadata": {
    "slideshow": {
     "slide_type": "fragment"
    }
   },
   "outputs": [],
   "source": [
    "group_avg\n",
    "# what is the type?"
   ]
  },
  {
   "cell_type": "code",
   "execution_count": null,
   "id": "6a2f3bbf",
   "metadata": {
    "slideshow": {
     "slide_type": "subslide"
    }
   },
   "outputs": [],
   "source": [
    "group_avg['DD']"
   ]
  },
  {
   "cell_type": "code",
   "execution_count": null,
   "id": "4c863410",
   "metadata": {
    "slideshow": {
     "slide_type": "fragment"
    }
   },
   "outputs": [],
   "source": [
    "# sort!\n",
    "group_avg.round(3).sort_values()\n",
    "\n",
    "# to answer the question, we need to *interpret* these values: do the more endangered species have \n",
    "# higher or lower average maturity?\n",
    "# A job for you! (humans)"
   ]
  },
  {
   "cell_type": "code",
   "execution_count": null,
   "id": "0cd1e937",
   "metadata": {
    "slideshow": {
     "slide_type": "subslide"
    }
   },
   "outputs": [],
   "source": [
    "# can be chained\n",
    "combined_data_clean.groupby('iucn_status')['Maturity (days)'].mean()"
   ]
  },
  {
   "cell_type": "markdown",
   "id": "4d2e1f44",
   "metadata": {
    "slideshow": {
     "slide_type": "slide"
    }
   },
   "source": [
    "## What are the data subsets for each group?\n",
    "\n",
    "Recall the two steps we performed for groupby-aggregate:\n",
    "1. `grouped_df = DataFrame.groupby(column1)`\n",
    "2. `grouped_df[column2].agg_measure()`\n",
    "\n",
    "Let us examine the output of step 1 in a bit more detail"
   ]
  },
  {
   "cell_type": "code",
   "execution_count": null,
   "id": "28924b6d",
   "metadata": {
    "slideshow": {
     "slide_type": "subslide"
    }
   },
   "outputs": [],
   "source": [
    "grouped_data = combined_data_clean.groupby('iucn_status')"
   ]
  },
  {
   "cell_type": "code",
   "execution_count": null,
   "id": "737811d6",
   "metadata": {
    "slideshow": {
     "slide_type": "fragment"
    }
   },
   "outputs": [],
   "source": [
    "display(grouped_data)"
   ]
  },
  {
   "cell_type": "markdown",
   "id": "fd5a3011",
   "metadata": {
    "slideshow": {
     "slide_type": "fragment"
    }
   },
   "source": [
    "This is an internal `pandas` representation that is not very accessible to us.\n",
    "\n",
    "We can think of it as a dictionary that maps each group to the subset of the dataframe belonging to that group.\n",
    "\n",
    "We can obtain the data subset for a particular group using the `DataFrameGroupBy.get_group()` method."
   ]
  },
  {
   "cell_type": "code",
   "execution_count": null,
   "id": "7c63abf6",
   "metadata": {
    "slideshow": {
     "slide_type": "subslide"
    }
   },
   "outputs": [],
   "source": [
    "grouped_data.get_group('CR')\n",
    "# what is the type?"
   ]
  },
  {
   "cell_type": "markdown",
   "id": "31e8152a",
   "metadata": {
    "slideshow": {
     "slide_type": "slide"
    }
   },
   "source": [
    "## One more example\n",
    "\n",
    "Say we want to find out the *number of unique species* (measure) within each *order* (group) in our dataframe.\n",
    "\n",
    "- we want to `groupby('order')`\n",
    "- and for each group, find the `['Binomial'].nunique`"
   ]
  },
  {
   "cell_type": "code",
   "execution_count": null,
   "id": "42bdbb47",
   "metadata": {
    "slideshow": {
     "slide_type": "subslide"
    }
   },
   "outputs": [],
   "source": [
    "combined_data_clean.head()"
   ]
  },
  {
   "cell_type": "code",
   "execution_count": null,
   "id": "78b6dd61",
   "metadata": {
    "slideshow": {
     "slide_type": "subslide"
    }
   },
   "outputs": [],
   "source": [
    "# how many unique orders are there?\n",
    "combined_data_clean['order'].nunique()"
   ]
  },
  {
   "cell_type": "code",
   "execution_count": null,
   "id": "5a0218e4",
   "metadata": {
    "slideshow": {
     "slide_type": "subslide"
    }
   },
   "outputs": [],
   "source": [
    "# method 1: because each species is in a new row, we can simply use value_counts\n",
    "combined_data_clean['order'].value_counts()"
   ]
  },
  {
   "cell_type": "code",
   "execution_count": null,
   "id": "c3499bc3",
   "metadata": {
    "slideshow": {
     "slide_type": "subslide"
    }
   },
   "outputs": [],
   "source": [
    "# method 2: use groupby\n"
   ]
  },
  {
   "cell_type": "code",
   "execution_count": null,
   "id": "4c57b6fa",
   "metadata": {
    "slideshow": {
     "slide_type": "subslide"
    }
   },
   "outputs": [],
   "source": [
    "# DIY: a more complex example\n",
    "# combined_data_clean.groupby('order')['iucn_status'].value_counts()\n",
    "# combined_data_clean.groupby('order')['iucn_status'].value_counts()['Afrosoricida']\n",
    "# combined_data_clean.groupby('order')['iucn_status'].value_counts()['Afrosoricida']['EN']"
   ]
  },
  {
   "cell_type": "markdown",
   "id": "5d2dbe79",
   "metadata": {
    "slideshow": {
     "slide_type": "slide"
    }
   },
   "source": [
    "## Data Visualization\n",
    "\n",
    "Finally, `pandas` offers some basic funtions to **plot** our data.\n",
    "\n",
    "Visual representations can sometimes make certain relationships more apparent*, and can help us in choosing the right statistical tools to analyze our data.\n",
    "\n",
    "*apparent != correct. Statistics is important."
   ]
  },
  {
   "cell_type": "markdown",
   "id": "7794444e",
   "metadata": {
    "slideshow": {
     "slide_type": "slide"
    }
   },
   "source": [
    "## Plotting a Series\n",
    "Let us plot the average Maturity values for each iucn level using the `group_avg` Series."
   ]
  },
  {
   "cell_type": "code",
   "execution_count": null,
   "id": "e135ce57",
   "metadata": {
    "slideshow": {
     "slide_type": "slide"
    }
   },
   "outputs": [],
   "source": [
    "# recall\n",
    "group_avg"
   ]
  },
  {
   "cell_type": "code",
   "execution_count": null,
   "id": "4258ef22",
   "metadata": {
    "slideshow": {
     "slide_type": "subslide"
    }
   },
   "outputs": [],
   "source": [
    "# what kind of plot? A bar plot.\n",
    "group_avg.plot.bar()"
   ]
  },
  {
   "cell_type": "code",
   "execution_count": null,
   "id": "68295902",
   "metadata": {
    "slideshow": {
     "slide_type": "subslide"
    }
   },
   "outputs": [],
   "source": [
    "# hmmm..let us sort it\n",
    "# group_avg.sort_values().plot.bar()\n",
    "group_avg.sort_values(ascending=False).plot.bar()"
   ]
  },
  {
   "cell_type": "markdown",
   "id": "2a7651b4",
   "metadata": {
    "slideshow": {
     "slide_type": "slide"
    }
   },
   "source": [
    "Each plotting method accepts optional arguments to configure the appearance of the plot.\n",
    "For example:\n",
    "\n",
    "- `title`: the title of the plot\n",
    "- `xlabel`: the label for the x-axis\n",
    "- `ylabel`: the label for the y-axis"
   ]
  },
  {
   "cell_type": "code",
   "execution_count": null,
   "id": "c459ee74",
   "metadata": {
    "slideshow": {
     "slide_type": "subslide"
    }
   },
   "outputs": [],
   "source": [
    "sorted_group_avg = group_avg.sort_values(ascending=False)\n",
    "sorted_group_avg.plot.bar(\n",
    "    title=\"Mean Age to Maturity by IUCN Status\",\n",
    "    xlabel=\"IUCN Status\",\n",
    "    ylabel=\"Mean Age to Maturity (days)\"\n",
    ")"
   ]
  },
  {
   "cell_type": "markdown",
   "id": "e35cca72",
   "metadata": {
    "slideshow": {
     "slide_type": "slide"
    }
   },
   "source": [
    "By default, `Series.plot.bar` uses the `Series` *index* to label the bars.\n",
    "We can customize these labels by using the `Series.rename(index=...)`."
   ]
  },
  {
   "cell_type": "code",
   "execution_count": null,
   "id": "841ec0c8",
   "metadata": {
    "slideshow": {
     "slide_type": "slide"
    }
   },
   "outputs": [],
   "source": [
    "old_to_new = {\n",
    "    \"DD\": \"Data Deficient\",\n",
    "    \"EN\": \"Endangered\",\n",
    "    \"CR\": \"Critically Endangered\",\n",
    "    \"VU\": \"Vulnerable\",\n",
    "    \"NT\": \"Near Threatened\",\n",
    "    \"LC\": \"Least Concern\",\n",
    "    \"EW\": \"Extinct in the Wild\",\n",
    "    \"EX\": \"Extinct\"\n",
    "}\n",
    "\n",
    "group_maturities_renamed = sorted_group_avg.rename(index=old_to_new)\n"
   ]
  },
  {
   "cell_type": "code",
   "execution_count": null,
   "id": "69d6cc17",
   "metadata": {
    "slideshow": {
     "slide_type": "subslide"
    }
   },
   "outputs": [],
   "source": [
    "group_maturities_renamed"
   ]
  },
  {
   "cell_type": "code",
   "execution_count": null,
   "id": "84c511db",
   "metadata": {
    "slideshow": {
     "slide_type": "subslide"
    }
   },
   "outputs": [],
   "source": [
    "group_maturities_renamed.plot.bar(\n",
    "    title=\"Mean Age to Maturity by IUCN Status\",\n",
    "    xlabel=\"IUCN Status\",\n",
    "    ylabel=\"Mean Age to Maturity (days)\"\n",
    ")"
   ]
  },
  {
   "cell_type": "markdown",
   "id": "7daba72f",
   "metadata": {
    "slideshow": {
     "slide_type": "slide"
    }
   },
   "source": [
    "We can use the plotting functions with `DataFrame` objects as well! \n",
    "We need to specify the columns for the x and y axis.\n",
    "For example:\n",
    "- What is the relationship between maturity and litter size?"
   ]
  },
  {
   "cell_type": "code",
   "execution_count": null,
   "id": "f98d952d",
   "metadata": {
    "slideshow": {
     "slide_type": "subslide"
    }
   },
   "outputs": [],
   "source": [
    "combined_data_clean.plot.scatter(x='Litter Size', y='Maturity (days)', \n",
    "                                 title=\"Litter Size vs. Mean Age to Maturity Among Mammals\")\n",
    "# each point on the plot is a species (datapoint)"
   ]
  },
  {
   "cell_type": "markdown",
   "id": "3d389f7c",
   "metadata": {
    "slideshow": {
     "slide_type": "slide"
    }
   },
   "source": [
    "The distribution of a numerical list of values can be visualized as a *boxplot*."
   ]
  },
  {
   "cell_type": "code",
   "execution_count": null,
   "id": "9e400bc9",
   "metadata": {
    "slideshow": {
     "slide_type": "subslide"
    }
   },
   "outputs": [],
   "source": [
    "combined_data_clean.plot.box(\n",
    "    column=\"Litter Size\",\n",
    "    title=\"Litter Size Among Mammals\"\n",
    ")"
   ]
  },
  {
   "cell_type": "code",
   "execution_count": null,
   "id": "15d53d1e",
   "metadata": {
    "slideshow": {
     "slide_type": "subslide"
    }
   },
   "outputs": [],
   "source": [
    "# we can plot this distribution for each group, just with an extra argument!\n",
    "combined_data_clean.plot.box(\n",
    "    column=\"Litter Size\",\n",
    "    by='iucn_status',\n",
    "    title=\"Litter Size Among Mammals by IUCN Status\"\n",
    ")"
   ]
  },
  {
   "cell_type": "markdown",
   "id": "5dc627c4",
   "metadata": {
    "slideshow": {
     "slide_type": "slide"
    }
   },
   "source": [
    "## Further reading\n",
    "\n",
    "- [Pandas *Working with text data* guide](https://pandas.pydata.org/docs/user_guide/text.html)\n",
    "- [Pandas *Chart visualization* guide](https://pandas.pydata.org/docs/user_guide/visualization.html)\n"
   ]
  }
 ],
 "metadata": {
  "celltoolbar": "Slideshow",
  "kernelspec": {
   "display_name": "Python 3",
   "language": "python",
   "name": "python3"
  },
  "language_info": {
   "codemirror_mode": {
    "name": "ipython",
    "version": 3
   },
   "file_extension": ".py",
   "mimetype": "text/x-python",
   "name": "python",
   "nbconvert_exporter": "python",
   "pygments_lexer": "ipython3",
   "version": "3.10.9"
  }
 },
 "nbformat": 4,
 "nbformat_minor": 5
}
