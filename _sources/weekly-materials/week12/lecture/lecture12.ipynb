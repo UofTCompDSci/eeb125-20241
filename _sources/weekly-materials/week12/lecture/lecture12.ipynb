{
 "cells": [
  {
   "cell_type": "markdown",
   "metadata": {
    "slideshow": {
     "slide_type": "slide"
    }
   },
   "source": [
    "# Week 12: A short note on reproducibility\n",
    "\n",
    "## April 3, 2024\n",
    "\n",
    "**Michael Jongho Moon**"
   ]
  },
  {
   "cell_type": "markdown",
   "metadata": {
    "slideshow": {
     "slide_type": "slide"
    }
   },
   "source": [
    "+  One of the evaluation criteria for your final projects is _reproducibility of slides_.\n",
    "+  What is _reproducibility_?"
   ]
  },
  {
   "cell_type": "code",
   "execution_count": 1,
   "metadata": {
    "slideshow": {
     "slide_type": "skip"
    }
   },
   "outputs": [
    {
     "name": "stderr",
     "output_type": "stream",
     "text": [
      "/var/folders/0j/ybsv4ncn5w50v40vdh5jjlww0000gn/T/ipykernel_43060/1519058914.py:1: DeprecationWarning: \n",
      "Pyarrow will become a required dependency of pandas in the next major release of pandas (pandas 3.0),\n",
      "(to allow more performant data types, such as the Arrow string type, and better interoperability with other libraries)\n",
      "but was not found to be installed on your system.\n",
      "If this would cause problems for you,\n",
      "please provide us feedback at https://github.com/pandas-dev/pandas/issues/54466\n",
      "        \n",
      "  import pandas as pd\n"
     ]
    }
   ],
   "source": [
    "import pandas as pd\n",
    "import statsmodels.formula.api as smf\n",
    "soccer = pd.read_csv(\"soccer.csv\")\n",
    "soccer.columns\n",
    "soccer_player = soccer\\\n",
    "    .groupby([\"playerShort\", \"leagueCountry\", \n",
    "              \"height\", \"weight\", \"position\",\n",
    "              \"rater1\", \"rater2\"])[[\"games\", \"redCards\"]]\\\n",
    "    .sum()\\\n",
    "    .reset_index()\n",
    "soccer_player[\"p_red_cards\"] = soccer_player[\"redCards\"] / soccer_player[\"games\"]\n",
    "soccer_player\\\n",
    "    .rename(columns={\"redCards\": \"n_red_cards\",\n",
    "                     \"games\": \"n_games\",\n",
    "                     \"leagueCountry\": \"league_country\"},\n",
    "            inplace=True)\n",
    "soccer_player = soccer_player[[\n",
    "    \"p_red_cards\", \"rater1\", \"rater2\",\n",
    "    \"height\", \"weight\", \"position\"\n",
    "]]\n",
    "\n",
    "midfielder = soccer_player[\"position\"].str.match(\".*Midfielder\")\n",
    "defender = soccer_player[\"position\"].str.match(\".*(B|b)ack\")\n",
    "goalkeeper = soccer_player[\"position\"].str.match(\"Goalkeeper\")\n",
    "soccer_player.loc[~(midfielder | defender | goalkeeper), \"position\"] = \"Attacker\"\n",
    "soccer_player.loc[midfielder, \"position\"] = \"Midfielder\"\n",
    "soccer_player.loc[defender, \"position\"] = \"Defender\"\n",
    "soccer_player.loc[goalkeeper, \"position\"] = \"Goalkeeper\"\n",
    "\n",
    "soccer_player.to_csv(\"soccer_cleaned.csv\", index=False)"
   ]
  },
  {
   "cell_type": "markdown",
   "metadata": {
    "slideshow": {
     "slide_type": "slide"
    }
   },
   "source": [
    "### Example: Many analysts, one data set\n",
    "\n",
    "+  A team of researchers crowdsourced analysts to investigate whether there is referee bias in soccer leagues against darker skinned players by analysing the number of red cards given to the players ([Silberzahn et al. 2018](https://doi.org/10.1177/2515245917747646)).\n",
    "+  Below is a simplified version of the data set provided to the analysts."
   ]
  },
  {
   "cell_type": "code",
   "execution_count": 2,
   "metadata": {},
   "outputs": [
    {
     "data": {
      "text/html": [
       "<div>\n",
       "<style scoped>\n",
       "    .dataframe tbody tr th:only-of-type {\n",
       "        vertical-align: middle;\n",
       "    }\n",
       "\n",
       "    .dataframe tbody tr th {\n",
       "        vertical-align: top;\n",
       "    }\n",
       "\n",
       "    .dataframe thead th {\n",
       "        text-align: right;\n",
       "    }\n",
       "</style>\n",
       "<table border=\"1\" class=\"dataframe\">\n",
       "  <thead>\n",
       "    <tr style=\"text-align: right;\">\n",
       "      <th></th>\n",
       "      <th>p_red_cards</th>\n",
       "      <th>rater1</th>\n",
       "      <th>rater2</th>\n",
       "      <th>height</th>\n",
       "      <th>weight</th>\n",
       "      <th>position</th>\n",
       "    </tr>\n",
       "  </thead>\n",
       "  <tbody>\n",
       "    <tr>\n",
       "      <th>0</th>\n",
       "      <td>0.000000</td>\n",
       "      <td>0.25</td>\n",
       "      <td>0.00</td>\n",
       "      <td>182.0</td>\n",
       "      <td>71.0</td>\n",
       "      <td>Defender</td>\n",
       "    </tr>\n",
       "    <tr>\n",
       "      <th>1</th>\n",
       "      <td>0.002976</td>\n",
       "      <td>0.00</td>\n",
       "      <td>0.25</td>\n",
       "      <td>183.0</td>\n",
       "      <td>73.0</td>\n",
       "      <td>Midfielder</td>\n",
       "    </tr>\n",
       "    <tr>\n",
       "      <th>2</th>\n",
       "      <td>0.000000</td>\n",
       "      <td>0.25</td>\n",
       "      <td>0.25</td>\n",
       "      <td>165.0</td>\n",
       "      <td>63.0</td>\n",
       "      <td>Midfielder</td>\n",
       "    </tr>\n",
       "    <tr>\n",
       "      <th>3</th>\n",
       "      <td>0.003846</td>\n",
       "      <td>0.00</td>\n",
       "      <td>0.00</td>\n",
       "      <td>178.0</td>\n",
       "      <td>76.0</td>\n",
       "      <td>Midfielder</td>\n",
       "    </tr>\n",
       "    <tr>\n",
       "      <th>4</th>\n",
       "      <td>0.016129</td>\n",
       "      <td>0.25</td>\n",
       "      <td>0.25</td>\n",
       "      <td>180.0</td>\n",
       "      <td>73.0</td>\n",
       "      <td>Defender</td>\n",
       "    </tr>\n",
       "    <tr>\n",
       "      <th>...</th>\n",
       "      <td>...</td>\n",
       "      <td>...</td>\n",
       "      <td>...</td>\n",
       "      <td>...</td>\n",
       "      <td>...</td>\n",
       "      <td>...</td>\n",
       "    </tr>\n",
       "    <tr>\n",
       "      <th>1414</th>\n",
       "      <td>0.002551</td>\n",
       "      <td>0.25</td>\n",
       "      <td>0.25</td>\n",
       "      <td>181.0</td>\n",
       "      <td>76.0</td>\n",
       "      <td>Attacker</td>\n",
       "    </tr>\n",
       "    <tr>\n",
       "      <th>1415</th>\n",
       "      <td>0.000000</td>\n",
       "      <td>0.00</td>\n",
       "      <td>0.00</td>\n",
       "      <td>175.0</td>\n",
       "      <td>67.0</td>\n",
       "      <td>Midfielder</td>\n",
       "    </tr>\n",
       "    <tr>\n",
       "      <th>1416</th>\n",
       "      <td>0.015190</td>\n",
       "      <td>0.75</td>\n",
       "      <td>1.00</td>\n",
       "      <td>182.0</td>\n",
       "      <td>76.0</td>\n",
       "      <td>Defender</td>\n",
       "    </tr>\n",
       "    <tr>\n",
       "      <th>1417</th>\n",
       "      <td>0.042553</td>\n",
       "      <td>0.00</td>\n",
       "      <td>0.00</td>\n",
       "      <td>185.0</td>\n",
       "      <td>84.0</td>\n",
       "      <td>Goalkeeper</td>\n",
       "    </tr>\n",
       "    <tr>\n",
       "      <th>1418</th>\n",
       "      <td>0.000000</td>\n",
       "      <td>0.00</td>\n",
       "      <td>0.00</td>\n",
       "      <td>186.0</td>\n",
       "      <td>78.0</td>\n",
       "      <td>Midfielder</td>\n",
       "    </tr>\n",
       "  </tbody>\n",
       "</table>\n",
       "<p>1419 rows × 6 columns</p>\n",
       "</div>"
      ],
      "text/plain": [
       "      p_red_cards  rater1  rater2  height  weight    position\n",
       "0        0.000000    0.25    0.00   182.0    71.0    Defender\n",
       "1        0.002976    0.00    0.25   183.0    73.0  Midfielder\n",
       "2        0.000000    0.25    0.25   165.0    63.0  Midfielder\n",
       "3        0.003846    0.00    0.00   178.0    76.0  Midfielder\n",
       "4        0.016129    0.25    0.25   180.0    73.0    Defender\n",
       "...           ...     ...     ...     ...     ...         ...\n",
       "1414     0.002551    0.25    0.25   181.0    76.0    Attacker\n",
       "1415     0.000000    0.00    0.00   175.0    67.0  Midfielder\n",
       "1416     0.015190    0.75    1.00   182.0    76.0    Defender\n",
       "1417     0.042553    0.00    0.00   185.0    84.0  Goalkeeper\n",
       "1418     0.000000    0.00    0.00   186.0    78.0  Midfielder\n",
       "\n",
       "[1419 rows x 6 columns]"
      ]
     },
     "execution_count": 2,
     "metadata": {},
     "output_type": "execute_result"
    }
   ],
   "source": [
    "import pandas as pd\n",
    "soccer = pd.read_csv(\"soccer_cleaned.csv\")\n",
    "soccer"
   ]
  },
  {
   "cell_type": "code",
   "execution_count": 3,
   "metadata": {
    "slideshow": {
     "slide_type": "subslide"
    }
   },
   "outputs": [
    {
     "data": {
      "text/html": [
       "<div>\n",
       "<style scoped>\n",
       "    .dataframe tbody tr th:only-of-type {\n",
       "        vertical-align: middle;\n",
       "    }\n",
       "\n",
       "    .dataframe tbody tr th {\n",
       "        vertical-align: top;\n",
       "    }\n",
       "\n",
       "    .dataframe thead th {\n",
       "        text-align: right;\n",
       "    }\n",
       "</style>\n",
       "<table border=\"1\" class=\"dataframe\">\n",
       "  <thead>\n",
       "    <tr style=\"text-align: right;\">\n",
       "      <th></th>\n",
       "      <th>p_red_cards</th>\n",
       "      <th>rater1</th>\n",
       "      <th>rater2</th>\n",
       "      <th>height</th>\n",
       "      <th>weight</th>\n",
       "      <th>position</th>\n",
       "    </tr>\n",
       "  </thead>\n",
       "  <tbody>\n",
       "    <tr>\n",
       "      <th>0</th>\n",
       "      <td>0.000000</td>\n",
       "      <td>0.25</td>\n",
       "      <td>0.00</td>\n",
       "      <td>182.0</td>\n",
       "      <td>71.0</td>\n",
       "      <td>Defender</td>\n",
       "    </tr>\n",
       "    <tr>\n",
       "      <th>1</th>\n",
       "      <td>0.002976</td>\n",
       "      <td>0.00</td>\n",
       "      <td>0.25</td>\n",
       "      <td>183.0</td>\n",
       "      <td>73.0</td>\n",
       "      <td>Midfielder</td>\n",
       "    </tr>\n",
       "    <tr>\n",
       "      <th>2</th>\n",
       "      <td>0.000000</td>\n",
       "      <td>0.25</td>\n",
       "      <td>0.25</td>\n",
       "      <td>165.0</td>\n",
       "      <td>63.0</td>\n",
       "      <td>Midfielder</td>\n",
       "    </tr>\n",
       "    <tr>\n",
       "      <th>3</th>\n",
       "      <td>0.003846</td>\n",
       "      <td>0.00</td>\n",
       "      <td>0.00</td>\n",
       "      <td>178.0</td>\n",
       "      <td>76.0</td>\n",
       "      <td>Midfielder</td>\n",
       "    </tr>\n",
       "    <tr>\n",
       "      <th>4</th>\n",
       "      <td>0.016129</td>\n",
       "      <td>0.25</td>\n",
       "      <td>0.25</td>\n",
       "      <td>180.0</td>\n",
       "      <td>73.0</td>\n",
       "      <td>Defender</td>\n",
       "    </tr>\n",
       "    <tr>\n",
       "      <th>...</th>\n",
       "      <td>...</td>\n",
       "      <td>...</td>\n",
       "      <td>...</td>\n",
       "      <td>...</td>\n",
       "      <td>...</td>\n",
       "      <td>...</td>\n",
       "    </tr>\n",
       "    <tr>\n",
       "      <th>1414</th>\n",
       "      <td>0.002551</td>\n",
       "      <td>0.25</td>\n",
       "      <td>0.25</td>\n",
       "      <td>181.0</td>\n",
       "      <td>76.0</td>\n",
       "      <td>Attacker</td>\n",
       "    </tr>\n",
       "    <tr>\n",
       "      <th>1415</th>\n",
       "      <td>0.000000</td>\n",
       "      <td>0.00</td>\n",
       "      <td>0.00</td>\n",
       "      <td>175.0</td>\n",
       "      <td>67.0</td>\n",
       "      <td>Midfielder</td>\n",
       "    </tr>\n",
       "    <tr>\n",
       "      <th>1416</th>\n",
       "      <td>0.015190</td>\n",
       "      <td>0.75</td>\n",
       "      <td>1.00</td>\n",
       "      <td>182.0</td>\n",
       "      <td>76.0</td>\n",
       "      <td>Defender</td>\n",
       "    </tr>\n",
       "    <tr>\n",
       "      <th>1417</th>\n",
       "      <td>0.042553</td>\n",
       "      <td>0.00</td>\n",
       "      <td>0.00</td>\n",
       "      <td>185.0</td>\n",
       "      <td>84.0</td>\n",
       "      <td>Goalkeeper</td>\n",
       "    </tr>\n",
       "    <tr>\n",
       "      <th>1418</th>\n",
       "      <td>0.000000</td>\n",
       "      <td>0.00</td>\n",
       "      <td>0.00</td>\n",
       "      <td>186.0</td>\n",
       "      <td>78.0</td>\n",
       "      <td>Midfielder</td>\n",
       "    </tr>\n",
       "  </tbody>\n",
       "</table>\n",
       "<p>1419 rows × 6 columns</p>\n",
       "</div>"
      ],
      "text/plain": [
       "      p_red_cards  rater1  rater2  height  weight    position\n",
       "0        0.000000    0.25    0.00   182.0    71.0    Defender\n",
       "1        0.002976    0.00    0.25   183.0    73.0  Midfielder\n",
       "2        0.000000    0.25    0.25   165.0    63.0  Midfielder\n",
       "3        0.003846    0.00    0.00   178.0    76.0  Midfielder\n",
       "4        0.016129    0.25    0.25   180.0    73.0    Defender\n",
       "...           ...     ...     ...     ...     ...         ...\n",
       "1414     0.002551    0.25    0.25   181.0    76.0    Attacker\n",
       "1415     0.000000    0.00    0.00   175.0    67.0  Midfielder\n",
       "1416     0.015190    0.75    1.00   182.0    76.0    Defender\n",
       "1417     0.042553    0.00    0.00   185.0    84.0  Goalkeeper\n",
       "1418     0.000000    0.00    0.00   186.0    78.0  Midfielder\n",
       "\n",
       "[1419 rows x 6 columns]"
      ]
     },
     "execution_count": 3,
     "metadata": {},
     "output_type": "execute_result"
    }
   ],
   "source": [
    "soccer"
   ]
  },
  {
   "cell_type": "markdown",
   "metadata": {},
   "source": [
    "+  `rater1` and `rater2` are skin tones of each player rated by 2 independent raters; 0 means very light and 5 means very dark.\n",
    "+  `p_red_cards` is the proportion of games in which the player received a red card."
   ]
  },
  {
   "cell_type": "code",
   "execution_count": 4,
   "metadata": {
    "slideshow": {
     "slide_type": "subslide"
    }
   },
   "outputs": [
    {
     "data": {
      "text/html": [
       "<div>\n",
       "<style scoped>\n",
       "    .dataframe tbody tr th:only-of-type {\n",
       "        vertical-align: middle;\n",
       "    }\n",
       "\n",
       "    .dataframe tbody tr th {\n",
       "        vertical-align: top;\n",
       "    }\n",
       "\n",
       "    .dataframe thead th {\n",
       "        text-align: right;\n",
       "    }\n",
       "</style>\n",
       "<table border=\"1\" class=\"dataframe\">\n",
       "  <thead>\n",
       "    <tr style=\"text-align: right;\">\n",
       "      <th></th>\n",
       "      <th>p_red_cards</th>\n",
       "      <th>rater1</th>\n",
       "      <th>rater2</th>\n",
       "      <th>height</th>\n",
       "      <th>weight</th>\n",
       "      <th>position</th>\n",
       "      <th>skin_tone</th>\n",
       "      <th>skin_tone_b</th>\n",
       "      <th>p_red_cards_log</th>\n",
       "    </tr>\n",
       "  </thead>\n",
       "  <tbody>\n",
       "    <tr>\n",
       "      <th>0</th>\n",
       "      <td>0.000000</td>\n",
       "      <td>0.25</td>\n",
       "      <td>0.00</td>\n",
       "      <td>182.0</td>\n",
       "      <td>71.0</td>\n",
       "      <td>Defender</td>\n",
       "      <td>0.125</td>\n",
       "      <td>0</td>\n",
       "      <td>0.000000</td>\n",
       "    </tr>\n",
       "    <tr>\n",
       "      <th>1</th>\n",
       "      <td>0.002976</td>\n",
       "      <td>0.00</td>\n",
       "      <td>0.25</td>\n",
       "      <td>183.0</td>\n",
       "      <td>73.0</td>\n",
       "      <td>Midfielder</td>\n",
       "      <td>0.125</td>\n",
       "      <td>0</td>\n",
       "      <td>0.002972</td>\n",
       "    </tr>\n",
       "    <tr>\n",
       "      <th>2</th>\n",
       "      <td>0.000000</td>\n",
       "      <td>0.25</td>\n",
       "      <td>0.25</td>\n",
       "      <td>165.0</td>\n",
       "      <td>63.0</td>\n",
       "      <td>Midfielder</td>\n",
       "      <td>0.250</td>\n",
       "      <td>0</td>\n",
       "      <td>0.000000</td>\n",
       "    </tr>\n",
       "    <tr>\n",
       "      <th>3</th>\n",
       "      <td>0.003846</td>\n",
       "      <td>0.00</td>\n",
       "      <td>0.00</td>\n",
       "      <td>178.0</td>\n",
       "      <td>76.0</td>\n",
       "      <td>Midfielder</td>\n",
       "      <td>0.000</td>\n",
       "      <td>0</td>\n",
       "      <td>0.003839</td>\n",
       "    </tr>\n",
       "    <tr>\n",
       "      <th>4</th>\n",
       "      <td>0.016129</td>\n",
       "      <td>0.25</td>\n",
       "      <td>0.25</td>\n",
       "      <td>180.0</td>\n",
       "      <td>73.0</td>\n",
       "      <td>Defender</td>\n",
       "      <td>0.250</td>\n",
       "      <td>0</td>\n",
       "      <td>0.016000</td>\n",
       "    </tr>\n",
       "    <tr>\n",
       "      <th>...</th>\n",
       "      <td>...</td>\n",
       "      <td>...</td>\n",
       "      <td>...</td>\n",
       "      <td>...</td>\n",
       "      <td>...</td>\n",
       "      <td>...</td>\n",
       "      <td>...</td>\n",
       "      <td>...</td>\n",
       "      <td>...</td>\n",
       "    </tr>\n",
       "    <tr>\n",
       "      <th>1414</th>\n",
       "      <td>0.002551</td>\n",
       "      <td>0.25</td>\n",
       "      <td>0.25</td>\n",
       "      <td>181.0</td>\n",
       "      <td>76.0</td>\n",
       "      <td>Attacker</td>\n",
       "      <td>0.250</td>\n",
       "      <td>0</td>\n",
       "      <td>0.002548</td>\n",
       "    </tr>\n",
       "    <tr>\n",
       "      <th>1415</th>\n",
       "      <td>0.000000</td>\n",
       "      <td>0.00</td>\n",
       "      <td>0.00</td>\n",
       "      <td>175.0</td>\n",
       "      <td>67.0</td>\n",
       "      <td>Midfielder</td>\n",
       "      <td>0.000</td>\n",
       "      <td>0</td>\n",
       "      <td>0.000000</td>\n",
       "    </tr>\n",
       "    <tr>\n",
       "      <th>1416</th>\n",
       "      <td>0.015190</td>\n",
       "      <td>0.75</td>\n",
       "      <td>1.00</td>\n",
       "      <td>182.0</td>\n",
       "      <td>76.0</td>\n",
       "      <td>Defender</td>\n",
       "      <td>0.875</td>\n",
       "      <td>1</td>\n",
       "      <td>0.015076</td>\n",
       "    </tr>\n",
       "    <tr>\n",
       "      <th>1417</th>\n",
       "      <td>0.042553</td>\n",
       "      <td>0.00</td>\n",
       "      <td>0.00</td>\n",
       "      <td>185.0</td>\n",
       "      <td>84.0</td>\n",
       "      <td>Goalkeeper</td>\n",
       "      <td>0.000</td>\n",
       "      <td>0</td>\n",
       "      <td>0.041673</td>\n",
       "    </tr>\n",
       "    <tr>\n",
       "      <th>1418</th>\n",
       "      <td>0.000000</td>\n",
       "      <td>0.00</td>\n",
       "      <td>0.00</td>\n",
       "      <td>186.0</td>\n",
       "      <td>78.0</td>\n",
       "      <td>Midfielder</td>\n",
       "      <td>0.000</td>\n",
       "      <td>0</td>\n",
       "      <td>0.000000</td>\n",
       "    </tr>\n",
       "  </tbody>\n",
       "</table>\n",
       "<p>1419 rows × 9 columns</p>\n",
       "</div>"
      ],
      "text/plain": [
       "      p_red_cards  rater1  rater2  height  weight    position  skin_tone  \\\n",
       "0        0.000000    0.25    0.00   182.0    71.0    Defender      0.125   \n",
       "1        0.002976    0.00    0.25   183.0    73.0  Midfielder      0.125   \n",
       "2        0.000000    0.25    0.25   165.0    63.0  Midfielder      0.250   \n",
       "3        0.003846    0.00    0.00   178.0    76.0  Midfielder      0.000   \n",
       "4        0.016129    0.25    0.25   180.0    73.0    Defender      0.250   \n",
       "...           ...     ...     ...     ...     ...         ...        ...   \n",
       "1414     0.002551    0.25    0.25   181.0    76.0    Attacker      0.250   \n",
       "1415     0.000000    0.00    0.00   175.0    67.0  Midfielder      0.000   \n",
       "1416     0.015190    0.75    1.00   182.0    76.0    Defender      0.875   \n",
       "1417     0.042553    0.00    0.00   185.0    84.0  Goalkeeper      0.000   \n",
       "1418     0.000000    0.00    0.00   186.0    78.0  Midfielder      0.000   \n",
       "\n",
       "      skin_tone_b  p_red_cards_log  \n",
       "0               0         0.000000  \n",
       "1               0         0.002972  \n",
       "2               0         0.000000  \n",
       "3               0         0.003839  \n",
       "4               0         0.016000  \n",
       "...           ...              ...  \n",
       "1414            0         0.002548  \n",
       "1415            0         0.000000  \n",
       "1416            1         0.015076  \n",
       "1417            0         0.041673  \n",
       "1418            0         0.000000  \n",
       "\n",
       "[1419 rows x 9 columns]"
      ]
     },
     "execution_count": 4,
     "metadata": {},
     "output_type": "execute_result"
    }
   ],
   "source": [
    "import numpy as np\n",
    "soccer[\"skin_tone\"] = (soccer[\"rater1\"] + soccer[\"rater2\"]) / 2\n",
    "soccer[\"skin_tone_b\"] = (soccer[\"skin_tone\"] > .5) * 1\n",
    "soccer[\"p_red_cards_log\"] = np.log(soccer[\"p_red_cards\"] + 1)\n",
    "soccer"
   ]
  },
  {
   "cell_type": "markdown",
   "metadata": {},
   "source": [
    "A simple model to look at their relationship would be the regression model with the following regression line: \n",
    "\n",
    "$$\\texttt{p_red_cards} = b_0 + b_1 \\texttt{rate_mean}$$\n",
    "\n"
   ]
  },
  {
   "cell_type": "code",
   "execution_count": 5,
   "metadata": {},
   "outputs": [
    {
     "data": {
      "text/html": [
       "<table class=\"simpletable\">\n",
       "<tr>\n",
       "      <td></td>         <th>coef</th>     <th>std err</th>      <th>t</th>      <th>P>|t|</th>  <th>[0.025</th>    <th>0.975]</th>  \n",
       "</tr>\n",
       "<tr>\n",
       "  <th>Intercept</th> <td>    0.0040</td> <td>    0.000</td> <td>   18.084</td> <td> 0.000</td> <td>    0.004</td> <td>    0.004</td>\n",
       "</tr>\n",
       "<tr>\n",
       "  <th>skin_tone</th> <td>    0.0012</td> <td>    0.001</td> <td>    2.227</td> <td> 0.026</td> <td>    0.000</td> <td>    0.002</td>\n",
       "</tr>\n",
       "</table>"
      ],
      "text/latex": [
       "\\begin{center}\n",
       "\\begin{tabular}{lcccccc}\n",
       "\\toprule\n",
       "                    & \\textbf{coef} & \\textbf{std err} & \\textbf{t} & \\textbf{P$> |$t$|$} & \\textbf{[0.025} & \\textbf{0.975]}  \\\\\n",
       "\\midrule\n",
       "\\textbf{Intercept}  &       0.0040  &        0.000     &    18.084  &         0.000        &        0.004    &        0.004     \\\\\n",
       "\\textbf{skin\\_tone} &       0.0012  &        0.001     &     2.227  &         0.026        &        0.000    &        0.002     \\\\\n",
       "\\bottomrule\n",
       "\\end{tabular}\n",
       "\\end{center}"
      ],
      "text/plain": [
       "<class 'statsmodels.iolib.table.SimpleTable'>"
      ]
     },
     "execution_count": 5,
     "metadata": {},
     "output_type": "execute_result"
    }
   ],
   "source": [
    "import statsmodels.formula.api as smf\n",
    "fit_1 = smf.ols(\"p_red_cards_log ~ skin_tone\", data=soccer).fit()\n",
    "fit_1.summary().tables[1]"
   ]
  },
  {
   "cell_type": "code",
   "execution_count": 6,
   "metadata": {},
   "outputs": [
    {
     "name": "stdout",
     "output_type": "stream",
     "text": [
      "                  0         1\n",
      "Intercept  0.003554  0.004419\n",
      "skin_tone  0.000145  0.002291\n"
     ]
    }
   ],
   "source": [
    "print(fit_1.conf_int(alpha=.05)) # confidence intervals"
   ]
  },
  {
   "cell_type": "code",
   "execution_count": 7,
   "metadata": {},
   "outputs": [
    {
     "data": {
      "text/plain": [
       "0    0.000145\n",
       "1    0.002291\n",
       "Name: skin_tone, dtype: float64"
      ]
     },
     "execution_count": 7,
     "metadata": {},
     "output_type": "execute_result"
    }
   ],
   "source": [
    "# save confidence interval\n",
    "ci_1 = fit_1.conf_int().loc[\"skin_tone\"]\n",
    "ci_1"
   ]
  },
  {
   "cell_type": "markdown",
   "metadata": {
    "slideshow": {
     "slide_type": "subslide"
    }
   },
   "source": [
    "With the provided data set, we could also fit models involving additional independent variables."
   ]
  },
  {
   "cell_type": "code",
   "execution_count": 8,
   "metadata": {},
   "outputs": [],
   "source": [
    "fit_2 = smf.ols(\"p_red_cards_log ~ skin_tone + height\", data=soccer).fit()\n",
    "fit_3 = smf.ols(\"p_red_cards_log ~ skin_tone + height + weight\", data=soccer).fit()\n",
    "fit_4 = smf.ols(\"p_red_cards_log ~ skin_tone + height + weight + position\", data=soccer).fit()\n",
    "ci_2 = fit_2.conf_int().loc[\"skin_tone\"]\n",
    "ci_3 = fit_3.conf_int().loc[\"skin_tone\"]\n",
    "ci_4 = fit_4.conf_int().loc[\"skin_tone\"]"
   ]
  },
  {
   "cell_type": "markdown",
   "metadata": {
    "slideshow": {
     "slide_type": "subslide"
    }
   },
   "source": [
    "We could also use the binary version of the skin tone."
   ]
  },
  {
   "cell_type": "code",
   "execution_count": 9,
   "metadata": {},
   "outputs": [],
   "source": [
    "fit_1_b = smf.ols(\"p_red_cards_log ~ skin_tone_b\", data=soccer).fit()\n",
    "fit_2_b = smf.ols(\"p_red_cards_log ~ skin_tone_b + height\", data=soccer).fit()\n",
    "fit_3_b = smf.ols(\"p_red_cards_log ~ skin_tone_b + height + weight\", data=soccer).fit()\n",
    "fit_4_b = smf.ols(\"p_red_cards_log ~ skin_tone_b + height + weight + position\", data=soccer).fit()\n",
    "ci_1_b = fit_1_b.conf_int().loc[\"skin_tone_b\"]\n",
    "ci_2_b = fit_2_b.conf_int().loc[\"skin_tone_b\"]\n",
    "ci_3_b = fit_3_b.conf_int().loc[\"skin_tone_b\"]\n",
    "ci_4_b = fit_4_b.conf_int().loc[\"skin_tone_b\"]"
   ]
  },
  {
   "cell_type": "markdown",
   "metadata": {
    "slideshow": {
     "slide_type": "subslide"
    }
   },
   "source": [
    "Using numeric skin tone rating"
   ]
  },
  {
   "cell_type": "code",
   "execution_count": 10,
   "metadata": {},
   "outputs": [
    {
     "data": {
      "text/html": [
       "<div>\n",
       "<style scoped>\n",
       "    .dataframe tbody tr th:only-of-type {\n",
       "        vertical-align: middle;\n",
       "    }\n",
       "\n",
       "    .dataframe tbody tr th {\n",
       "        vertical-align: top;\n",
       "    }\n",
       "\n",
       "    .dataframe thead th {\n",
       "        text-align: right;\n",
       "    }\n",
       "</style>\n",
       "<table border=\"1\" class=\"dataframe\">\n",
       "  <thead>\n",
       "    <tr style=\"text-align: right;\">\n",
       "      <th></th>\n",
       "      <th>2.5%</th>\n",
       "      <th>97.5%</th>\n",
       "    </tr>\n",
       "  </thead>\n",
       "  <tbody>\n",
       "    <tr>\n",
       "      <th>Skin tone only</th>\n",
       "      <td>0.000145</td>\n",
       "      <td>0.002291</td>\n",
       "    </tr>\n",
       "    <tr>\n",
       "      <th>.. + height</th>\n",
       "      <td>0.000233</td>\n",
       "      <td>0.002381</td>\n",
       "    </tr>\n",
       "    <tr>\n",
       "      <th>.. + weight</th>\n",
       "      <td>0.000218</td>\n",
       "      <td>0.002368</td>\n",
       "    </tr>\n",
       "    <tr>\n",
       "      <th>.. + position</th>\n",
       "      <td>0.000441</td>\n",
       "      <td>0.002590</td>\n",
       "    </tr>\n",
       "  </tbody>\n",
       "</table>\n",
       "</div>"
      ],
      "text/plain": [
       "                    2.5%     97.5%\n",
       "Skin tone only  0.000145  0.002291\n",
       ".. + height     0.000233  0.002381\n",
       ".. + weight     0.000218  0.002368\n",
       ".. + position   0.000441  0.002590"
      ]
     },
     "execution_count": 10,
     "metadata": {},
     "output_type": "execute_result"
    }
   ],
   "source": [
    "pd.DataFrame([ci_1, ci_2, ci_3, ci_4])\\\n",
    "    .set_axis([\"2.5%\", \"97.5%\"], axis=1)\\\n",
    "    .set_axis([\"Skin tone only\", \n",
    "               \".. + height\", \n",
    "               \".. + weight\", \n",
    "               \".. + position\"])"
   ]
  },
  {
   "cell_type": "markdown",
   "metadata": {},
   "source": [
    "Using binary skin tone rating"
   ]
  },
  {
   "cell_type": "code",
   "execution_count": 11,
   "metadata": {},
   "outputs": [
    {
     "data": {
      "text/html": [
       "<div>\n",
       "<style scoped>\n",
       "    .dataframe tbody tr th:only-of-type {\n",
       "        vertical-align: middle;\n",
       "    }\n",
       "\n",
       "    .dataframe tbody tr th {\n",
       "        vertical-align: top;\n",
       "    }\n",
       "\n",
       "    .dataframe thead th {\n",
       "        text-align: right;\n",
       "    }\n",
       "</style>\n",
       "<table border=\"1\" class=\"dataframe\">\n",
       "  <thead>\n",
       "    <tr style=\"text-align: right;\">\n",
       "      <th></th>\n",
       "      <th>2.5%</th>\n",
       "      <th>97.5%</th>\n",
       "    </tr>\n",
       "  </thead>\n",
       "  <tbody>\n",
       "    <tr>\n",
       "      <th>Skin tone only</th>\n",
       "      <td>-0.000377</td>\n",
       "      <td>0.001306</td>\n",
       "    </tr>\n",
       "    <tr>\n",
       "      <th>.. + height</th>\n",
       "      <td>-0.000357</td>\n",
       "      <td>0.001324</td>\n",
       "    </tr>\n",
       "    <tr>\n",
       "      <th>.. + weight</th>\n",
       "      <td>-0.000357</td>\n",
       "      <td>0.001324</td>\n",
       "    </tr>\n",
       "    <tr>\n",
       "      <th>.. + position</th>\n",
       "      <td>-0.000165</td>\n",
       "      <td>0.001515</td>\n",
       "    </tr>\n",
       "  </tbody>\n",
       "</table>\n",
       "</div>"
      ],
      "text/plain": [
       "                    2.5%     97.5%\n",
       "Skin tone only -0.000377  0.001306\n",
       ".. + height    -0.000357  0.001324\n",
       ".. + weight    -0.000357  0.001324\n",
       ".. + position  -0.000165  0.001515"
      ]
     },
     "execution_count": 11,
     "metadata": {},
     "output_type": "execute_result"
    }
   ],
   "source": [
    "pd.DataFrame([ci_1_b, ci_2_b, ci_3_b, ci_4_b])\\\n",
    "    .set_axis([\"2.5%\", \"97.5%\"], axis=1)\\\n",
    "    .set_axis([\"Skin tone only\", \n",
    "               \".. + height\", \n",
    "               \".. + weight\", \n",
    "               \".. + position\"])"
   ]
  },
  {
   "cell_type": "markdown",
   "metadata": {
    "slideshow": {
     "slide_type": "fragment"
    }
   },
   "source": [
    "> Depending on the model used, we may arrive at a different conclusion about the relationshiop between a player's skin tone and the occurrence of receiving a red card during a game."
   ]
  },
  {
   "cell_type": "markdown",
   "metadata": {
    "slideshow": {
     "slide_type": "subslide"
    }
   },
   "source": [
    "![](soccer538.webp)\n",
    "\n",
    "_Source: Christie Aschwanden. 2015. \"Science isn't broken\" <https://fivethirtyeight.com/features/science-isnt-broken/>_"
   ]
  },
  {
   "cell_type": "markdown",
   "metadata": {},
   "source": [
    "+ 29 research teams who participated in the project each conducted a unique analysis leading to 29 different results. \n",
    "+ Some concluded statistically significant results; some didn't.\n",
    "+ All teams provided rationale for each of their analytical decisions such as variable inclusion, variable tranformation, model used, etc."
   ]
  },
  {
   "cell_type": "markdown",
   "metadata": {
    "slideshow": {
     "slide_type": "subslide"
    }
   },
   "source": [
    "+  There is often, if not always, many reasonable ways to conduct data analysis given a data set to answer a research question.\n",
    "+  It is important to be transparent and clear about your analysis.\n",
    "+  Obscuring analysis your analysis procedures can hinder others from validating your work.\n",
    "\n",
    "+  **Reproducibility** (being able to generate the same results using the same material and methods) and **replicability** (arriving at similar results using new data and methods) are key in integrity of scientific research."
   ]
  },
  {
   "cell_type": "markdown",
   "metadata": {
    "slideshow": {
     "slide_type": "subslide"
    }
   },
   "source": [
    "**Related work in ecology and evolutionary biology**\n",
    "\n",
    "_Reproducibility and Repeatability in Ecology_ <https://academic.oup.com/bioscience/article/56/12/958/221622>\n",
    "\n",
    "_Questionable research practices in ecology and evolution_ <https://doi.org/10.1371/journal.pone.0200303>\n",
    "\n",
    "_Reproducibility trial: 246 biologists get different results from same data sets_ <https://www-nature-com.myaccess.library.utoronto.ca/articles/d41586-023-03177-1> | [UofT Library Link](https://librarysearch.library.utoronto.ca/permalink/01UTORONTO_INST/fedca1/cdi_crossref_primary_10_1038_d41586_023_03177_1)\n",
    "\n",
    "+  There is a link to a project that is similar to the soccer example.\n"
   ]
  },
  {
   "cell_type": "markdown",
   "metadata": {
    "slideshow": {
     "slide_type": "slide"
    }
   },
   "source": [
    "### What does it mean for your project?\n",
    "\n",
    "> Your TA will attempt to reproduce your slides using the Jupyter notebook (.ipynb) and data files you submit. \n",
    "> \n",
    "> If your TA cannot run the .ipynb files you submit to reproduce your slides content then your group will receive 0; if the TA has to make minor changes to get it to run then your group will receive 1; and if it runs with no changes then your group will receive 2. "
   ]
  },
  {
   "cell_type": "markdown",
   "metadata": {
    "slideshow": {
     "slide_type": "subslide"
    }
   },
   "source": [
    "**Help TAs!**\n",
    "\n",
    "+  The easiest method would be to place your data file(s) in the same folder as your notebook file and read the data file with the file name only.\n",
    "\n",
    "+  If you must use a folder, use a **relative path** to the folder from the notebook file's location. e.g., `data/datafile.csv` if your notebook file is in `project/notebook.ipynb` and data file is in `project/data/datafile.csv`"
   ]
  },
  {
   "cell_type": "markdown",
   "metadata": {
    "slideshow": {
     "slide_type": "slide"
    }
   },
   "source": [
    "### One more tip for your slides\n",
    "\n",
    "+  Code for creating plots are often very long.\n",
    "\n",
    "+  Displaying long lines of codes isn't effective way of communicating your work on a slide presentation; especially for a time-limited video.\n",
    "\n",
    "+  Include codes that generate and save plots as files (`plt.savefig()`). Then, use markdown to load the saved images. You can \"skip\" the codes in the slide show but your notebooks will still be reproducible."
   ]
  },
  {
   "cell_type": "code",
   "execution_count": 16,
   "metadata": {
    "slideshow": {
     "slide_type": "subslide"
    }
   },
   "outputs": [],
   "source": [
    "import matplotlib.pyplot as plt\n",
    "plt.axvline(0, linestyle=\"dotted\", color=\"maroon\")\n",
    "plt.plot(ci_1, [8, 8], \"black\")\n",
    "plt.plot(ci_2, [7, 7], \"black\")\n",
    "plt.plot(ci_3, [6, 6], \"black\")\n",
    "plt.plot(ci_4, [5, 5], \"black\")\n",
    "plt.plot(ci_1_b, [4, 4], \"black\")\n",
    "plt.plot(ci_2_b, [3, 3], \"black\")\n",
    "plt.plot(ci_3_b, [2, 2], \"black\")\n",
    "plt.plot(ci_4_b, [1, 1], \"black\")\n",
    "plt.yticks(ticks=np.arange(8) + 1,\n",
    "           labels=[\"Binary skin tone + height + weight + position\",\n",
    "                   \"Binary skin tone + height + weight\",\n",
    "                   \"Binary skin tone + height\",\n",
    "                   \"Binary skin tone\",\n",
    "                   \"Numeric skin tone + height + weight + position\",\n",
    "                   \"Numeric skin tone + height + weight\",\n",
    "                   \"Numeric skin tone + height\",\n",
    "                   \"Numeric skin tone\"])\n",
    "plt.xticks(ticks=[0])\n",
    "plt.title(\"95% confidence intervals for the skin tone variable\\nusing different model spcifications show varying results.\")\n",
    "plt.savefig(\"fig.png\", bbox_inches=\"tight\") # bbox_inches=\"tight\" avoids plot elements being cut off\n",
    "plt.close();"
   ]
  },
  {
   "cell_type": "markdown",
   "metadata": {
    "slideshow": {
     "slide_type": "subslide"
    }
   },
   "source": [
    "![](fig.png)"
   ]
  }
 ],
 "metadata": {
  "kernelspec": {
   "display_name": "ggr274",
   "language": "python",
   "name": "python3"
  },
  "language_info": {
   "codemirror_mode": {
    "name": "ipython",
    "version": 3
   },
   "file_extension": ".py",
   "mimetype": "text/x-python",
   "name": "python",
   "nbconvert_exporter": "python",
   "pygments_lexer": "ipython3",
   "version": "3.10.13"
  }
 },
 "nbformat": 4,
 "nbformat_minor": 2
}
