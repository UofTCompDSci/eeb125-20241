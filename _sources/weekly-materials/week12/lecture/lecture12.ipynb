{
 "cells": [
  {
   "cell_type": "markdown",
   "metadata": {
    "slideshow": {
     "slide_type": "slide"
    }
   },
   "source": [
    "# Week 12: A short note on reproducibility\n",
    "\n",
    "## April 3, 2024\n",
    "\n",
    "**Michael Jongho Moon**"
   ]
  },
  {
   "cell_type": "markdown",
   "metadata": {
    "slideshow": {
     "slide_type": "slide"
    }
   },
   "source": [
    "+  One of the evaluation criteria for your final projects is _reproducibility of slides_.\n",
    "+  What is _reproducibility_?"
   ]
  },
  {
   "cell_type": "code",
   "execution_count": null,
   "metadata": {
    "slideshow": {
     "slide_type": "skip"
    }
   },
   "outputs": [],
   "source": [
    "import pandas as pd\n",
    "import statsmodels.formula.api as smf\n",
    "soccer = pd.read_csv(\"soccer.csv\")\n",
    "soccer.columns\n",
    "soccer_player = soccer\\\n",
    "    .groupby([\"playerShort\", \"leagueCountry\", \n",
    "              \"height\", \"weight\", \"position\",\n",
    "              \"rater1\", \"rater2\"])[[\"games\", \"redCards\"]]\\\n",
    "    .sum()\\\n",
    "    .reset_index()\n",
    "soccer_player[\"p_red_cards\"] = soccer_player[\"redCards\"] / soccer_player[\"games\"]\n",
    "soccer_player\\\n",
    "    .rename(columns={\"redCards\": \"n_red_cards\",\n",
    "                     \"games\": \"n_games\",\n",
    "                     \"leagueCountry\": \"league_country\"},\n",
    "            inplace=True)\n",
    "soccer_player = soccer_player[[\n",
    "    \"p_red_cards\", \"rater1\", \"rater2\",\n",
    "    \"height\", \"weight\", \"position\"\n",
    "]]\n",
    "\n",
    "midfielder = soccer_player[\"position\"].str.match(\".*Midfielder\")\n",
    "defender = soccer_player[\"position\"].str.match(\".*(B|b)ack\")\n",
    "goalkeeper = soccer_player[\"position\"].str.match(\"Goalkeeper\")\n",
    "soccer_player.loc[~(midfielder | defender | goalkeeper), \"position\"] = \"Attacker\"\n",
    "soccer_player.loc[midfielder, \"position\"] = \"Midfielder\"\n",
    "soccer_player.loc[defender, \"position\"] = \"Defender\"\n",
    "soccer_player.loc[goalkeeper, \"position\"] = \"Goalkeeper\"\n",
    "\n",
    "soccer_player.to_csv(\"soccer_cleaned.csv\", index=False)"
   ]
  },
  {
   "cell_type": "markdown",
   "metadata": {
    "slideshow": {
     "slide_type": "slide"
    }
   },
   "source": [
    "### Example: Many analysts, one data set\n",
    "\n",
    "+  A team of researchers crowdsourced analysts to investigate whether there is referee bias in soccer leagues against darker skinned players by analysing the number of red cards given to the players ([Silberzahn et al. 2018](https://doi.org/10.1177/2515245917747646)).\n",
    "+  Below is a simplified version of the data set provided to the analysts."
   ]
  },
  {
   "cell_type": "code",
   "execution_count": null,
   "metadata": {},
   "outputs": [],
   "source": [
    "import pandas as pd\n",
    "soccer = pd.read_csv(\"soccer_cleaned.csv\")\n",
    "soccer"
   ]
  },
  {
   "cell_type": "code",
   "execution_count": null,
   "metadata": {
    "slideshow": {
     "slide_type": "subslide"
    }
   },
   "outputs": [],
   "source": [
    "soccer"
   ]
  },
  {
   "cell_type": "markdown",
   "metadata": {},
   "source": [
    "+  `rater1` and `rater2` are skin tones of each player rated by 2 independent raters; 0 means very light and 5 means very dark.\n",
    "+  `p_red_cards` is the proportion of games in which the player received a red card."
   ]
  },
  {
   "cell_type": "code",
   "execution_count": null,
   "metadata": {
    "slideshow": {
     "slide_type": "subslide"
    }
   },
   "outputs": [],
   "source": [
    "import numpy as np\n",
    "soccer[\"skin_tone\"] = (soccer[\"rater1\"] + soccer[\"rater2\"]) / 2\n",
    "soccer[\"skin_tone_b\"] = (soccer[\"skin_tone\"] > .5) * 1\n",
    "soccer[\"p_red_cards_log\"] = np.log(soccer[\"p_red_cards\"] + 1)\n",
    "soccer"
   ]
  },
  {
   "cell_type": "markdown",
   "metadata": {},
   "source": [
    "A simple model to look at their relationship would be the regression model with the following regression line: \n",
    "\n",
    "$$\\texttt{p_red_cards} = b_0 + b_1 \\texttt{rate_mean}$$\n",
    "\n"
   ]
  },
  {
   "cell_type": "code",
   "execution_count": null,
   "metadata": {},
   "outputs": [],
   "source": [
    "import statsmodels.formula.api as smf\n",
    "fit_1 = smf.ols(\"p_red_cards_log ~ skin_tone\", data=soccer).fit()\n",
    "fit_1.summary().tables[1]"
   ]
  },
  {
   "cell_type": "code",
   "execution_count": null,
   "metadata": {},
   "outputs": [],
   "source": [
    "print(fit_1.conf_int(alpha=.05)) # confidence intervals"
   ]
  },
  {
   "cell_type": "code",
   "execution_count": null,
   "metadata": {},
   "outputs": [],
   "source": [
    "# save confidence interval\n",
    "ci_1 = fit_1.conf_int().loc[\"skin_tone\"]\n",
    "ci_1"
   ]
  },
  {
   "cell_type": "markdown",
   "metadata": {
    "slideshow": {
     "slide_type": "subslide"
    }
   },
   "source": [
    "With the provided data set, we could also fit models involving additional independent variables."
   ]
  },
  {
   "cell_type": "code",
   "execution_count": null,
   "metadata": {},
   "outputs": [],
   "source": [
    "fit_2 = smf.ols(\"p_red_cards_log ~ skin_tone + height\", data=soccer).fit()\n",
    "fit_3 = smf.ols(\"p_red_cards_log ~ skin_tone + height + weight\", data=soccer).fit()\n",
    "fit_4 = smf.ols(\"p_red_cards_log ~ skin_tone + height + weight + position\", data=soccer).fit()\n",
    "ci_2 = fit_2.conf_int().loc[\"skin_tone\"]\n",
    "ci_3 = fit_3.conf_int().loc[\"skin_tone\"]\n",
    "ci_4 = fit_4.conf_int().loc[\"skin_tone\"]"
   ]
  },
  {
   "cell_type": "markdown",
   "metadata": {
    "slideshow": {
     "slide_type": "subslide"
    }
   },
   "source": [
    "We could also use the binary version of the skin tone."
   ]
  },
  {
   "cell_type": "code",
   "execution_count": null,
   "metadata": {},
   "outputs": [],
   "source": [
    "fit_1_b = smf.ols(\"p_red_cards_log ~ skin_tone_b\", data=soccer).fit()\n",
    "fit_2_b = smf.ols(\"p_red_cards_log ~ skin_tone_b + height\", data=soccer).fit()\n",
    "fit_3_b = smf.ols(\"p_red_cards_log ~ skin_tone_b + height + weight\", data=soccer).fit()\n",
    "fit_4_b = smf.ols(\"p_red_cards_log ~ skin_tone_b + height + weight + position\", data=soccer).fit()\n",
    "ci_1_b = fit_1_b.conf_int().loc[\"skin_tone_b\"]\n",
    "ci_2_b = fit_2_b.conf_int().loc[\"skin_tone_b\"]\n",
    "ci_3_b = fit_3_b.conf_int().loc[\"skin_tone_b\"]\n",
    "ci_4_b = fit_4_b.conf_int().loc[\"skin_tone_b\"]"
   ]
  },
  {
   "cell_type": "markdown",
   "metadata": {
    "slideshow": {
     "slide_type": "subslide"
    }
   },
   "source": [
    "Using numeric skin tone rating"
   ]
  },
  {
   "cell_type": "code",
   "execution_count": null,
   "metadata": {},
   "outputs": [],
   "source": [
    "pd.DataFrame([ci_1, ci_2, ci_3, ci_4])\\\n",
    "    .set_axis([\"2.5%\", \"97.5%\"], axis=1)\\\n",
    "    .set_axis([\"Skin tone only\", \n",
    "               \".. + height\", \n",
    "               \".. + weight\", \n",
    "               \".. + position\"])"
   ]
  },
  {
   "cell_type": "markdown",
   "metadata": {},
   "source": [
    "Using binary skin tone rating"
   ]
  },
  {
   "cell_type": "code",
   "execution_count": null,
   "metadata": {},
   "outputs": [],
   "source": [
    "pd.DataFrame([ci_1_b, ci_2_b, ci_3_b, ci_4_b])\\\n",
    "    .set_axis([\"2.5%\", \"97.5%\"], axis=1)\\\n",
    "    .set_axis([\"Skin tone only\", \n",
    "               \".. + height\", \n",
    "               \".. + weight\", \n",
    "               \".. + position\"])"
   ]
  },
  {
   "cell_type": "markdown",
   "metadata": {
    "slideshow": {
     "slide_type": "fragment"
    }
   },
   "source": [
    "> Depending on the model used, we may arrive at a different conclusion about the relationshiop between a player's skin tone and the occurrence of receiving a red card during a game."
   ]
  },
  {
   "cell_type": "markdown",
   "metadata": {
    "slideshow": {
     "slide_type": "subslide"
    }
   },
   "source": [
    "![](soccer538.webp)\n",
    "\n",
    "_Source: Christie Aschwanden. 2015. \"Science isn't broken\" <https://fivethirtyeight.com/features/science-isnt-broken/>_"
   ]
  },
  {
   "cell_type": "markdown",
   "metadata": {},
   "source": [
    "+ 29 research teams who participated in the project each conducted a unique analysis leading to 29 different results. \n",
    "+ Some concluded statistically significant results; some didn't.\n",
    "+ All teams provided rationale for each of their analytical decisions such as variable inclusion, variable tranformation, model used, etc."
   ]
  },
  {
   "cell_type": "markdown",
   "metadata": {
    "slideshow": {
     "slide_type": "subslide"
    }
   },
   "source": [
    "+  There is often, if not always, many reasonable ways to conduct data analysis given a data set to answer a research question.\n",
    "+  It is important to be transparent and clear about your analysis.\n",
    "+  Obscuring analysis your analysis procedures can hinder others from validating your work.\n",
    "\n",
    "+  **Reproducibility** (being able to generate the same results using the same material and methods) and **replicability** (arriving at similar results using new data and methods) are key in integrity of scientific research."
   ]
  },
  {
   "cell_type": "markdown",
   "metadata": {
    "slideshow": {
     "slide_type": "subslide"
    }
   },
   "source": [
    "**Related work in ecology and evolutionary biology**\n",
    "\n",
    "_Reproducibility and Repeatability in Ecology_ <https://academic.oup.com/bioscience/article/56/12/958/221622>\n",
    "\n",
    "_Questionable research practices in ecology and evolution_ <https://doi.org/10.1371/journal.pone.0200303>\n",
    "\n",
    "_Reproducibility trial: 246 biologists get different results from same data sets_ <https://www-nature-com.myaccess.library.utoronto.ca/articles/d41586-023-03177-1> | [UofT Library Link](https://librarysearch.library.utoronto.ca/permalink/01UTORONTO_INST/fedca1/cdi_crossref_primary_10_1038_d41586_023_03177_1)\n",
    "\n",
    "+  There is a link to a project that is similar to the soccer example.\n"
   ]
  },
  {
   "cell_type": "markdown",
   "metadata": {
    "slideshow": {
     "slide_type": "slide"
    }
   },
   "source": [
    "### What does it mean for your project?\n",
    "\n",
    "> Your TA will attempt to reproduce your slides using the Jupyter notebook (.ipynb) and data files you submit. \n",
    "> \n",
    "> If your TA cannot run the .ipynb files you submit to reproduce your slides content then your group will receive 0; if the TA has to make minor changes to get it to run then your group will receive 1; and if it runs with no changes then your group will receive 2. "
   ]
  },
  {
   "cell_type": "markdown",
   "metadata": {
    "slideshow": {
     "slide_type": "subslide"
    }
   },
   "source": [
    "**Help TAs!**\n",
    "\n",
    "+  The easiest method would be to place your data file(s) in the same folder as your notebook file and read the data file with the file name only.\n",
    "\n",
    "+  If you must use a folder, use a **relative path** to the folder from the notebook file's location. e.g., `data/datafile.csv` if your notebook file is in `project/notebook.ipynb` and data file is in `project/data/datafile.csv`"
   ]
  },
  {
   "cell_type": "markdown",
   "metadata": {
    "slideshow": {
     "slide_type": "slide"
    }
   },
   "source": [
    "### One more tip for your slides\n",
    "\n",
    "+  Code for creating plots are often very long.\n",
    "\n",
    "+  Displaying long lines of codes isn't effective way of communicating your work on a slide presentation; especially for a time-limited video.\n",
    "\n",
    "+  Include codes that generate and save plots as files (`plt.savefig()`). Then, use markdown to load the saved images. You can \"skip\" the codes in the slide show but your notebooks will still be reproducible."
   ]
  },
  {
   "cell_type": "code",
   "execution_count": null,
   "metadata": {
    "slideshow": {
     "slide_type": "subslide"
    }
   },
   "outputs": [],
   "source": [
    "import matplotlib.pyplot as plt\n",
    "plt.axvline(0, linestyle=\"dotted\", color=\"maroon\")\n",
    "plt.plot(ci_1, [8, 8], \"black\")\n",
    "plt.plot(ci_2, [7, 7], \"black\")\n",
    "plt.plot(ci_3, [6, 6], \"black\")\n",
    "plt.plot(ci_4, [5, 5], \"black\")\n",
    "plt.plot(ci_1_b, [4, 4], \"black\")\n",
    "plt.plot(ci_2_b, [3, 3], \"black\")\n",
    "plt.plot(ci_3_b, [2, 2], \"black\")\n",
    "plt.plot(ci_4_b, [1, 1], \"black\")\n",
    "plt.yticks(ticks=np.arange(8) + 1,\n",
    "           labels=[\"Binary skin tone + height + weight + position\",\n",
    "                   \"Binary skin tone + height + weight\",\n",
    "                   \"Binary skin tone + height\",\n",
    "                   \"Binary skin tone\",\n",
    "                   \"Numeric skin tone + height + weight + position\",\n",
    "                   \"Numeric skin tone + height + weight\",\n",
    "                   \"Numeric skin tone + height\",\n",
    "                   \"Numeric skin tone\"])\n",
    "plt.xticks(ticks=[0])\n",
    "plt.title(\"95% confidence intervals for the skin tone variable\\nusing different model spcifications show varying results.\")\n",
    "plt.savefig(\"fig.png\", bbox_inches=\"tight\") # bbox_inches=\"tight\" avoids plot elements being cut off\n",
    "plt.close();"
   ]
  },
  {
   "cell_type": "markdown",
   "metadata": {
    "slideshow": {
     "slide_type": "subslide"
    }
   },
   "source": [
    "![](fig.png)"
   ]
  }
 ],
 "metadata": {
  "kernelspec": {
   "display_name": "ggr274",
   "language": "python",
   "name": "python3"
  },
  "language_info": {
   "codemirror_mode": {
    "name": "ipython",
    "version": 3
   },
   "file_extension": ".py",
   "mimetype": "text/x-python",
   "name": "python",
   "nbconvert_exporter": "python",
   "pygments_lexer": "ipython3",
   "version": "3.10.13"
  }
 },
 "nbformat": 4,
 "nbformat_minor": 2
}
